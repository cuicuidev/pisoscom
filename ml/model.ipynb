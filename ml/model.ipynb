{
 "cells": [
  {
   "cell_type": "markdown",
   "metadata": {},
   "source": [
    "# PREPROCESSING"
   ]
  },
  {
   "cell_type": "code",
   "execution_count": 23,
   "metadata": {},
   "outputs": [],
   "source": [
    "import pandas as pd\n",
    "import numpy as np\n",
    "import ast\n",
    "\n",
    "from glob import glob\n",
    "import pickle as pkl\n",
    "\n",
    "from sklearn.feature_extraction.text import TfidfVectorizer\n",
    "from sklearn.cluster import KMeans\n",
    "\n",
    "from sklearn.ensemble import RandomForestRegressor\n",
    "from sklearn.tree import DecisionTreeRegressor\n",
    "from sklearn.linear_model import LinearRegression\n",
    "from sklearn.neighbors import KNeighborsRegressor\n",
    "from sklearn.neighbors import RadiusNeighborsRegressor\n",
    "from sklearn.svm import SVR\n",
    "from sklearn.impute import KNNImputer\n",
    "from sklearn.model_selection import train_test_split\n",
    "from sklearn.preprocessing import MinMaxScaler\n",
    "from sklearn.metrics import r2_score, mean_squared_error, mean_absolute_error\n",
    "\n",
    "from processing.parsing import *\n",
    "from processing.encodings import *"
   ]
  },
  {
   "cell_type": "code",
   "execution_count": 24,
   "metadata": {},
   "outputs": [],
   "source": [
    "df_ = pd.read_parquet('processed_data/tatarabuela.parquet')\n",
    "df_ = df_[['price', 'lat', 'lng', 'characteristics', 'agency', 'updated', 'timestamp', 'province']].dropna()\n",
    "df_churro = freeChurro(df_)\n",
    "df = pd.concat([df_.reset_index(drop=True), df_churro], axis = 1)\n",
    "df.drop('characteristics', axis = 1, inplace = True)"
   ]
  },
  {
   "cell_type": "code",
   "execution_count": 25,
   "metadata": {},
   "outputs": [],
   "source": [
    "def tryParseM2(obj):\n",
    "    try:\n",
    "        if 'm²' in obj:\n",
    "            return float(obj[:-2])\n",
    "        return float(''.join(obj.split('.')))\n",
    "    except:\n",
    "        return np.nan\n",
    "\n",
    "# df['Superficie construida'].apply(lambda x : x if pd.isna(x) else tryParseM2(x))"
   ]
  },
  {
   "cell_type": "code",
   "execution_count": 26,
   "metadata": {},
   "outputs": [],
   "source": [
    "df.Baños = df.Baños.astype(float)\n",
    "df['Superficie construida'] = df['Superficie construida'].apply(lambda x : x if pd.isna(x) else tryParseM2(x))\n",
    "\n",
    "df['bathrooms'] = df['Baños']\n",
    "df['surface'] = df['Superficie construida']\n",
    "\n",
    "df.drop(['Superficie construida', 'Baños'], axis=1, inplace=True)"
   ]
  },
  {
   "cell_type": "code",
   "execution_count": 27,
   "metadata": {},
   "outputs": [],
   "source": [
    "df = df[['price', 'lat', 'lng', 'Habitaciones', 'Jardín', 'Gastos de comunidad', 'Antigüedad', 'Superficie útil', 'Ascensor', 'Garaje', 'Conservación', 'agency', 'updated', 'timestamp', 'surface', 'bathrooms', 'province']]"
   ]
  },
  {
   "cell_type": "code",
   "execution_count": 28,
   "metadata": {},
   "outputs": [
    {
     "data": {
      "text/html": [
       "<div>\n",
       "<style scoped>\n",
       "    .dataframe tbody tr th:only-of-type {\n",
       "        vertical-align: middle;\n",
       "    }\n",
       "\n",
       "    .dataframe tbody tr th {\n",
       "        vertical-align: top;\n",
       "    }\n",
       "\n",
       "    .dataframe thead th {\n",
       "        text-align: right;\n",
       "    }\n",
       "</style>\n",
       "<table border=\"1\" class=\"dataframe\">\n",
       "  <thead>\n",
       "    <tr style=\"text-align: right;\">\n",
       "      <th></th>\n",
       "      <th>price</th>\n",
       "      <th>lat</th>\n",
       "      <th>lng</th>\n",
       "      <th>Habitaciones</th>\n",
       "      <th>Jardín</th>\n",
       "      <th>Gastos de comunidad</th>\n",
       "      <th>Antigüedad</th>\n",
       "      <th>Superficie útil</th>\n",
       "      <th>Ascensor</th>\n",
       "      <th>Garaje</th>\n",
       "      <th>Conservación</th>\n",
       "      <th>agency</th>\n",
       "      <th>updated</th>\n",
       "      <th>timestamp</th>\n",
       "      <th>surface</th>\n",
       "      <th>bathrooms</th>\n",
       "      <th>province</th>\n",
       "    </tr>\n",
       "  </thead>\n",
       "  <tbody>\n",
       "    <tr>\n",
       "      <th>0</th>\n",
       "      <td>75000.0</td>\n",
       "      <td>38.628784</td>\n",
       "      <td>-0.761397</td>\n",
       "      <td>2</td>\n",
       "      <td>NaN</td>\n",
       "      <td>NaN</td>\n",
       "      <td>NaN</td>\n",
       "      <td>72 m²</td>\n",
       "      <td>Ascensor</td>\n",
       "      <td>NaN</td>\n",
       "      <td>NaN</td>\n",
       "      <td>Inmuebles de Topbrokers</td>\n",
       "      <td>1.673392e+09</td>\n",
       "      <td>1.699187e+15</td>\n",
       "      <td>76.0</td>\n",
       "      <td>1.0</td>\n",
       "      <td>alicante</td>\n",
       "    </tr>\n",
       "    <tr>\n",
       "      <th>1</th>\n",
       "      <td>56000.0</td>\n",
       "      <td>38.535113</td>\n",
       "      <td>-0.821114</td>\n",
       "      <td>3</td>\n",
       "      <td>NaN</td>\n",
       "      <td>NaN</td>\n",
       "      <td>Entre 20 y 30 años</td>\n",
       "      <td>96 m²</td>\n",
       "      <td>NaN</td>\n",
       "      <td>NaN</td>\n",
       "      <td>A reformar</td>\n",
       "      <td>Inmuebles de CICLOACTIVOS S.L.</td>\n",
       "      <td>1.673997e+09</td>\n",
       "      <td>1.699187e+15</td>\n",
       "      <td>114.0</td>\n",
       "      <td>2.0</td>\n",
       "      <td>alicante</td>\n",
       "    </tr>\n",
       "    <tr>\n",
       "      <th>2</th>\n",
       "      <td>39800.0</td>\n",
       "      <td>38.631641</td>\n",
       "      <td>-0.860810</td>\n",
       "      <td>2</td>\n",
       "      <td>NaN</td>\n",
       "      <td>NaN</td>\n",
       "      <td>NaN</td>\n",
       "      <td>61 m²</td>\n",
       "      <td>NaN</td>\n",
       "      <td>NaN</td>\n",
       "      <td>NaN</td>\n",
       "      <td>Inmuebles de ALTAMIRA</td>\n",
       "      <td>1.673133e+09</td>\n",
       "      <td>1.699187e+15</td>\n",
       "      <td>82.0</td>\n",
       "      <td>1.0</td>\n",
       "      <td>alicante</td>\n",
       "    </tr>\n",
       "    <tr>\n",
       "      <th>3</th>\n",
       "      <td>119500.0</td>\n",
       "      <td>38.537183</td>\n",
       "      <td>-0.817027</td>\n",
       "      <td>5</td>\n",
       "      <td>NaN</td>\n",
       "      <td>NaN</td>\n",
       "      <td>NaN</td>\n",
       "      <td>220 m²</td>\n",
       "      <td>NaN</td>\n",
       "      <td>NaN</td>\n",
       "      <td>En buen estado</td>\n",
       "      <td>Inmuebles de Grupo Ideas Sax</td>\n",
       "      <td>1.674170e+09</td>\n",
       "      <td>1.699187e+15</td>\n",
       "      <td>220.0</td>\n",
       "      <td>3.0</td>\n",
       "      <td>alicante</td>\n",
       "    </tr>\n",
       "    <tr>\n",
       "      <th>4</th>\n",
       "      <td>103000.0</td>\n",
       "      <td>38.631503</td>\n",
       "      <td>-0.765994</td>\n",
       "      <td>4</td>\n",
       "      <td>NaN</td>\n",
       "      <td>NaN</td>\n",
       "      <td>NaN</td>\n",
       "      <td>150 m²</td>\n",
       "      <td>NaN</td>\n",
       "      <td>NaN</td>\n",
       "      <td>NaN</td>\n",
       "      <td>Inmuebles de Quo Real Estate</td>\n",
       "      <td>1.672701e+09</td>\n",
       "      <td>1.699187e+15</td>\n",
       "      <td>170.0</td>\n",
       "      <td>2.0</td>\n",
       "      <td>alicante</td>\n",
       "    </tr>\n",
       "    <tr>\n",
       "      <th>...</th>\n",
       "      <td>...</td>\n",
       "      <td>...</td>\n",
       "      <td>...</td>\n",
       "      <td>...</td>\n",
       "      <td>...</td>\n",
       "      <td>...</td>\n",
       "      <td>...</td>\n",
       "      <td>...</td>\n",
       "      <td>...</td>\n",
       "      <td>...</td>\n",
       "      <td>...</td>\n",
       "      <td>...</td>\n",
       "      <td>...</td>\n",
       "      <td>...</td>\n",
       "      <td>...</td>\n",
       "      <td>...</td>\n",
       "      <td>...</td>\n",
       "    </tr>\n",
       "    <tr>\n",
       "      <th>276087</th>\n",
       "      <td>69000.0</td>\n",
       "      <td>41.599972</td>\n",
       "      <td>-1.281389</td>\n",
       "      <td>10</td>\n",
       "      <td>NaN</td>\n",
       "      <td>NaN</td>\n",
       "      <td>NaN</td>\n",
       "      <td>290 m²</td>\n",
       "      <td>NaN</td>\n",
       "      <td>1</td>\n",
       "      <td>NaN</td>\n",
       "      <td>Inmuebles de ZARADELTA</td>\n",
       "      <td>1.674947e+09</td>\n",
       "      <td>1.699336e+15</td>\n",
       "      <td>302.0</td>\n",
       "      <td>3.0</td>\n",
       "      <td>zaragoza</td>\n",
       "    </tr>\n",
       "    <tr>\n",
       "      <th>276088</th>\n",
       "      <td>256800.0</td>\n",
       "      <td>41.482034</td>\n",
       "      <td>-1.373726</td>\n",
       "      <td>4</td>\n",
       "      <td>NaN</td>\n",
       "      <td>NaN</td>\n",
       "      <td>NaN</td>\n",
       "      <td>215 m²</td>\n",
       "      <td>NaN</td>\n",
       "      <td>NaN</td>\n",
       "      <td>NaN</td>\n",
       "      <td>Inmuebles de GTI ZARAGOZA</td>\n",
       "      <td>1.672960e+09</td>\n",
       "      <td>1.699336e+14</td>\n",
       "      <td>236.0</td>\n",
       "      <td>6.0</td>\n",
       "      <td>zaragoza</td>\n",
       "    </tr>\n",
       "    <tr>\n",
       "      <th>276089</th>\n",
       "      <td>105000.0</td>\n",
       "      <td>41.578195</td>\n",
       "      <td>-1.116482</td>\n",
       "      <td>NaN</td>\n",
       "      <td>NaN</td>\n",
       "      <td>NaN</td>\n",
       "      <td>NaN</td>\n",
       "      <td>NaN</td>\n",
       "      <td>NaN</td>\n",
       "      <td>NaN</td>\n",
       "      <td>A estrenar</td>\n",
       "      <td>Inmuebles de Aliseda Inmobiliaria</td>\n",
       "      <td>1.674343e+09</td>\n",
       "      <td>1.699336e+15</td>\n",
       "      <td>76.0</td>\n",
       "      <td>NaN</td>\n",
       "      <td>zaragoza</td>\n",
       "    </tr>\n",
       "    <tr>\n",
       "      <th>276090</th>\n",
       "      <td>89000.0</td>\n",
       "      <td>41.483506</td>\n",
       "      <td>-1.371575</td>\n",
       "      <td>4</td>\n",
       "      <td>NaN</td>\n",
       "      <td>NaN</td>\n",
       "      <td>NaN</td>\n",
       "      <td>100 m²</td>\n",
       "      <td>NaN</td>\n",
       "      <td>NaN</td>\n",
       "      <td>NaN</td>\n",
       "      <td>Inmuebles de INSERCONS EJEA DE LOS CABALLEROS</td>\n",
       "      <td>1.673997e+09</td>\n",
       "      <td>1.699336e+15</td>\n",
       "      <td>113.0</td>\n",
       "      <td>1.0</td>\n",
       "      <td>zaragoza</td>\n",
       "    </tr>\n",
       "    <tr>\n",
       "      <th>276091</th>\n",
       "      <td>250395.0</td>\n",
       "      <td>41.483751</td>\n",
       "      <td>-1.370993</td>\n",
       "      <td>4</td>\n",
       "      <td>NaN</td>\n",
       "      <td>NaN</td>\n",
       "      <td>NaN</td>\n",
       "      <td>NaN</td>\n",
       "      <td>NaN</td>\n",
       "      <td>NaN</td>\n",
       "      <td>NaN</td>\n",
       "      <td>Inmuebles de Aliseda Inmobiliaria</td>\n",
       "      <td>1.672787e+09</td>\n",
       "      <td>1.699336e+15</td>\n",
       "      <td>215.0</td>\n",
       "      <td>6.0</td>\n",
       "      <td>zaragoza</td>\n",
       "    </tr>\n",
       "  </tbody>\n",
       "</table>\n",
       "<p>276092 rows × 17 columns</p>\n",
       "</div>"
      ],
      "text/plain": [
       "           price        lat       lng Habitaciones Jardín Gastos de comunidad  \\\n",
       "0        75000.0  38.628784 -0.761397            2    NaN                 NaN   \n",
       "1        56000.0  38.535113 -0.821114            3    NaN                 NaN   \n",
       "2        39800.0  38.631641 -0.860810            2    NaN                 NaN   \n",
       "3       119500.0  38.537183 -0.817027            5    NaN                 NaN   \n",
       "4       103000.0  38.631503 -0.765994            4    NaN                 NaN   \n",
       "...          ...        ...       ...          ...    ...                 ...   \n",
       "276087   69000.0  41.599972 -1.281389           10    NaN                 NaN   \n",
       "276088  256800.0  41.482034 -1.373726            4    NaN                 NaN   \n",
       "276089  105000.0  41.578195 -1.116482          NaN    NaN                 NaN   \n",
       "276090   89000.0  41.483506 -1.371575            4    NaN                 NaN   \n",
       "276091  250395.0  41.483751 -1.370993            4    NaN                 NaN   \n",
       "\n",
       "                 Antigüedad Superficie útil  Ascensor Garaje     Conservación  \\\n",
       "0                       NaN           72 m²  Ascensor    NaN              NaN   \n",
       "1        Entre 20 y 30 años           96 m²       NaN    NaN       A reformar   \n",
       "2                       NaN           61 m²       NaN    NaN              NaN   \n",
       "3                       NaN          220 m²       NaN    NaN   En buen estado   \n",
       "4                       NaN          150 m²       NaN    NaN              NaN   \n",
       "...                     ...             ...       ...    ...              ...   \n",
       "276087                  NaN          290 m²       NaN      1              NaN   \n",
       "276088                  NaN          215 m²       NaN    NaN              NaN   \n",
       "276089                  NaN             NaN       NaN    NaN       A estrenar   \n",
       "276090                  NaN          100 m²       NaN    NaN              NaN   \n",
       "276091                  NaN             NaN       NaN    NaN              NaN   \n",
       "\n",
       "                                               agency       updated  \\\n",
       "0                             Inmuebles de Topbrokers  1.673392e+09   \n",
       "1                      Inmuebles de CICLOACTIVOS S.L.  1.673997e+09   \n",
       "2                               Inmuebles de ALTAMIRA  1.673133e+09   \n",
       "3                        Inmuebles de Grupo Ideas Sax  1.674170e+09   \n",
       "4                        Inmuebles de Quo Real Estate  1.672701e+09   \n",
       "...                                               ...           ...   \n",
       "276087                         Inmuebles de ZARADELTA  1.674947e+09   \n",
       "276088                      Inmuebles de GTI ZARAGOZA  1.672960e+09   \n",
       "276089              Inmuebles de Aliseda Inmobiliaria  1.674343e+09   \n",
       "276090  Inmuebles de INSERCONS EJEA DE LOS CABALLEROS  1.673997e+09   \n",
       "276091              Inmuebles de Aliseda Inmobiliaria  1.672787e+09   \n",
       "\n",
       "           timestamp  surface  bathrooms  province  \n",
       "0       1.699187e+15     76.0        1.0  alicante  \n",
       "1       1.699187e+15    114.0        2.0  alicante  \n",
       "2       1.699187e+15     82.0        1.0  alicante  \n",
       "3       1.699187e+15    220.0        3.0  alicante  \n",
       "4       1.699187e+15    170.0        2.0  alicante  \n",
       "...              ...      ...        ...       ...  \n",
       "276087  1.699336e+15    302.0        3.0  zaragoza  \n",
       "276088  1.699336e+14    236.0        6.0  zaragoza  \n",
       "276089  1.699336e+15     76.0        NaN  zaragoza  \n",
       "276090  1.699336e+15    113.0        1.0  zaragoza  \n",
       "276091  1.699336e+15    215.0        6.0  zaragoza  \n",
       "\n",
       "[276092 rows x 17 columns]"
      ]
     },
     "execution_count": 28,
     "metadata": {},
     "output_type": "execute_result"
    }
   ],
   "source": [
    "df"
   ]
  },
  {
   "cell_type": "code",
   "execution_count": 29,
   "metadata": {},
   "outputs": [],
   "source": [
    "df['rooms'] = df['Habitaciones']\n",
    "df = df.drop('Habitaciones', axis = 1)\n",
    "\n",
    "df['garden'] = df['Jardín']\n",
    "df = df.drop('Jardín', axis = 1)\n",
    "\n",
    "df['community_expenses'] = df['Gastos de comunidad']\n",
    "df = df.drop('Gastos de comunidad', axis = 1)\n",
    "\n",
    "df['age'] = df['Antigüedad']\n",
    "df = df.drop('Antigüedad', axis = 1)\n",
    "\n",
    "df['useful_surface'] = df['Superficie útil']\n",
    "df = df.drop('Superficie útil', axis = 1)\n",
    "\n",
    "df['elevator'] = df['Ascensor']\n",
    "df = df.drop('Ascensor', axis = 1)\n",
    "\n",
    "df['garage'] = df['Garaje']\n",
    "df = df.drop('Garaje', axis = 1)\n",
    "\n",
    "df['state'] = df['Conservación']\n",
    "df = df.drop('Conservación', axis = 1)"
   ]
  },
  {
   "cell_type": "code",
   "execution_count": 30,
   "metadata": {},
   "outputs": [],
   "source": [
    "df = df.drop(['agency', 'updated', 'timestamp', 'community_expenses'], axis = 1)"
   ]
  },
  {
   "cell_type": "code",
   "execution_count": 31,
   "metadata": {},
   "outputs": [],
   "source": [
    "df.rooms = df.rooms.astype(float)"
   ]
  },
  {
   "cell_type": "code",
   "execution_count": 32,
   "metadata": {},
   "outputs": [],
   "source": [
    "df.garden = df.garden.fillna(False).apply(lambda x: True if x else False)"
   ]
  },
  {
   "cell_type": "code",
   "execution_count": 33,
   "metadata": {},
   "outputs": [],
   "source": [
    "age_col = df['age'].unique()\n",
    "ages = {' Menos de 5 años': 0,\n",
    "                ' Entre 5 y 10 años' : 5,\n",
    "                ' Entre 10 y 20 años' : 10,\n",
    "                ' Entre 20 y 30 años' : 20,\n",
    "                ' Entre 30 y 50 años' : 30,\n",
    "                ' Más de 50 años': 50,}"
   ]
  },
  {
   "cell_type": "code",
   "execution_count": 34,
   "metadata": {},
   "outputs": [],
   "source": [
    "df['age'] = df['age'].replace(ages)"
   ]
  },
  {
   "cell_type": "code",
   "execution_count": 35,
   "metadata": {},
   "outputs": [],
   "source": [
    "df['useful_surface'] = df['useful_surface'].apply(lambda x : x if pd.isna(x) else tryParseM2(x))"
   ]
  },
  {
   "cell_type": "code",
   "execution_count": 36,
   "metadata": {},
   "outputs": [],
   "source": [
    "df.elevator = df.elevator.fillna(False).apply(lambda x: True if x else False)"
   ]
  },
  {
   "cell_type": "code",
   "execution_count": 37,
   "metadata": {},
   "outputs": [],
   "source": [
    "df.garage = df.garage.fillna(False).apply(lambda x: True if x else False)"
   ]
  },
  {
   "cell_type": "code",
   "execution_count": 38,
   "metadata": {},
   "outputs": [],
   "source": [
    "# df_sample = df.sample(round(df.shape[0]*0.15), random_state=42)\n",
    "# df_ = df.reset_index()[~df.reset_index()['index'].isin(df_sample.reset_index()['index'])].drop(['index'], axis=1)"
   ]
  },
  {
   "cell_type": "code",
   "execution_count": 39,
   "metadata": {},
   "outputs": [],
   "source": [
    "import json\n",
    "\n",
    "with open('../province_translate.json') as file:\n",
    "    province_translate = json.load(file)\n",
    "\n",
    "df['province'] = df.province.replace(province_translate)"
   ]
  },
  {
   "cell_type": "code",
   "execution_count": 40,
   "metadata": {},
   "outputs": [],
   "source": [
    "criba = []\n",
    "total_provinces = len(df.province.unique())\n",
    "for i in range(1,20_000,1000):\n",
    "    provinces = [province for province in df.province.unique() if len(df[df['province'] == province]) > i]\n",
    "    percentage = 1 - df[df['province'].isin(provinces)].shape[0] / df.shape[0]\n",
    "    n_models = len(provinces)/total_provinces\n",
    "    criba.append(tuple([percentage, n_models]))"
   ]
  },
  {
   "cell_type": "code",
   "execution_count": 41,
   "metadata": {},
   "outputs": [
    {
     "data": {
      "application/vnd.plotly.v1+json": {
       "config": {
        "plotlyServerURL": "https://plot.ly"
       },
       "data": [
        {
         "hovertemplate": "variable=0<br>index=%{x}<br>value=%{y}<extra></extra>",
         "legendgroup": "0",
         "line": {
          "color": "#636efa",
          "dash": "solid"
         },
         "marker": {
          "symbol": "circle"
         },
         "mode": "lines",
         "name": "0",
         "orientation": "v",
         "showlegend": true,
         "type": "scatter",
         "x": [
          0,
          1,
          2,
          3,
          4,
          5,
          6,
          7,
          8,
          9,
          10,
          11,
          12,
          13,
          14,
          15,
          16,
          17,
          18,
          19
         ],
         "xaxis": "x",
         "y": [
          0,
          0.021659446851049702,
          0.05952725902959888,
          0.1456579690827695,
          0.2218209872071628,
          0.3032938295930342,
          0.34264303203280067,
          0.41135925705924115,
          0.5184684815206526,
          0.5184684815206526,
          0.5184684815206526,
          0.5184684815206526,
          0.5610955768367065,
          0.5610955768367065,
          0.5610955768367065,
          0.6148131782159569,
          0.6712472654042856,
          0.6712472654042856,
          0.7330672384567463,
          0.7330672384567463
         ],
         "yaxis": "y"
        },
        {
         "hovertemplate": "variable=1<br>index=%{x}<br>value=%{y}<extra></extra>",
         "legendgroup": "1",
         "line": {
          "color": "#EF553B",
          "dash": "solid"
         },
         "marker": {
          "symbol": "circle"
         },
         "mode": "lines",
         "name": "1",
         "orientation": "v",
         "showlegend": true,
         "type": "scatter",
         "x": [
          0,
          1,
          2,
          3,
          4,
          5,
          6,
          7,
          8,
          9,
          10,
          11,
          12,
          13,
          14,
          15,
          16,
          17,
          18,
          19
         ],
         "xaxis": "x",
         "y": [
          1,
          0.7818181818181819,
          0.6545454545454545,
          0.4909090909090909,
          0.38181818181818183,
          0.2909090909090909,
          0.2545454545454545,
          0.2,
          0.12727272727272726,
          0.12727272727272726,
          0.12727272727272726,
          0.12727272727272726,
          0.10909090909090909,
          0.10909090909090909,
          0.10909090909090909,
          0.09090909090909091,
          0.07272727272727272,
          0.07272727272727272,
          0.05454545454545454,
          0.05454545454545454
         ],
         "yaxis": "y"
        }
       ],
       "layout": {
        "legend": {
         "title": {
          "text": "variable"
         },
         "tracegroupgap": 0
        },
        "margin": {
         "t": 60
        },
        "template": {
         "data": {
          "bar": [
           {
            "error_x": {
             "color": "#2a3f5f"
            },
            "error_y": {
             "color": "#2a3f5f"
            },
            "marker": {
             "line": {
              "color": "#E5ECF6",
              "width": 0.5
             },
             "pattern": {
              "fillmode": "overlay",
              "size": 10,
              "solidity": 0.2
             }
            },
            "type": "bar"
           }
          ],
          "barpolar": [
           {
            "marker": {
             "line": {
              "color": "#E5ECF6",
              "width": 0.5
             },
             "pattern": {
              "fillmode": "overlay",
              "size": 10,
              "solidity": 0.2
             }
            },
            "type": "barpolar"
           }
          ],
          "carpet": [
           {
            "aaxis": {
             "endlinecolor": "#2a3f5f",
             "gridcolor": "white",
             "linecolor": "white",
             "minorgridcolor": "white",
             "startlinecolor": "#2a3f5f"
            },
            "baxis": {
             "endlinecolor": "#2a3f5f",
             "gridcolor": "white",
             "linecolor": "white",
             "minorgridcolor": "white",
             "startlinecolor": "#2a3f5f"
            },
            "type": "carpet"
           }
          ],
          "choropleth": [
           {
            "colorbar": {
             "outlinewidth": 0,
             "ticks": ""
            },
            "type": "choropleth"
           }
          ],
          "contour": [
           {
            "colorbar": {
             "outlinewidth": 0,
             "ticks": ""
            },
            "colorscale": [
             [
              0,
              "#0d0887"
             ],
             [
              0.1111111111111111,
              "#46039f"
             ],
             [
              0.2222222222222222,
              "#7201a8"
             ],
             [
              0.3333333333333333,
              "#9c179e"
             ],
             [
              0.4444444444444444,
              "#bd3786"
             ],
             [
              0.5555555555555556,
              "#d8576b"
             ],
             [
              0.6666666666666666,
              "#ed7953"
             ],
             [
              0.7777777777777778,
              "#fb9f3a"
             ],
             [
              0.8888888888888888,
              "#fdca26"
             ],
             [
              1,
              "#f0f921"
             ]
            ],
            "type": "contour"
           }
          ],
          "contourcarpet": [
           {
            "colorbar": {
             "outlinewidth": 0,
             "ticks": ""
            },
            "type": "contourcarpet"
           }
          ],
          "heatmap": [
           {
            "colorbar": {
             "outlinewidth": 0,
             "ticks": ""
            },
            "colorscale": [
             [
              0,
              "#0d0887"
             ],
             [
              0.1111111111111111,
              "#46039f"
             ],
             [
              0.2222222222222222,
              "#7201a8"
             ],
             [
              0.3333333333333333,
              "#9c179e"
             ],
             [
              0.4444444444444444,
              "#bd3786"
             ],
             [
              0.5555555555555556,
              "#d8576b"
             ],
             [
              0.6666666666666666,
              "#ed7953"
             ],
             [
              0.7777777777777778,
              "#fb9f3a"
             ],
             [
              0.8888888888888888,
              "#fdca26"
             ],
             [
              1,
              "#f0f921"
             ]
            ],
            "type": "heatmap"
           }
          ],
          "heatmapgl": [
           {
            "colorbar": {
             "outlinewidth": 0,
             "ticks": ""
            },
            "colorscale": [
             [
              0,
              "#0d0887"
             ],
             [
              0.1111111111111111,
              "#46039f"
             ],
             [
              0.2222222222222222,
              "#7201a8"
             ],
             [
              0.3333333333333333,
              "#9c179e"
             ],
             [
              0.4444444444444444,
              "#bd3786"
             ],
             [
              0.5555555555555556,
              "#d8576b"
             ],
             [
              0.6666666666666666,
              "#ed7953"
             ],
             [
              0.7777777777777778,
              "#fb9f3a"
             ],
             [
              0.8888888888888888,
              "#fdca26"
             ],
             [
              1,
              "#f0f921"
             ]
            ],
            "type": "heatmapgl"
           }
          ],
          "histogram": [
           {
            "marker": {
             "pattern": {
              "fillmode": "overlay",
              "size": 10,
              "solidity": 0.2
             }
            },
            "type": "histogram"
           }
          ],
          "histogram2d": [
           {
            "colorbar": {
             "outlinewidth": 0,
             "ticks": ""
            },
            "colorscale": [
             [
              0,
              "#0d0887"
             ],
             [
              0.1111111111111111,
              "#46039f"
             ],
             [
              0.2222222222222222,
              "#7201a8"
             ],
             [
              0.3333333333333333,
              "#9c179e"
             ],
             [
              0.4444444444444444,
              "#bd3786"
             ],
             [
              0.5555555555555556,
              "#d8576b"
             ],
             [
              0.6666666666666666,
              "#ed7953"
             ],
             [
              0.7777777777777778,
              "#fb9f3a"
             ],
             [
              0.8888888888888888,
              "#fdca26"
             ],
             [
              1,
              "#f0f921"
             ]
            ],
            "type": "histogram2d"
           }
          ],
          "histogram2dcontour": [
           {
            "colorbar": {
             "outlinewidth": 0,
             "ticks": ""
            },
            "colorscale": [
             [
              0,
              "#0d0887"
             ],
             [
              0.1111111111111111,
              "#46039f"
             ],
             [
              0.2222222222222222,
              "#7201a8"
             ],
             [
              0.3333333333333333,
              "#9c179e"
             ],
             [
              0.4444444444444444,
              "#bd3786"
             ],
             [
              0.5555555555555556,
              "#d8576b"
             ],
             [
              0.6666666666666666,
              "#ed7953"
             ],
             [
              0.7777777777777778,
              "#fb9f3a"
             ],
             [
              0.8888888888888888,
              "#fdca26"
             ],
             [
              1,
              "#f0f921"
             ]
            ],
            "type": "histogram2dcontour"
           }
          ],
          "mesh3d": [
           {
            "colorbar": {
             "outlinewidth": 0,
             "ticks": ""
            },
            "type": "mesh3d"
           }
          ],
          "parcoords": [
           {
            "line": {
             "colorbar": {
              "outlinewidth": 0,
              "ticks": ""
             }
            },
            "type": "parcoords"
           }
          ],
          "pie": [
           {
            "automargin": true,
            "type": "pie"
           }
          ],
          "scatter": [
           {
            "fillpattern": {
             "fillmode": "overlay",
             "size": 10,
             "solidity": 0.2
            },
            "type": "scatter"
           }
          ],
          "scatter3d": [
           {
            "line": {
             "colorbar": {
              "outlinewidth": 0,
              "ticks": ""
             }
            },
            "marker": {
             "colorbar": {
              "outlinewidth": 0,
              "ticks": ""
             }
            },
            "type": "scatter3d"
           }
          ],
          "scattercarpet": [
           {
            "marker": {
             "colorbar": {
              "outlinewidth": 0,
              "ticks": ""
             }
            },
            "type": "scattercarpet"
           }
          ],
          "scattergeo": [
           {
            "marker": {
             "colorbar": {
              "outlinewidth": 0,
              "ticks": ""
             }
            },
            "type": "scattergeo"
           }
          ],
          "scattergl": [
           {
            "marker": {
             "colorbar": {
              "outlinewidth": 0,
              "ticks": ""
             }
            },
            "type": "scattergl"
           }
          ],
          "scattermapbox": [
           {
            "marker": {
             "colorbar": {
              "outlinewidth": 0,
              "ticks": ""
             }
            },
            "type": "scattermapbox"
           }
          ],
          "scatterpolar": [
           {
            "marker": {
             "colorbar": {
              "outlinewidth": 0,
              "ticks": ""
             }
            },
            "type": "scatterpolar"
           }
          ],
          "scatterpolargl": [
           {
            "marker": {
             "colorbar": {
              "outlinewidth": 0,
              "ticks": ""
             }
            },
            "type": "scatterpolargl"
           }
          ],
          "scatterternary": [
           {
            "marker": {
             "colorbar": {
              "outlinewidth": 0,
              "ticks": ""
             }
            },
            "type": "scatterternary"
           }
          ],
          "surface": [
           {
            "colorbar": {
             "outlinewidth": 0,
             "ticks": ""
            },
            "colorscale": [
             [
              0,
              "#0d0887"
             ],
             [
              0.1111111111111111,
              "#46039f"
             ],
             [
              0.2222222222222222,
              "#7201a8"
             ],
             [
              0.3333333333333333,
              "#9c179e"
             ],
             [
              0.4444444444444444,
              "#bd3786"
             ],
             [
              0.5555555555555556,
              "#d8576b"
             ],
             [
              0.6666666666666666,
              "#ed7953"
             ],
             [
              0.7777777777777778,
              "#fb9f3a"
             ],
             [
              0.8888888888888888,
              "#fdca26"
             ],
             [
              1,
              "#f0f921"
             ]
            ],
            "type": "surface"
           }
          ],
          "table": [
           {
            "cells": {
             "fill": {
              "color": "#EBF0F8"
             },
             "line": {
              "color": "white"
             }
            },
            "header": {
             "fill": {
              "color": "#C8D4E3"
             },
             "line": {
              "color": "white"
             }
            },
            "type": "table"
           }
          ]
         },
         "layout": {
          "annotationdefaults": {
           "arrowcolor": "#2a3f5f",
           "arrowhead": 0,
           "arrowwidth": 1
          },
          "autotypenumbers": "strict",
          "coloraxis": {
           "colorbar": {
            "outlinewidth": 0,
            "ticks": ""
           }
          },
          "colorscale": {
           "diverging": [
            [
             0,
             "#8e0152"
            ],
            [
             0.1,
             "#c51b7d"
            ],
            [
             0.2,
             "#de77ae"
            ],
            [
             0.3,
             "#f1b6da"
            ],
            [
             0.4,
             "#fde0ef"
            ],
            [
             0.5,
             "#f7f7f7"
            ],
            [
             0.6,
             "#e6f5d0"
            ],
            [
             0.7,
             "#b8e186"
            ],
            [
             0.8,
             "#7fbc41"
            ],
            [
             0.9,
             "#4d9221"
            ],
            [
             1,
             "#276419"
            ]
           ],
           "sequential": [
            [
             0,
             "#0d0887"
            ],
            [
             0.1111111111111111,
             "#46039f"
            ],
            [
             0.2222222222222222,
             "#7201a8"
            ],
            [
             0.3333333333333333,
             "#9c179e"
            ],
            [
             0.4444444444444444,
             "#bd3786"
            ],
            [
             0.5555555555555556,
             "#d8576b"
            ],
            [
             0.6666666666666666,
             "#ed7953"
            ],
            [
             0.7777777777777778,
             "#fb9f3a"
            ],
            [
             0.8888888888888888,
             "#fdca26"
            ],
            [
             1,
             "#f0f921"
            ]
           ],
           "sequentialminus": [
            [
             0,
             "#0d0887"
            ],
            [
             0.1111111111111111,
             "#46039f"
            ],
            [
             0.2222222222222222,
             "#7201a8"
            ],
            [
             0.3333333333333333,
             "#9c179e"
            ],
            [
             0.4444444444444444,
             "#bd3786"
            ],
            [
             0.5555555555555556,
             "#d8576b"
            ],
            [
             0.6666666666666666,
             "#ed7953"
            ],
            [
             0.7777777777777778,
             "#fb9f3a"
            ],
            [
             0.8888888888888888,
             "#fdca26"
            ],
            [
             1,
             "#f0f921"
            ]
           ]
          },
          "colorway": [
           "#636efa",
           "#EF553B",
           "#00cc96",
           "#ab63fa",
           "#FFA15A",
           "#19d3f3",
           "#FF6692",
           "#B6E880",
           "#FF97FF",
           "#FECB52"
          ],
          "font": {
           "color": "#2a3f5f"
          },
          "geo": {
           "bgcolor": "white",
           "lakecolor": "white",
           "landcolor": "#E5ECF6",
           "showlakes": true,
           "showland": true,
           "subunitcolor": "white"
          },
          "hoverlabel": {
           "align": "left"
          },
          "hovermode": "closest",
          "mapbox": {
           "style": "light"
          },
          "paper_bgcolor": "white",
          "plot_bgcolor": "#E5ECF6",
          "polar": {
           "angularaxis": {
            "gridcolor": "white",
            "linecolor": "white",
            "ticks": ""
           },
           "bgcolor": "#E5ECF6",
           "radialaxis": {
            "gridcolor": "white",
            "linecolor": "white",
            "ticks": ""
           }
          },
          "scene": {
           "xaxis": {
            "backgroundcolor": "#E5ECF6",
            "gridcolor": "white",
            "gridwidth": 2,
            "linecolor": "white",
            "showbackground": true,
            "ticks": "",
            "zerolinecolor": "white"
           },
           "yaxis": {
            "backgroundcolor": "#E5ECF6",
            "gridcolor": "white",
            "gridwidth": 2,
            "linecolor": "white",
            "showbackground": true,
            "ticks": "",
            "zerolinecolor": "white"
           },
           "zaxis": {
            "backgroundcolor": "#E5ECF6",
            "gridcolor": "white",
            "gridwidth": 2,
            "linecolor": "white",
            "showbackground": true,
            "ticks": "",
            "zerolinecolor": "white"
           }
          },
          "shapedefaults": {
           "line": {
            "color": "#2a3f5f"
           }
          },
          "ternary": {
           "aaxis": {
            "gridcolor": "white",
            "linecolor": "white",
            "ticks": ""
           },
           "baxis": {
            "gridcolor": "white",
            "linecolor": "white",
            "ticks": ""
           },
           "bgcolor": "#E5ECF6",
           "caxis": {
            "gridcolor": "white",
            "linecolor": "white",
            "ticks": ""
           }
          },
          "title": {
           "x": 0.05
          },
          "xaxis": {
           "automargin": true,
           "gridcolor": "white",
           "linecolor": "white",
           "ticks": "",
           "title": {
            "standoff": 15
           },
           "zerolinecolor": "white",
           "zerolinewidth": 2
          },
          "yaxis": {
           "automargin": true,
           "gridcolor": "white",
           "linecolor": "white",
           "ticks": "",
           "title": {
            "standoff": 15
           },
           "zerolinecolor": "white",
           "zerolinewidth": 2
          }
         }
        },
        "xaxis": {
         "anchor": "y",
         "domain": [
          0,
          1
         ],
         "title": {
          "text": "index"
         }
        },
        "yaxis": {
         "anchor": "x",
         "domain": [
          0,
          1
         ],
         "title": {
          "text": "value"
         }
        }
       }
      }
     },
     "metadata": {},
     "output_type": "display_data"
    }
   ],
   "source": [
    "import plotly.express as px\n",
    "px.line(criba)"
   ]
  },
  {
   "cell_type": "code",
   "execution_count": 42,
   "metadata": {},
   "outputs": [],
   "source": [
    "provinces_to_train = [province for province in df.province.unique() if len(df[df['province'] == province]) > 5000]"
   ]
  },
  {
   "cell_type": "code",
   "execution_count": 44,
   "metadata": {},
   "outputs": [
    {
     "data": {
      "text/plain": [
       "16"
      ]
     },
     "execution_count": 44,
     "metadata": {},
     "output_type": "execute_result"
    }
   ],
   "source": [
    "len(provinces_to_train)"
   ]
  },
  {
   "cell_type": "code",
   "execution_count": 43,
   "metadata": {},
   "outputs": [],
   "source": [
    "for province in provinces_to_train:\n",
    "    df_province = df[df['province'] == province].drop('province', axis = 1)\n",
    "    df_province.to_parquet(f'./processed_data/provinces/data_{province}.parquet')"
   ]
  },
  {
   "cell_type": "code",
   "execution_count": 45,
   "metadata": {},
   "outputs": [],
   "source": [
    "df[~df['province'].isin(provinces_to_train)].to_parquet(f'./processed_data/provinces/data_30.parquet')"
   ]
  },
  {
   "cell_type": "code",
   "execution_count": 47,
   "metadata": {},
   "outputs": [
    {
     "data": {
      "text/html": [
       "<div>\n",
       "<style scoped>\n",
       "    .dataframe tbody tr th:only-of-type {\n",
       "        vertical-align: middle;\n",
       "    }\n",
       "\n",
       "    .dataframe tbody tr th {\n",
       "        vertical-align: top;\n",
       "    }\n",
       "\n",
       "    .dataframe thead th {\n",
       "        text-align: right;\n",
       "    }\n",
       "</style>\n",
       "<table border=\"1\" class=\"dataframe\">\n",
       "  <thead>\n",
       "    <tr style=\"text-align: right;\">\n",
       "      <th></th>\n",
       "      <th>price</th>\n",
       "      <th>lat</th>\n",
       "      <th>lng</th>\n",
       "      <th>surface</th>\n",
       "      <th>bathrooms</th>\n",
       "      <th>province</th>\n",
       "      <th>rooms</th>\n",
       "      <th>garden</th>\n",
       "      <th>age</th>\n",
       "      <th>useful_surface</th>\n",
       "      <th>elevator</th>\n",
       "      <th>garage</th>\n",
       "      <th>state</th>\n",
       "    </tr>\n",
       "  </thead>\n",
       "  <tbody>\n",
       "    <tr>\n",
       "      <th>104110</th>\n",
       "      <td>385000.0</td>\n",
       "      <td>42.834200</td>\n",
       "      <td>-2.788629</td>\n",
       "      <td>160.0</td>\n",
       "      <td>3.0</td>\n",
       "      <td>Araba</td>\n",
       "      <td>4.0</td>\n",
       "      <td>False</td>\n",
       "      <td>10.0</td>\n",
       "      <td>150.0</td>\n",
       "      <td>False</td>\n",
       "      <td>False</td>\n",
       "      <td>En buen estado</td>\n",
       "    </tr>\n",
       "    <tr>\n",
       "      <th>104111</th>\n",
       "      <td>46100.0</td>\n",
       "      <td>42.672399</td>\n",
       "      <td>-2.839510</td>\n",
       "      <td>426.0</td>\n",
       "      <td>2.0</td>\n",
       "      <td>Araba</td>\n",
       "      <td>4.0</td>\n",
       "      <td>False</td>\n",
       "      <td>50.0</td>\n",
       "      <td>293.0</td>\n",
       "      <td>False</td>\n",
       "      <td>False</td>\n",
       "      <td>None</td>\n",
       "    </tr>\n",
       "    <tr>\n",
       "      <th>104112</th>\n",
       "      <td>155000.0</td>\n",
       "      <td>42.875177</td>\n",
       "      <td>-3.147517</td>\n",
       "      <td>400.0</td>\n",
       "      <td>1.0</td>\n",
       "      <td>Araba</td>\n",
       "      <td>5.0</td>\n",
       "      <td>True</td>\n",
       "      <td>50.0</td>\n",
       "      <td>300.0</td>\n",
       "      <td>False</td>\n",
       "      <td>False</td>\n",
       "      <td>A reformar</td>\n",
       "    </tr>\n",
       "    <tr>\n",
       "      <th>104113</th>\n",
       "      <td>850000.0</td>\n",
       "      <td>42.801684</td>\n",
       "      <td>-2.898858</td>\n",
       "      <td>370.0</td>\n",
       "      <td>4.0</td>\n",
       "      <td>Araba</td>\n",
       "      <td>6.0</td>\n",
       "      <td>True</td>\n",
       "      <td>10.0</td>\n",
       "      <td>360.0</td>\n",
       "      <td>False</td>\n",
       "      <td>True</td>\n",
       "      <td>None</td>\n",
       "    </tr>\n",
       "    <tr>\n",
       "      <th>104114</th>\n",
       "      <td>450000.0</td>\n",
       "      <td>42.728258</td>\n",
       "      <td>-2.860074</td>\n",
       "      <td>350.0</td>\n",
       "      <td>3.0</td>\n",
       "      <td>Araba</td>\n",
       "      <td>4.0</td>\n",
       "      <td>False</td>\n",
       "      <td>NaN</td>\n",
       "      <td>300.0</td>\n",
       "      <td>False</td>\n",
       "      <td>True</td>\n",
       "      <td>En buen estado</td>\n",
       "    </tr>\n",
       "    <tr>\n",
       "      <th>...</th>\n",
       "      <td>...</td>\n",
       "      <td>...</td>\n",
       "      <td>...</td>\n",
       "      <td>...</td>\n",
       "      <td>...</td>\n",
       "      <td>...</td>\n",
       "      <td>...</td>\n",
       "      <td>...</td>\n",
       "      <td>...</td>\n",
       "      <td>...</td>\n",
       "      <td>...</td>\n",
       "      <td>...</td>\n",
       "      <td>...</td>\n",
       "    </tr>\n",
       "    <tr>\n",
       "      <th>276087</th>\n",
       "      <td>69000.0</td>\n",
       "      <td>41.599972</td>\n",
       "      <td>-1.281389</td>\n",
       "      <td>302.0</td>\n",
       "      <td>3.0</td>\n",
       "      <td>Zaragoza</td>\n",
       "      <td>10.0</td>\n",
       "      <td>False</td>\n",
       "      <td>NaN</td>\n",
       "      <td>290.0</td>\n",
       "      <td>False</td>\n",
       "      <td>True</td>\n",
       "      <td>None</td>\n",
       "    </tr>\n",
       "    <tr>\n",
       "      <th>276088</th>\n",
       "      <td>256800.0</td>\n",
       "      <td>41.482034</td>\n",
       "      <td>-1.373726</td>\n",
       "      <td>236.0</td>\n",
       "      <td>6.0</td>\n",
       "      <td>Zaragoza</td>\n",
       "      <td>4.0</td>\n",
       "      <td>False</td>\n",
       "      <td>NaN</td>\n",
       "      <td>215.0</td>\n",
       "      <td>False</td>\n",
       "      <td>False</td>\n",
       "      <td>None</td>\n",
       "    </tr>\n",
       "    <tr>\n",
       "      <th>276089</th>\n",
       "      <td>105000.0</td>\n",
       "      <td>41.578195</td>\n",
       "      <td>-1.116482</td>\n",
       "      <td>76.0</td>\n",
       "      <td>NaN</td>\n",
       "      <td>Zaragoza</td>\n",
       "      <td>NaN</td>\n",
       "      <td>False</td>\n",
       "      <td>NaN</td>\n",
       "      <td>NaN</td>\n",
       "      <td>False</td>\n",
       "      <td>False</td>\n",
       "      <td>A estrenar</td>\n",
       "    </tr>\n",
       "    <tr>\n",
       "      <th>276090</th>\n",
       "      <td>89000.0</td>\n",
       "      <td>41.483506</td>\n",
       "      <td>-1.371575</td>\n",
       "      <td>113.0</td>\n",
       "      <td>1.0</td>\n",
       "      <td>Zaragoza</td>\n",
       "      <td>4.0</td>\n",
       "      <td>False</td>\n",
       "      <td>NaN</td>\n",
       "      <td>100.0</td>\n",
       "      <td>False</td>\n",
       "      <td>False</td>\n",
       "      <td>None</td>\n",
       "    </tr>\n",
       "    <tr>\n",
       "      <th>276091</th>\n",
       "      <td>250395.0</td>\n",
       "      <td>41.483751</td>\n",
       "      <td>-1.370993</td>\n",
       "      <td>215.0</td>\n",
       "      <td>6.0</td>\n",
       "      <td>Zaragoza</td>\n",
       "      <td>4.0</td>\n",
       "      <td>False</td>\n",
       "      <td>NaN</td>\n",
       "      <td>NaN</td>\n",
       "      <td>False</td>\n",
       "      <td>False</td>\n",
       "      <td>None</td>\n",
       "    </tr>\n",
       "  </tbody>\n",
       "</table>\n",
       "<p>83737 rows × 13 columns</p>\n",
       "</div>"
      ],
      "text/plain": [
       "           price        lat       lng  surface  bathrooms  province  rooms  \\\n",
       "104110  385000.0  42.834200 -2.788629    160.0        3.0     Araba    4.0   \n",
       "104111   46100.0  42.672399 -2.839510    426.0        2.0     Araba    4.0   \n",
       "104112  155000.0  42.875177 -3.147517    400.0        1.0     Araba    5.0   \n",
       "104113  850000.0  42.801684 -2.898858    370.0        4.0     Araba    6.0   \n",
       "104114  450000.0  42.728258 -2.860074    350.0        3.0     Araba    4.0   \n",
       "...          ...        ...       ...      ...        ...       ...    ...   \n",
       "276087   69000.0  41.599972 -1.281389    302.0        3.0  Zaragoza   10.0   \n",
       "276088  256800.0  41.482034 -1.373726    236.0        6.0  Zaragoza    4.0   \n",
       "276089  105000.0  41.578195 -1.116482     76.0        NaN  Zaragoza    NaN   \n",
       "276090   89000.0  41.483506 -1.371575    113.0        1.0  Zaragoza    4.0   \n",
       "276091  250395.0  41.483751 -1.370993    215.0        6.0  Zaragoza    4.0   \n",
       "\n",
       "        garden   age  useful_surface  elevator  garage            state  \n",
       "104110   False  10.0           150.0     False   False   En buen estado  \n",
       "104111   False  50.0           293.0     False   False             None  \n",
       "104112    True  50.0           300.0     False   False       A reformar  \n",
       "104113    True  10.0           360.0     False    True             None  \n",
       "104114   False   NaN           300.0     False    True   En buen estado  \n",
       "...        ...   ...             ...       ...     ...              ...  \n",
       "276087   False   NaN           290.0     False    True             None  \n",
       "276088   False   NaN           215.0     False   False             None  \n",
       "276089   False   NaN             NaN     False   False       A estrenar  \n",
       "276090   False   NaN           100.0     False   False             None  \n",
       "276091   False   NaN             NaN     False   False             None  \n",
       "\n",
       "[83737 rows x 13 columns]"
      ]
     },
     "execution_count": 47,
     "metadata": {},
     "output_type": "execute_result"
    }
   ],
   "source": [
    "df_30 = pd.read_parquet('./processed_data/provinces/data_30.parquet')\n",
    "df_30"
   ]
  },
  {
   "cell_type": "markdown",
   "metadata": {},
   "source": [
    "# Pos-procesamiento"
   ]
  },
  {
   "cell_type": "code",
   "execution_count": null,
   "metadata": {},
   "outputs": [],
   "source": [
    "df['age'] = df['age'].fillna(df['age'].mean()) # PROBAR IMPUTAR CON KNN"
   ]
  },
  {
   "cell_type": "code",
   "execution_count": 53,
   "metadata": {},
   "outputs": [],
   "source": [
    "df.state = df.state.fillna(\"En buen estado\")"
   ]
  },
  {
   "cell_type": "code",
   "execution_count": 54,
   "metadata": {},
   "outputs": [],
   "source": [
    "df_num = df._get_numeric_data()\n",
    "df_cat = df.drop(df_num.columns, axis = 1)\n",
    "df_cat, encodings = targetEncoding(df_cat, df_num['price'], 'target_median')\n",
    "df = pd.concat([df_num, df_cat], axis = 1)"
   ]
  },
  {
   "cell_type": "code",
   "execution_count": 56,
   "metadata": {},
   "outputs": [],
   "source": [
    "df_ = outliersFilter(df = df_, min_price = 50_000, max_price = 5_000_000, max_baths = 15, max_surface = 1_000)"
   ]
  },
  {
   "cell_type": "code",
   "execution_count": 62,
   "metadata": {},
   "outputs": [
    {
     "data": {
      "text/plain": [
       "0.6636716520689183"
      ]
     },
     "execution_count": 62,
     "metadata": {},
     "output_type": "execute_result"
    }
   ],
   "source": [
    "df_.dropna().shape[0]/df_.shape[0]"
   ]
  },
  {
   "cell_type": "markdown",
   "metadata": {},
   "source": [
    "# Entrenamiento y validación de los 17 modelos\n",
    "- 1 modelo -> 30% resto de España (tiene que entrenarse aparte de los demás porque tiene una columna extra)\n",
    "- 16 modelos -> las provincias con más de 5.000 publicaciones"
   ]
  },
  {
   "cell_type": "code",
   "execution_count": 48,
   "metadata": {},
   "outputs": [],
   "source": [
    "df_journal = pd.DataFrame(columns=['file', 'stage', 'r2', 'mae', 'mse', 'with_outliers']) # registro de las métricas para revisarlas a posterior"
   ]
  },
  {
   "cell_type": "code",
   "execution_count": 49,
   "metadata": {},
   "outputs": [],
   "source": [
    "with_outliers = [True, False]\n",
    "files = glob('./processed_data/provinces/*.parquet') # lista de direcciones de todos los archivos para tenerlos desde el inicio\n",
    "# files"
   ]
  },
  {
   "cell_type": "code",
   "execution_count": 50,
   "metadata": {},
   "outputs": [
    {
     "name": "stderr",
     "output_type": "stream",
     "text": [
      "c:\\Users\\cuicuidev\\Desktop\\pisoscom\\ml\\processing\\encodings.py:71: FutureWarning:\n",
      "\n",
      "The behavior of DataFrame concatenation with empty or all-NA entries is deprecated. In a future version, this will no longer exclude empty or all-NA columns when determining the result dtypes. To retain the old behavior, exclude the relevant entries before the concat operation.\n",
      "\n",
      "c:\\Users\\cuicuidev\\Desktop\\pisoscom\\venv\\lib\\site-packages\\sklearn\\base.py:1152: DataConversionWarning:\n",
      "\n",
      "A column-vector y was passed when a 1d array was expected. Please change the shape of y to (n_samples,), for example using ravel().\n",
      "\n",
      "C:\\Users\\cuicuidev\\AppData\\Local\\Temp\\ipykernel_5768\\2040488244.py:27: FutureWarning:\n",
      "\n",
      "The behavior of DataFrame concatenation with empty or all-NA entries is deprecated. In a future version, this will no longer exclude empty or all-NA columns when determining the result dtypes. To retain the old behavior, exclude the relevant entries before the concat operation.\n",
      "\n",
      "c:\\Users\\cuicuidev\\Desktop\\pisoscom\\venv\\lib\\site-packages\\sklearn\\base.py:458: UserWarning:\n",
      "\n",
      "X has feature names, but RandomForestRegressor was fitted without feature names\n",
      "\n",
      "c:\\Users\\cuicuidev\\Desktop\\pisoscom\\ml\\processing\\encodings.py:71: FutureWarning:\n",
      "\n",
      "The behavior of DataFrame concatenation with empty or all-NA entries is deprecated. In a future version, this will no longer exclude empty or all-NA columns when determining the result dtypes. To retain the old behavior, exclude the relevant entries before the concat operation.\n",
      "\n",
      "c:\\Users\\cuicuidev\\Desktop\\pisoscom\\venv\\lib\\site-packages\\sklearn\\base.py:1152: DataConversionWarning:\n",
      "\n",
      "A column-vector y was passed when a 1d array was expected. Please change the shape of y to (n_samples,), for example using ravel().\n",
      "\n",
      "c:\\Users\\cuicuidev\\Desktop\\pisoscom\\venv\\lib\\site-packages\\sklearn\\base.py:458: UserWarning:\n",
      "\n",
      "X has feature names, but RandomForestRegressor was fitted without feature names\n",
      "\n"
     ]
    }
   ],
   "source": [
    "# Entrenamos con y sin outliers usando el archivo 'data_25.parquet'\n",
    "\n",
    "for boolean in with_outliers:\n",
    "  df_30 = pd.read_parquet(files[0])\n",
    "  file_name = files[0].split('\\\\')[-1]\n",
    "\n",
    "  df_30_validation = getSample(df_30, 0.15)\n",
    "  df_30_train = df_30.reset_index()[~df_30.reset_index()['index'].isin(df_30_validation.reset_index()['index'])].drop(['index'], axis=1)\n",
    "\n",
    "  if boolean == False:\n",
    "      df_30_train = outliersFilter(df = df_30_train, min_price = 50_000, max_price = 5_000_000, max_baths = 15, max_surface = 1_000)\n",
    "\n",
    "  df_30_cat, encodings = frequencyEncoding(df_30_train[['province', 'state']])\n",
    "  df_30_train = pd.concat([df_30_train._get_numeric_data(), df_30_cat], axis = 1)\n",
    "\n",
    "  df_30_train = df_30_train[~df_30_train['price'].isna()].dropna()\n",
    "\n",
    "  X = df_30_train.drop(['price'], axis = 1)\n",
    "  y = df_30_train[['price']]\n",
    "\n",
    "  imputer = KNNImputer(n_neighbors=3)\n",
    "  X = imputer.fit_transform(X)\n",
    "  X_train, X_test, y_train, y_test = train_test_split(X, y, test_size = 0.2, random_state = 42)\n",
    "  model = RandomForestRegressor(n_jobs = -1, random_state = 42, n_estimators = 100)\n",
    "  model.fit(X_train, y_train)\n",
    "  yhat = model.predict(X_test)\n",
    "  df_journal = pd.concat([df_journal, pd.DataFrame([[file_name,\n",
    "                                                    'train',\n",
    "                                                    r2_score(y_test, yhat),\n",
    "                                                    mean_absolute_error(y_test, yhat),\n",
    "                                                    mean_squared_error(y_test, yhat),\n",
    "                                                    boolean]],\n",
    "                                                  columns = ['file', 'stage', 'r2', 'mae', 'mse', 'with_outliers'])])\n",
    "  \n",
    "  df_30_validation['state'] = df_30_validation['state'].replace(encodings['state'])\n",
    "  df_30_validation['province'] = df_30_validation['province'].replace(encodings['province'])\n",
    "  df_30_validation = df_30_validation.dropna()\n",
    "\n",
    "  X_val = df_30_validation.drop(['price'], axis = 1)\n",
    "  y_val = df_30_validation[['price']]\n",
    "\n",
    "  yhat = model.predict(X_val)\n",
    "\n",
    "  df_journal = pd.concat([df_journal, pd.DataFrame([[file_name,\n",
    "                                                    'validation',\n",
    "                                                    r2_score(y_val, yhat),\n",
    "                                                    mean_absolute_error(y_val, yhat),\n",
    "                                                    mean_squared_error(y_val, yhat),\n",
    "                                                    boolean]],\n",
    "                                                  columns = ['file', 'stage', 'r2', 'mae', 'mse', 'with_outliers'])])\n",
    "  \n",
    "  if boolean == True:\n",
    "    with open('./models/model_30.pkl', 'bw') as file:\n",
    "      pkl.dump(model, file)\n",
    "    with open('./models/model_30_encodings.pkl', 'bw') as file:\n",
    "      pkl.dump(encodings, file)\n",
    "  else:\n",
    "    with open('./models/model_30_no_outliers.pkl', 'bw') as file:\n",
    "      pkl.dump(model, file)\n",
    "    with open('./models/model_30_no_outliers_encodings.pkl', 'bw') as file:\n",
    "      pkl.dump(encodings, file)"
   ]
  },
  {
   "cell_type": "code",
   "execution_count": 51,
   "metadata": {},
   "outputs": [
    {
     "data": {
      "text/html": [
       "<div>\n",
       "<style scoped>\n",
       "    .dataframe tbody tr th:only-of-type {\n",
       "        vertical-align: middle;\n",
       "    }\n",
       "\n",
       "    .dataframe tbody tr th {\n",
       "        vertical-align: top;\n",
       "    }\n",
       "\n",
       "    .dataframe thead th {\n",
       "        text-align: right;\n",
       "    }\n",
       "</style>\n",
       "<table border=\"1\" class=\"dataframe\">\n",
       "  <thead>\n",
       "    <tr style=\"text-align: right;\">\n",
       "      <th></th>\n",
       "      <th>file</th>\n",
       "      <th>stage</th>\n",
       "      <th>r2</th>\n",
       "      <th>mae</th>\n",
       "      <th>mse</th>\n",
       "      <th>with_outliers</th>\n",
       "    </tr>\n",
       "  </thead>\n",
       "  <tbody>\n",
       "    <tr>\n",
       "      <th>0</th>\n",
       "      <td>data_30.parquet</td>\n",
       "      <td>train</td>\n",
       "      <td>0.757366</td>\n",
       "      <td>59017.020316</td>\n",
       "      <td>1.551734e+10</td>\n",
       "      <td>True</td>\n",
       "    </tr>\n",
       "    <tr>\n",
       "      <th>0</th>\n",
       "      <td>data_30.parquet</td>\n",
       "      <td>validation</td>\n",
       "      <td>0.466674</td>\n",
       "      <td>108017.630635</td>\n",
       "      <td>2.987038e+10</td>\n",
       "      <td>True</td>\n",
       "    </tr>\n",
       "    <tr>\n",
       "      <th>0</th>\n",
       "      <td>data_30.parquet</td>\n",
       "      <td>train</td>\n",
       "      <td>0.705738</td>\n",
       "      <td>59444.936798</td>\n",
       "      <td>1.738513e+10</td>\n",
       "      <td>False</td>\n",
       "    </tr>\n",
       "    <tr>\n",
       "      <th>0</th>\n",
       "      <td>data_30.parquet</td>\n",
       "      <td>validation</td>\n",
       "      <td>0.393279</td>\n",
       "      <td>121686.476174</td>\n",
       "      <td>3.398105e+10</td>\n",
       "      <td>False</td>\n",
       "    </tr>\n",
       "  </tbody>\n",
       "</table>\n",
       "</div>"
      ],
      "text/plain": [
       "              file       stage        r2            mae           mse  \\\n",
       "0  data_30.parquet       train  0.757366   59017.020316  1.551734e+10   \n",
       "0  data_30.parquet  validation  0.466674  108017.630635  2.987038e+10   \n",
       "0  data_30.parquet       train  0.705738   59444.936798  1.738513e+10   \n",
       "0  data_30.parquet  validation  0.393279  121686.476174  3.398105e+10   \n",
       "\n",
       "  with_outliers  \n",
       "0          True  \n",
       "0          True  \n",
       "0         False  \n",
       "0         False  "
      ]
     },
     "execution_count": 51,
     "metadata": {},
     "output_type": "execute_result"
    }
   ],
   "source": [
    "df_journal"
   ]
  },
  {
   "cell_type": "code",
   "execution_count": 52,
   "metadata": {},
   "outputs": [
    {
     "name": "stderr",
     "output_type": "stream",
     "text": [
      "c:\\Users\\cuicuidev\\Desktop\\pisoscom\\venv\\lib\\site-packages\\sklearn\\base.py:1152: DataConversionWarning:\n",
      "\n",
      "A column-vector y was passed when a 1d array was expected. Please change the shape of y to (n_samples,), for example using ravel().\n",
      "\n",
      "c:\\Users\\cuicuidev\\Desktop\\pisoscom\\venv\\lib\\site-packages\\sklearn\\base.py:458: UserWarning:\n",
      "\n",
      "X has feature names, but RandomForestRegressor was fitted without feature names\n",
      "\n",
      "c:\\Users\\cuicuidev\\Desktop\\pisoscom\\venv\\lib\\site-packages\\sklearn\\base.py:1152: DataConversionWarning:\n",
      "\n",
      "A column-vector y was passed when a 1d array was expected. Please change the shape of y to (n_samples,), for example using ravel().\n",
      "\n",
      "c:\\Users\\cuicuidev\\Desktop\\pisoscom\\venv\\lib\\site-packages\\sklearn\\base.py:458: UserWarning:\n",
      "\n",
      "X has feature names, but RandomForestRegressor was fitted without feature names\n",
      "\n",
      "c:\\Users\\cuicuidev\\Desktop\\pisoscom\\venv\\lib\\site-packages\\sklearn\\base.py:1152: DataConversionWarning:\n",
      "\n",
      "A column-vector y was passed when a 1d array was expected. Please change the shape of y to (n_samples,), for example using ravel().\n",
      "\n",
      "c:\\Users\\cuicuidev\\Desktop\\pisoscom\\venv\\lib\\site-packages\\sklearn\\base.py:458: UserWarning:\n",
      "\n",
      "X has feature names, but RandomForestRegressor was fitted without feature names\n",
      "\n",
      "c:\\Users\\cuicuidev\\Desktop\\pisoscom\\venv\\lib\\site-packages\\sklearn\\base.py:1152: DataConversionWarning:\n",
      "\n",
      "A column-vector y was passed when a 1d array was expected. Please change the shape of y to (n_samples,), for example using ravel().\n",
      "\n",
      "c:\\Users\\cuicuidev\\Desktop\\pisoscom\\venv\\lib\\site-packages\\sklearn\\base.py:458: UserWarning:\n",
      "\n",
      "X has feature names, but RandomForestRegressor was fitted without feature names\n",
      "\n",
      "c:\\Users\\cuicuidev\\Desktop\\pisoscom\\venv\\lib\\site-packages\\sklearn\\base.py:1152: DataConversionWarning:\n",
      "\n",
      "A column-vector y was passed when a 1d array was expected. Please change the shape of y to (n_samples,), for example using ravel().\n",
      "\n",
      "c:\\Users\\cuicuidev\\Desktop\\pisoscom\\venv\\lib\\site-packages\\sklearn\\base.py:458: UserWarning:\n",
      "\n",
      "X has feature names, but RandomForestRegressor was fitted without feature names\n",
      "\n",
      "c:\\Users\\cuicuidev\\Desktop\\pisoscom\\venv\\lib\\site-packages\\sklearn\\base.py:1152: DataConversionWarning:\n",
      "\n",
      "A column-vector y was passed when a 1d array was expected. Please change the shape of y to (n_samples,), for example using ravel().\n",
      "\n",
      "c:\\Users\\cuicuidev\\Desktop\\pisoscom\\venv\\lib\\site-packages\\sklearn\\base.py:458: UserWarning:\n",
      "\n",
      "X has feature names, but RandomForestRegressor was fitted without feature names\n",
      "\n",
      "c:\\Users\\cuicuidev\\Desktop\\pisoscom\\venv\\lib\\site-packages\\sklearn\\base.py:1152: DataConversionWarning:\n",
      "\n",
      "A column-vector y was passed when a 1d array was expected. Please change the shape of y to (n_samples,), for example using ravel().\n",
      "\n",
      "c:\\Users\\cuicuidev\\Desktop\\pisoscom\\venv\\lib\\site-packages\\sklearn\\base.py:458: UserWarning:\n",
      "\n",
      "X has feature names, but RandomForestRegressor was fitted without feature names\n",
      "\n",
      "c:\\Users\\cuicuidev\\Desktop\\pisoscom\\venv\\lib\\site-packages\\sklearn\\base.py:1152: DataConversionWarning:\n",
      "\n",
      "A column-vector y was passed when a 1d array was expected. Please change the shape of y to (n_samples,), for example using ravel().\n",
      "\n",
      "c:\\Users\\cuicuidev\\Desktop\\pisoscom\\venv\\lib\\site-packages\\sklearn\\base.py:458: UserWarning:\n",
      "\n",
      "X has feature names, but RandomForestRegressor was fitted without feature names\n",
      "\n",
      "c:\\Users\\cuicuidev\\Desktop\\pisoscom\\venv\\lib\\site-packages\\sklearn\\base.py:1152: DataConversionWarning:\n",
      "\n",
      "A column-vector y was passed when a 1d array was expected. Please change the shape of y to (n_samples,), for example using ravel().\n",
      "\n",
      "c:\\Users\\cuicuidev\\Desktop\\pisoscom\\venv\\lib\\site-packages\\sklearn\\base.py:458: UserWarning:\n",
      "\n",
      "X has feature names, but RandomForestRegressor was fitted without feature names\n",
      "\n",
      "c:\\Users\\cuicuidev\\Desktop\\pisoscom\\venv\\lib\\site-packages\\sklearn\\base.py:1152: DataConversionWarning:\n",
      "\n",
      "A column-vector y was passed when a 1d array was expected. Please change the shape of y to (n_samples,), for example using ravel().\n",
      "\n",
      "c:\\Users\\cuicuidev\\Desktop\\pisoscom\\venv\\lib\\site-packages\\sklearn\\base.py:458: UserWarning:\n",
      "\n",
      "X has feature names, but RandomForestRegressor was fitted without feature names\n",
      "\n",
      "c:\\Users\\cuicuidev\\Desktop\\pisoscom\\venv\\lib\\site-packages\\sklearn\\base.py:1152: DataConversionWarning:\n",
      "\n",
      "A column-vector y was passed when a 1d array was expected. Please change the shape of y to (n_samples,), for example using ravel().\n",
      "\n",
      "c:\\Users\\cuicuidev\\Desktop\\pisoscom\\venv\\lib\\site-packages\\sklearn\\base.py:458: UserWarning:\n",
      "\n",
      "X has feature names, but RandomForestRegressor was fitted without feature names\n",
      "\n",
      "c:\\Users\\cuicuidev\\Desktop\\pisoscom\\venv\\lib\\site-packages\\sklearn\\base.py:1152: DataConversionWarning:\n",
      "\n",
      "A column-vector y was passed when a 1d array was expected. Please change the shape of y to (n_samples,), for example using ravel().\n",
      "\n",
      "c:\\Users\\cuicuidev\\Desktop\\pisoscom\\venv\\lib\\site-packages\\sklearn\\base.py:458: UserWarning:\n",
      "\n",
      "X has feature names, but RandomForestRegressor was fitted without feature names\n",
      "\n",
      "c:\\Users\\cuicuidev\\Desktop\\pisoscom\\venv\\lib\\site-packages\\sklearn\\base.py:1152: DataConversionWarning:\n",
      "\n",
      "A column-vector y was passed when a 1d array was expected. Please change the shape of y to (n_samples,), for example using ravel().\n",
      "\n",
      "c:\\Users\\cuicuidev\\Desktop\\pisoscom\\venv\\lib\\site-packages\\sklearn\\base.py:458: UserWarning:\n",
      "\n",
      "X has feature names, but RandomForestRegressor was fitted without feature names\n",
      "\n",
      "c:\\Users\\cuicuidev\\Desktop\\pisoscom\\venv\\lib\\site-packages\\sklearn\\base.py:1152: DataConversionWarning:\n",
      "\n",
      "A column-vector y was passed when a 1d array was expected. Please change the shape of y to (n_samples,), for example using ravel().\n",
      "\n",
      "c:\\Users\\cuicuidev\\Desktop\\pisoscom\\venv\\lib\\site-packages\\sklearn\\base.py:458: UserWarning:\n",
      "\n",
      "X has feature names, but RandomForestRegressor was fitted without feature names\n",
      "\n",
      "c:\\Users\\cuicuidev\\Desktop\\pisoscom\\venv\\lib\\site-packages\\sklearn\\base.py:1152: DataConversionWarning:\n",
      "\n",
      "A column-vector y was passed when a 1d array was expected. Please change the shape of y to (n_samples,), for example using ravel().\n",
      "\n",
      "c:\\Users\\cuicuidev\\Desktop\\pisoscom\\venv\\lib\\site-packages\\sklearn\\base.py:458: UserWarning:\n",
      "\n",
      "X has feature names, but RandomForestRegressor was fitted without feature names\n",
      "\n",
      "c:\\Users\\cuicuidev\\Desktop\\pisoscom\\venv\\lib\\site-packages\\sklearn\\base.py:1152: DataConversionWarning:\n",
      "\n",
      "A column-vector y was passed when a 1d array was expected. Please change the shape of y to (n_samples,), for example using ravel().\n",
      "\n",
      "c:\\Users\\cuicuidev\\Desktop\\pisoscom\\venv\\lib\\site-packages\\sklearn\\base.py:458: UserWarning:\n",
      "\n",
      "X has feature names, but RandomForestRegressor was fitted without feature names\n",
      "\n",
      "c:\\Users\\cuicuidev\\Desktop\\pisoscom\\venv\\lib\\site-packages\\sklearn\\base.py:1152: DataConversionWarning:\n",
      "\n",
      "A column-vector y was passed when a 1d array was expected. Please change the shape of y to (n_samples,), for example using ravel().\n",
      "\n",
      "c:\\Users\\cuicuidev\\Desktop\\pisoscom\\venv\\lib\\site-packages\\sklearn\\base.py:458: UserWarning:\n",
      "\n",
      "X has feature names, but RandomForestRegressor was fitted without feature names\n",
      "\n",
      "c:\\Users\\cuicuidev\\Desktop\\pisoscom\\venv\\lib\\site-packages\\sklearn\\base.py:1152: DataConversionWarning:\n",
      "\n",
      "A column-vector y was passed when a 1d array was expected. Please change the shape of y to (n_samples,), for example using ravel().\n",
      "\n",
      "c:\\Users\\cuicuidev\\Desktop\\pisoscom\\venv\\lib\\site-packages\\sklearn\\base.py:458: UserWarning:\n",
      "\n",
      "X has feature names, but RandomForestRegressor was fitted without feature names\n",
      "\n",
      "c:\\Users\\cuicuidev\\Desktop\\pisoscom\\venv\\lib\\site-packages\\sklearn\\base.py:1152: DataConversionWarning:\n",
      "\n",
      "A column-vector y was passed when a 1d array was expected. Please change the shape of y to (n_samples,), for example using ravel().\n",
      "\n",
      "c:\\Users\\cuicuidev\\Desktop\\pisoscom\\venv\\lib\\site-packages\\sklearn\\base.py:458: UserWarning:\n",
      "\n",
      "X has feature names, but RandomForestRegressor was fitted without feature names\n",
      "\n",
      "c:\\Users\\cuicuidev\\Desktop\\pisoscom\\venv\\lib\\site-packages\\sklearn\\base.py:1152: DataConversionWarning:\n",
      "\n",
      "A column-vector y was passed when a 1d array was expected. Please change the shape of y to (n_samples,), for example using ravel().\n",
      "\n",
      "c:\\Users\\cuicuidev\\Desktop\\pisoscom\\venv\\lib\\site-packages\\sklearn\\base.py:458: UserWarning:\n",
      "\n",
      "X has feature names, but RandomForestRegressor was fitted without feature names\n",
      "\n",
      "c:\\Users\\cuicuidev\\Desktop\\pisoscom\\venv\\lib\\site-packages\\sklearn\\base.py:1152: DataConversionWarning:\n",
      "\n",
      "A column-vector y was passed when a 1d array was expected. Please change the shape of y to (n_samples,), for example using ravel().\n",
      "\n",
      "c:\\Users\\cuicuidev\\Desktop\\pisoscom\\venv\\lib\\site-packages\\sklearn\\base.py:458: UserWarning:\n",
      "\n",
      "X has feature names, but RandomForestRegressor was fitted without feature names\n",
      "\n",
      "c:\\Users\\cuicuidev\\Desktop\\pisoscom\\venv\\lib\\site-packages\\sklearn\\base.py:1152: DataConversionWarning:\n",
      "\n",
      "A column-vector y was passed when a 1d array was expected. Please change the shape of y to (n_samples,), for example using ravel().\n",
      "\n",
      "c:\\Users\\cuicuidev\\Desktop\\pisoscom\\venv\\lib\\site-packages\\sklearn\\base.py:458: UserWarning:\n",
      "\n",
      "X has feature names, but RandomForestRegressor was fitted without feature names\n",
      "\n",
      "c:\\Users\\cuicuidev\\Desktop\\pisoscom\\venv\\lib\\site-packages\\sklearn\\base.py:1152: DataConversionWarning:\n",
      "\n",
      "A column-vector y was passed when a 1d array was expected. Please change the shape of y to (n_samples,), for example using ravel().\n",
      "\n",
      "c:\\Users\\cuicuidev\\Desktop\\pisoscom\\venv\\lib\\site-packages\\sklearn\\base.py:458: UserWarning:\n",
      "\n",
      "X has feature names, but RandomForestRegressor was fitted without feature names\n",
      "\n",
      "c:\\Users\\cuicuidev\\Desktop\\pisoscom\\venv\\lib\\site-packages\\sklearn\\base.py:1152: DataConversionWarning:\n",
      "\n",
      "A column-vector y was passed when a 1d array was expected. Please change the shape of y to (n_samples,), for example using ravel().\n",
      "\n",
      "c:\\Users\\cuicuidev\\Desktop\\pisoscom\\venv\\lib\\site-packages\\sklearn\\base.py:458: UserWarning:\n",
      "\n",
      "X has feature names, but RandomForestRegressor was fitted without feature names\n",
      "\n",
      "c:\\Users\\cuicuidev\\Desktop\\pisoscom\\venv\\lib\\site-packages\\sklearn\\base.py:1152: DataConversionWarning:\n",
      "\n",
      "A column-vector y was passed when a 1d array was expected. Please change the shape of y to (n_samples,), for example using ravel().\n",
      "\n",
      "c:\\Users\\cuicuidev\\Desktop\\pisoscom\\venv\\lib\\site-packages\\sklearn\\base.py:458: UserWarning:\n",
      "\n",
      "X has feature names, but RandomForestRegressor was fitted without feature names\n",
      "\n",
      "c:\\Users\\cuicuidev\\Desktop\\pisoscom\\venv\\lib\\site-packages\\sklearn\\base.py:1152: DataConversionWarning:\n",
      "\n",
      "A column-vector y was passed when a 1d array was expected. Please change the shape of y to (n_samples,), for example using ravel().\n",
      "\n",
      "c:\\Users\\cuicuidev\\Desktop\\pisoscom\\venv\\lib\\site-packages\\sklearn\\base.py:458: UserWarning:\n",
      "\n",
      "X has feature names, but RandomForestRegressor was fitted without feature names\n",
      "\n",
      "c:\\Users\\cuicuidev\\Desktop\\pisoscom\\venv\\lib\\site-packages\\sklearn\\base.py:1152: DataConversionWarning:\n",
      "\n",
      "A column-vector y was passed when a 1d array was expected. Please change the shape of y to (n_samples,), for example using ravel().\n",
      "\n",
      "c:\\Users\\cuicuidev\\Desktop\\pisoscom\\venv\\lib\\site-packages\\sklearn\\base.py:458: UserWarning:\n",
      "\n",
      "X has feature names, but RandomForestRegressor was fitted without feature names\n",
      "\n",
      "c:\\Users\\cuicuidev\\Desktop\\pisoscom\\venv\\lib\\site-packages\\sklearn\\base.py:1152: DataConversionWarning:\n",
      "\n",
      "A column-vector y was passed when a 1d array was expected. Please change the shape of y to (n_samples,), for example using ravel().\n",
      "\n",
      "c:\\Users\\cuicuidev\\Desktop\\pisoscom\\venv\\lib\\site-packages\\sklearn\\base.py:458: UserWarning:\n",
      "\n",
      "X has feature names, but RandomForestRegressor was fitted without feature names\n",
      "\n",
      "c:\\Users\\cuicuidev\\Desktop\\pisoscom\\venv\\lib\\site-packages\\sklearn\\base.py:1152: DataConversionWarning:\n",
      "\n",
      "A column-vector y was passed when a 1d array was expected. Please change the shape of y to (n_samples,), for example using ravel().\n",
      "\n",
      "c:\\Users\\cuicuidev\\Desktop\\pisoscom\\venv\\lib\\site-packages\\sklearn\\base.py:458: UserWarning:\n",
      "\n",
      "X has feature names, but RandomForestRegressor was fitted without feature names\n",
      "\n",
      "c:\\Users\\cuicuidev\\Desktop\\pisoscom\\venv\\lib\\site-packages\\sklearn\\base.py:1152: DataConversionWarning:\n",
      "\n",
      "A column-vector y was passed when a 1d array was expected. Please change the shape of y to (n_samples,), for example using ravel().\n",
      "\n",
      "c:\\Users\\cuicuidev\\Desktop\\pisoscom\\venv\\lib\\site-packages\\sklearn\\base.py:458: UserWarning:\n",
      "\n",
      "X has feature names, but RandomForestRegressor was fitted without feature names\n",
      "\n",
      "c:\\Users\\cuicuidev\\Desktop\\pisoscom\\venv\\lib\\site-packages\\sklearn\\base.py:1152: DataConversionWarning:\n",
      "\n",
      "A column-vector y was passed when a 1d array was expected. Please change the shape of y to (n_samples,), for example using ravel().\n",
      "\n",
      "c:\\Users\\cuicuidev\\Desktop\\pisoscom\\venv\\lib\\site-packages\\sklearn\\base.py:458: UserWarning:\n",
      "\n",
      "X has feature names, but RandomForestRegressor was fitted without feature names\n",
      "\n",
      "c:\\Users\\cuicuidev\\Desktop\\pisoscom\\venv\\lib\\site-packages\\sklearn\\base.py:1152: DataConversionWarning:\n",
      "\n",
      "A column-vector y was passed when a 1d array was expected. Please change the shape of y to (n_samples,), for example using ravel().\n",
      "\n",
      "c:\\Users\\cuicuidev\\Desktop\\pisoscom\\venv\\lib\\site-packages\\sklearn\\base.py:458: UserWarning:\n",
      "\n",
      "X has feature names, but RandomForestRegressor was fitted without feature names\n",
      "\n"
     ]
    }
   ],
   "source": [
    "# Entrenamos con y sin outliers usando el resto de archivos de la carpeta 'provinces'\n",
    "\n",
    "for boolean in with_outliers:    \n",
    "    for file in files[1:]:\n",
    "\n",
    "        df = pd.read_parquet(file)\n",
    "        file_name = file.split('\\\\')[-1]\n",
    "\n",
    "        df_validation = df.sample(frac=0.15)\n",
    "        df_train = df.reset_index()[~df.reset_index()['index'].isin(df_validation.reset_index()['index'])].drop(['index'], axis=1)\n",
    "\n",
    "        if boolean == False:\n",
    "            df_train = outliersFilter(df = df_train, min_price = 50_000, max_price = 5_000_000, max_baths = 15, max_surface = 1_000)\n",
    "\n",
    "        df_cat, encodings = frequencyEncoding(df_train[['state']])\n",
    "        df_train = pd.concat([df_train._get_numeric_data(), df_cat], axis = 1)\n",
    "\n",
    "        df_train = df_train[~df_train['price'].isna()].dropna()\n",
    "\n",
    "        X = df_train.drop(['price'], axis = 1)\n",
    "        y = df_train[['price']]\n",
    "\n",
    "        imputer = KNNImputer(n_neighbors=3)\n",
    "        X = imputer.fit_transform(X)\n",
    "        X_train, X_test, y_train, y_test = train_test_split(X, y, test_size = 0.2, random_state = 42)\n",
    "        model = RandomForestRegressor(n_jobs = -1, random_state = 42, n_estimators = 100)\n",
    "        model.fit(X_train, y_train)\n",
    "        yhat = model.predict(X_test)\n",
    "        df_journal = pd.concat([df_journal, pd.DataFrame([[file_name,\n",
    "                                                        'train',\n",
    "                                                        r2_score(y_test, yhat),\n",
    "                                                        mean_absolute_error(y_test, yhat),\n",
    "                                                        mean_squared_error(y_test, yhat),\n",
    "                                                        boolean]],\n",
    "                                                        columns = ['file', 'stage', 'r2', 'mae', 'mse', 'with_outliers'])])\n",
    "        \n",
    "        df_validation['state'] = df_validation['state'].replace(encodings['state'])\n",
    "        df_validation = df_validation.dropna()\n",
    "\n",
    "        X_val = df_validation.drop(['price'], axis = 1)\n",
    "        y_val = df_validation[['price']]\n",
    "\n",
    "        yhat = model.predict(X_val)\n",
    "\n",
    "        df_journal = pd.concat([df_journal, pd.DataFrame([[file_name,\n",
    "                                                        'validation',\n",
    "                                                        r2_score(y_val, yhat),\n",
    "                                                        mean_absolute_error(y_val, yhat),\n",
    "                                                        mean_squared_error(y_val, yhat),\n",
    "                                                        boolean]],\n",
    "                                                        columns = ['file', 'stage', 'r2', 'mae', 'mse', 'with_outliers'])])\n",
    "        \n",
    "        model_name = file_name.split('.')[0][5:]\n",
    "        \n",
    "        if boolean == True:\n",
    "            with open(f'./models/model_{model_name}.pkl', 'bw') as file:\n",
    "                pkl.dump(model, file)\n",
    "            with open(f'./models/model_{model_name}_encodings.pkl', 'bw') as file:\n",
    "                pkl.dump(encodings, file)\n",
    "        else:\n",
    "            with open(f'./models/model_{model_name}_no_outliers.pkl', 'bw') as file:\n",
    "                pkl.dump(model, file)\n",
    "            with open(f'./models/model_{model_name}_no_outliers_encodings.pkl', 'bw') as file:\n",
    "                pkl.dump(encodings, file)"
   ]
  },
  {
   "cell_type": "code",
   "execution_count": 53,
   "metadata": {},
   "outputs": [
    {
     "data": {
      "text/html": [
       "<div>\n",
       "<style scoped>\n",
       "    .dataframe tbody tr th:only-of-type {\n",
       "        vertical-align: middle;\n",
       "    }\n",
       "\n",
       "    .dataframe tbody tr th {\n",
       "        vertical-align: top;\n",
       "    }\n",
       "\n",
       "    .dataframe thead th {\n",
       "        text-align: right;\n",
       "    }\n",
       "</style>\n",
       "<table border=\"1\" class=\"dataframe\">\n",
       "  <thead>\n",
       "    <tr style=\"text-align: right;\">\n",
       "      <th></th>\n",
       "      <th>file</th>\n",
       "      <th>stage</th>\n",
       "      <th>r2</th>\n",
       "      <th>mae</th>\n",
       "      <th>mse</th>\n",
       "      <th>with_outliers</th>\n",
       "    </tr>\n",
       "  </thead>\n",
       "  <tbody>\n",
       "    <tr>\n",
       "      <th>0</th>\n",
       "      <td>data_30.parquet</td>\n",
       "      <td>train</td>\n",
       "      <td>0.757366</td>\n",
       "      <td>59017.020316</td>\n",
       "      <td>1.551734e+10</td>\n",
       "      <td>True</td>\n",
       "    </tr>\n",
       "    <tr>\n",
       "      <th>1</th>\n",
       "      <td>data_30.parquet</td>\n",
       "      <td>validation</td>\n",
       "      <td>0.466674</td>\n",
       "      <td>108017.630635</td>\n",
       "      <td>2.987038e+10</td>\n",
       "      <td>True</td>\n",
       "    </tr>\n",
       "    <tr>\n",
       "      <th>2</th>\n",
       "      <td>data_30.parquet</td>\n",
       "      <td>train</td>\n",
       "      <td>0.705738</td>\n",
       "      <td>59444.936798</td>\n",
       "      <td>1.738513e+10</td>\n",
       "      <td>False</td>\n",
       "    </tr>\n",
       "    <tr>\n",
       "      <th>3</th>\n",
       "      <td>data_30.parquet</td>\n",
       "      <td>validation</td>\n",
       "      <td>0.393279</td>\n",
       "      <td>121686.476174</td>\n",
       "      <td>3.398105e+10</td>\n",
       "      <td>False</td>\n",
       "    </tr>\n",
       "    <tr>\n",
       "      <th>4</th>\n",
       "      <td>data_Alacant.parquet</td>\n",
       "      <td>train</td>\n",
       "      <td>0.718427</td>\n",
       "      <td>99393.715504</td>\n",
       "      <td>7.921714e+10</td>\n",
       "      <td>True</td>\n",
       "    </tr>\n",
       "    <tr>\n",
       "      <th>...</th>\n",
       "      <td>...</td>\n",
       "      <td>...</td>\n",
       "      <td>...</td>\n",
       "      <td>...</td>\n",
       "      <td>...</td>\n",
       "      <td>...</td>\n",
       "    </tr>\n",
       "    <tr>\n",
       "      <th>63</th>\n",
       "      <td>data_Sevilla.parquet</td>\n",
       "      <td>validation</td>\n",
       "      <td>0.688441</td>\n",
       "      <td>46358.496122</td>\n",
       "      <td>4.879038e+09</td>\n",
       "      <td>False</td>\n",
       "    </tr>\n",
       "    <tr>\n",
       "      <th>64</th>\n",
       "      <td>data_Tarragona.parquet</td>\n",
       "      <td>train</td>\n",
       "      <td>0.622404</td>\n",
       "      <td>57703.003972</td>\n",
       "      <td>9.618352e+09</td>\n",
       "      <td>False</td>\n",
       "    </tr>\n",
       "    <tr>\n",
       "      <th>65</th>\n",
       "      <td>data_Tarragona.parquet</td>\n",
       "      <td>validation</td>\n",
       "      <td>0.619216</td>\n",
       "      <td>62230.287152</td>\n",
       "      <td>1.190529e+10</td>\n",
       "      <td>False</td>\n",
       "    </tr>\n",
       "    <tr>\n",
       "      <th>66</th>\n",
       "      <td>data_València.parquet</td>\n",
       "      <td>train</td>\n",
       "      <td>0.749444</td>\n",
       "      <td>60495.172295</td>\n",
       "      <td>1.078191e+10</td>\n",
       "      <td>False</td>\n",
       "    </tr>\n",
       "    <tr>\n",
       "      <th>67</th>\n",
       "      <td>data_València.parquet</td>\n",
       "      <td>validation</td>\n",
       "      <td>0.745406</td>\n",
       "      <td>57066.124516</td>\n",
       "      <td>1.147163e+10</td>\n",
       "      <td>False</td>\n",
       "    </tr>\n",
       "  </tbody>\n",
       "</table>\n",
       "<p>68 rows × 6 columns</p>\n",
       "</div>"
      ],
      "text/plain": [
       "                      file       stage        r2            mae           mse  \\\n",
       "0          data_30.parquet       train  0.757366   59017.020316  1.551734e+10   \n",
       "1          data_30.parquet  validation  0.466674  108017.630635  2.987038e+10   \n",
       "2          data_30.parquet       train  0.705738   59444.936798  1.738513e+10   \n",
       "3          data_30.parquet  validation  0.393279  121686.476174  3.398105e+10   \n",
       "4     data_Alacant.parquet       train  0.718427   99393.715504  7.921714e+10   \n",
       "..                     ...         ...       ...            ...           ...   \n",
       "63    data_Sevilla.parquet  validation  0.688441   46358.496122  4.879038e+09   \n",
       "64  data_Tarragona.parquet       train  0.622404   57703.003972  9.618352e+09   \n",
       "65  data_Tarragona.parquet  validation  0.619216   62230.287152  1.190529e+10   \n",
       "66   data_València.parquet       train  0.749444   60495.172295  1.078191e+10   \n",
       "67   data_València.parquet  validation  0.745406   57066.124516  1.147163e+10   \n",
       "\n",
       "   with_outliers  \n",
       "0           True  \n",
       "1           True  \n",
       "2          False  \n",
       "3          False  \n",
       "4           True  \n",
       "..           ...  \n",
       "63         False  \n",
       "64         False  \n",
       "65         False  \n",
       "66         False  \n",
       "67         False  \n",
       "\n",
       "[68 rows x 6 columns]"
      ]
     },
     "execution_count": 53,
     "metadata": {},
     "output_type": "execute_result"
    }
   ],
   "source": [
    "df_journal = df_journal.reset_index(drop=True)\n",
    "df_journal"
   ]
  },
  {
   "cell_type": "code",
   "execution_count": 32,
   "metadata": {},
   "outputs": [
    {
     "data": {
      "text/html": [
       "<div>\n",
       "<style scoped>\n",
       "    .dataframe tbody tr th:only-of-type {\n",
       "        vertical-align: middle;\n",
       "    }\n",
       "\n",
       "    .dataframe tbody tr th {\n",
       "        vertical-align: top;\n",
       "    }\n",
       "\n",
       "    .dataframe thead th {\n",
       "        text-align: right;\n",
       "    }\n",
       "</style>\n",
       "<table border=\"1\" class=\"dataframe\">\n",
       "  <thead>\n",
       "    <tr style=\"text-align: right;\">\n",
       "      <th></th>\n",
       "      <th>file</th>\n",
       "      <th>stage</th>\n",
       "      <th>r2</th>\n",
       "      <th>mae</th>\n",
       "      <th>mse</th>\n",
       "      <th>with_outliers</th>\n",
       "    </tr>\n",
       "  </thead>\n",
       "  <tbody>\n",
       "    <tr>\n",
       "      <th>24</th>\n",
       "      <td>data_madrid.parquet</td>\n",
       "      <td>train</td>\n",
       "      <td>0.806927</td>\n",
       "      <td>119261.379792</td>\n",
       "      <td>8.373202e+10</td>\n",
       "      <td>True</td>\n",
       "    </tr>\n",
       "    <tr>\n",
       "      <th>25</th>\n",
       "      <td>data_madrid.parquet</td>\n",
       "      <td>validation</td>\n",
       "      <td>0.722236</td>\n",
       "      <td>153009.245024</td>\n",
       "      <td>1.846798e+11</td>\n",
       "      <td>True</td>\n",
       "    </tr>\n",
       "    <tr>\n",
       "      <th>62</th>\n",
       "      <td>data_madrid.parquet</td>\n",
       "      <td>train</td>\n",
       "      <td>0.871971</td>\n",
       "      <td>93867.218049</td>\n",
       "      <td>3.740431e+10</td>\n",
       "      <td>False</td>\n",
       "    </tr>\n",
       "    <tr>\n",
       "      <th>63</th>\n",
       "      <td>data_madrid.parquet</td>\n",
       "      <td>validation</td>\n",
       "      <td>0.821289</td>\n",
       "      <td>110950.715544</td>\n",
       "      <td>7.186232e+10</td>\n",
       "      <td>False</td>\n",
       "    </tr>\n",
       "  </tbody>\n",
       "</table>\n",
       "</div>"
      ],
      "text/plain": [
       "                   file       stage        r2            mae           mse  \\\n",
       "24  data_madrid.parquet       train  0.806927  119261.379792  8.373202e+10   \n",
       "25  data_madrid.parquet  validation  0.722236  153009.245024  1.846798e+11   \n",
       "62  data_madrid.parquet       train  0.871971   93867.218049  3.740431e+10   \n",
       "63  data_madrid.parquet  validation  0.821289  110950.715544  7.186232e+10   \n",
       "\n",
       "   with_outliers  \n",
       "24          True  \n",
       "25          True  \n",
       "62         False  \n",
       "63         False  "
      ]
     },
     "execution_count": 32,
     "metadata": {},
     "output_type": "execute_result"
    }
   ],
   "source": [
    "df_journal[df_journal['file']=='data_madrid.parquet']"
   ]
  },
  {
   "cell_type": "code",
   "execution_count": 33,
   "metadata": {},
   "outputs": [],
   "source": [
    "df_journal.to_csv('./models/journal.csv', sep=',', index=False)"
   ]
  },
  {
   "cell_type": "code",
   "execution_count": null,
   "metadata": {},
   "outputs": [],
   "source": []
  }
 ],
 "metadata": {
  "kernelspec": {
   "display_name": "venv",
   "language": "python",
   "name": "python3"
  },
  "language_info": {
   "codemirror_mode": {
    "name": "ipython",
    "version": 3
   },
   "file_extension": ".py",
   "mimetype": "text/x-python",
   "name": "python",
   "nbconvert_exporter": "python",
   "pygments_lexer": "ipython3",
   "version": "3.10.11"
  }
 },
 "nbformat": 4,
 "nbformat_minor": 2
}
