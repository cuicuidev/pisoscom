{
 "cells": [
  {
   "cell_type": "markdown",
   "metadata": {},
   "source": [
    "# PREPROCESSING"
   ]
  },
  {
   "cell_type": "code",
   "execution_count": 25,
   "metadata": {},
   "outputs": [],
   "source": [
    "import pandas as pd\n",
    "import numpy as np\n",
    "import ast\n",
    "\n",
    "from glob import glob\n",
    "import pickle as pkl\n",
    "\n",
    "from sklearn.feature_extraction.text import TfidfVectorizer\n",
    "from sklearn.cluster import KMeans\n",
    "\n",
    "from sklearn.ensemble import RandomForestRegressor\n",
    "from sklearn.tree import DecisionTreeRegressor\n",
    "from sklearn.linear_model import LinearRegression\n",
    "from sklearn.neighbors import KNeighborsRegressor\n",
    "from sklearn.neighbors import RadiusNeighborsRegressor\n",
    "from sklearn.svm import SVR\n",
    "from sklearn.impute import KNNImputer\n",
    "from sklearn.model_selection import train_test_split\n",
    "from sklearn.preprocessing import MinMaxScaler\n",
    "from sklearn.metrics import r2_score, mean_squared_error, mean_absolute_error\n",
    "\n",
    "from processing.parsing import *\n",
    "from processing.encodings import *"
   ]
  },
  {
   "cell_type": "code",
   "execution_count": 2,
   "metadata": {},
   "outputs": [],
   "source": [
    "df_ = pd.read_parquet('processed_data/tatarabuela.parquet')\n",
    "df_ = df_[['price', 'lat', 'lng', 'characteristics', 'agency', 'updated', 'timestamp', 'province']].dropna()\n",
    "df_churro = freeChurro(df_)\n",
    "df = pd.concat([df_.reset_index(drop=True), df_churro], axis = 1)\n",
    "df.drop('characteristics', axis = 1, inplace = True)"
   ]
  },
  {
   "cell_type": "code",
   "execution_count": 3,
   "metadata": {},
   "outputs": [],
   "source": [
    "def tryParseM2(obj):\n",
    "    try:\n",
    "        if 'm²' in obj:\n",
    "            return float(obj[:-2])\n",
    "        return float(''.join(obj.split('.')))\n",
    "    except:\n",
    "        return np.nan\n",
    "\n",
    "# df['Superficie construida'].apply(lambda x : x if pd.isna(x) else tryParseM2(x))"
   ]
  },
  {
   "cell_type": "code",
   "execution_count": 4,
   "metadata": {},
   "outputs": [],
   "source": [
    "df.Baños = df.Baños.astype(float)\n",
    "df['Superficie construida'] = df['Superficie construida'].apply(lambda x : x if pd.isna(x) else tryParseM2(x))\n",
    "\n",
    "df['bathrooms'] = df['Baños']\n",
    "df['surface'] = df['Superficie construida']\n",
    "\n",
    "df.drop(['Superficie construida', 'Baños'], axis=1, inplace=True)"
   ]
  },
  {
   "cell_type": "code",
   "execution_count": 5,
   "metadata": {},
   "outputs": [],
   "source": [
    "df = df[['price', 'lat', 'lng', 'Habitaciones', 'Jardín', 'Gastos de comunidad', 'Antigüedad', 'Superficie útil', 'Ascensor', 'Garaje', 'Conservación', 'agency', 'updated', 'timestamp', 'surface', 'bathrooms', 'province']]"
   ]
  },
  {
   "cell_type": "code",
   "execution_count": 6,
   "metadata": {},
   "outputs": [
    {
     "data": {
      "text/html": [
       "<div>\n",
       "<style scoped>\n",
       "    .dataframe tbody tr th:only-of-type {\n",
       "        vertical-align: middle;\n",
       "    }\n",
       "\n",
       "    .dataframe tbody tr th {\n",
       "        vertical-align: top;\n",
       "    }\n",
       "\n",
       "    .dataframe thead th {\n",
       "        text-align: right;\n",
       "    }\n",
       "</style>\n",
       "<table border=\"1\" class=\"dataframe\">\n",
       "  <thead>\n",
       "    <tr style=\"text-align: right;\">\n",
       "      <th></th>\n",
       "      <th>price</th>\n",
       "      <th>lat</th>\n",
       "      <th>lng</th>\n",
       "      <th>Habitaciones</th>\n",
       "      <th>Jardín</th>\n",
       "      <th>Gastos de comunidad</th>\n",
       "      <th>Antigüedad</th>\n",
       "      <th>Superficie útil</th>\n",
       "      <th>Ascensor</th>\n",
       "      <th>Garaje</th>\n",
       "      <th>Conservación</th>\n",
       "      <th>agency</th>\n",
       "      <th>updated</th>\n",
       "      <th>timestamp</th>\n",
       "      <th>surface</th>\n",
       "      <th>bathrooms</th>\n",
       "      <th>province</th>\n",
       "    </tr>\n",
       "  </thead>\n",
       "  <tbody>\n",
       "    <tr>\n",
       "      <th>0</th>\n",
       "      <td>75000.0</td>\n",
       "      <td>38.628784</td>\n",
       "      <td>-0.761397</td>\n",
       "      <td>2</td>\n",
       "      <td>NaN</td>\n",
       "      <td>NaN</td>\n",
       "      <td>NaN</td>\n",
       "      <td>72 m²</td>\n",
       "      <td>Ascensor</td>\n",
       "      <td>NaN</td>\n",
       "      <td>NaN</td>\n",
       "      <td>Inmuebles de Topbrokers</td>\n",
       "      <td>1.673392e+09</td>\n",
       "      <td>1.699187e+15</td>\n",
       "      <td>76.0</td>\n",
       "      <td>1.0</td>\n",
       "      <td>alicante</td>\n",
       "    </tr>\n",
       "    <tr>\n",
       "      <th>1</th>\n",
       "      <td>56000.0</td>\n",
       "      <td>38.535113</td>\n",
       "      <td>-0.821114</td>\n",
       "      <td>3</td>\n",
       "      <td>NaN</td>\n",
       "      <td>NaN</td>\n",
       "      <td>Entre 20 y 30 años</td>\n",
       "      <td>96 m²</td>\n",
       "      <td>NaN</td>\n",
       "      <td>NaN</td>\n",
       "      <td>A reformar</td>\n",
       "      <td>Inmuebles de CICLOACTIVOS S.L.</td>\n",
       "      <td>1.673997e+09</td>\n",
       "      <td>1.699187e+15</td>\n",
       "      <td>114.0</td>\n",
       "      <td>2.0</td>\n",
       "      <td>alicante</td>\n",
       "    </tr>\n",
       "    <tr>\n",
       "      <th>2</th>\n",
       "      <td>39800.0</td>\n",
       "      <td>38.631641</td>\n",
       "      <td>-0.860810</td>\n",
       "      <td>2</td>\n",
       "      <td>NaN</td>\n",
       "      <td>NaN</td>\n",
       "      <td>NaN</td>\n",
       "      <td>61 m²</td>\n",
       "      <td>NaN</td>\n",
       "      <td>NaN</td>\n",
       "      <td>NaN</td>\n",
       "      <td>Inmuebles de ALTAMIRA</td>\n",
       "      <td>1.673133e+09</td>\n",
       "      <td>1.699187e+15</td>\n",
       "      <td>82.0</td>\n",
       "      <td>1.0</td>\n",
       "      <td>alicante</td>\n",
       "    </tr>\n",
       "    <tr>\n",
       "      <th>3</th>\n",
       "      <td>119500.0</td>\n",
       "      <td>38.537183</td>\n",
       "      <td>-0.817027</td>\n",
       "      <td>5</td>\n",
       "      <td>NaN</td>\n",
       "      <td>NaN</td>\n",
       "      <td>NaN</td>\n",
       "      <td>220 m²</td>\n",
       "      <td>NaN</td>\n",
       "      <td>NaN</td>\n",
       "      <td>En buen estado</td>\n",
       "      <td>Inmuebles de Grupo Ideas Sax</td>\n",
       "      <td>1.674170e+09</td>\n",
       "      <td>1.699187e+15</td>\n",
       "      <td>220.0</td>\n",
       "      <td>3.0</td>\n",
       "      <td>alicante</td>\n",
       "    </tr>\n",
       "    <tr>\n",
       "      <th>4</th>\n",
       "      <td>103000.0</td>\n",
       "      <td>38.631503</td>\n",
       "      <td>-0.765994</td>\n",
       "      <td>4</td>\n",
       "      <td>NaN</td>\n",
       "      <td>NaN</td>\n",
       "      <td>NaN</td>\n",
       "      <td>150 m²</td>\n",
       "      <td>NaN</td>\n",
       "      <td>NaN</td>\n",
       "      <td>NaN</td>\n",
       "      <td>Inmuebles de Quo Real Estate</td>\n",
       "      <td>1.672701e+09</td>\n",
       "      <td>1.699187e+15</td>\n",
       "      <td>170.0</td>\n",
       "      <td>2.0</td>\n",
       "      <td>alicante</td>\n",
       "    </tr>\n",
       "    <tr>\n",
       "      <th>...</th>\n",
       "      <td>...</td>\n",
       "      <td>...</td>\n",
       "      <td>...</td>\n",
       "      <td>...</td>\n",
       "      <td>...</td>\n",
       "      <td>...</td>\n",
       "      <td>...</td>\n",
       "      <td>...</td>\n",
       "      <td>...</td>\n",
       "      <td>...</td>\n",
       "      <td>...</td>\n",
       "      <td>...</td>\n",
       "      <td>...</td>\n",
       "      <td>...</td>\n",
       "      <td>...</td>\n",
       "      <td>...</td>\n",
       "      <td>...</td>\n",
       "    </tr>\n",
       "    <tr>\n",
       "      <th>276087</th>\n",
       "      <td>69000.0</td>\n",
       "      <td>41.599972</td>\n",
       "      <td>-1.281389</td>\n",
       "      <td>10</td>\n",
       "      <td>NaN</td>\n",
       "      <td>NaN</td>\n",
       "      <td>NaN</td>\n",
       "      <td>290 m²</td>\n",
       "      <td>NaN</td>\n",
       "      <td>1</td>\n",
       "      <td>NaN</td>\n",
       "      <td>Inmuebles de ZARADELTA</td>\n",
       "      <td>1.674947e+09</td>\n",
       "      <td>1.699336e+15</td>\n",
       "      <td>302.0</td>\n",
       "      <td>3.0</td>\n",
       "      <td>zaragoza</td>\n",
       "    </tr>\n",
       "    <tr>\n",
       "      <th>276088</th>\n",
       "      <td>256800.0</td>\n",
       "      <td>41.482034</td>\n",
       "      <td>-1.373726</td>\n",
       "      <td>4</td>\n",
       "      <td>NaN</td>\n",
       "      <td>NaN</td>\n",
       "      <td>NaN</td>\n",
       "      <td>215 m²</td>\n",
       "      <td>NaN</td>\n",
       "      <td>NaN</td>\n",
       "      <td>NaN</td>\n",
       "      <td>Inmuebles de GTI ZARAGOZA</td>\n",
       "      <td>1.672960e+09</td>\n",
       "      <td>1.699336e+14</td>\n",
       "      <td>236.0</td>\n",
       "      <td>6.0</td>\n",
       "      <td>zaragoza</td>\n",
       "    </tr>\n",
       "    <tr>\n",
       "      <th>276089</th>\n",
       "      <td>105000.0</td>\n",
       "      <td>41.578195</td>\n",
       "      <td>-1.116482</td>\n",
       "      <td>NaN</td>\n",
       "      <td>NaN</td>\n",
       "      <td>NaN</td>\n",
       "      <td>NaN</td>\n",
       "      <td>NaN</td>\n",
       "      <td>NaN</td>\n",
       "      <td>NaN</td>\n",
       "      <td>A estrenar</td>\n",
       "      <td>Inmuebles de Aliseda Inmobiliaria</td>\n",
       "      <td>1.674343e+09</td>\n",
       "      <td>1.699336e+15</td>\n",
       "      <td>76.0</td>\n",
       "      <td>NaN</td>\n",
       "      <td>zaragoza</td>\n",
       "    </tr>\n",
       "    <tr>\n",
       "      <th>276090</th>\n",
       "      <td>89000.0</td>\n",
       "      <td>41.483506</td>\n",
       "      <td>-1.371575</td>\n",
       "      <td>4</td>\n",
       "      <td>NaN</td>\n",
       "      <td>NaN</td>\n",
       "      <td>NaN</td>\n",
       "      <td>100 m²</td>\n",
       "      <td>NaN</td>\n",
       "      <td>NaN</td>\n",
       "      <td>NaN</td>\n",
       "      <td>Inmuebles de INSERCONS EJEA DE LOS CABALLEROS</td>\n",
       "      <td>1.673997e+09</td>\n",
       "      <td>1.699336e+15</td>\n",
       "      <td>113.0</td>\n",
       "      <td>1.0</td>\n",
       "      <td>zaragoza</td>\n",
       "    </tr>\n",
       "    <tr>\n",
       "      <th>276091</th>\n",
       "      <td>250395.0</td>\n",
       "      <td>41.483751</td>\n",
       "      <td>-1.370993</td>\n",
       "      <td>4</td>\n",
       "      <td>NaN</td>\n",
       "      <td>NaN</td>\n",
       "      <td>NaN</td>\n",
       "      <td>NaN</td>\n",
       "      <td>NaN</td>\n",
       "      <td>NaN</td>\n",
       "      <td>NaN</td>\n",
       "      <td>Inmuebles de Aliseda Inmobiliaria</td>\n",
       "      <td>1.672787e+09</td>\n",
       "      <td>1.699336e+15</td>\n",
       "      <td>215.0</td>\n",
       "      <td>6.0</td>\n",
       "      <td>zaragoza</td>\n",
       "    </tr>\n",
       "  </tbody>\n",
       "</table>\n",
       "<p>276092 rows × 17 columns</p>\n",
       "</div>"
      ],
      "text/plain": [
       "           price        lat       lng Habitaciones Jardín Gastos de comunidad  \\\n",
       "0        75000.0  38.628784 -0.761397            2    NaN                 NaN   \n",
       "1        56000.0  38.535113 -0.821114            3    NaN                 NaN   \n",
       "2        39800.0  38.631641 -0.860810            2    NaN                 NaN   \n",
       "3       119500.0  38.537183 -0.817027            5    NaN                 NaN   \n",
       "4       103000.0  38.631503 -0.765994            4    NaN                 NaN   \n",
       "...          ...        ...       ...          ...    ...                 ...   \n",
       "276087   69000.0  41.599972 -1.281389           10    NaN                 NaN   \n",
       "276088  256800.0  41.482034 -1.373726            4    NaN                 NaN   \n",
       "276089  105000.0  41.578195 -1.116482          NaN    NaN                 NaN   \n",
       "276090   89000.0  41.483506 -1.371575            4    NaN                 NaN   \n",
       "276091  250395.0  41.483751 -1.370993            4    NaN                 NaN   \n",
       "\n",
       "                 Antigüedad Superficie útil  Ascensor Garaje     Conservación  \\\n",
       "0                       NaN           72 m²  Ascensor    NaN              NaN   \n",
       "1        Entre 20 y 30 años           96 m²       NaN    NaN       A reformar   \n",
       "2                       NaN           61 m²       NaN    NaN              NaN   \n",
       "3                       NaN          220 m²       NaN    NaN   En buen estado   \n",
       "4                       NaN          150 m²       NaN    NaN              NaN   \n",
       "...                     ...             ...       ...    ...              ...   \n",
       "276087                  NaN          290 m²       NaN      1              NaN   \n",
       "276088                  NaN          215 m²       NaN    NaN              NaN   \n",
       "276089                  NaN             NaN       NaN    NaN       A estrenar   \n",
       "276090                  NaN          100 m²       NaN    NaN              NaN   \n",
       "276091                  NaN             NaN       NaN    NaN              NaN   \n",
       "\n",
       "                                               agency       updated  \\\n",
       "0                             Inmuebles de Topbrokers  1.673392e+09   \n",
       "1                      Inmuebles de CICLOACTIVOS S.L.  1.673997e+09   \n",
       "2                               Inmuebles de ALTAMIRA  1.673133e+09   \n",
       "3                        Inmuebles de Grupo Ideas Sax  1.674170e+09   \n",
       "4                        Inmuebles de Quo Real Estate  1.672701e+09   \n",
       "...                                               ...           ...   \n",
       "276087                         Inmuebles de ZARADELTA  1.674947e+09   \n",
       "276088                      Inmuebles de GTI ZARAGOZA  1.672960e+09   \n",
       "276089              Inmuebles de Aliseda Inmobiliaria  1.674343e+09   \n",
       "276090  Inmuebles de INSERCONS EJEA DE LOS CABALLEROS  1.673997e+09   \n",
       "276091              Inmuebles de Aliseda Inmobiliaria  1.672787e+09   \n",
       "\n",
       "           timestamp  surface  bathrooms  province  \n",
       "0       1.699187e+15     76.0        1.0  alicante  \n",
       "1       1.699187e+15    114.0        2.0  alicante  \n",
       "2       1.699187e+15     82.0        1.0  alicante  \n",
       "3       1.699187e+15    220.0        3.0  alicante  \n",
       "4       1.699187e+15    170.0        2.0  alicante  \n",
       "...              ...      ...        ...       ...  \n",
       "276087  1.699336e+15    302.0        3.0  zaragoza  \n",
       "276088  1.699336e+14    236.0        6.0  zaragoza  \n",
       "276089  1.699336e+15     76.0        NaN  zaragoza  \n",
       "276090  1.699336e+15    113.0        1.0  zaragoza  \n",
       "276091  1.699336e+15    215.0        6.0  zaragoza  \n",
       "\n",
       "[276092 rows x 17 columns]"
      ]
     },
     "execution_count": 6,
     "metadata": {},
     "output_type": "execute_result"
    }
   ],
   "source": [
    "df"
   ]
  },
  {
   "cell_type": "code",
   "execution_count": 7,
   "metadata": {},
   "outputs": [],
   "source": [
    "df['rooms'] = df['Habitaciones']\n",
    "df = df.drop('Habitaciones', axis = 1)\n",
    "\n",
    "df['garden'] = df['Jardín']\n",
    "df = df.drop('Jardín', axis = 1)\n",
    "\n",
    "df['community_expenses'] = df['Gastos de comunidad']\n",
    "df = df.drop('Gastos de comunidad', axis = 1)\n",
    "\n",
    "df['age'] = df['Antigüedad']\n",
    "df = df.drop('Antigüedad', axis = 1)\n",
    "\n",
    "df['useful_surface'] = df['Superficie útil']\n",
    "df = df.drop('Superficie útil', axis = 1)\n",
    "\n",
    "df['elevator'] = df['Ascensor']\n",
    "df = df.drop('Ascensor', axis = 1)\n",
    "\n",
    "df['garage'] = df['Garaje']\n",
    "df = df.drop('Garaje', axis = 1)\n",
    "\n",
    "df['state'] = df['Conservación']\n",
    "df = df.drop('Conservación', axis = 1)"
   ]
  },
  {
   "cell_type": "code",
   "execution_count": 8,
   "metadata": {},
   "outputs": [],
   "source": [
    "df = df.drop(['agency', 'updated', 'timestamp', 'community_expenses'], axis = 1)"
   ]
  },
  {
   "cell_type": "code",
   "execution_count": 9,
   "metadata": {},
   "outputs": [],
   "source": [
    "df.rooms = df.rooms.astype(float)"
   ]
  },
  {
   "cell_type": "code",
   "execution_count": 10,
   "metadata": {},
   "outputs": [],
   "source": [
    "df.garden = df.garden.fillna(False).apply(lambda x: True if x else False)"
   ]
  },
  {
   "cell_type": "code",
   "execution_count": 11,
   "metadata": {},
   "outputs": [],
   "source": [
    "age_col = df['age'].unique()\n",
    "ages = {' Menos de 5 años': 0,\n",
    "                ' Entre 5 y 10 años' : 5,\n",
    "                ' Entre 10 y 20 años' : 10,\n",
    "                ' Entre 20 y 30 años' : 20,\n",
    "                ' Entre 30 y 50 años' : 30,\n",
    "                ' Más de 50 años': 50,}"
   ]
  },
  {
   "cell_type": "code",
   "execution_count": 12,
   "metadata": {},
   "outputs": [],
   "source": [
    "df['age'] = df['age'].replace(ages)"
   ]
  },
  {
   "cell_type": "code",
   "execution_count": 13,
   "metadata": {},
   "outputs": [],
   "source": [
    "df['useful_surface'] = df['useful_surface'].apply(lambda x : x if pd.isna(x) else tryParseM2(x))"
   ]
  },
  {
   "cell_type": "code",
   "execution_count": 14,
   "metadata": {},
   "outputs": [],
   "source": [
    "df.elevator = df.elevator.fillna(False).apply(lambda x: True if x else False)"
   ]
  },
  {
   "cell_type": "code",
   "execution_count": 15,
   "metadata": {},
   "outputs": [],
   "source": [
    "df.garage = df.garage.fillna(False).apply(lambda x: True if x else False)"
   ]
  },
  {
   "cell_type": "code",
   "execution_count": 16,
   "metadata": {},
   "outputs": [],
   "source": [
    "df_sample = df.sample(round(df.shape[0]*0.15), random_state=42)\n",
    "df_ = df.reset_index()[~df.reset_index()['index'].isin(df_sample.reset_index()['index'])].drop(['index'], axis=1)"
   ]
  },
  {
   "cell_type": "code",
   "execution_count": 17,
   "metadata": {},
   "outputs": [],
   "source": [
    "criba = []\n",
    "total_provinces = len(df.province.unique())\n",
    "for i in range(1,20_000,1000):\n",
    "    provinces = [province for province in df.province.unique() if len(df[df['province'] == province]) > i]\n",
    "    percentage = 1 - df[df['province'].isin(provinces)].shape[0] / df.shape[0]\n",
    "    n_models = len(provinces)/total_provinces\n",
    "    criba.append(tuple([percentage, n_models]))"
   ]
  },
  {
   "cell_type": "code",
   "execution_count": 18,
   "metadata": {},
   "outputs": [
    {
     "data": {
      "application/vnd.plotly.v1+json": {
       "config": {
        "plotlyServerURL": "https://plot.ly"
       },
       "data": [
        {
         "hovertemplate": "variable=0<br>index=%{x}<br>value=%{y}<extra></extra>",
         "legendgroup": "0",
         "line": {
          "color": "#636efa",
          "dash": "solid"
         },
         "marker": {
          "symbol": "circle"
         },
         "mode": "lines",
         "name": "0",
         "orientation": "v",
         "showlegend": true,
         "type": "scatter",
         "x": [
          0,
          1,
          2,
          3,
          4,
          5,
          6,
          7,
          8,
          9,
          10,
          11,
          12,
          13,
          14,
          15,
          16,
          17,
          18,
          19
         ],
         "xaxis": "x",
         "y": [
          0.000007243962157565953,
          0.03282963649797899,
          0.07051634962258957,
          0.16544122973501585,
          0.25400591107312054,
          0.30436231401127156,
          0.3430124741028353,
          0.41135925705924115,
          0.5184684815206526,
          0.5184684815206526,
          0.5184684815206526,
          0.5184684815206526,
          0.5610955768367065,
          0.5610955768367065,
          0.5610955768367065,
          0.6148131782159569,
          0.6712472654042856,
          0.6712472654042856,
          0.7330672384567463,
          0.7330672384567463
         ],
         "yaxis": "y"
        },
        {
         "hovertemplate": "variable=1<br>index=%{x}<br>value=%{y}<extra></extra>",
         "legendgroup": "1",
         "line": {
          "color": "#EF553B",
          "dash": "solid"
         },
         "marker": {
          "symbol": "circle"
         },
         "mode": "lines",
         "name": "1",
         "orientation": "v",
         "showlegend": true,
         "type": "scatter",
         "x": [
          0,
          1,
          2,
          3,
          4,
          5,
          6,
          7,
          8,
          9,
          10,
          11,
          12,
          13,
          14,
          15,
          16,
          17,
          18,
          19
         ],
         "xaxis": "x",
         "y": [
          0.972972972972973,
          0.581081081081081,
          0.4864864864864865,
          0.35135135135135137,
          0.25675675675675674,
          0.21621621621621623,
          0.1891891891891892,
          0.14864864864864866,
          0.0945945945945946,
          0.0945945945945946,
          0.0945945945945946,
          0.0945945945945946,
          0.08108108108108109,
          0.08108108108108109,
          0.08108108108108109,
          0.06756756756756757,
          0.05405405405405406,
          0.05405405405405406,
          0.04054054054054054,
          0.04054054054054054
         ],
         "yaxis": "y"
        }
       ],
       "layout": {
        "legend": {
         "title": {
          "text": "variable"
         },
         "tracegroupgap": 0
        },
        "margin": {
         "t": 60
        },
        "template": {
         "data": {
          "bar": [
           {
            "error_x": {
             "color": "#2a3f5f"
            },
            "error_y": {
             "color": "#2a3f5f"
            },
            "marker": {
             "line": {
              "color": "#E5ECF6",
              "width": 0.5
             },
             "pattern": {
              "fillmode": "overlay",
              "size": 10,
              "solidity": 0.2
             }
            },
            "type": "bar"
           }
          ],
          "barpolar": [
           {
            "marker": {
             "line": {
              "color": "#E5ECF6",
              "width": 0.5
             },
             "pattern": {
              "fillmode": "overlay",
              "size": 10,
              "solidity": 0.2
             }
            },
            "type": "barpolar"
           }
          ],
          "carpet": [
           {
            "aaxis": {
             "endlinecolor": "#2a3f5f",
             "gridcolor": "white",
             "linecolor": "white",
             "minorgridcolor": "white",
             "startlinecolor": "#2a3f5f"
            },
            "baxis": {
             "endlinecolor": "#2a3f5f",
             "gridcolor": "white",
             "linecolor": "white",
             "minorgridcolor": "white",
             "startlinecolor": "#2a3f5f"
            },
            "type": "carpet"
           }
          ],
          "choropleth": [
           {
            "colorbar": {
             "outlinewidth": 0,
             "ticks": ""
            },
            "type": "choropleth"
           }
          ],
          "contour": [
           {
            "colorbar": {
             "outlinewidth": 0,
             "ticks": ""
            },
            "colorscale": [
             [
              0,
              "#0d0887"
             ],
             [
              0.1111111111111111,
              "#46039f"
             ],
             [
              0.2222222222222222,
              "#7201a8"
             ],
             [
              0.3333333333333333,
              "#9c179e"
             ],
             [
              0.4444444444444444,
              "#bd3786"
             ],
             [
              0.5555555555555556,
              "#d8576b"
             ],
             [
              0.6666666666666666,
              "#ed7953"
             ],
             [
              0.7777777777777778,
              "#fb9f3a"
             ],
             [
              0.8888888888888888,
              "#fdca26"
             ],
             [
              1,
              "#f0f921"
             ]
            ],
            "type": "contour"
           }
          ],
          "contourcarpet": [
           {
            "colorbar": {
             "outlinewidth": 0,
             "ticks": ""
            },
            "type": "contourcarpet"
           }
          ],
          "heatmap": [
           {
            "colorbar": {
             "outlinewidth": 0,
             "ticks": ""
            },
            "colorscale": [
             [
              0,
              "#0d0887"
             ],
             [
              0.1111111111111111,
              "#46039f"
             ],
             [
              0.2222222222222222,
              "#7201a8"
             ],
             [
              0.3333333333333333,
              "#9c179e"
             ],
             [
              0.4444444444444444,
              "#bd3786"
             ],
             [
              0.5555555555555556,
              "#d8576b"
             ],
             [
              0.6666666666666666,
              "#ed7953"
             ],
             [
              0.7777777777777778,
              "#fb9f3a"
             ],
             [
              0.8888888888888888,
              "#fdca26"
             ],
             [
              1,
              "#f0f921"
             ]
            ],
            "type": "heatmap"
           }
          ],
          "heatmapgl": [
           {
            "colorbar": {
             "outlinewidth": 0,
             "ticks": ""
            },
            "colorscale": [
             [
              0,
              "#0d0887"
             ],
             [
              0.1111111111111111,
              "#46039f"
             ],
             [
              0.2222222222222222,
              "#7201a8"
             ],
             [
              0.3333333333333333,
              "#9c179e"
             ],
             [
              0.4444444444444444,
              "#bd3786"
             ],
             [
              0.5555555555555556,
              "#d8576b"
             ],
             [
              0.6666666666666666,
              "#ed7953"
             ],
             [
              0.7777777777777778,
              "#fb9f3a"
             ],
             [
              0.8888888888888888,
              "#fdca26"
             ],
             [
              1,
              "#f0f921"
             ]
            ],
            "type": "heatmapgl"
           }
          ],
          "histogram": [
           {
            "marker": {
             "pattern": {
              "fillmode": "overlay",
              "size": 10,
              "solidity": 0.2
             }
            },
            "type": "histogram"
           }
          ],
          "histogram2d": [
           {
            "colorbar": {
             "outlinewidth": 0,
             "ticks": ""
            },
            "colorscale": [
             [
              0,
              "#0d0887"
             ],
             [
              0.1111111111111111,
              "#46039f"
             ],
             [
              0.2222222222222222,
              "#7201a8"
             ],
             [
              0.3333333333333333,
              "#9c179e"
             ],
             [
              0.4444444444444444,
              "#bd3786"
             ],
             [
              0.5555555555555556,
              "#d8576b"
             ],
             [
              0.6666666666666666,
              "#ed7953"
             ],
             [
              0.7777777777777778,
              "#fb9f3a"
             ],
             [
              0.8888888888888888,
              "#fdca26"
             ],
             [
              1,
              "#f0f921"
             ]
            ],
            "type": "histogram2d"
           }
          ],
          "histogram2dcontour": [
           {
            "colorbar": {
             "outlinewidth": 0,
             "ticks": ""
            },
            "colorscale": [
             [
              0,
              "#0d0887"
             ],
             [
              0.1111111111111111,
              "#46039f"
             ],
             [
              0.2222222222222222,
              "#7201a8"
             ],
             [
              0.3333333333333333,
              "#9c179e"
             ],
             [
              0.4444444444444444,
              "#bd3786"
             ],
             [
              0.5555555555555556,
              "#d8576b"
             ],
             [
              0.6666666666666666,
              "#ed7953"
             ],
             [
              0.7777777777777778,
              "#fb9f3a"
             ],
             [
              0.8888888888888888,
              "#fdca26"
             ],
             [
              1,
              "#f0f921"
             ]
            ],
            "type": "histogram2dcontour"
           }
          ],
          "mesh3d": [
           {
            "colorbar": {
             "outlinewidth": 0,
             "ticks": ""
            },
            "type": "mesh3d"
           }
          ],
          "parcoords": [
           {
            "line": {
             "colorbar": {
              "outlinewidth": 0,
              "ticks": ""
             }
            },
            "type": "parcoords"
           }
          ],
          "pie": [
           {
            "automargin": true,
            "type": "pie"
           }
          ],
          "scatter": [
           {
            "fillpattern": {
             "fillmode": "overlay",
             "size": 10,
             "solidity": 0.2
            },
            "type": "scatter"
           }
          ],
          "scatter3d": [
           {
            "line": {
             "colorbar": {
              "outlinewidth": 0,
              "ticks": ""
             }
            },
            "marker": {
             "colorbar": {
              "outlinewidth": 0,
              "ticks": ""
             }
            },
            "type": "scatter3d"
           }
          ],
          "scattercarpet": [
           {
            "marker": {
             "colorbar": {
              "outlinewidth": 0,
              "ticks": ""
             }
            },
            "type": "scattercarpet"
           }
          ],
          "scattergeo": [
           {
            "marker": {
             "colorbar": {
              "outlinewidth": 0,
              "ticks": ""
             }
            },
            "type": "scattergeo"
           }
          ],
          "scattergl": [
           {
            "marker": {
             "colorbar": {
              "outlinewidth": 0,
              "ticks": ""
             }
            },
            "type": "scattergl"
           }
          ],
          "scattermapbox": [
           {
            "marker": {
             "colorbar": {
              "outlinewidth": 0,
              "ticks": ""
             }
            },
            "type": "scattermapbox"
           }
          ],
          "scatterpolar": [
           {
            "marker": {
             "colorbar": {
              "outlinewidth": 0,
              "ticks": ""
             }
            },
            "type": "scatterpolar"
           }
          ],
          "scatterpolargl": [
           {
            "marker": {
             "colorbar": {
              "outlinewidth": 0,
              "ticks": ""
             }
            },
            "type": "scatterpolargl"
           }
          ],
          "scatterternary": [
           {
            "marker": {
             "colorbar": {
              "outlinewidth": 0,
              "ticks": ""
             }
            },
            "type": "scatterternary"
           }
          ],
          "surface": [
           {
            "colorbar": {
             "outlinewidth": 0,
             "ticks": ""
            },
            "colorscale": [
             [
              0,
              "#0d0887"
             ],
             [
              0.1111111111111111,
              "#46039f"
             ],
             [
              0.2222222222222222,
              "#7201a8"
             ],
             [
              0.3333333333333333,
              "#9c179e"
             ],
             [
              0.4444444444444444,
              "#bd3786"
             ],
             [
              0.5555555555555556,
              "#d8576b"
             ],
             [
              0.6666666666666666,
              "#ed7953"
             ],
             [
              0.7777777777777778,
              "#fb9f3a"
             ],
             [
              0.8888888888888888,
              "#fdca26"
             ],
             [
              1,
              "#f0f921"
             ]
            ],
            "type": "surface"
           }
          ],
          "table": [
           {
            "cells": {
             "fill": {
              "color": "#EBF0F8"
             },
             "line": {
              "color": "white"
             }
            },
            "header": {
             "fill": {
              "color": "#C8D4E3"
             },
             "line": {
              "color": "white"
             }
            },
            "type": "table"
           }
          ]
         },
         "layout": {
          "annotationdefaults": {
           "arrowcolor": "#2a3f5f",
           "arrowhead": 0,
           "arrowwidth": 1
          },
          "autotypenumbers": "strict",
          "coloraxis": {
           "colorbar": {
            "outlinewidth": 0,
            "ticks": ""
           }
          },
          "colorscale": {
           "diverging": [
            [
             0,
             "#8e0152"
            ],
            [
             0.1,
             "#c51b7d"
            ],
            [
             0.2,
             "#de77ae"
            ],
            [
             0.3,
             "#f1b6da"
            ],
            [
             0.4,
             "#fde0ef"
            ],
            [
             0.5,
             "#f7f7f7"
            ],
            [
             0.6,
             "#e6f5d0"
            ],
            [
             0.7,
             "#b8e186"
            ],
            [
             0.8,
             "#7fbc41"
            ],
            [
             0.9,
             "#4d9221"
            ],
            [
             1,
             "#276419"
            ]
           ],
           "sequential": [
            [
             0,
             "#0d0887"
            ],
            [
             0.1111111111111111,
             "#46039f"
            ],
            [
             0.2222222222222222,
             "#7201a8"
            ],
            [
             0.3333333333333333,
             "#9c179e"
            ],
            [
             0.4444444444444444,
             "#bd3786"
            ],
            [
             0.5555555555555556,
             "#d8576b"
            ],
            [
             0.6666666666666666,
             "#ed7953"
            ],
            [
             0.7777777777777778,
             "#fb9f3a"
            ],
            [
             0.8888888888888888,
             "#fdca26"
            ],
            [
             1,
             "#f0f921"
            ]
           ],
           "sequentialminus": [
            [
             0,
             "#0d0887"
            ],
            [
             0.1111111111111111,
             "#46039f"
            ],
            [
             0.2222222222222222,
             "#7201a8"
            ],
            [
             0.3333333333333333,
             "#9c179e"
            ],
            [
             0.4444444444444444,
             "#bd3786"
            ],
            [
             0.5555555555555556,
             "#d8576b"
            ],
            [
             0.6666666666666666,
             "#ed7953"
            ],
            [
             0.7777777777777778,
             "#fb9f3a"
            ],
            [
             0.8888888888888888,
             "#fdca26"
            ],
            [
             1,
             "#f0f921"
            ]
           ]
          },
          "colorway": [
           "#636efa",
           "#EF553B",
           "#00cc96",
           "#ab63fa",
           "#FFA15A",
           "#19d3f3",
           "#FF6692",
           "#B6E880",
           "#FF97FF",
           "#FECB52"
          ],
          "font": {
           "color": "#2a3f5f"
          },
          "geo": {
           "bgcolor": "white",
           "lakecolor": "white",
           "landcolor": "#E5ECF6",
           "showlakes": true,
           "showland": true,
           "subunitcolor": "white"
          },
          "hoverlabel": {
           "align": "left"
          },
          "hovermode": "closest",
          "mapbox": {
           "style": "light"
          },
          "paper_bgcolor": "white",
          "plot_bgcolor": "#E5ECF6",
          "polar": {
           "angularaxis": {
            "gridcolor": "white",
            "linecolor": "white",
            "ticks": ""
           },
           "bgcolor": "#E5ECF6",
           "radialaxis": {
            "gridcolor": "white",
            "linecolor": "white",
            "ticks": ""
           }
          },
          "scene": {
           "xaxis": {
            "backgroundcolor": "#E5ECF6",
            "gridcolor": "white",
            "gridwidth": 2,
            "linecolor": "white",
            "showbackground": true,
            "ticks": "",
            "zerolinecolor": "white"
           },
           "yaxis": {
            "backgroundcolor": "#E5ECF6",
            "gridcolor": "white",
            "gridwidth": 2,
            "linecolor": "white",
            "showbackground": true,
            "ticks": "",
            "zerolinecolor": "white"
           },
           "zaxis": {
            "backgroundcolor": "#E5ECF6",
            "gridcolor": "white",
            "gridwidth": 2,
            "linecolor": "white",
            "showbackground": true,
            "ticks": "",
            "zerolinecolor": "white"
           }
          },
          "shapedefaults": {
           "line": {
            "color": "#2a3f5f"
           }
          },
          "ternary": {
           "aaxis": {
            "gridcolor": "white",
            "linecolor": "white",
            "ticks": ""
           },
           "baxis": {
            "gridcolor": "white",
            "linecolor": "white",
            "ticks": ""
           },
           "bgcolor": "#E5ECF6",
           "caxis": {
            "gridcolor": "white",
            "linecolor": "white",
            "ticks": ""
           }
          },
          "title": {
           "x": 0.05
          },
          "xaxis": {
           "automargin": true,
           "gridcolor": "white",
           "linecolor": "white",
           "ticks": "",
           "title": {
            "standoff": 15
           },
           "zerolinecolor": "white",
           "zerolinewidth": 2
          },
          "yaxis": {
           "automargin": true,
           "gridcolor": "white",
           "linecolor": "white",
           "ticks": "",
           "title": {
            "standoff": 15
           },
           "zerolinecolor": "white",
           "zerolinewidth": 2
          }
         }
        },
        "xaxis": {
         "anchor": "y",
         "domain": [
          0,
          1
         ],
         "title": {
          "text": "index"
         }
        },
        "yaxis": {
         "anchor": "x",
         "domain": [
          0,
          1
         ],
         "title": {
          "text": "value"
         }
        }
       }
      }
     },
     "metadata": {},
     "output_type": "display_data"
    }
   ],
   "source": [
    "import plotly.express as px\n",
    "px.line(criba)"
   ]
  },
  {
   "cell_type": "code",
   "execution_count": 19,
   "metadata": {},
   "outputs": [],
   "source": [
    "provinces_to_train = [province for province in df.province.unique() if len(df[df['province'] == province]) > 4000]"
   ]
  },
  {
   "cell_type": "code",
   "execution_count": null,
   "metadata": {},
   "outputs": [],
   "source": [
    "for province in provinces_to_train:\n",
    "    df_province = df[df['province'] == province].drop('province', axis = 1)\n",
    "    df_province.to_parquet(f'./processed_data/provinces/data_{province}.parquet')"
   ]
  },
  {
   "cell_type": "code",
   "execution_count": 20,
   "metadata": {},
   "outputs": [],
   "source": [
    "df[~df['province'].isin(provinces_to_train)].to_parquet(f'./processed_data/provinces/data_25.parquet')"
   ]
  },
  {
   "cell_type": "code",
   "execution_count": 21,
   "metadata": {},
   "outputs": [
    {
     "data": {
      "text/html": [
       "<div>\n",
       "<style scoped>\n",
       "    .dataframe tbody tr th:only-of-type {\n",
       "        vertical-align: middle;\n",
       "    }\n",
       "\n",
       "    .dataframe tbody tr th {\n",
       "        vertical-align: top;\n",
       "    }\n",
       "\n",
       "    .dataframe thead th {\n",
       "        text-align: right;\n",
       "    }\n",
       "</style>\n",
       "<table border=\"1\" class=\"dataframe\">\n",
       "  <thead>\n",
       "    <tr style=\"text-align: right;\">\n",
       "      <th></th>\n",
       "      <th>price</th>\n",
       "      <th>lat</th>\n",
       "      <th>lng</th>\n",
       "      <th>surface</th>\n",
       "      <th>bathrooms</th>\n",
       "      <th>province</th>\n",
       "      <th>rooms</th>\n",
       "      <th>garden</th>\n",
       "      <th>age</th>\n",
       "      <th>useful_surface</th>\n",
       "      <th>elevator</th>\n",
       "      <th>garage</th>\n",
       "      <th>state</th>\n",
       "    </tr>\n",
       "  </thead>\n",
       "  <tbody>\n",
       "    <tr>\n",
       "      <th>104110</th>\n",
       "      <td>385000.0</td>\n",
       "      <td>42.834200</td>\n",
       "      <td>-2.788629</td>\n",
       "      <td>160.0</td>\n",
       "      <td>3.0</td>\n",
       "      <td>alava_araba</td>\n",
       "      <td>4.0</td>\n",
       "      <td>False</td>\n",
       "      <td>10.0</td>\n",
       "      <td>150.0</td>\n",
       "      <td>False</td>\n",
       "      <td>False</td>\n",
       "      <td>En buen estado</td>\n",
       "    </tr>\n",
       "    <tr>\n",
       "      <th>104111</th>\n",
       "      <td>46100.0</td>\n",
       "      <td>42.672399</td>\n",
       "      <td>-2.839510</td>\n",
       "      <td>426.0</td>\n",
       "      <td>2.0</td>\n",
       "      <td>alava_araba</td>\n",
       "      <td>4.0</td>\n",
       "      <td>False</td>\n",
       "      <td>50.0</td>\n",
       "      <td>293.0</td>\n",
       "      <td>False</td>\n",
       "      <td>False</td>\n",
       "      <td>None</td>\n",
       "    </tr>\n",
       "    <tr>\n",
       "      <th>104112</th>\n",
       "      <td>155000.0</td>\n",
       "      <td>42.875177</td>\n",
       "      <td>-3.147517</td>\n",
       "      <td>400.0</td>\n",
       "      <td>1.0</td>\n",
       "      <td>alava_araba</td>\n",
       "      <td>5.0</td>\n",
       "      <td>True</td>\n",
       "      <td>50.0</td>\n",
       "      <td>300.0</td>\n",
       "      <td>False</td>\n",
       "      <td>False</td>\n",
       "      <td>A reformar</td>\n",
       "    </tr>\n",
       "    <tr>\n",
       "      <th>104113</th>\n",
       "      <td>850000.0</td>\n",
       "      <td>42.801684</td>\n",
       "      <td>-2.898858</td>\n",
       "      <td>370.0</td>\n",
       "      <td>4.0</td>\n",
       "      <td>alava_araba</td>\n",
       "      <td>6.0</td>\n",
       "      <td>True</td>\n",
       "      <td>10.0</td>\n",
       "      <td>360.0</td>\n",
       "      <td>False</td>\n",
       "      <td>True</td>\n",
       "      <td>None</td>\n",
       "    </tr>\n",
       "    <tr>\n",
       "      <th>104114</th>\n",
       "      <td>450000.0</td>\n",
       "      <td>42.728258</td>\n",
       "      <td>-2.860074</td>\n",
       "      <td>350.0</td>\n",
       "      <td>3.0</td>\n",
       "      <td>alava_araba</td>\n",
       "      <td>4.0</td>\n",
       "      <td>False</td>\n",
       "      <td>NaN</td>\n",
       "      <td>300.0</td>\n",
       "      <td>False</td>\n",
       "      <td>True</td>\n",
       "      <td>En buen estado</td>\n",
       "    </tr>\n",
       "    <tr>\n",
       "      <th>...</th>\n",
       "      <td>...</td>\n",
       "      <td>...</td>\n",
       "      <td>...</td>\n",
       "      <td>...</td>\n",
       "      <td>...</td>\n",
       "      <td>...</td>\n",
       "      <td>...</td>\n",
       "      <td>...</td>\n",
       "      <td>...</td>\n",
       "      <td>...</td>\n",
       "      <td>...</td>\n",
       "      <td>...</td>\n",
       "      <td>...</td>\n",
       "    </tr>\n",
       "    <tr>\n",
       "      <th>276087</th>\n",
       "      <td>69000.0</td>\n",
       "      <td>41.599972</td>\n",
       "      <td>-1.281389</td>\n",
       "      <td>302.0</td>\n",
       "      <td>3.0</td>\n",
       "      <td>zaragoza</td>\n",
       "      <td>10.0</td>\n",
       "      <td>False</td>\n",
       "      <td>NaN</td>\n",
       "      <td>290.0</td>\n",
       "      <td>False</td>\n",
       "      <td>True</td>\n",
       "      <td>None</td>\n",
       "    </tr>\n",
       "    <tr>\n",
       "      <th>276088</th>\n",
       "      <td>256800.0</td>\n",
       "      <td>41.482034</td>\n",
       "      <td>-1.373726</td>\n",
       "      <td>236.0</td>\n",
       "      <td>6.0</td>\n",
       "      <td>zaragoza</td>\n",
       "      <td>4.0</td>\n",
       "      <td>False</td>\n",
       "      <td>NaN</td>\n",
       "      <td>215.0</td>\n",
       "      <td>False</td>\n",
       "      <td>False</td>\n",
       "      <td>None</td>\n",
       "    </tr>\n",
       "    <tr>\n",
       "      <th>276089</th>\n",
       "      <td>105000.0</td>\n",
       "      <td>41.578195</td>\n",
       "      <td>-1.116482</td>\n",
       "      <td>76.0</td>\n",
       "      <td>NaN</td>\n",
       "      <td>zaragoza</td>\n",
       "      <td>NaN</td>\n",
       "      <td>False</td>\n",
       "      <td>NaN</td>\n",
       "      <td>NaN</td>\n",
       "      <td>False</td>\n",
       "      <td>False</td>\n",
       "      <td>A estrenar</td>\n",
       "    </tr>\n",
       "    <tr>\n",
       "      <th>276090</th>\n",
       "      <td>89000.0</td>\n",
       "      <td>41.483506</td>\n",
       "      <td>-1.371575</td>\n",
       "      <td>113.0</td>\n",
       "      <td>1.0</td>\n",
       "      <td>zaragoza</td>\n",
       "      <td>4.0</td>\n",
       "      <td>False</td>\n",
       "      <td>NaN</td>\n",
       "      <td>100.0</td>\n",
       "      <td>False</td>\n",
       "      <td>False</td>\n",
       "      <td>None</td>\n",
       "    </tr>\n",
       "    <tr>\n",
       "      <th>276091</th>\n",
       "      <td>250395.0</td>\n",
       "      <td>41.483751</td>\n",
       "      <td>-1.370993</td>\n",
       "      <td>215.0</td>\n",
       "      <td>6.0</td>\n",
       "      <td>zaragoza</td>\n",
       "      <td>4.0</td>\n",
       "      <td>False</td>\n",
       "      <td>NaN</td>\n",
       "      <td>NaN</td>\n",
       "      <td>False</td>\n",
       "      <td>False</td>\n",
       "      <td>None</td>\n",
       "    </tr>\n",
       "  </tbody>\n",
       "</table>\n",
       "<p>70129 rows × 13 columns</p>\n",
       "</div>"
      ],
      "text/plain": [
       "           price        lat       lng  surface  bathrooms     province  rooms  \\\n",
       "104110  385000.0  42.834200 -2.788629    160.0        3.0  alava_araba    4.0   \n",
       "104111   46100.0  42.672399 -2.839510    426.0        2.0  alava_araba    4.0   \n",
       "104112  155000.0  42.875177 -3.147517    400.0        1.0  alava_araba    5.0   \n",
       "104113  850000.0  42.801684 -2.898858    370.0        4.0  alava_araba    6.0   \n",
       "104114  450000.0  42.728258 -2.860074    350.0        3.0  alava_araba    4.0   \n",
       "...          ...        ...       ...      ...        ...          ...    ...   \n",
       "276087   69000.0  41.599972 -1.281389    302.0        3.0     zaragoza   10.0   \n",
       "276088  256800.0  41.482034 -1.373726    236.0        6.0     zaragoza    4.0   \n",
       "276089  105000.0  41.578195 -1.116482     76.0        NaN     zaragoza    NaN   \n",
       "276090   89000.0  41.483506 -1.371575    113.0        1.0     zaragoza    4.0   \n",
       "276091  250395.0  41.483751 -1.370993    215.0        6.0     zaragoza    4.0   \n",
       "\n",
       "        garden   age  useful_surface  elevator  garage            state  \n",
       "104110   False  10.0           150.0     False   False   En buen estado  \n",
       "104111   False  50.0           293.0     False   False             None  \n",
       "104112    True  50.0           300.0     False   False       A reformar  \n",
       "104113    True  10.0           360.0     False    True             None  \n",
       "104114   False   NaN           300.0     False    True   En buen estado  \n",
       "...        ...   ...             ...       ...     ...              ...  \n",
       "276087   False   NaN           290.0     False    True             None  \n",
       "276088   False   NaN           215.0     False   False             None  \n",
       "276089   False   NaN             NaN     False   False       A estrenar  \n",
       "276090   False   NaN           100.0     False   False             None  \n",
       "276091   False   NaN             NaN     False   False             None  \n",
       "\n",
       "[70129 rows x 13 columns]"
      ]
     },
     "execution_count": 21,
     "metadata": {},
     "output_type": "execute_result"
    }
   ],
   "source": [
    "df_25 = pd.read_parquet('./processed_data/provinces/data_25.parquet')\n",
    "df_25"
   ]
  },
  {
   "cell_type": "code",
   "execution_count": 143,
   "metadata": {},
   "outputs": [],
   "source": [
    "df_prueba = pd.read_parquet('./processed_data/provinces/data_25.parquet')"
   ]
  },
  {
   "cell_type": "code",
   "execution_count": 144,
   "metadata": {},
   "outputs": [
    {
     "data": {
      "text/html": [
       "<div>\n",
       "<style scoped>\n",
       "    .dataframe tbody tr th:only-of-type {\n",
       "        vertical-align: middle;\n",
       "    }\n",
       "\n",
       "    .dataframe tbody tr th {\n",
       "        vertical-align: top;\n",
       "    }\n",
       "\n",
       "    .dataframe thead th {\n",
       "        text-align: right;\n",
       "    }\n",
       "</style>\n",
       "<table border=\"1\" class=\"dataframe\">\n",
       "  <thead>\n",
       "    <tr style=\"text-align: right;\">\n",
       "      <th></th>\n",
       "      <th>price</th>\n",
       "      <th>lat</th>\n",
       "      <th>lng</th>\n",
       "      <th>surface</th>\n",
       "      <th>bathrooms</th>\n",
       "      <th>province</th>\n",
       "      <th>rooms</th>\n",
       "      <th>garden</th>\n",
       "      <th>age</th>\n",
       "      <th>useful_surface</th>\n",
       "      <th>elevator</th>\n",
       "      <th>garage</th>\n",
       "      <th>state</th>\n",
       "    </tr>\n",
       "  </thead>\n",
       "  <tbody>\n",
       "    <tr>\n",
       "      <th>104110</th>\n",
       "      <td>385000.0</td>\n",
       "      <td>42.834200</td>\n",
       "      <td>-2.788629</td>\n",
       "      <td>160.0</td>\n",
       "      <td>3.0</td>\n",
       "      <td>alava_araba</td>\n",
       "      <td>4.0</td>\n",
       "      <td>False</td>\n",
       "      <td>10.0</td>\n",
       "      <td>150.0</td>\n",
       "      <td>False</td>\n",
       "      <td>False</td>\n",
       "      <td>En buen estado</td>\n",
       "    </tr>\n",
       "    <tr>\n",
       "      <th>104111</th>\n",
       "      <td>46100.0</td>\n",
       "      <td>42.672399</td>\n",
       "      <td>-2.839510</td>\n",
       "      <td>426.0</td>\n",
       "      <td>2.0</td>\n",
       "      <td>alava_araba</td>\n",
       "      <td>4.0</td>\n",
       "      <td>False</td>\n",
       "      <td>50.0</td>\n",
       "      <td>293.0</td>\n",
       "      <td>False</td>\n",
       "      <td>False</td>\n",
       "      <td>None</td>\n",
       "    </tr>\n",
       "    <tr>\n",
       "      <th>104112</th>\n",
       "      <td>155000.0</td>\n",
       "      <td>42.875177</td>\n",
       "      <td>-3.147517</td>\n",
       "      <td>400.0</td>\n",
       "      <td>1.0</td>\n",
       "      <td>alava_araba</td>\n",
       "      <td>5.0</td>\n",
       "      <td>True</td>\n",
       "      <td>50.0</td>\n",
       "      <td>300.0</td>\n",
       "      <td>False</td>\n",
       "      <td>False</td>\n",
       "      <td>A reformar</td>\n",
       "    </tr>\n",
       "    <tr>\n",
       "      <th>104113</th>\n",
       "      <td>850000.0</td>\n",
       "      <td>42.801684</td>\n",
       "      <td>-2.898858</td>\n",
       "      <td>370.0</td>\n",
       "      <td>4.0</td>\n",
       "      <td>alava_araba</td>\n",
       "      <td>6.0</td>\n",
       "      <td>True</td>\n",
       "      <td>10.0</td>\n",
       "      <td>360.0</td>\n",
       "      <td>False</td>\n",
       "      <td>True</td>\n",
       "      <td>None</td>\n",
       "    </tr>\n",
       "    <tr>\n",
       "      <th>104114</th>\n",
       "      <td>450000.0</td>\n",
       "      <td>42.728258</td>\n",
       "      <td>-2.860074</td>\n",
       "      <td>350.0</td>\n",
       "      <td>3.0</td>\n",
       "      <td>alava_araba</td>\n",
       "      <td>4.0</td>\n",
       "      <td>False</td>\n",
       "      <td>NaN</td>\n",
       "      <td>300.0</td>\n",
       "      <td>False</td>\n",
       "      <td>True</td>\n",
       "      <td>En buen estado</td>\n",
       "    </tr>\n",
       "    <tr>\n",
       "      <th>...</th>\n",
       "      <td>...</td>\n",
       "      <td>...</td>\n",
       "      <td>...</td>\n",
       "      <td>...</td>\n",
       "      <td>...</td>\n",
       "      <td>...</td>\n",
       "      <td>...</td>\n",
       "      <td>...</td>\n",
       "      <td>...</td>\n",
       "      <td>...</td>\n",
       "      <td>...</td>\n",
       "      <td>...</td>\n",
       "      <td>...</td>\n",
       "    </tr>\n",
       "    <tr>\n",
       "      <th>276087</th>\n",
       "      <td>69000.0</td>\n",
       "      <td>41.599972</td>\n",
       "      <td>-1.281389</td>\n",
       "      <td>302.0</td>\n",
       "      <td>3.0</td>\n",
       "      <td>zaragoza</td>\n",
       "      <td>10.0</td>\n",
       "      <td>False</td>\n",
       "      <td>NaN</td>\n",
       "      <td>290.0</td>\n",
       "      <td>False</td>\n",
       "      <td>True</td>\n",
       "      <td>None</td>\n",
       "    </tr>\n",
       "    <tr>\n",
       "      <th>276088</th>\n",
       "      <td>256800.0</td>\n",
       "      <td>41.482034</td>\n",
       "      <td>-1.373726</td>\n",
       "      <td>236.0</td>\n",
       "      <td>6.0</td>\n",
       "      <td>zaragoza</td>\n",
       "      <td>4.0</td>\n",
       "      <td>False</td>\n",
       "      <td>NaN</td>\n",
       "      <td>215.0</td>\n",
       "      <td>False</td>\n",
       "      <td>False</td>\n",
       "      <td>None</td>\n",
       "    </tr>\n",
       "    <tr>\n",
       "      <th>276089</th>\n",
       "      <td>105000.0</td>\n",
       "      <td>41.578195</td>\n",
       "      <td>-1.116482</td>\n",
       "      <td>76.0</td>\n",
       "      <td>NaN</td>\n",
       "      <td>zaragoza</td>\n",
       "      <td>NaN</td>\n",
       "      <td>False</td>\n",
       "      <td>NaN</td>\n",
       "      <td>NaN</td>\n",
       "      <td>False</td>\n",
       "      <td>False</td>\n",
       "      <td>A estrenar</td>\n",
       "    </tr>\n",
       "    <tr>\n",
       "      <th>276090</th>\n",
       "      <td>89000.0</td>\n",
       "      <td>41.483506</td>\n",
       "      <td>-1.371575</td>\n",
       "      <td>113.0</td>\n",
       "      <td>1.0</td>\n",
       "      <td>zaragoza</td>\n",
       "      <td>4.0</td>\n",
       "      <td>False</td>\n",
       "      <td>NaN</td>\n",
       "      <td>100.0</td>\n",
       "      <td>False</td>\n",
       "      <td>False</td>\n",
       "      <td>None</td>\n",
       "    </tr>\n",
       "    <tr>\n",
       "      <th>276091</th>\n",
       "      <td>250395.0</td>\n",
       "      <td>41.483751</td>\n",
       "      <td>-1.370993</td>\n",
       "      <td>215.0</td>\n",
       "      <td>6.0</td>\n",
       "      <td>zaragoza</td>\n",
       "      <td>4.0</td>\n",
       "      <td>False</td>\n",
       "      <td>NaN</td>\n",
       "      <td>NaN</td>\n",
       "      <td>False</td>\n",
       "      <td>False</td>\n",
       "      <td>None</td>\n",
       "    </tr>\n",
       "  </tbody>\n",
       "</table>\n",
       "<p>70129 rows × 13 columns</p>\n",
       "</div>"
      ],
      "text/plain": [
       "           price        lat       lng  surface  bathrooms     province  rooms  \\\n",
       "104110  385000.0  42.834200 -2.788629    160.0        3.0  alava_araba    4.0   \n",
       "104111   46100.0  42.672399 -2.839510    426.0        2.0  alava_araba    4.0   \n",
       "104112  155000.0  42.875177 -3.147517    400.0        1.0  alava_araba    5.0   \n",
       "104113  850000.0  42.801684 -2.898858    370.0        4.0  alava_araba    6.0   \n",
       "104114  450000.0  42.728258 -2.860074    350.0        3.0  alava_araba    4.0   \n",
       "...          ...        ...       ...      ...        ...          ...    ...   \n",
       "276087   69000.0  41.599972 -1.281389    302.0        3.0     zaragoza   10.0   \n",
       "276088  256800.0  41.482034 -1.373726    236.0        6.0     zaragoza    4.0   \n",
       "276089  105000.0  41.578195 -1.116482     76.0        NaN     zaragoza    NaN   \n",
       "276090   89000.0  41.483506 -1.371575    113.0        1.0     zaragoza    4.0   \n",
       "276091  250395.0  41.483751 -1.370993    215.0        6.0     zaragoza    4.0   \n",
       "\n",
       "        garden   age  useful_surface  elevator  garage            state  \n",
       "104110   False  10.0           150.0     False   False   En buen estado  \n",
       "104111   False  50.0           293.0     False   False             None  \n",
       "104112    True  50.0           300.0     False   False       A reformar  \n",
       "104113    True  10.0           360.0     False    True             None  \n",
       "104114   False   NaN           300.0     False    True   En buen estado  \n",
       "...        ...   ...             ...       ...     ...              ...  \n",
       "276087   False   NaN           290.0     False    True             None  \n",
       "276088   False   NaN           215.0     False   False             None  \n",
       "276089   False   NaN             NaN     False   False       A estrenar  \n",
       "276090   False   NaN           100.0     False   False             None  \n",
       "276091   False   NaN             NaN     False   False             None  \n",
       "\n",
       "[70129 rows x 13 columns]"
      ]
     },
     "execution_count": 144,
     "metadata": {},
     "output_type": "execute_result"
    }
   ],
   "source": [
    "df_prueba"
   ]
  },
  {
   "cell_type": "markdown",
   "metadata": {},
   "source": [
    "# Pos-procesamiento"
   ]
  },
  {
   "cell_type": "code",
   "execution_count": null,
   "metadata": {},
   "outputs": [],
   "source": [
    "df['age'] = df['age'].fillna(df['age'].mean()) # PROBAR IMPUTAR CON KNN"
   ]
  },
  {
   "cell_type": "code",
   "execution_count": 53,
   "metadata": {},
   "outputs": [],
   "source": [
    "df.state = df.state.fillna(\"En buen estado\")"
   ]
  },
  {
   "cell_type": "code",
   "execution_count": 54,
   "metadata": {},
   "outputs": [],
   "source": [
    "df_num = df._get_numeric_data()\n",
    "df_cat = df.drop(df_num.columns, axis = 1)\n",
    "df_cat, encodings = targetEncoding(df_cat, df_num['price'], 'target_median')\n",
    "df = pd.concat([df_num, df_cat], axis = 1)"
   ]
  },
  {
   "cell_type": "code",
   "execution_count": 56,
   "metadata": {},
   "outputs": [],
   "source": [
    "df_ = outliersFilter(df = df_, min_price = 50_000, max_price = 5_000_000, max_baths = 15, max_surface = 1_000)"
   ]
  },
  {
   "cell_type": "code",
   "execution_count": 57,
   "metadata": {},
   "outputs": [],
   "source": [
    "# df = df_.copy()"
   ]
  },
  {
   "cell_type": "markdown",
   "metadata": {},
   "source": [
    "# type encoding"
   ]
  },
  {
   "cell_type": "code",
   "execution_count": 58,
   "metadata": {},
   "outputs": [],
   "source": [
    "# # df_type, encodings_type = targetEncoding(df[['type']], df['price'], condition = 'target_mean')\n",
    "# df_type, encodings_type = frequencyEncoding(df[['type']])\n",
    "# df['type'] = df_type['type']"
   ]
  },
  {
   "cell_type": "markdown",
   "metadata": {},
   "source": [
    "# garage, lift, garden and publisher encoding"
   ]
  },
  {
   "cell_type": "code",
   "execution_count": 59,
   "metadata": {},
   "outputs": [],
   "source": [
    "# df = binaryEncoding(df)"
   ]
  },
  {
   "cell_type": "markdown",
   "metadata": {},
   "source": [
    "# condition encoding"
   ]
  },
  {
   "cell_type": "code",
   "execution_count": 60,
   "metadata": {},
   "outputs": [],
   "source": [
    "# df_condition, encodings_condition = frequencyEncoding(df[['condition']])\n",
    "# df['condition'] = df_condition['condition']"
   ]
  },
  {
   "cell_type": "code",
   "execution_count": 61,
   "metadata": {},
   "outputs": [],
   "source": [
    "# df_surface = df[['surface', 'net_surface']].dropna()\n",
    "# np.corrcoef(df_surface['surface'], df_surface['net_surface'])"
   ]
  },
  {
   "cell_type": "code",
   "execution_count": 62,
   "metadata": {},
   "outputs": [
    {
     "data": {
      "text/plain": [
       "0.6636716520689183"
      ]
     },
     "execution_count": 62,
     "metadata": {},
     "output_type": "execute_result"
    }
   ],
   "source": [
    "df_.dropna().shape[0]/df_.shape[0]"
   ]
  },
  {
   "cell_type": "markdown",
   "metadata": {},
   "source": [
    "# TRAINING"
   ]
  },
  {
   "cell_type": "code",
   "execution_count": 63,
   "metadata": {},
   "outputs": [],
   "source": [
    "df_ = df_[~df_['price'].isna()].dropna()\n",
    "\n",
    "X = df_.drop(['price'], axis = 1)\n",
    "y = df_[['price']]"
   ]
  },
  {
   "cell_type": "code",
   "execution_count": 64,
   "metadata": {},
   "outputs": [
    {
     "name": "stderr",
     "output_type": "stream",
     "text": [
      "c:\\Users\\cuicuidev\\Desktop\\pisoscom\\venv\\lib\\site-packages\\sklearn\\base.py:1152: DataConversionWarning: A column-vector y was passed when a 1d array was expected. Please change the shape of y to (n_samples,), for example using ravel().\n",
      "  return fit_method(estimator, *args, **kwargs)\n"
     ]
    },
    {
     "data": {
      "text/html": [
       "<div>\n",
       "<style scoped>\n",
       "    .dataframe tbody tr th:only-of-type {\n",
       "        vertical-align: middle;\n",
       "    }\n",
       "\n",
       "    .dataframe tbody tr th {\n",
       "        vertical-align: top;\n",
       "    }\n",
       "\n",
       "    .dataframe thead th {\n",
       "        text-align: right;\n",
       "    }\n",
       "</style>\n",
       "<table border=\"1\" class=\"dataframe\">\n",
       "  <thead>\n",
       "    <tr style=\"text-align: right;\">\n",
       "      <th></th>\n",
       "      <th>r2</th>\n",
       "      <th>mae</th>\n",
       "      <th>mse</th>\n",
       "    </tr>\n",
       "  </thead>\n",
       "  <tbody>\n",
       "    <tr>\n",
       "      <th>0</th>\n",
       "      <td>0.737474</td>\n",
       "      <td>81036.039059</td>\n",
       "      <td>3.565086e+10</td>\n",
       "    </tr>\n",
       "  </tbody>\n",
       "</table>\n",
       "</div>"
      ],
      "text/plain": [
       "         r2           mae           mse\n",
       "0  0.737474  81036.039059  3.565086e+10"
      ]
     },
     "execution_count": 64,
     "metadata": {},
     "output_type": "execute_result"
    }
   ],
   "source": [
    "imputer = KNNImputer(n_neighbors=3)\n",
    "\n",
    "# X = imputer.fit_transform(X)\n",
    "\n",
    "X_train, X_test, y_train, y_test = train_test_split(X, y, test_size = 0.2, random_state = 42)\n",
    "\n",
    "model = RandomForestRegressor(n_jobs = -1, random_state = 42, n_estimators = 100)\n",
    "\n",
    "model.fit(X_train, y_train)\n",
    "\n",
    "yhat = model.predict(X_test)\n",
    "\n",
    "pd.DataFrame([[r2_score(y_test, yhat),\n",
    "              mean_absolute_error(y_test, yhat),\n",
    "              mean_squared_error(y_test, yhat)]],\n",
    "             columns = ['r2', 'mae', 'mse'])"
   ]
  },
  {
   "cell_type": "markdown",
   "metadata": {},
   "source": [
    "# Validation"
   ]
  },
  {
   "cell_type": "code",
   "execution_count": 65,
   "metadata": {},
   "outputs": [],
   "source": [
    "# df_sample['type'] = df_sample['type'].replace(encodings_type['type'])\n",
    "\n",
    "# df_sample = binaryEncoding(df)\n",
    "\n",
    "# df_sample['condition'] = df_sample['condition'].replace(encodings_condition['condition'])\n",
    "\n",
    "df_sample['state'].replace(encodings['state'])\n",
    "\n",
    "df_validation = df_sample.dropna()"
   ]
  },
  {
   "cell_type": "code",
   "execution_count": 142,
   "metadata": {},
   "outputs": [
    {
     "data": {
      "text/plain": [
       "{'state': state\n",
       "  A estrenar        272000.0\n",
       "  A reformar        132530.0\n",
       "  En buen estado    197000.0\n",
       "  Reformado         200000.0\n",
       " En buen estado     190000.0\n",
       " Name: price, dtype: float64}"
      ]
     },
     "execution_count": 142,
     "metadata": {},
     "output_type": "execute_result"
    }
   ],
   "source": [
    "encodings"
   ]
  },
  {
   "cell_type": "code",
   "execution_count": 66,
   "metadata": {},
   "outputs": [
    {
     "data": {
      "text/html": [
       "<div>\n",
       "<style scoped>\n",
       "    .dataframe tbody tr th:only-of-type {\n",
       "        vertical-align: middle;\n",
       "    }\n",
       "\n",
       "    .dataframe tbody tr th {\n",
       "        vertical-align: top;\n",
       "    }\n",
       "\n",
       "    .dataframe thead th {\n",
       "        text-align: right;\n",
       "    }\n",
       "</style>\n",
       "<table border=\"1\" class=\"dataframe\">\n",
       "  <thead>\n",
       "    <tr style=\"text-align: right;\">\n",
       "      <th></th>\n",
       "      <th>price</th>\n",
       "      <th>lat</th>\n",
       "      <th>lng</th>\n",
       "      <th>surface</th>\n",
       "      <th>bathrooms</th>\n",
       "      <th>rooms</th>\n",
       "      <th>garden</th>\n",
       "      <th>age</th>\n",
       "      <th>useful_surface</th>\n",
       "      <th>elevator</th>\n",
       "      <th>garage</th>\n",
       "      <th>state</th>\n",
       "    </tr>\n",
       "  </thead>\n",
       "  <tbody>\n",
       "    <tr>\n",
       "      <th>171709</th>\n",
       "      <td>210000.0</td>\n",
       "      <td>41.681706</td>\n",
       "      <td>2.792384</td>\n",
       "      <td>153.0</td>\n",
       "      <td>2.0</td>\n",
       "      <td>3.0</td>\n",
       "      <td>False</td>\n",
       "      <td>25.1211</td>\n",
       "      <td>120.0</td>\n",
       "      <td>True</td>\n",
       "      <td>False</td>\n",
       "      <td>190000.0</td>\n",
       "    </tr>\n",
       "    <tr>\n",
       "      <th>274407</th>\n",
       "      <td>200000.0</td>\n",
       "      <td>41.655024</td>\n",
       "      <td>-0.888262</td>\n",
       "      <td>140.0</td>\n",
       "      <td>1.0</td>\n",
       "      <td>4.0</td>\n",
       "      <td>False</td>\n",
       "      <td>25.1211</td>\n",
       "      <td>125.0</td>\n",
       "      <td>True</td>\n",
       "      <td>False</td>\n",
       "      <td>197000.0</td>\n",
       "    </tr>\n",
       "    <tr>\n",
       "      <th>109220</th>\n",
       "      <td>139000.0</td>\n",
       "      <td>37.392931</td>\n",
       "      <td>-1.945951</td>\n",
       "      <td>110.0</td>\n",
       "      <td>2.0</td>\n",
       "      <td>3.0</td>\n",
       "      <td>False</td>\n",
       "      <td>25.1211</td>\n",
       "      <td>100.0</td>\n",
       "      <td>True</td>\n",
       "      <td>True</td>\n",
       "      <td>197000.0</td>\n",
       "    </tr>\n",
       "    <tr>\n",
       "      <th>11536</th>\n",
       "      <td>84000.0</td>\n",
       "      <td>38.357757</td>\n",
       "      <td>-0.484963</td>\n",
       "      <td>85.0</td>\n",
       "      <td>1.0</td>\n",
       "      <td>2.0</td>\n",
       "      <td>False</td>\n",
       "      <td>25.1211</td>\n",
       "      <td>80.0</td>\n",
       "      <td>False</td>\n",
       "      <td>False</td>\n",
       "      <td>197000.0</td>\n",
       "    </tr>\n",
       "    <tr>\n",
       "      <th>51355</th>\n",
       "      <td>350000.0</td>\n",
       "      <td>37.094700</td>\n",
       "      <td>-4.387500</td>\n",
       "      <td>140.0</td>\n",
       "      <td>2.0</td>\n",
       "      <td>8.0</td>\n",
       "      <td>True</td>\n",
       "      <td>20.0000</td>\n",
       "      <td>140.0</td>\n",
       "      <td>False</td>\n",
       "      <td>True</td>\n",
       "      <td>200000.0</td>\n",
       "    </tr>\n",
       "    <tr>\n",
       "      <th>...</th>\n",
       "      <td>...</td>\n",
       "      <td>...</td>\n",
       "      <td>...</td>\n",
       "      <td>...</td>\n",
       "      <td>...</td>\n",
       "      <td>...</td>\n",
       "      <td>...</td>\n",
       "      <td>...</td>\n",
       "      <td>...</td>\n",
       "      <td>...</td>\n",
       "      <td>...</td>\n",
       "      <td>...</td>\n",
       "    </tr>\n",
       "    <tr>\n",
       "      <th>634</th>\n",
       "      <td>280000.0</td>\n",
       "      <td>38.078408</td>\n",
       "      <td>-0.654891</td>\n",
       "      <td>80.0</td>\n",
       "      <td>2.0</td>\n",
       "      <td>2.0</td>\n",
       "      <td>True</td>\n",
       "      <td>25.1211</td>\n",
       "      <td>65.0</td>\n",
       "      <td>True</td>\n",
       "      <td>False</td>\n",
       "      <td>197000.0</td>\n",
       "    </tr>\n",
       "    <tr>\n",
       "      <th>119298</th>\n",
       "      <td>50000.0</td>\n",
       "      <td>43.204895</td>\n",
       "      <td>-5.791440</td>\n",
       "      <td>86.0</td>\n",
       "      <td>1.0</td>\n",
       "      <td>3.0</td>\n",
       "      <td>False</td>\n",
       "      <td>30.0000</td>\n",
       "      <td>86.0</td>\n",
       "      <td>False</td>\n",
       "      <td>False</td>\n",
       "      <td>190000.0</td>\n",
       "    </tr>\n",
       "    <tr>\n",
       "      <th>183262</th>\n",
       "      <td>85000.0</td>\n",
       "      <td>37.158049</td>\n",
       "      <td>-3.531664</td>\n",
       "      <td>77.0</td>\n",
       "      <td>1.0</td>\n",
       "      <td>3.0</td>\n",
       "      <td>False</td>\n",
       "      <td>25.1211</td>\n",
       "      <td>67.0</td>\n",
       "      <td>True</td>\n",
       "      <td>False</td>\n",
       "      <td>190000.0</td>\n",
       "    </tr>\n",
       "    <tr>\n",
       "      <th>181573</th>\n",
       "      <td>99000.0</td>\n",
       "      <td>37.219500</td>\n",
       "      <td>-3.688100</td>\n",
       "      <td>128.0</td>\n",
       "      <td>1.0</td>\n",
       "      <td>4.0</td>\n",
       "      <td>False</td>\n",
       "      <td>25.1211</td>\n",
       "      <td>105.0</td>\n",
       "      <td>False</td>\n",
       "      <td>False</td>\n",
       "      <td>190000.0</td>\n",
       "    </tr>\n",
       "    <tr>\n",
       "      <th>20602</th>\n",
       "      <td>122000.0</td>\n",
       "      <td>38.543434</td>\n",
       "      <td>-0.100687</td>\n",
       "      <td>60.0</td>\n",
       "      <td>1.0</td>\n",
       "      <td>2.0</td>\n",
       "      <td>False</td>\n",
       "      <td>30.0000</td>\n",
       "      <td>55.0</td>\n",
       "      <td>False</td>\n",
       "      <td>True</td>\n",
       "      <td>197000.0</td>\n",
       "    </tr>\n",
       "  </tbody>\n",
       "</table>\n",
       "<p>26089 rows × 12 columns</p>\n",
       "</div>"
      ],
      "text/plain": [
       "           price        lat       lng  surface  bathrooms  rooms  garden  \\\n",
       "171709  210000.0  41.681706  2.792384    153.0        2.0    3.0   False   \n",
       "274407  200000.0  41.655024 -0.888262    140.0        1.0    4.0   False   \n",
       "109220  139000.0  37.392931 -1.945951    110.0        2.0    3.0   False   \n",
       "11536    84000.0  38.357757 -0.484963     85.0        1.0    2.0   False   \n",
       "51355   350000.0  37.094700 -4.387500    140.0        2.0    8.0    True   \n",
       "...          ...        ...       ...      ...        ...    ...     ...   \n",
       "634     280000.0  38.078408 -0.654891     80.0        2.0    2.0    True   \n",
       "119298   50000.0  43.204895 -5.791440     86.0        1.0    3.0   False   \n",
       "183262   85000.0  37.158049 -3.531664     77.0        1.0    3.0   False   \n",
       "181573   99000.0  37.219500 -3.688100    128.0        1.0    4.0   False   \n",
       "20602   122000.0  38.543434 -0.100687     60.0        1.0    2.0   False   \n",
       "\n",
       "            age  useful_surface  elevator  garage     state  \n",
       "171709  25.1211           120.0      True   False  190000.0  \n",
       "274407  25.1211           125.0      True   False  197000.0  \n",
       "109220  25.1211           100.0      True    True  197000.0  \n",
       "11536   25.1211            80.0     False   False  197000.0  \n",
       "51355   20.0000           140.0     False    True  200000.0  \n",
       "...         ...             ...       ...     ...       ...  \n",
       "634     25.1211            65.0      True   False  197000.0  \n",
       "119298  30.0000            86.0     False   False  190000.0  \n",
       "183262  25.1211            67.0      True   False  190000.0  \n",
       "181573  25.1211           105.0     False   False  190000.0  \n",
       "20602   30.0000            55.0     False    True  197000.0  \n",
       "\n",
       "[26089 rows x 12 columns]"
      ]
     },
     "execution_count": 66,
     "metadata": {},
     "output_type": "execute_result"
    }
   ],
   "source": [
    "df_validation"
   ]
  },
  {
   "cell_type": "code",
   "execution_count": 67,
   "metadata": {},
   "outputs": [
    {
     "data": {
      "text/html": [
       "<div>\n",
       "<style scoped>\n",
       "    .dataframe tbody tr th:only-of-type {\n",
       "        vertical-align: middle;\n",
       "    }\n",
       "\n",
       "    .dataframe tbody tr th {\n",
       "        vertical-align: top;\n",
       "    }\n",
       "\n",
       "    .dataframe thead th {\n",
       "        text-align: right;\n",
       "    }\n",
       "</style>\n",
       "<table border=\"1\" class=\"dataframe\">\n",
       "  <thead>\n",
       "    <tr style=\"text-align: right;\">\n",
       "      <th></th>\n",
       "      <th>r2</th>\n",
       "      <th>mae</th>\n",
       "      <th>mse</th>\n",
       "    </tr>\n",
       "  </thead>\n",
       "  <tbody>\n",
       "    <tr>\n",
       "      <th>0</th>\n",
       "      <td>0.61052</td>\n",
       "      <td>85603.197519</td>\n",
       "      <td>8.060064e+10</td>\n",
       "    </tr>\n",
       "  </tbody>\n",
       "</table>\n",
       "</div>"
      ],
      "text/plain": [
       "        r2           mae           mse\n",
       "0  0.61052  85603.197519  8.060064e+10"
      ]
     },
     "execution_count": 67,
     "metadata": {},
     "output_type": "execute_result"
    }
   ],
   "source": [
    "X_val = df_validation.drop(['price'], axis = 1)\n",
    "y_val = df_validation[['price']]\n",
    "\n",
    "yhat = model.predict(X_val)\n",
    "\n",
    "pd.DataFrame([[r2_score(y_val, yhat),\n",
    "              mean_absolute_error(y_val, yhat),\n",
    "              mean_squared_error(y_val, yhat)]],\n",
    "             columns = ['r2', 'mae', 'mse'])"
   ]
  },
  {
   "cell_type": "code",
   "execution_count": 77,
   "metadata": {},
   "outputs": [
    {
     "name": "stdout",
     "output_type": "stream",
     "text": [
      "<class 'pandas.core.frame.DataFrame'> (140711, 11)\n",
      "<class 'pandas.core.frame.DataFrame'> (26089, 11)\n",
      "<class 'pandas.core.frame.DataFrame'> (140711, 1)\n",
      "<class 'pandas.core.frame.DataFrame'> (26089, 1)\n"
     ]
    }
   ],
   "source": [
    "print(type(X), X.shape)\n",
    "print(type(X_val), X_val.shape)\n",
    "print(type(y), y.shape)\n",
    "print(type(y_val), y_val.shape)"
   ]
  },
  {
   "cell_type": "code",
   "execution_count": 69,
   "metadata": {},
   "outputs": [],
   "source": [
    "import pickle as pkl\n",
    "\n",
    "with open('./model.pkl', 'bw') as file:\n",
    "    pkl.dump(model, file)"
   ]
  },
  {
   "cell_type": "code",
   "execution_count": 78,
   "metadata": {},
   "outputs": [],
   "source": [
    "# X = X.to_numpy().astype(np.float32)\n",
    "# y = y.to_numpy().astype(np.float32)\n",
    "# X_val = X_val.to_numpy().astype(np.float32)\n",
    "# y_val = y_val.to_numpy().astype(np.float32)"
   ]
  },
  {
   "cell_type": "code",
   "execution_count": 82,
   "metadata": {},
   "outputs": [
    {
     "name": "stdout",
     "output_type": "stream",
     "text": [
      "Epoch 1/50\n",
      "2199/2199 [==============================] - 33s 14ms/step - loss: 144334372864.0000 - r2_score: 0.0231 - mean_squared_logarithmic_error: 0.6816 - mean_absolute_error: 201692.4375 - val_loss: 183154245632.0000 - val_r2_score: 0.1150 - val_mean_squared_logarithmic_error: 0.7064 - val_mean_absolute_error: 185828.4531\n",
      "Epoch 2/50\n",
      "2199/2199 [==============================] - 35s 16ms/step - loss: 114793029632.0000 - r2_score: 0.2230 - mean_squared_logarithmic_error: 0.5248 - mean_absolute_error: 176600.6719 - val_loss: 174437400576.0000 - val_r2_score: 0.1571 - val_mean_squared_logarithmic_error: 0.7966 - val_mean_absolute_error: 205688.0781\n",
      "Epoch 3/50\n",
      "2199/2199 [==============================] - 33s 15ms/step - loss: 113096024064.0000 - r2_score: 0.2345 - mean_squared_logarithmic_error: 0.5079 - mean_absolute_error: 174335.4375 - val_loss: 170879778816.0000 - val_r2_score: 0.1743 - val_mean_squared_logarithmic_error: 0.5728 - val_mean_absolute_error: 169405.2344\n",
      "Epoch 4/50\n",
      "2199/2199 [==============================] - 31s 14ms/step - loss: 112307134464.0000 - r2_score: 0.2399 - mean_squared_logarithmic_error: 0.5005 - mean_absolute_error: 173407.5938 - val_loss: 171925962752.0000 - val_r2_score: 0.1692 - val_mean_squared_logarithmic_error: 0.6985 - val_mean_absolute_error: 191886.2656\n",
      "Epoch 5/50\n",
      "2199/2199 [==============================] - 34s 15ms/step - loss: 112097566720.0000 - r2_score: 0.2413 - mean_squared_logarithmic_error: 0.4981 - mean_absolute_error: 172941.0781 - val_loss: 169665822720.0000 - val_r2_score: 0.1801 - val_mean_squared_logarithmic_error: 0.5497 - val_mean_absolute_error: 167617.8906\n",
      "Epoch 6/50\n",
      "2199/2199 [==============================] - 30s 14ms/step - loss: 111688409088.0000 - r2_score: 0.2441 - mean_squared_logarithmic_error: 0.4958 - mean_absolute_error: 172656.0625 - val_loss: 172905971712.0000 - val_r2_score: 0.1645 - val_mean_squared_logarithmic_error: 0.5433 - val_mean_absolute_error: 164760.0781\n",
      "Epoch 7/50\n",
      "2199/2199 [==============================] - 31s 14ms/step - loss: 111127986176.0000 - r2_score: 0.2479 - mean_squared_logarithmic_error: 0.4904 - mean_absolute_error: 171821.7812 - val_loss: 169944432640.0000 - val_r2_score: 0.1788 - val_mean_squared_logarithmic_error: 0.5870 - val_mean_absolute_error: 170712.7031\n",
      "Epoch 8/50\n",
      "2199/2199 [==============================] - 31s 14ms/step - loss: 110643552256.0000 - r2_score: 0.2511 - mean_squared_logarithmic_error: 0.4865 - mean_absolute_error: 171161.0469 - val_loss: 169136390144.0000 - val_r2_score: 0.1827 - val_mean_squared_logarithmic_error: 0.5812 - val_mean_absolute_error: 170885.9062\n",
      "Epoch 9/50\n",
      "2199/2199 [==============================] - 30s 14ms/step - loss: 110933966848.0000 - r2_score: 0.2492 - mean_squared_logarithmic_error: 0.4882 - mean_absolute_error: 171426.2344 - val_loss: 168838529024.0000 - val_r2_score: 0.1841 - val_mean_squared_logarithmic_error: 0.6186 - val_mean_absolute_error: 177403.2656\n",
      "Epoch 10/50\n",
      "2199/2199 [==============================] - 33s 15ms/step - loss: 110468186112.0000 - r2_score: 0.2523 - mean_squared_logarithmic_error: 0.4857 - mean_absolute_error: 171097.7656 - val_loss: 171027562496.0000 - val_r2_score: 0.1736 - val_mean_squared_logarithmic_error: 0.5329 - val_mean_absolute_error: 163650.1875\n",
      "Epoch 11/50\n",
      "2199/2199 [==============================] - 33s 15ms/step - loss: 110230355968.0000 - r2_score: 0.2539 - mean_squared_logarithmic_error: 0.4837 - mean_absolute_error: 170707.8438 - val_loss: 170383671296.0000 - val_r2_score: 0.1767 - val_mean_squared_logarithmic_error: 0.6956 - val_mean_absolute_error: 190021.6094\n",
      "Epoch 12/50\n",
      "2199/2199 [==============================] - 34s 15ms/step - loss: 110250885120.0000 - r2_score: 0.2538 - mean_squared_logarithmic_error: 0.4838 - mean_absolute_error: 170711.5312 - val_loss: 168428568576.0000 - val_r2_score: 0.1861 - val_mean_squared_logarithmic_error: 0.6053 - val_mean_absolute_error: 175140.3125\n",
      "Epoch 13/50\n",
      "2199/2199 [==============================] - 32s 15ms/step - loss: 109997375488.0000 - r2_score: 0.2555 - mean_squared_logarithmic_error: 0.4826 - mean_absolute_error: 170564.8281 - val_loss: 176156360704.0000 - val_r2_score: 0.1488 - val_mean_squared_logarithmic_error: 0.8050 - val_mean_absolute_error: 212099.8281\n",
      "Epoch 14/50\n",
      "2199/2199 [==============================] - 33s 15ms/step - loss: 110004625408.0000 - r2_score: 0.2555 - mean_squared_logarithmic_error: 0.4811 - mean_absolute_error: 170440.3125 - val_loss: 173628964864.0000 - val_r2_score: 0.1610 - val_mean_squared_logarithmic_error: 0.5183 - val_mean_absolute_error: 161369.5938\n",
      "Epoch 15/50\n",
      "2199/2199 [==============================] - 33s 15ms/step - loss: 109675773952.0000 - r2_score: 0.2577 - mean_squared_logarithmic_error: 0.4782 - mean_absolute_error: 169746.0938 - val_loss: 168549744640.0000 - val_r2_score: 0.1855 - val_mean_squared_logarithmic_error: 0.6298 - val_mean_absolute_error: 180597.9219\n",
      "Epoch 16/50\n",
      "2199/2199 [==============================] - 32s 15ms/step - loss: 109547634688.0000 - r2_score: 0.2585 - mean_squared_logarithmic_error: 0.4784 - mean_absolute_error: 169900.1875 - val_loss: 168126087168.0000 - val_r2_score: 0.1876 - val_mean_squared_logarithmic_error: 0.6042 - val_mean_absolute_error: 175247.1719\n",
      "Epoch 17/50\n",
      "2199/2199 [==============================] - 32s 15ms/step - loss: 109505929216.0000 - r2_score: 0.2588 - mean_squared_logarithmic_error: 0.4768 - mean_absolute_error: 169533.9844 - val_loss: 168063926272.0000 - val_r2_score: 0.1879 - val_mean_squared_logarithmic_error: 0.6046 - val_mean_absolute_error: 176364.1875\n",
      "Epoch 18/50\n",
      " 311/2199 [===>..........................] - ETA: 26s - loss: 113705975808.0000 - r2_score: 0.2347 - mean_squared_logarithmic_error: 0.4849 - mean_absolute_error: 169808.4375"
     ]
    },
    {
     "ename": "KeyboardInterrupt",
     "evalue": "",
     "output_type": "error",
     "traceback": [
      "\u001b[1;31m---------------------------------------------------------------------------\u001b[0m",
      "\u001b[1;31mKeyboardInterrupt\u001b[0m                         Traceback (most recent call last)",
      "\u001b[1;32mc:\\Users\\cuicuidev\\Desktop\\pisoscom\\ml\\model.ipynb Cell 40\u001b[0m line \u001b[0;36m1\n\u001b[0;32m     <a href='vscode-notebook-cell:/c%3A/Users/cuicuidev/Desktop/pisoscom/ml/model.ipynb#X51sZmlsZQ%3D%3D?line=13'>14</a>\u001b[0m model\u001b[39m.\u001b[39madd(Dense(\u001b[39m1\u001b[39m, kernel_initializer\u001b[39m=\u001b[39m\u001b[39m'\u001b[39m\u001b[39mhe_normal\u001b[39m\u001b[39m'\u001b[39m))\n\u001b[0;32m     <a href='vscode-notebook-cell:/c%3A/Users/cuicuidev/Desktop/pisoscom/ml/model.ipynb#X51sZmlsZQ%3D%3D?line=15'>16</a>\u001b[0m model\u001b[39m.\u001b[39mcompile(optimizer \u001b[39m=\u001b[39m \u001b[39m'\u001b[39m\u001b[39madam\u001b[39m\u001b[39m'\u001b[39m, loss \u001b[39m=\u001b[39m \u001b[39m'\u001b[39m\u001b[39mmse\u001b[39m\u001b[39m'\u001b[39m, metrics \u001b[39m=\u001b[39m [R2Score(), MeanSquaredLogarithmicError(), MeanAbsoluteError()])\n\u001b[1;32m---> <a href='vscode-notebook-cell:/c%3A/Users/cuicuidev/Desktop/pisoscom/ml/model.ipynb#X51sZmlsZQ%3D%3D?line=17'>18</a>\u001b[0m history \u001b[39m=\u001b[39m model\u001b[39m.\u001b[39;49mfit(X, y, epochs \u001b[39m=\u001b[39;49m \u001b[39m50\u001b[39;49m, validation_data\u001b[39m=\u001b[39;49m(X_val, y_val), batch_size\u001b[39m=\u001b[39;49m\u001b[39m64\u001b[39;49m, validation_batch_size\u001b[39m=\u001b[39;49m\u001b[39m64\u001b[39;49m)\n",
      "File \u001b[1;32mc:\\Users\\cuicuidev\\Desktop\\pisoscom\\venv\\lib\\site-packages\\keras\\src\\utils\\traceback_utils.py:65\u001b[0m, in \u001b[0;36mfilter_traceback.<locals>.error_handler\u001b[1;34m(*args, **kwargs)\u001b[0m\n\u001b[0;32m     63\u001b[0m filtered_tb \u001b[39m=\u001b[39m \u001b[39mNone\u001b[39;00m\n\u001b[0;32m     64\u001b[0m \u001b[39mtry\u001b[39;00m:\n\u001b[1;32m---> 65\u001b[0m     \u001b[39mreturn\u001b[39;00m fn(\u001b[39m*\u001b[39margs, \u001b[39m*\u001b[39m\u001b[39m*\u001b[39mkwargs)\n\u001b[0;32m     66\u001b[0m \u001b[39mexcept\u001b[39;00m \u001b[39mException\u001b[39;00m \u001b[39mas\u001b[39;00m e:\n\u001b[0;32m     67\u001b[0m     filtered_tb \u001b[39m=\u001b[39m _process_traceback_frames(e\u001b[39m.\u001b[39m__traceback__)\n",
      "File \u001b[1;32mc:\\Users\\cuicuidev\\Desktop\\pisoscom\\venv\\lib\\site-packages\\keras\\src\\engine\\training.py:1783\u001b[0m, in \u001b[0;36mModel.fit\u001b[1;34m(self, x, y, batch_size, epochs, verbose, callbacks, validation_split, validation_data, shuffle, class_weight, sample_weight, initial_epoch, steps_per_epoch, validation_steps, validation_batch_size, validation_freq, max_queue_size, workers, use_multiprocessing)\u001b[0m\n\u001b[0;32m   1775\u001b[0m \u001b[39mwith\u001b[39;00m tf\u001b[39m.\u001b[39mprofiler\u001b[39m.\u001b[39mexperimental\u001b[39m.\u001b[39mTrace(\n\u001b[0;32m   1776\u001b[0m     \u001b[39m\"\u001b[39m\u001b[39mtrain\u001b[39m\u001b[39m\"\u001b[39m,\n\u001b[0;32m   1777\u001b[0m     epoch_num\u001b[39m=\u001b[39mepoch,\n\u001b[1;32m   (...)\u001b[0m\n\u001b[0;32m   1780\u001b[0m     _r\u001b[39m=\u001b[39m\u001b[39m1\u001b[39m,\n\u001b[0;32m   1781\u001b[0m ):\n\u001b[0;32m   1782\u001b[0m     callbacks\u001b[39m.\u001b[39mon_train_batch_begin(step)\n\u001b[1;32m-> 1783\u001b[0m     tmp_logs \u001b[39m=\u001b[39m \u001b[39mself\u001b[39;49m\u001b[39m.\u001b[39;49mtrain_function(iterator)\n\u001b[0;32m   1784\u001b[0m     \u001b[39mif\u001b[39;00m data_handler\u001b[39m.\u001b[39mshould_sync:\n\u001b[0;32m   1785\u001b[0m         context\u001b[39m.\u001b[39masync_wait()\n",
      "File \u001b[1;32mc:\\Users\\cuicuidev\\Desktop\\pisoscom\\venv\\lib\\site-packages\\tensorflow\\python\\util\\traceback_utils.py:150\u001b[0m, in \u001b[0;36mfilter_traceback.<locals>.error_handler\u001b[1;34m(*args, **kwargs)\u001b[0m\n\u001b[0;32m    148\u001b[0m filtered_tb \u001b[39m=\u001b[39m \u001b[39mNone\u001b[39;00m\n\u001b[0;32m    149\u001b[0m \u001b[39mtry\u001b[39;00m:\n\u001b[1;32m--> 150\u001b[0m   \u001b[39mreturn\u001b[39;00m fn(\u001b[39m*\u001b[39margs, \u001b[39m*\u001b[39m\u001b[39m*\u001b[39mkwargs)\n\u001b[0;32m    151\u001b[0m \u001b[39mexcept\u001b[39;00m \u001b[39mException\u001b[39;00m \u001b[39mas\u001b[39;00m e:\n\u001b[0;32m    152\u001b[0m   filtered_tb \u001b[39m=\u001b[39m _process_traceback_frames(e\u001b[39m.\u001b[39m__traceback__)\n",
      "File \u001b[1;32mc:\\Users\\cuicuidev\\Desktop\\pisoscom\\venv\\lib\\site-packages\\tensorflow\\python\\eager\\polymorphic_function\\polymorphic_function.py:831\u001b[0m, in \u001b[0;36mFunction.__call__\u001b[1;34m(self, *args, **kwds)\u001b[0m\n\u001b[0;32m    828\u001b[0m compiler \u001b[39m=\u001b[39m \u001b[39m\"\u001b[39m\u001b[39mxla\u001b[39m\u001b[39m\"\u001b[39m \u001b[39mif\u001b[39;00m \u001b[39mself\u001b[39m\u001b[39m.\u001b[39m_jit_compile \u001b[39melse\u001b[39;00m \u001b[39m\"\u001b[39m\u001b[39mnonXla\u001b[39m\u001b[39m\"\u001b[39m\n\u001b[0;32m    830\u001b[0m \u001b[39mwith\u001b[39;00m OptionalXlaContext(\u001b[39mself\u001b[39m\u001b[39m.\u001b[39m_jit_compile):\n\u001b[1;32m--> 831\u001b[0m   result \u001b[39m=\u001b[39m \u001b[39mself\u001b[39m\u001b[39m.\u001b[39m_call(\u001b[39m*\u001b[39margs, \u001b[39m*\u001b[39m\u001b[39m*\u001b[39mkwds)\n\u001b[0;32m    833\u001b[0m new_tracing_count \u001b[39m=\u001b[39m \u001b[39mself\u001b[39m\u001b[39m.\u001b[39mexperimental_get_tracing_count()\n\u001b[0;32m    834\u001b[0m without_tracing \u001b[39m=\u001b[39m (tracing_count \u001b[39m==\u001b[39m new_tracing_count)\n",
      "File \u001b[1;32mc:\\Users\\cuicuidev\\Desktop\\pisoscom\\venv\\lib\\site-packages\\tensorflow\\python\\eager\\polymorphic_function\\polymorphic_function.py:867\u001b[0m, in \u001b[0;36mFunction._call\u001b[1;34m(self, *args, **kwds)\u001b[0m\n\u001b[0;32m    864\u001b[0m   \u001b[39mself\u001b[39m\u001b[39m.\u001b[39m_lock\u001b[39m.\u001b[39mrelease()\n\u001b[0;32m    865\u001b[0m   \u001b[39m# In this case we have created variables on the first call, so we run the\u001b[39;00m\n\u001b[0;32m    866\u001b[0m   \u001b[39m# defunned version which is guaranteed to never create variables.\u001b[39;00m\n\u001b[1;32m--> 867\u001b[0m   \u001b[39mreturn\u001b[39;00m tracing_compilation\u001b[39m.\u001b[39;49mcall_function(\n\u001b[0;32m    868\u001b[0m       args, kwds, \u001b[39mself\u001b[39;49m\u001b[39m.\u001b[39;49m_no_variable_creation_config\n\u001b[0;32m    869\u001b[0m   )\n\u001b[0;32m    870\u001b[0m \u001b[39melif\u001b[39;00m \u001b[39mself\u001b[39m\u001b[39m.\u001b[39m_variable_creation_config \u001b[39mis\u001b[39;00m \u001b[39mnot\u001b[39;00m \u001b[39mNone\u001b[39;00m:\n\u001b[0;32m    871\u001b[0m   \u001b[39m# Release the lock early so that multiple threads can perform the call\u001b[39;00m\n\u001b[0;32m    872\u001b[0m   \u001b[39m# in parallel.\u001b[39;00m\n\u001b[0;32m    873\u001b[0m   \u001b[39mself\u001b[39m\u001b[39m.\u001b[39m_lock\u001b[39m.\u001b[39mrelease()\n",
      "File \u001b[1;32mc:\\Users\\cuicuidev\\Desktop\\pisoscom\\venv\\lib\\site-packages\\tensorflow\\python\\eager\\polymorphic_function\\tracing_compilation.py:139\u001b[0m, in \u001b[0;36mcall_function\u001b[1;34m(args, kwargs, tracing_options)\u001b[0m\n\u001b[0;32m    137\u001b[0m bound_args \u001b[39m=\u001b[39m function\u001b[39m.\u001b[39mfunction_type\u001b[39m.\u001b[39mbind(\u001b[39m*\u001b[39margs, \u001b[39m*\u001b[39m\u001b[39m*\u001b[39mkwargs)\n\u001b[0;32m    138\u001b[0m flat_inputs \u001b[39m=\u001b[39m function\u001b[39m.\u001b[39mfunction_type\u001b[39m.\u001b[39munpack_inputs(bound_args)\n\u001b[1;32m--> 139\u001b[0m \u001b[39mreturn\u001b[39;00m function\u001b[39m.\u001b[39;49m_call_flat(  \u001b[39m# pylint: disable=protected-access\u001b[39;49;00m\n\u001b[0;32m    140\u001b[0m     flat_inputs, captured_inputs\u001b[39m=\u001b[39;49mfunction\u001b[39m.\u001b[39;49mcaptured_inputs\n\u001b[0;32m    141\u001b[0m )\n",
      "File \u001b[1;32mc:\\Users\\cuicuidev\\Desktop\\pisoscom\\venv\\lib\\site-packages\\tensorflow\\python\\eager\\polymorphic_function\\concrete_function.py:1264\u001b[0m, in \u001b[0;36mConcreteFunction._call_flat\u001b[1;34m(self, tensor_inputs, captured_inputs)\u001b[0m\n\u001b[0;32m   1260\u001b[0m possible_gradient_type \u001b[39m=\u001b[39m gradients_util\u001b[39m.\u001b[39mPossibleTapeGradientTypes(args)\n\u001b[0;32m   1261\u001b[0m \u001b[39mif\u001b[39;00m (possible_gradient_type \u001b[39m==\u001b[39m gradients_util\u001b[39m.\u001b[39mPOSSIBLE_GRADIENT_TYPES_NONE\n\u001b[0;32m   1262\u001b[0m     \u001b[39mand\u001b[39;00m executing_eagerly):\n\u001b[0;32m   1263\u001b[0m   \u001b[39m# No tape is watching; skip to running the function.\u001b[39;00m\n\u001b[1;32m-> 1264\u001b[0m   \u001b[39mreturn\u001b[39;00m \u001b[39mself\u001b[39;49m\u001b[39m.\u001b[39;49m_inference_function\u001b[39m.\u001b[39;49mflat_call(args)\n\u001b[0;32m   1265\u001b[0m forward_backward \u001b[39m=\u001b[39m \u001b[39mself\u001b[39m\u001b[39m.\u001b[39m_select_forward_and_backward_functions(\n\u001b[0;32m   1266\u001b[0m     args,\n\u001b[0;32m   1267\u001b[0m     possible_gradient_type,\n\u001b[0;32m   1268\u001b[0m     executing_eagerly)\n\u001b[0;32m   1269\u001b[0m forward_function, args_with_tangents \u001b[39m=\u001b[39m forward_backward\u001b[39m.\u001b[39mforward()\n",
      "File \u001b[1;32mc:\\Users\\cuicuidev\\Desktop\\pisoscom\\venv\\lib\\site-packages\\tensorflow\\python\\eager\\polymorphic_function\\atomic_function.py:217\u001b[0m, in \u001b[0;36mAtomicFunction.flat_call\u001b[1;34m(self, args)\u001b[0m\n\u001b[0;32m    215\u001b[0m \u001b[39mdef\u001b[39;00m \u001b[39mflat_call\u001b[39m(\u001b[39mself\u001b[39m, args: Sequence[core\u001b[39m.\u001b[39mTensor]) \u001b[39m-\u001b[39m\u001b[39m>\u001b[39m Any:\n\u001b[0;32m    216\u001b[0m \u001b[39m  \u001b[39m\u001b[39m\"\"\"Calls with tensor inputs and returns the structured output.\"\"\"\u001b[39;00m\n\u001b[1;32m--> 217\u001b[0m   flat_outputs \u001b[39m=\u001b[39m \u001b[39mself\u001b[39;49m(\u001b[39m*\u001b[39;49margs)\n\u001b[0;32m    218\u001b[0m   \u001b[39mreturn\u001b[39;00m \u001b[39mself\u001b[39m\u001b[39m.\u001b[39mfunction_type\u001b[39m.\u001b[39mpack_output(flat_outputs)\n",
      "File \u001b[1;32mc:\\Users\\cuicuidev\\Desktop\\pisoscom\\venv\\lib\\site-packages\\tensorflow\\python\\eager\\polymorphic_function\\atomic_function.py:252\u001b[0m, in \u001b[0;36mAtomicFunction.__call__\u001b[1;34m(self, *args)\u001b[0m\n\u001b[0;32m    250\u001b[0m \u001b[39mwith\u001b[39;00m record\u001b[39m.\u001b[39mstop_recording():\n\u001b[0;32m    251\u001b[0m   \u001b[39mif\u001b[39;00m \u001b[39mself\u001b[39m\u001b[39m.\u001b[39m_bound_context\u001b[39m.\u001b[39mexecuting_eagerly():\n\u001b[1;32m--> 252\u001b[0m     outputs \u001b[39m=\u001b[39m \u001b[39mself\u001b[39;49m\u001b[39m.\u001b[39;49m_bound_context\u001b[39m.\u001b[39;49mcall_function(\n\u001b[0;32m    253\u001b[0m         \u001b[39mself\u001b[39;49m\u001b[39m.\u001b[39;49mname,\n\u001b[0;32m    254\u001b[0m         \u001b[39mlist\u001b[39;49m(args),\n\u001b[0;32m    255\u001b[0m         \u001b[39mlen\u001b[39;49m(\u001b[39mself\u001b[39;49m\u001b[39m.\u001b[39;49mfunction_type\u001b[39m.\u001b[39;49mflat_outputs),\n\u001b[0;32m    256\u001b[0m     )\n\u001b[0;32m    257\u001b[0m   \u001b[39melse\u001b[39;00m:\n\u001b[0;32m    258\u001b[0m     outputs \u001b[39m=\u001b[39m make_call_op_in_graph(\n\u001b[0;32m    259\u001b[0m         \u001b[39mself\u001b[39m,\n\u001b[0;32m    260\u001b[0m         \u001b[39mlist\u001b[39m(args),\n\u001b[0;32m    261\u001b[0m         \u001b[39mself\u001b[39m\u001b[39m.\u001b[39m_bound_context\u001b[39m.\u001b[39mfunction_call_options\u001b[39m.\u001b[39mas_attrs(),\n\u001b[0;32m    262\u001b[0m     )\n",
      "File \u001b[1;32mc:\\Users\\cuicuidev\\Desktop\\pisoscom\\venv\\lib\\site-packages\\tensorflow\\python\\eager\\context.py:1479\u001b[0m, in \u001b[0;36mContext.call_function\u001b[1;34m(self, name, tensor_inputs, num_outputs)\u001b[0m\n\u001b[0;32m   1477\u001b[0m cancellation_context \u001b[39m=\u001b[39m cancellation\u001b[39m.\u001b[39mcontext()\n\u001b[0;32m   1478\u001b[0m \u001b[39mif\u001b[39;00m cancellation_context \u001b[39mis\u001b[39;00m \u001b[39mNone\u001b[39;00m:\n\u001b[1;32m-> 1479\u001b[0m   outputs \u001b[39m=\u001b[39m execute\u001b[39m.\u001b[39;49mexecute(\n\u001b[0;32m   1480\u001b[0m       name\u001b[39m.\u001b[39;49mdecode(\u001b[39m\"\u001b[39;49m\u001b[39mutf-8\u001b[39;49m\u001b[39m\"\u001b[39;49m),\n\u001b[0;32m   1481\u001b[0m       num_outputs\u001b[39m=\u001b[39;49mnum_outputs,\n\u001b[0;32m   1482\u001b[0m       inputs\u001b[39m=\u001b[39;49mtensor_inputs,\n\u001b[0;32m   1483\u001b[0m       attrs\u001b[39m=\u001b[39;49mattrs,\n\u001b[0;32m   1484\u001b[0m       ctx\u001b[39m=\u001b[39;49m\u001b[39mself\u001b[39;49m,\n\u001b[0;32m   1485\u001b[0m   )\n\u001b[0;32m   1486\u001b[0m \u001b[39melse\u001b[39;00m:\n\u001b[0;32m   1487\u001b[0m   outputs \u001b[39m=\u001b[39m execute\u001b[39m.\u001b[39mexecute_with_cancellation(\n\u001b[0;32m   1488\u001b[0m       name\u001b[39m.\u001b[39mdecode(\u001b[39m\"\u001b[39m\u001b[39mutf-8\u001b[39m\u001b[39m\"\u001b[39m),\n\u001b[0;32m   1489\u001b[0m       num_outputs\u001b[39m=\u001b[39mnum_outputs,\n\u001b[1;32m   (...)\u001b[0m\n\u001b[0;32m   1493\u001b[0m       cancellation_manager\u001b[39m=\u001b[39mcancellation_context,\n\u001b[0;32m   1494\u001b[0m   )\n",
      "File \u001b[1;32mc:\\Users\\cuicuidev\\Desktop\\pisoscom\\venv\\lib\\site-packages\\tensorflow\\python\\eager\\execute.py:60\u001b[0m, in \u001b[0;36mquick_execute\u001b[1;34m(op_name, num_outputs, inputs, attrs, ctx, name)\u001b[0m\n\u001b[0;32m     53\u001b[0m   \u001b[39m# Convert any objects of type core_types.Tensor to Tensor.\u001b[39;00m\n\u001b[0;32m     54\u001b[0m   inputs \u001b[39m=\u001b[39m [\n\u001b[0;32m     55\u001b[0m       tensor_conversion_registry\u001b[39m.\u001b[39mconvert(t)\n\u001b[0;32m     56\u001b[0m       \u001b[39mif\u001b[39;00m \u001b[39misinstance\u001b[39m(t, core_types\u001b[39m.\u001b[39mTensor)\n\u001b[0;32m     57\u001b[0m       \u001b[39melse\u001b[39;00m t\n\u001b[0;32m     58\u001b[0m       \u001b[39mfor\u001b[39;00m t \u001b[39min\u001b[39;00m inputs\n\u001b[0;32m     59\u001b[0m   ]\n\u001b[1;32m---> 60\u001b[0m   tensors \u001b[39m=\u001b[39m pywrap_tfe\u001b[39m.\u001b[39;49mTFE_Py_Execute(ctx\u001b[39m.\u001b[39;49m_handle, device_name, op_name,\n\u001b[0;32m     61\u001b[0m                                       inputs, attrs, num_outputs)\n\u001b[0;32m     62\u001b[0m \u001b[39mexcept\u001b[39;00m core\u001b[39m.\u001b[39m_NotOkStatusException \u001b[39mas\u001b[39;00m e:\n\u001b[0;32m     63\u001b[0m   \u001b[39mif\u001b[39;00m name \u001b[39mis\u001b[39;00m \u001b[39mnot\u001b[39;00m \u001b[39mNone\u001b[39;00m:\n",
      "\u001b[1;31mKeyboardInterrupt\u001b[0m: "
     ]
    }
   ],
   "source": [
    "# import tensorflow as tf\n",
    "# from keras.models import Sequential\n",
    "# from keras.layers import Input, Dense\n",
    "# from keras.metrics import R2Score, MeanSquaredLogarithmicError, MeanSquaredError, MeanAbsoluteError\n",
    "\n",
    "# with tf.device(\"/GPU:0\"):\n",
    "\n",
    "#     model = Sequential()\n",
    "    \n",
    "#     model.add(Input(shape=(None, 11)))\n",
    "#     model.add(Dense(128*8, activation='relu', kernel_initializer='he_normal'))\n",
    "#     model.add(Dense(64*8, activation='relu', kernel_initializer='he_normal'))\n",
    "#     model.add(Dense(64*2, activation='relu', kernel_initializer='he_normal'))\n",
    "#     model.add(Dense(1, kernel_initializer='he_normal'))\n",
    "\n",
    "#     model.compile(optimizer = 'adam', loss = 'mse', metrics = [R2Score(), MeanSquaredLogarithmicError(), MeanAbsoluteError()])\n",
    "\n",
    "#     history = model.fit(X, y, epochs = 50, validation_data=(X_val, y_val), batch_size=64, validation_batch_size=64)"
   ]
  },
  {
   "cell_type": "code",
   "execution_count": null,
   "metadata": {},
   "outputs": [],
   "source": [
    "# import plotly.express as px\n",
    "# fig = px.line(pd.DataFrame(history.history))"
   ]
  },
  {
   "cell_type": "code",
   "execution_count": null,
   "metadata": {},
   "outputs": [
    {
     "data": {
      "application/vnd.plotly.v1+json": {
       "config": {
        "plotlyServerURL": "https://plot.ly"
       },
       "data": [
        {
         "hovertemplate": "variable=loss<br>index=%{x}<br>value=%{y}<extra></extra>",
         "legendgroup": "loss",
         "line": {
          "color": "#636efa",
          "dash": "solid"
         },
         "marker": {
          "symbol": "circle"
         },
         "mode": "lines",
         "name": "loss",
         "orientation": "v",
         "showlegend": true,
         "type": "scatter",
         "x": [
          0,
          1,
          2,
          3,
          4,
          5,
          6,
          7,
          8,
          9,
          10,
          11,
          12,
          13,
          14,
          15,
          16,
          17,
          18,
          19,
          20,
          21,
          22,
          23,
          24,
          25,
          26,
          27,
          28,
          29,
          30,
          31,
          32,
          33,
          34,
          35,
          36,
          37,
          38,
          39,
          40,
          41,
          42,
          43,
          44,
          45,
          46,
          47,
          48,
          49
         ],
         "xaxis": "x",
         "y": [
          166103990272,
          147708002304,
          136138489856,
          129692049408,
          128439607296,
          127913107456,
          127325233152,
          126529036288,
          125989224448,
          125294534656,
          124697591808,
          123925962752,
          123284267008,
          122734387200,
          122270982144,
          121816866816,
          121180463104,
          121013010432,
          120633745408,
          120269455360,
          120031592448,
          119757357056,
          119496261632,
          119458660352,
          119162249216,
          119157047296,
          118869614592,
          118605053952,
          118313009152,
          118143188992,
          117905186816,
          117902213120,
          117637382144,
          117233082368,
          117005099008,
          116768120832,
          116422295552,
          116259397632,
          116118102016,
          115760668672,
          115240960000,
          115111624704,
          114870525952,
          114681528320,
          114252775424,
          114226421760,
          113985970176,
          113702805504,
          113465196544,
          113331773440
         ],
         "yaxis": "y"
        },
        {
         "hovertemplate": "variable=r2_score<br>index=%{x}<br>value=%{y}<extra></extra>",
         "legendgroup": "r2_score",
         "line": {
          "color": "#EF553B",
          "dash": "solid"
         },
         "marker": {
          "symbol": "circle"
         },
         "mode": "lines",
         "name": "r2_score",
         "orientation": "v",
         "showlegend": true,
         "type": "scatter",
         "x": [
          0,
          1,
          2,
          3,
          4,
          5,
          6,
          7,
          8,
          9,
          10,
          11,
          12,
          13,
          14,
          15,
          16,
          17,
          18,
          19,
          20,
          21,
          22,
          23,
          24,
          25,
          26,
          27,
          28,
          29,
          30,
          31,
          32,
          33,
          34,
          35,
          36,
          37,
          38,
          39,
          40,
          41,
          42,
          43,
          44,
          45,
          46,
          47,
          48,
          49
         ],
         "xaxis": "x",
         "y": [
          0.24747473001480103,
          0.3308154344558716,
          0.38323283195495605,
          0.41243791580200195,
          0.4181116819381714,
          0.42049741744995117,
          0.42315953969955444,
          0.42676687240600586,
          0.42921149730682373,
          0.4323607087135315,
          0.43506473302841187,
          0.43855953216552734,
          0.441467821598053,
          0.4439595341682434,
          0.4460573196411133,
          0.4481152892112732,
          0.45099979639053345,
          0.45175790786743164,
          0.45347464084625244,
          0.45512527227401733,
          0.45620304346084595,
          0.4574466347694397,
          0.45862770080566406,
          0.458798348903656,
          0.46014124155044556,
          0.4601660370826721,
          0.4614688754081726,
          0.4626666307449341,
          0.46398860216140747,
          0.46475911140441895,
          0.46583616733551025,
          0.46585023403167725,
          0.46705013513565063,
          0.4688831567764282,
          0.4699140787124634,
          0.4709884524345398,
          0.47255492210388184,
          0.4732927680015564,
          0.4739331007003784,
          0.4755534529685974,
          0.47790735960006714,
          0.4784940481185913,
          0.4795847535133362,
          0.48044002056121826,
          0.48238372802734375,
          0.4825037717819214,
          0.483592689037323,
          0.4848759174346924,
          0.4859521985054016,
          0.4865567684173584
         ],
         "yaxis": "y"
        },
        {
         "hovertemplate": "variable=mean_squared_logarithmic_error<br>index=%{x}<br>value=%{y}<extra></extra>",
         "legendgroup": "mean_squared_logarithmic_error",
         "line": {
          "color": "#00cc96",
          "dash": "solid"
         },
         "marker": {
          "symbol": "circle"
         },
         "mode": "lines",
         "name": "mean_squared_logarithmic_error",
         "orientation": "v",
         "showlegend": true,
         "type": "scatter",
         "x": [
          0,
          1,
          2,
          3,
          4,
          5,
          6,
          7,
          8,
          9,
          10,
          11,
          12,
          13,
          14,
          15,
          16,
          17,
          18,
          19,
          20,
          21,
          22,
          23,
          24,
          25,
          26,
          27,
          28,
          29,
          30,
          31,
          32,
          33,
          34,
          35,
          36,
          37,
          38,
          39,
          40,
          41,
          42,
          43,
          44,
          45,
          46,
          47,
          48,
          49
         ],
         "xaxis": "x",
         "y": [
          0.9408944845199585,
          0.5039759278297424,
          0.4512659013271332,
          0.42577075958251953,
          0.41605767607688904,
          0.41075700521469116,
          0.4062688648700714,
          0.40290918946266174,
          0.39902111887931824,
          0.39624884724617004,
          0.393760621547699,
          0.39130157232284546,
          0.39089876413345337,
          0.3892129361629486,
          0.38956713676452637,
          0.3881596028804779,
          0.3875778913497925,
          0.38603997230529785,
          0.3849361836910248,
          0.38386863470077515,
          0.38462895154953003,
          0.3837917447090149,
          0.38298243284225464,
          0.38392290472984314,
          0.38293763995170593,
          0.3834119737148285,
          0.38250619173049927,
          0.3826863169670105,
          0.3805029094219208,
          0.3810780942440033,
          0.380779892206192,
          0.3805888891220093,
          0.37935227155685425,
          0.3791090250015259,
          0.37805888056755066,
          0.37714341282844543,
          0.3766647279262543,
          0.376062273979187,
          0.3755596876144409,
          0.3742750585079193,
          0.3737882673740387,
          0.37351736426353455,
          0.37185922265052795,
          0.37210315465927124,
          0.37216421961784363,
          0.37166258692741394,
          0.3705935478210449,
          0.3712657690048218,
          0.370246946811676,
          0.3702097535133362
         ],
         "yaxis": "y"
        },
        {
         "hovertemplate": "variable=mean_absolute_error<br>index=%{x}<br>value=%{y}<extra></extra>",
         "legendgroup": "mean_absolute_error",
         "line": {
          "color": "#ab63fa",
          "dash": "solid"
         },
         "marker": {
          "symbol": "circle"
         },
         "mode": "lines",
         "name": "mean_absolute_error",
         "orientation": "v",
         "showlegend": true,
         "type": "scatter",
         "x": [
          0,
          1,
          2,
          3,
          4,
          5,
          6,
          7,
          8,
          9,
          10,
          11,
          12,
          13,
          14,
          15,
          16,
          17,
          18,
          19,
          20,
          21,
          22,
          23,
          24,
          25,
          26,
          27,
          28,
          29,
          30,
          31,
          32,
          33,
          34,
          35,
          36,
          37,
          38,
          39,
          40,
          41,
          42,
          43,
          44,
          45,
          46,
          47,
          48,
          49
         ],
         "xaxis": "x",
         "y": [
          210066.1875,
          199940.234375,
          190213.890625,
          185104.796875,
          183606.84375,
          182646.796875,
          181955.125,
          181222.796875,
          180595.953125,
          180158.15625,
          179701.5625,
          179258.9375,
          179150.3125,
          178826.21875,
          178742.546875,
          178419.90625,
          178192.40625,
          177975.40625,
          177627.234375,
          177419.1875,
          177357.6875,
          177081.171875,
          176968.234375,
          176959.734375,
          176609.015625,
          176741.546875,
          176476.75,
          176279.421875,
          175987.265625,
          175971.0625,
          175744.015625,
          175777.859375,
          175607.65625,
          175301.078125,
          175137.09375,
          174942.78125,
          174747.46875,
          174516.859375,
          174467.234375,
          174180.640625,
          173992.671875,
          173823.46875,
          173481.453125,
          173442.125,
          173353.9375,
          173097.265625,
          172937.078125,
          172866.578125,
          172614.078125,
          172584.59375
         ],
         "yaxis": "y"
        },
        {
         "hovertemplate": "variable=val_loss<br>index=%{x}<br>value=%{y}<extra></extra>",
         "legendgroup": "val_loss",
         "line": {
          "color": "#FFA15A",
          "dash": "solid"
         },
         "marker": {
          "symbol": "circle"
         },
         "mode": "lines",
         "name": "val_loss",
         "orientation": "v",
         "showlegend": true,
         "type": "scatter",
         "x": [
          0,
          1,
          2,
          3,
          4,
          5,
          6,
          7,
          8,
          9,
          10,
          11,
          12,
          13,
          14,
          15,
          16,
          17,
          18,
          19,
          20,
          21,
          22,
          23,
          24,
          25,
          26,
          27,
          28,
          29,
          30,
          31,
          32,
          33,
          34,
          35,
          36,
          37,
          38,
          39,
          40,
          41,
          42,
          43,
          44,
          45,
          46,
          47,
          48,
          49
         ],
         "xaxis": "x",
         "y": [
          250946502656,
          268007571456,
          396781551616,
          509495574528,
          521962749952,
          537087901696,
          532706328576,
          541998022656,
          540221833216,
          453830868992,
          456508440576,
          402368692224,
          361619062784,
          332666765312,
          289345634304,
          263933198336,
          235450351616,
          220109963264,
          211087769600,
          203319934976,
          194123808768,
          191811534848,
          189477781504,
          194168406016,
          190947688448,
          189284663296,
          191690588160,
          188664610816,
          189999988736,
          193507999744,
          190044323840,
          191687491584,
          186683867136,
          187003502592,
          186802241536,
          189597745152,
          191129059328,
          185726697472,
          185442205696,
          185409486848,
          198028836864,
          186104807424,
          185786679296,
          190358011904,
          189513416704,
          193207566336,
          192107413504,
          193517502464,
          198096764928,
          207044214784
         ],
         "yaxis": "y"
        },
        {
         "hovertemplate": "variable=val_r2_score<br>index=%{x}<br>value=%{y}<extra></extra>",
         "legendgroup": "val_r2_score",
         "line": {
          "color": "#19d3f3",
          "dash": "solid"
         },
         "marker": {
          "symbol": "circle"
         },
         "mode": "lines",
         "name": "val_r2_score",
         "orientation": "v",
         "showlegend": true,
         "type": "scatter",
         "x": [
          0,
          1,
          2,
          3,
          4,
          5,
          6,
          7,
          8,
          9,
          10,
          11,
          12,
          13,
          14,
          15,
          16,
          17,
          18,
          19,
          20,
          21,
          22,
          23,
          24,
          25,
          26,
          27,
          28,
          29,
          30,
          31,
          32,
          33,
          34,
          35,
          36,
          37,
          38,
          39,
          40,
          41,
          42,
          43,
          44,
          45,
          46,
          47,
          48,
          49
         ],
         "xaxis": "x",
         "y": [
          0.26811689138412476,
          0.21835845708847046,
          -0.15720975399017334,
          -0.4859391450881958,
          -0.5222995281219482,
          -0.5664118528366089,
          -0.5536329746246338,
          -0.5807322263717651,
          -0.5755519866943359,
          -0.32359349727630615,
          -0.33140265941619873,
          -0.17350459098815918,
          -0.05465865135192871,
          0.029780447483062744,
          0.1561262011528015,
          0.2302412986755371,
          0.31331121921539307,
          0.3580513000488281,
          0.3843644857406616,
          0.40701931715011597,
          0.43383967876434326,
          0.44058340787887573,
          0.44738978147506714,
          0.43370962142944336,
          0.4431028366088867,
          0.4479530453681946,
          0.4409361481666565,
          0.44976139068603516,
          0.44586676359176636,
          0.43563568592071533,
          0.44573748111724854,
          0.44094520807266235,
          0.45553821325302124,
          0.4546060562133789,
          0.45519304275512695,
          0.44703996181488037,
          0.4425739049911499,
          0.45832979679107666,
          0.4591595530509949,
          0.4592549800872803,
          0.4224507808685303,
          0.45722705125808716,
          0.4581548571586609,
          0.44482260942459106,
          0.44728589057922363,
          0.43651193380355835,
          0.4397205114364624,
          0.43560802936553955,
          0.4222525954246521,
          0.39615750312805176
         ],
         "yaxis": "y"
        },
        {
         "hovertemplate": "variable=val_mean_squared_logarithmic_error<br>index=%{x}<br>value=%{y}<extra></extra>",
         "legendgroup": "val_mean_squared_logarithmic_error",
         "line": {
          "color": "#FF6692",
          "dash": "solid"
         },
         "marker": {
          "symbol": "circle"
         },
         "mode": "lines",
         "name": "val_mean_squared_logarithmic_error",
         "orientation": "v",
         "showlegend": true,
         "type": "scatter",
         "x": [
          0,
          1,
          2,
          3,
          4,
          5,
          6,
          7,
          8,
          9,
          10,
          11,
          12,
          13,
          14,
          15,
          16,
          17,
          18,
          19,
          20,
          21,
          22,
          23,
          24,
          25,
          26,
          27,
          28,
          29,
          30,
          31,
          32,
          33,
          34,
          35,
          36,
          37,
          38,
          39,
          40,
          41,
          42,
          43,
          44,
          45,
          46,
          47,
          48,
          49
         ],
         "xaxis": "x",
         "y": [
          0.6936719417572021,
          0.5854690074920654,
          0.5027009844779968,
          0.5185388326644897,
          0.512164831161499,
          0.48249515891075134,
          0.49608710408210754,
          0.5697921514511108,
          0.5109296441078186,
          0.4675649106502533,
          0.4497146010398865,
          0.47279003262519836,
          0.4823063015937805,
          0.49990391731262207,
          0.5374448299407959,
          0.4471448063850403,
          0.5114327669143677,
          0.4623916447162628,
          0.4359229803085327,
          0.4532170295715332,
          0.46433377265930176,
          0.4731326997280121,
          0.462443083524704,
          0.45048272609710693,
          0.508006751537323,
          0.5044888257980347,
          0.48543453216552734,
          0.48168814182281494,
          0.5356099605560303,
          0.5033342242240906,
          0.48378437757492065,
          0.464784175157547,
          0.46093934774398804,
          0.47188466787338257,
          0.4615965187549591,
          0.44681262969970703,
          0.4370777904987335,
          0.4685279130935669,
          0.46980351209640503,
          0.47379550337791443,
          0.42519983649253845,
          0.4473107159137726,
          0.49985218048095703,
          0.442361980676651,
          0.4608800709247589,
          0.486287385225296,
          0.4506973922252655,
          0.4636370539665222,
          0.41739389300346375,
          0.5050296187400818
         ],
         "yaxis": "y"
        },
        {
         "hovertemplate": "variable=val_mean_absolute_error<br>index=%{x}<br>value=%{y}<extra></extra>",
         "legendgroup": "val_mean_absolute_error",
         "line": {
          "color": "#B6E880",
          "dash": "solid"
         },
         "marker": {
          "symbol": "circle"
         },
         "mode": "lines",
         "name": "val_mean_absolute_error",
         "orientation": "v",
         "showlegend": true,
         "type": "scatter",
         "x": [
          0,
          1,
          2,
          3,
          4,
          5,
          6,
          7,
          8,
          9,
          10,
          11,
          12,
          13,
          14,
          15,
          16,
          17,
          18,
          19,
          20,
          21,
          22,
          23,
          24,
          25,
          26,
          27,
          28,
          29,
          30,
          31,
          32,
          33,
          34,
          35,
          36,
          37,
          38,
          39,
          40,
          41,
          42,
          43,
          44,
          45,
          46,
          47,
          48,
          49
         ],
         "xaxis": "x",
         "y": [
          223732.953125,
          207083.34375,
          196153.234375,
          200508.5,
          199905.09375,
          194548.375,
          196600.96875,
          212121.203125,
          200335.8125,
          190067.546875,
          188213.453125,
          190772.921875,
          193194.546875,
          194983.578125,
          202899.125,
          184752.6875,
          196752,
          185017.6875,
          180296.140625,
          183791.53125,
          185595.46875,
          187468.234375,
          185728.46875,
          182331.34375,
          193861.09375,
          193891.375,
          188529.390625,
          188685.578125,
          199653.921875,
          191079.5,
          187605.640625,
          184271.203125,
          185266.546875,
          185102.9375,
          183260.96875,
          180908.890625,
          179049.78125,
          185022.453125,
          185102.09375,
          186602.5625,
          177309.484375,
          180906.875,
          190975.4375,
          179361.03125,
          183463.375,
          187238.21875,
          180765.671875,
          183453.546875,
          175939.609375,
          190623.515625
         ],
         "yaxis": "y"
        }
       ],
       "layout": {
        "legend": {
         "title": {
          "text": "variable"
         },
         "tracegroupgap": 0
        },
        "margin": {
         "t": 60
        },
        "template": {
         "data": {
          "bar": [
           {
            "error_x": {
             "color": "#2a3f5f"
            },
            "error_y": {
             "color": "#2a3f5f"
            },
            "marker": {
             "line": {
              "color": "#E5ECF6",
              "width": 0.5
             },
             "pattern": {
              "fillmode": "overlay",
              "size": 10,
              "solidity": 0.2
             }
            },
            "type": "bar"
           }
          ],
          "barpolar": [
           {
            "marker": {
             "line": {
              "color": "#E5ECF6",
              "width": 0.5
             },
             "pattern": {
              "fillmode": "overlay",
              "size": 10,
              "solidity": 0.2
             }
            },
            "type": "barpolar"
           }
          ],
          "carpet": [
           {
            "aaxis": {
             "endlinecolor": "#2a3f5f",
             "gridcolor": "white",
             "linecolor": "white",
             "minorgridcolor": "white",
             "startlinecolor": "#2a3f5f"
            },
            "baxis": {
             "endlinecolor": "#2a3f5f",
             "gridcolor": "white",
             "linecolor": "white",
             "minorgridcolor": "white",
             "startlinecolor": "#2a3f5f"
            },
            "type": "carpet"
           }
          ],
          "choropleth": [
           {
            "colorbar": {
             "outlinewidth": 0,
             "ticks": ""
            },
            "type": "choropleth"
           }
          ],
          "contour": [
           {
            "colorbar": {
             "outlinewidth": 0,
             "ticks": ""
            },
            "colorscale": [
             [
              0,
              "#0d0887"
             ],
             [
              0.1111111111111111,
              "#46039f"
             ],
             [
              0.2222222222222222,
              "#7201a8"
             ],
             [
              0.3333333333333333,
              "#9c179e"
             ],
             [
              0.4444444444444444,
              "#bd3786"
             ],
             [
              0.5555555555555556,
              "#d8576b"
             ],
             [
              0.6666666666666666,
              "#ed7953"
             ],
             [
              0.7777777777777778,
              "#fb9f3a"
             ],
             [
              0.8888888888888888,
              "#fdca26"
             ],
             [
              1,
              "#f0f921"
             ]
            ],
            "type": "contour"
           }
          ],
          "contourcarpet": [
           {
            "colorbar": {
             "outlinewidth": 0,
             "ticks": ""
            },
            "type": "contourcarpet"
           }
          ],
          "heatmap": [
           {
            "colorbar": {
             "outlinewidth": 0,
             "ticks": ""
            },
            "colorscale": [
             [
              0,
              "#0d0887"
             ],
             [
              0.1111111111111111,
              "#46039f"
             ],
             [
              0.2222222222222222,
              "#7201a8"
             ],
             [
              0.3333333333333333,
              "#9c179e"
             ],
             [
              0.4444444444444444,
              "#bd3786"
             ],
             [
              0.5555555555555556,
              "#d8576b"
             ],
             [
              0.6666666666666666,
              "#ed7953"
             ],
             [
              0.7777777777777778,
              "#fb9f3a"
             ],
             [
              0.8888888888888888,
              "#fdca26"
             ],
             [
              1,
              "#f0f921"
             ]
            ],
            "type": "heatmap"
           }
          ],
          "heatmapgl": [
           {
            "colorbar": {
             "outlinewidth": 0,
             "ticks": ""
            },
            "colorscale": [
             [
              0,
              "#0d0887"
             ],
             [
              0.1111111111111111,
              "#46039f"
             ],
             [
              0.2222222222222222,
              "#7201a8"
             ],
             [
              0.3333333333333333,
              "#9c179e"
             ],
             [
              0.4444444444444444,
              "#bd3786"
             ],
             [
              0.5555555555555556,
              "#d8576b"
             ],
             [
              0.6666666666666666,
              "#ed7953"
             ],
             [
              0.7777777777777778,
              "#fb9f3a"
             ],
             [
              0.8888888888888888,
              "#fdca26"
             ],
             [
              1,
              "#f0f921"
             ]
            ],
            "type": "heatmapgl"
           }
          ],
          "histogram": [
           {
            "marker": {
             "pattern": {
              "fillmode": "overlay",
              "size": 10,
              "solidity": 0.2
             }
            },
            "type": "histogram"
           }
          ],
          "histogram2d": [
           {
            "colorbar": {
             "outlinewidth": 0,
             "ticks": ""
            },
            "colorscale": [
             [
              0,
              "#0d0887"
             ],
             [
              0.1111111111111111,
              "#46039f"
             ],
             [
              0.2222222222222222,
              "#7201a8"
             ],
             [
              0.3333333333333333,
              "#9c179e"
             ],
             [
              0.4444444444444444,
              "#bd3786"
             ],
             [
              0.5555555555555556,
              "#d8576b"
             ],
             [
              0.6666666666666666,
              "#ed7953"
             ],
             [
              0.7777777777777778,
              "#fb9f3a"
             ],
             [
              0.8888888888888888,
              "#fdca26"
             ],
             [
              1,
              "#f0f921"
             ]
            ],
            "type": "histogram2d"
           }
          ],
          "histogram2dcontour": [
           {
            "colorbar": {
             "outlinewidth": 0,
             "ticks": ""
            },
            "colorscale": [
             [
              0,
              "#0d0887"
             ],
             [
              0.1111111111111111,
              "#46039f"
             ],
             [
              0.2222222222222222,
              "#7201a8"
             ],
             [
              0.3333333333333333,
              "#9c179e"
             ],
             [
              0.4444444444444444,
              "#bd3786"
             ],
             [
              0.5555555555555556,
              "#d8576b"
             ],
             [
              0.6666666666666666,
              "#ed7953"
             ],
             [
              0.7777777777777778,
              "#fb9f3a"
             ],
             [
              0.8888888888888888,
              "#fdca26"
             ],
             [
              1,
              "#f0f921"
             ]
            ],
            "type": "histogram2dcontour"
           }
          ],
          "mesh3d": [
           {
            "colorbar": {
             "outlinewidth": 0,
             "ticks": ""
            },
            "type": "mesh3d"
           }
          ],
          "parcoords": [
           {
            "line": {
             "colorbar": {
              "outlinewidth": 0,
              "ticks": ""
             }
            },
            "type": "parcoords"
           }
          ],
          "pie": [
           {
            "automargin": true,
            "type": "pie"
           }
          ],
          "scatter": [
           {
            "fillpattern": {
             "fillmode": "overlay",
             "size": 10,
             "solidity": 0.2
            },
            "type": "scatter"
           }
          ],
          "scatter3d": [
           {
            "line": {
             "colorbar": {
              "outlinewidth": 0,
              "ticks": ""
             }
            },
            "marker": {
             "colorbar": {
              "outlinewidth": 0,
              "ticks": ""
             }
            },
            "type": "scatter3d"
           }
          ],
          "scattercarpet": [
           {
            "marker": {
             "colorbar": {
              "outlinewidth": 0,
              "ticks": ""
             }
            },
            "type": "scattercarpet"
           }
          ],
          "scattergeo": [
           {
            "marker": {
             "colorbar": {
              "outlinewidth": 0,
              "ticks": ""
             }
            },
            "type": "scattergeo"
           }
          ],
          "scattergl": [
           {
            "marker": {
             "colorbar": {
              "outlinewidth": 0,
              "ticks": ""
             }
            },
            "type": "scattergl"
           }
          ],
          "scattermapbox": [
           {
            "marker": {
             "colorbar": {
              "outlinewidth": 0,
              "ticks": ""
             }
            },
            "type": "scattermapbox"
           }
          ],
          "scatterpolar": [
           {
            "marker": {
             "colorbar": {
              "outlinewidth": 0,
              "ticks": ""
             }
            },
            "type": "scatterpolar"
           }
          ],
          "scatterpolargl": [
           {
            "marker": {
             "colorbar": {
              "outlinewidth": 0,
              "ticks": ""
             }
            },
            "type": "scatterpolargl"
           }
          ],
          "scatterternary": [
           {
            "marker": {
             "colorbar": {
              "outlinewidth": 0,
              "ticks": ""
             }
            },
            "type": "scatterternary"
           }
          ],
          "surface": [
           {
            "colorbar": {
             "outlinewidth": 0,
             "ticks": ""
            },
            "colorscale": [
             [
              0,
              "#0d0887"
             ],
             [
              0.1111111111111111,
              "#46039f"
             ],
             [
              0.2222222222222222,
              "#7201a8"
             ],
             [
              0.3333333333333333,
              "#9c179e"
             ],
             [
              0.4444444444444444,
              "#bd3786"
             ],
             [
              0.5555555555555556,
              "#d8576b"
             ],
             [
              0.6666666666666666,
              "#ed7953"
             ],
             [
              0.7777777777777778,
              "#fb9f3a"
             ],
             [
              0.8888888888888888,
              "#fdca26"
             ],
             [
              1,
              "#f0f921"
             ]
            ],
            "type": "surface"
           }
          ],
          "table": [
           {
            "cells": {
             "fill": {
              "color": "#EBF0F8"
             },
             "line": {
              "color": "white"
             }
            },
            "header": {
             "fill": {
              "color": "#C8D4E3"
             },
             "line": {
              "color": "white"
             }
            },
            "type": "table"
           }
          ]
         },
         "layout": {
          "annotationdefaults": {
           "arrowcolor": "#2a3f5f",
           "arrowhead": 0,
           "arrowwidth": 1
          },
          "autotypenumbers": "strict",
          "coloraxis": {
           "colorbar": {
            "outlinewidth": 0,
            "ticks": ""
           }
          },
          "colorscale": {
           "diverging": [
            [
             0,
             "#8e0152"
            ],
            [
             0.1,
             "#c51b7d"
            ],
            [
             0.2,
             "#de77ae"
            ],
            [
             0.3,
             "#f1b6da"
            ],
            [
             0.4,
             "#fde0ef"
            ],
            [
             0.5,
             "#f7f7f7"
            ],
            [
             0.6,
             "#e6f5d0"
            ],
            [
             0.7,
             "#b8e186"
            ],
            [
             0.8,
             "#7fbc41"
            ],
            [
             0.9,
             "#4d9221"
            ],
            [
             1,
             "#276419"
            ]
           ],
           "sequential": [
            [
             0,
             "#0d0887"
            ],
            [
             0.1111111111111111,
             "#46039f"
            ],
            [
             0.2222222222222222,
             "#7201a8"
            ],
            [
             0.3333333333333333,
             "#9c179e"
            ],
            [
             0.4444444444444444,
             "#bd3786"
            ],
            [
             0.5555555555555556,
             "#d8576b"
            ],
            [
             0.6666666666666666,
             "#ed7953"
            ],
            [
             0.7777777777777778,
             "#fb9f3a"
            ],
            [
             0.8888888888888888,
             "#fdca26"
            ],
            [
             1,
             "#f0f921"
            ]
           ],
           "sequentialminus": [
            [
             0,
             "#0d0887"
            ],
            [
             0.1111111111111111,
             "#46039f"
            ],
            [
             0.2222222222222222,
             "#7201a8"
            ],
            [
             0.3333333333333333,
             "#9c179e"
            ],
            [
             0.4444444444444444,
             "#bd3786"
            ],
            [
             0.5555555555555556,
             "#d8576b"
            ],
            [
             0.6666666666666666,
             "#ed7953"
            ],
            [
             0.7777777777777778,
             "#fb9f3a"
            ],
            [
             0.8888888888888888,
             "#fdca26"
            ],
            [
             1,
             "#f0f921"
            ]
           ]
          },
          "colorway": [
           "#636efa",
           "#EF553B",
           "#00cc96",
           "#ab63fa",
           "#FFA15A",
           "#19d3f3",
           "#FF6692",
           "#B6E880",
           "#FF97FF",
           "#FECB52"
          ],
          "font": {
           "color": "#2a3f5f"
          },
          "geo": {
           "bgcolor": "white",
           "lakecolor": "white",
           "landcolor": "#E5ECF6",
           "showlakes": true,
           "showland": true,
           "subunitcolor": "white"
          },
          "hoverlabel": {
           "align": "left"
          },
          "hovermode": "closest",
          "mapbox": {
           "style": "light"
          },
          "paper_bgcolor": "white",
          "plot_bgcolor": "#E5ECF6",
          "polar": {
           "angularaxis": {
            "gridcolor": "white",
            "linecolor": "white",
            "ticks": ""
           },
           "bgcolor": "#E5ECF6",
           "radialaxis": {
            "gridcolor": "white",
            "linecolor": "white",
            "ticks": ""
           }
          },
          "scene": {
           "xaxis": {
            "backgroundcolor": "#E5ECF6",
            "gridcolor": "white",
            "gridwidth": 2,
            "linecolor": "white",
            "showbackground": true,
            "ticks": "",
            "zerolinecolor": "white"
           },
           "yaxis": {
            "backgroundcolor": "#E5ECF6",
            "gridcolor": "white",
            "gridwidth": 2,
            "linecolor": "white",
            "showbackground": true,
            "ticks": "",
            "zerolinecolor": "white"
           },
           "zaxis": {
            "backgroundcolor": "#E5ECF6",
            "gridcolor": "white",
            "gridwidth": 2,
            "linecolor": "white",
            "showbackground": true,
            "ticks": "",
            "zerolinecolor": "white"
           }
          },
          "shapedefaults": {
           "line": {
            "color": "#2a3f5f"
           }
          },
          "ternary": {
           "aaxis": {
            "gridcolor": "white",
            "linecolor": "white",
            "ticks": ""
           },
           "baxis": {
            "gridcolor": "white",
            "linecolor": "white",
            "ticks": ""
           },
           "bgcolor": "#E5ECF6",
           "caxis": {
            "gridcolor": "white",
            "linecolor": "white",
            "ticks": ""
           }
          },
          "title": {
           "x": 0.05
          },
          "xaxis": {
           "automargin": true,
           "gridcolor": "white",
           "linecolor": "white",
           "ticks": "",
           "title": {
            "standoff": 15
           },
           "zerolinecolor": "white",
           "zerolinewidth": 2
          },
          "yaxis": {
           "automargin": true,
           "gridcolor": "white",
           "linecolor": "white",
           "ticks": "",
           "title": {
            "standoff": 15
           },
           "zerolinecolor": "white",
           "zerolinewidth": 2
          }
         }
        },
        "xaxis": {
         "anchor": "y",
         "domain": [
          0,
          1
         ],
         "title": {
          "text": "index"
         }
        },
        "yaxis": {
         "anchor": "x",
         "domain": [
          0,
          1
         ],
         "title": {
          "text": "value"
         }
        }
       }
      }
     },
     "metadata": {},
     "output_type": "display_data"
    }
   ],
   "source": [
    "# fig"
   ]
  },
  {
   "cell_type": "markdown",
   "metadata": {},
   "source": [
    "# Entrenamiento y validación de los 20 modelos\n",
    "- 1 modelo -> 25% resto de España (tiene que entrenarse aparte de los demás porque tiene una columna extra)\n",
    "- 19 modelos -> las provincias con más de 4.000 publicaciones"
   ]
  },
  {
   "cell_type": "code",
   "execution_count": 26,
   "metadata": {},
   "outputs": [],
   "source": [
    "df_journal = pd.DataFrame(columns=['file', 'stage', 'r2', 'mae', 'mse', 'with_outliers']) # registro de las métricas para revisarlas a posterior"
   ]
  },
  {
   "cell_type": "code",
   "execution_count": 27,
   "metadata": {},
   "outputs": [],
   "source": [
    "with_outliers = [True, False]\n",
    "files = glob('./processed_data/provinces/*.parquet') # lista de direcciones de todos los archivos para tenerlos desde el inicio\n",
    "# files"
   ]
  },
  {
   "cell_type": "code",
   "execution_count": 28,
   "metadata": {},
   "outputs": [
    {
     "name": "stderr",
     "output_type": "stream",
     "text": [
      "c:\\Users\\Aa\\Documents\\GitHub\\pisoscom\\ml\\processing\\encodings.py:71: FutureWarning: The behavior of DataFrame concatenation with empty or all-NA entries is deprecated. In a future version, this will no longer exclude empty or all-NA columns when determining the result dtypes. To retain the old behavior, exclude the relevant entries before the concat operation.\n",
      "  df_sample = pd.concat([df_sample, df_prov_sample], axis=0)\n",
      "c:\\Users\\Aa\\Documents\\GitHub\\pisoscom\\venv\\lib\\site-packages\\sklearn\\base.py:1152: DataConversionWarning: A column-vector y was passed when a 1d array was expected. Please change the shape of y to (n_samples,), for example using ravel().\n",
      "  return fit_method(estimator, *args, **kwargs)\n",
      "C:\\Users\\Aa\\AppData\\Local\\Temp\\ipykernel_22036\\2751391816.py:27: FutureWarning: The behavior of DataFrame concatenation with empty or all-NA entries is deprecated. In a future version, this will no longer exclude empty or all-NA columns when determining the result dtypes. To retain the old behavior, exclude the relevant entries before the concat operation.\n",
      "  df_journal = pd.concat([df_journal, pd.DataFrame([[file_name,\n",
      "c:\\Users\\Aa\\Documents\\GitHub\\pisoscom\\venv\\lib\\site-packages\\sklearn\\base.py:458: UserWarning: X has feature names, but RandomForestRegressor was fitted without feature names\n",
      "  warnings.warn(\n",
      "c:\\Users\\Aa\\Documents\\GitHub\\pisoscom\\ml\\processing\\encodings.py:71: FutureWarning: The behavior of DataFrame concatenation with empty or all-NA entries is deprecated. In a future version, this will no longer exclude empty or all-NA columns when determining the result dtypes. To retain the old behavior, exclude the relevant entries before the concat operation.\n",
      "  df_sample = pd.concat([df_sample, df_prov_sample], axis=0)\n",
      "c:\\Users\\Aa\\Documents\\GitHub\\pisoscom\\venv\\lib\\site-packages\\sklearn\\base.py:1152: DataConversionWarning: A column-vector y was passed when a 1d array was expected. Please change the shape of y to (n_samples,), for example using ravel().\n",
      "  return fit_method(estimator, *args, **kwargs)\n",
      "c:\\Users\\Aa\\Documents\\GitHub\\pisoscom\\venv\\lib\\site-packages\\sklearn\\base.py:458: UserWarning: X has feature names, but RandomForestRegressor was fitted without feature names\n",
      "  warnings.warn(\n"
     ]
    }
   ],
   "source": [
    "# Entrenamos con y sin outliers usando el archivo 'data_25.parquet'\n",
    "\n",
    "for boolean in with_outliers:\n",
    "  df_25 = pd.read_parquet(files[0])\n",
    "  file_name = files[0].split('\\\\')[-1]\n",
    "\n",
    "  df_25_validation = getSample(df_25, 0.15)\n",
    "  df_25_train = df_25.reset_index()[~df_25.reset_index()['index'].isin(df_25_validation.reset_index()['index'])].drop(['index'], axis=1)\n",
    "\n",
    "  if boolean == False:\n",
    "      df_25_train = outliersFilter(df = df_25_train, min_price = 50_000, max_price = 5_000_000, max_baths = 15, max_surface = 1_000)\n",
    "\n",
    "  df_25_cat, encodings = frequencyEncoding(df_25_train[['province', 'state']])\n",
    "  df_25_train = pd.concat([df_25_train._get_numeric_data(), df_25_cat], axis = 1)\n",
    "\n",
    "  df_25_train = df_25_train[~df_25_train['price'].isna()].dropna()\n",
    "\n",
    "  X = df_25_train.drop(['price'], axis = 1)\n",
    "  y = df_25_train[['price']]\n",
    "\n",
    "  imputer = KNNImputer(n_neighbors=3)\n",
    "  X = imputer.fit_transform(X)\n",
    "  X_train, X_test, y_train, y_test = train_test_split(X, y, test_size = 0.2, random_state = 42)\n",
    "  model = RandomForestRegressor(n_jobs = -1, random_state = 42, n_estimators = 100)\n",
    "  model.fit(X_train, y_train)\n",
    "  yhat = model.predict(X_test)\n",
    "  df_journal = pd.concat([df_journal, pd.DataFrame([[file_name,\n",
    "                                                    'train',\n",
    "                                                    r2_score(y_test, yhat),\n",
    "                                                    mean_absolute_error(y_test, yhat),\n",
    "                                                    mean_squared_error(y_test, yhat),\n",
    "                                                    boolean]],\n",
    "                                                  columns = ['file', 'stage', 'r2', 'mae', 'mse', 'with_outliers'])])\n",
    "  \n",
    "  df_25_validation['state'] = df_25_validation['state'].replace(encodings['state'])\n",
    "  df_25_validation['province'] = df_25_validation['province'].replace(encodings['province'])\n",
    "  df_25_validation = df_25_validation.dropna()\n",
    "\n",
    "  X_val = df_25_validation.drop(['price'], axis = 1)\n",
    "  y_val = df_25_validation[['price']]\n",
    "\n",
    "  yhat = model.predict(X_val)\n",
    "\n",
    "  df_journal = pd.concat([df_journal, pd.DataFrame([[file_name,\n",
    "                                                    'validation',\n",
    "                                                    r2_score(y_val, yhat),\n",
    "                                                    mean_absolute_error(y_val, yhat),\n",
    "                                                    mean_squared_error(y_val, yhat),\n",
    "                                                    boolean]],\n",
    "                                                  columns = ['file', 'stage', 'r2', 'mae', 'mse', 'with_outliers'])])\n",
    "  \n",
    "  if boolean == True:\n",
    "    with open('./models/model_25.pkl', 'bw') as file:\n",
    "      pkl.dump(model, file)\n",
    "    with open('./models/model_25_encodings.pkl', 'bw') as file:\n",
    "      pkl.dump(encodings, file)\n",
    "  else:\n",
    "    with open('./models/model_25_no_outliers.pkl', 'bw') as file:\n",
    "      pkl.dump(model, file)\n",
    "    with open('./models/model_25_no_outliers_encodings.pkl', 'bw') as file:\n",
    "      pkl.dump(encodings, file)"
   ]
  },
  {
   "cell_type": "code",
   "execution_count": 29,
   "metadata": {},
   "outputs": [
    {
     "data": {
      "text/html": [
       "<div>\n",
       "<style scoped>\n",
       "    .dataframe tbody tr th:only-of-type {\n",
       "        vertical-align: middle;\n",
       "    }\n",
       "\n",
       "    .dataframe tbody tr th {\n",
       "        vertical-align: top;\n",
       "    }\n",
       "\n",
       "    .dataframe thead th {\n",
       "        text-align: right;\n",
       "    }\n",
       "</style>\n",
       "<table border=\"1\" class=\"dataframe\">\n",
       "  <thead>\n",
       "    <tr style=\"text-align: right;\">\n",
       "      <th></th>\n",
       "      <th>file</th>\n",
       "      <th>stage</th>\n",
       "      <th>r2</th>\n",
       "      <th>mae</th>\n",
       "      <th>mse</th>\n",
       "      <th>with_outliers</th>\n",
       "    </tr>\n",
       "  </thead>\n",
       "  <tbody>\n",
       "    <tr>\n",
       "      <th>0</th>\n",
       "      <td>data_25.parquet</td>\n",
       "      <td>train</td>\n",
       "      <td>0.756483</td>\n",
       "      <td>57072.287207</td>\n",
       "      <td>1.422860e+10</td>\n",
       "      <td>True</td>\n",
       "    </tr>\n",
       "    <tr>\n",
       "      <th>0</th>\n",
       "      <td>data_25.parquet</td>\n",
       "      <td>validation</td>\n",
       "      <td>0.112116</td>\n",
       "      <td>132650.232596</td>\n",
       "      <td>5.006568e+10</td>\n",
       "      <td>True</td>\n",
       "    </tr>\n",
       "    <tr>\n",
       "      <th>0</th>\n",
       "      <td>data_25.parquet</td>\n",
       "      <td>train</td>\n",
       "      <td>0.726868</td>\n",
       "      <td>59433.322089</td>\n",
       "      <td>1.306183e+10</td>\n",
       "      <td>False</td>\n",
       "    </tr>\n",
       "    <tr>\n",
       "      <th>0</th>\n",
       "      <td>data_25.parquet</td>\n",
       "      <td>validation</td>\n",
       "      <td>0.489979</td>\n",
       "      <td>101971.031031</td>\n",
       "      <td>2.875886e+10</td>\n",
       "      <td>False</td>\n",
       "    </tr>\n",
       "  </tbody>\n",
       "</table>\n",
       "</div>"
      ],
      "text/plain": [
       "              file       stage        r2            mae           mse  \\\n",
       "0  data_25.parquet       train  0.756483   57072.287207  1.422860e+10   \n",
       "0  data_25.parquet  validation  0.112116  132650.232596  5.006568e+10   \n",
       "0  data_25.parquet       train  0.726868   59433.322089  1.306183e+10   \n",
       "0  data_25.parquet  validation  0.489979  101971.031031  2.875886e+10   \n",
       "\n",
       "  with_outliers  \n",
       "0          True  \n",
       "0          True  \n",
       "0         False  \n",
       "0         False  "
      ]
     },
     "execution_count": 29,
     "metadata": {},
     "output_type": "execute_result"
    }
   ],
   "source": [
    "df_journal"
   ]
  },
  {
   "cell_type": "code",
   "execution_count": 30,
   "metadata": {},
   "outputs": [
    {
     "name": "stderr",
     "output_type": "stream",
     "text": [
      "c:\\Users\\Aa\\Documents\\GitHub\\pisoscom\\venv\\lib\\site-packages\\sklearn\\base.py:1152: DataConversionWarning: A column-vector y was passed when a 1d array was expected. Please change the shape of y to (n_samples,), for example using ravel().\n",
      "  return fit_method(estimator, *args, **kwargs)\n",
      "c:\\Users\\Aa\\Documents\\GitHub\\pisoscom\\venv\\lib\\site-packages\\sklearn\\base.py:458: UserWarning: X has feature names, but RandomForestRegressor was fitted without feature names\n",
      "  warnings.warn(\n",
      "c:\\Users\\Aa\\Documents\\GitHub\\pisoscom\\venv\\lib\\site-packages\\sklearn\\base.py:1152: DataConversionWarning: A column-vector y was passed when a 1d array was expected. Please change the shape of y to (n_samples,), for example using ravel().\n",
      "  return fit_method(estimator, *args, **kwargs)\n",
      "c:\\Users\\Aa\\Documents\\GitHub\\pisoscom\\venv\\lib\\site-packages\\sklearn\\base.py:458: UserWarning: X has feature names, but RandomForestRegressor was fitted without feature names\n",
      "  warnings.warn(\n",
      "c:\\Users\\Aa\\Documents\\GitHub\\pisoscom\\venv\\lib\\site-packages\\sklearn\\base.py:1152: DataConversionWarning: A column-vector y was passed when a 1d array was expected. Please change the shape of y to (n_samples,), for example using ravel().\n",
      "  return fit_method(estimator, *args, **kwargs)\n",
      "c:\\Users\\Aa\\Documents\\GitHub\\pisoscom\\venv\\lib\\site-packages\\sklearn\\base.py:458: UserWarning: X has feature names, but RandomForestRegressor was fitted without feature names\n",
      "  warnings.warn(\n",
      "c:\\Users\\Aa\\Documents\\GitHub\\pisoscom\\venv\\lib\\site-packages\\sklearn\\base.py:1152: DataConversionWarning: A column-vector y was passed when a 1d array was expected. Please change the shape of y to (n_samples,), for example using ravel().\n",
      "  return fit_method(estimator, *args, **kwargs)\n",
      "c:\\Users\\Aa\\Documents\\GitHub\\pisoscom\\venv\\lib\\site-packages\\sklearn\\base.py:458: UserWarning: X has feature names, but RandomForestRegressor was fitted without feature names\n",
      "  warnings.warn(\n",
      "c:\\Users\\Aa\\Documents\\GitHub\\pisoscom\\venv\\lib\\site-packages\\sklearn\\base.py:1152: DataConversionWarning: A column-vector y was passed when a 1d array was expected. Please change the shape of y to (n_samples,), for example using ravel().\n",
      "  return fit_method(estimator, *args, **kwargs)\n",
      "c:\\Users\\Aa\\Documents\\GitHub\\pisoscom\\venv\\lib\\site-packages\\sklearn\\base.py:458: UserWarning: X has feature names, but RandomForestRegressor was fitted without feature names\n",
      "  warnings.warn(\n",
      "c:\\Users\\Aa\\Documents\\GitHub\\pisoscom\\venv\\lib\\site-packages\\sklearn\\base.py:1152: DataConversionWarning: A column-vector y was passed when a 1d array was expected. Please change the shape of y to (n_samples,), for example using ravel().\n",
      "  return fit_method(estimator, *args, **kwargs)\n",
      "c:\\Users\\Aa\\Documents\\GitHub\\pisoscom\\venv\\lib\\site-packages\\sklearn\\base.py:458: UserWarning: X has feature names, but RandomForestRegressor was fitted without feature names\n",
      "  warnings.warn(\n",
      "c:\\Users\\Aa\\Documents\\GitHub\\pisoscom\\venv\\lib\\site-packages\\sklearn\\base.py:1152: DataConversionWarning: A column-vector y was passed when a 1d array was expected. Please change the shape of y to (n_samples,), for example using ravel().\n",
      "  return fit_method(estimator, *args, **kwargs)\n",
      "c:\\Users\\Aa\\Documents\\GitHub\\pisoscom\\venv\\lib\\site-packages\\sklearn\\base.py:458: UserWarning: X has feature names, but RandomForestRegressor was fitted without feature names\n",
      "  warnings.warn(\n",
      "c:\\Users\\Aa\\Documents\\GitHub\\pisoscom\\venv\\lib\\site-packages\\sklearn\\base.py:1152: DataConversionWarning: A column-vector y was passed when a 1d array was expected. Please change the shape of y to (n_samples,), for example using ravel().\n",
      "  return fit_method(estimator, *args, **kwargs)\n",
      "c:\\Users\\Aa\\Documents\\GitHub\\pisoscom\\venv\\lib\\site-packages\\sklearn\\base.py:458: UserWarning: X has feature names, but RandomForestRegressor was fitted without feature names\n",
      "  warnings.warn(\n",
      "c:\\Users\\Aa\\Documents\\GitHub\\pisoscom\\venv\\lib\\site-packages\\sklearn\\base.py:1152: DataConversionWarning: A column-vector y was passed when a 1d array was expected. Please change the shape of y to (n_samples,), for example using ravel().\n",
      "  return fit_method(estimator, *args, **kwargs)\n",
      "c:\\Users\\Aa\\Documents\\GitHub\\pisoscom\\venv\\lib\\site-packages\\sklearn\\base.py:458: UserWarning: X has feature names, but RandomForestRegressor was fitted without feature names\n",
      "  warnings.warn(\n",
      "c:\\Users\\Aa\\Documents\\GitHub\\pisoscom\\venv\\lib\\site-packages\\sklearn\\base.py:1152: DataConversionWarning: A column-vector y was passed when a 1d array was expected. Please change the shape of y to (n_samples,), for example using ravel().\n",
      "  return fit_method(estimator, *args, **kwargs)\n",
      "c:\\Users\\Aa\\Documents\\GitHub\\pisoscom\\venv\\lib\\site-packages\\sklearn\\base.py:458: UserWarning: X has feature names, but RandomForestRegressor was fitted without feature names\n",
      "  warnings.warn(\n",
      "c:\\Users\\Aa\\Documents\\GitHub\\pisoscom\\venv\\lib\\site-packages\\sklearn\\base.py:1152: DataConversionWarning: A column-vector y was passed when a 1d array was expected. Please change the shape of y to (n_samples,), for example using ravel().\n",
      "  return fit_method(estimator, *args, **kwargs)\n",
      "c:\\Users\\Aa\\Documents\\GitHub\\pisoscom\\venv\\lib\\site-packages\\sklearn\\base.py:458: UserWarning: X has feature names, but RandomForestRegressor was fitted without feature names\n",
      "  warnings.warn(\n",
      "c:\\Users\\Aa\\Documents\\GitHub\\pisoscom\\venv\\lib\\site-packages\\sklearn\\base.py:1152: DataConversionWarning: A column-vector y was passed when a 1d array was expected. Please change the shape of y to (n_samples,), for example using ravel().\n",
      "  return fit_method(estimator, *args, **kwargs)\n",
      "c:\\Users\\Aa\\Documents\\GitHub\\pisoscom\\venv\\lib\\site-packages\\sklearn\\base.py:458: UserWarning: X has feature names, but RandomForestRegressor was fitted without feature names\n",
      "  warnings.warn(\n",
      "c:\\Users\\Aa\\Documents\\GitHub\\pisoscom\\venv\\lib\\site-packages\\sklearn\\base.py:1152: DataConversionWarning: A column-vector y was passed when a 1d array was expected. Please change the shape of y to (n_samples,), for example using ravel().\n",
      "  return fit_method(estimator, *args, **kwargs)\n",
      "c:\\Users\\Aa\\Documents\\GitHub\\pisoscom\\venv\\lib\\site-packages\\sklearn\\base.py:458: UserWarning: X has feature names, but RandomForestRegressor was fitted without feature names\n",
      "  warnings.warn(\n",
      "c:\\Users\\Aa\\Documents\\GitHub\\pisoscom\\venv\\lib\\site-packages\\sklearn\\base.py:1152: DataConversionWarning: A column-vector y was passed when a 1d array was expected. Please change the shape of y to (n_samples,), for example using ravel().\n",
      "  return fit_method(estimator, *args, **kwargs)\n",
      "c:\\Users\\Aa\\Documents\\GitHub\\pisoscom\\venv\\lib\\site-packages\\sklearn\\base.py:458: UserWarning: X has feature names, but RandomForestRegressor was fitted without feature names\n",
      "  warnings.warn(\n",
      "c:\\Users\\Aa\\Documents\\GitHub\\pisoscom\\venv\\lib\\site-packages\\sklearn\\base.py:1152: DataConversionWarning: A column-vector y was passed when a 1d array was expected. Please change the shape of y to (n_samples,), for example using ravel().\n",
      "  return fit_method(estimator, *args, **kwargs)\n",
      "c:\\Users\\Aa\\Documents\\GitHub\\pisoscom\\venv\\lib\\site-packages\\sklearn\\base.py:458: UserWarning: X has feature names, but RandomForestRegressor was fitted without feature names\n",
      "  warnings.warn(\n",
      "c:\\Users\\Aa\\Documents\\GitHub\\pisoscom\\venv\\lib\\site-packages\\sklearn\\base.py:1152: DataConversionWarning: A column-vector y was passed when a 1d array was expected. Please change the shape of y to (n_samples,), for example using ravel().\n",
      "  return fit_method(estimator, *args, **kwargs)\n",
      "c:\\Users\\Aa\\Documents\\GitHub\\pisoscom\\venv\\lib\\site-packages\\sklearn\\base.py:458: UserWarning: X has feature names, but RandomForestRegressor was fitted without feature names\n",
      "  warnings.warn(\n",
      "c:\\Users\\Aa\\Documents\\GitHub\\pisoscom\\venv\\lib\\site-packages\\sklearn\\base.py:1152: DataConversionWarning: A column-vector y was passed when a 1d array was expected. Please change the shape of y to (n_samples,), for example using ravel().\n",
      "  return fit_method(estimator, *args, **kwargs)\n",
      "c:\\Users\\Aa\\Documents\\GitHub\\pisoscom\\venv\\lib\\site-packages\\sklearn\\base.py:458: UserWarning: X has feature names, but RandomForestRegressor was fitted without feature names\n",
      "  warnings.warn(\n",
      "c:\\Users\\Aa\\Documents\\GitHub\\pisoscom\\venv\\lib\\site-packages\\sklearn\\base.py:1152: DataConversionWarning: A column-vector y was passed when a 1d array was expected. Please change the shape of y to (n_samples,), for example using ravel().\n",
      "  return fit_method(estimator, *args, **kwargs)\n",
      "c:\\Users\\Aa\\Documents\\GitHub\\pisoscom\\venv\\lib\\site-packages\\sklearn\\base.py:458: UserWarning: X has feature names, but RandomForestRegressor was fitted without feature names\n",
      "  warnings.warn(\n",
      "c:\\Users\\Aa\\Documents\\GitHub\\pisoscom\\venv\\lib\\site-packages\\sklearn\\base.py:1152: DataConversionWarning: A column-vector y was passed when a 1d array was expected. Please change the shape of y to (n_samples,), for example using ravel().\n",
      "  return fit_method(estimator, *args, **kwargs)\n",
      "c:\\Users\\Aa\\Documents\\GitHub\\pisoscom\\venv\\lib\\site-packages\\sklearn\\base.py:458: UserWarning: X has feature names, but RandomForestRegressor was fitted without feature names\n",
      "  warnings.warn(\n",
      "c:\\Users\\Aa\\Documents\\GitHub\\pisoscom\\venv\\lib\\site-packages\\sklearn\\base.py:1152: DataConversionWarning: A column-vector y was passed when a 1d array was expected. Please change the shape of y to (n_samples,), for example using ravel().\n",
      "  return fit_method(estimator, *args, **kwargs)\n",
      "c:\\Users\\Aa\\Documents\\GitHub\\pisoscom\\venv\\lib\\site-packages\\sklearn\\base.py:458: UserWarning: X has feature names, but RandomForestRegressor was fitted without feature names\n",
      "  warnings.warn(\n",
      "c:\\Users\\Aa\\Documents\\GitHub\\pisoscom\\venv\\lib\\site-packages\\sklearn\\base.py:1152: DataConversionWarning: A column-vector y was passed when a 1d array was expected. Please change the shape of y to (n_samples,), for example using ravel().\n",
      "  return fit_method(estimator, *args, **kwargs)\n",
      "c:\\Users\\Aa\\Documents\\GitHub\\pisoscom\\venv\\lib\\site-packages\\sklearn\\base.py:458: UserWarning: X has feature names, but RandomForestRegressor was fitted without feature names\n",
      "  warnings.warn(\n",
      "c:\\Users\\Aa\\Documents\\GitHub\\pisoscom\\venv\\lib\\site-packages\\sklearn\\base.py:1152: DataConversionWarning: A column-vector y was passed when a 1d array was expected. Please change the shape of y to (n_samples,), for example using ravel().\n",
      "  return fit_method(estimator, *args, **kwargs)\n",
      "c:\\Users\\Aa\\Documents\\GitHub\\pisoscom\\venv\\lib\\site-packages\\sklearn\\base.py:458: UserWarning: X has feature names, but RandomForestRegressor was fitted without feature names\n",
      "  warnings.warn(\n",
      "c:\\Users\\Aa\\Documents\\GitHub\\pisoscom\\venv\\lib\\site-packages\\sklearn\\base.py:1152: DataConversionWarning: A column-vector y was passed when a 1d array was expected. Please change the shape of y to (n_samples,), for example using ravel().\n",
      "  return fit_method(estimator, *args, **kwargs)\n",
      "c:\\Users\\Aa\\Documents\\GitHub\\pisoscom\\venv\\lib\\site-packages\\sklearn\\base.py:458: UserWarning: X has feature names, but RandomForestRegressor was fitted without feature names\n",
      "  warnings.warn(\n",
      "c:\\Users\\Aa\\Documents\\GitHub\\pisoscom\\venv\\lib\\site-packages\\sklearn\\base.py:1152: DataConversionWarning: A column-vector y was passed when a 1d array was expected. Please change the shape of y to (n_samples,), for example using ravel().\n",
      "  return fit_method(estimator, *args, **kwargs)\n",
      "c:\\Users\\Aa\\Documents\\GitHub\\pisoscom\\venv\\lib\\site-packages\\sklearn\\base.py:458: UserWarning: X has feature names, but RandomForestRegressor was fitted without feature names\n",
      "  warnings.warn(\n",
      "c:\\Users\\Aa\\Documents\\GitHub\\pisoscom\\venv\\lib\\site-packages\\sklearn\\base.py:1152: DataConversionWarning: A column-vector y was passed when a 1d array was expected. Please change the shape of y to (n_samples,), for example using ravel().\n",
      "  return fit_method(estimator, *args, **kwargs)\n",
      "c:\\Users\\Aa\\Documents\\GitHub\\pisoscom\\venv\\lib\\site-packages\\sklearn\\base.py:458: UserWarning: X has feature names, but RandomForestRegressor was fitted without feature names\n",
      "  warnings.warn(\n",
      "c:\\Users\\Aa\\Documents\\GitHub\\pisoscom\\venv\\lib\\site-packages\\sklearn\\base.py:1152: DataConversionWarning: A column-vector y was passed when a 1d array was expected. Please change the shape of y to (n_samples,), for example using ravel().\n",
      "  return fit_method(estimator, *args, **kwargs)\n",
      "c:\\Users\\Aa\\Documents\\GitHub\\pisoscom\\venv\\lib\\site-packages\\sklearn\\base.py:458: UserWarning: X has feature names, but RandomForestRegressor was fitted without feature names\n",
      "  warnings.warn(\n",
      "c:\\Users\\Aa\\Documents\\GitHub\\pisoscom\\venv\\lib\\site-packages\\sklearn\\base.py:1152: DataConversionWarning: A column-vector y was passed when a 1d array was expected. Please change the shape of y to (n_samples,), for example using ravel().\n",
      "  return fit_method(estimator, *args, **kwargs)\n",
      "c:\\Users\\Aa\\Documents\\GitHub\\pisoscom\\venv\\lib\\site-packages\\sklearn\\base.py:458: UserWarning: X has feature names, but RandomForestRegressor was fitted without feature names\n",
      "  warnings.warn(\n",
      "c:\\Users\\Aa\\Documents\\GitHub\\pisoscom\\venv\\lib\\site-packages\\sklearn\\base.py:1152: DataConversionWarning: A column-vector y was passed when a 1d array was expected. Please change the shape of y to (n_samples,), for example using ravel().\n",
      "  return fit_method(estimator, *args, **kwargs)\n",
      "c:\\Users\\Aa\\Documents\\GitHub\\pisoscom\\venv\\lib\\site-packages\\sklearn\\base.py:458: UserWarning: X has feature names, but RandomForestRegressor was fitted without feature names\n",
      "  warnings.warn(\n",
      "c:\\Users\\Aa\\Documents\\GitHub\\pisoscom\\venv\\lib\\site-packages\\sklearn\\base.py:1152: DataConversionWarning: A column-vector y was passed when a 1d array was expected. Please change the shape of y to (n_samples,), for example using ravel().\n",
      "  return fit_method(estimator, *args, **kwargs)\n",
      "c:\\Users\\Aa\\Documents\\GitHub\\pisoscom\\venv\\lib\\site-packages\\sklearn\\base.py:458: UserWarning: X has feature names, but RandomForestRegressor was fitted without feature names\n",
      "  warnings.warn(\n",
      "c:\\Users\\Aa\\Documents\\GitHub\\pisoscom\\venv\\lib\\site-packages\\sklearn\\base.py:1152: DataConversionWarning: A column-vector y was passed when a 1d array was expected. Please change the shape of y to (n_samples,), for example using ravel().\n",
      "  return fit_method(estimator, *args, **kwargs)\n",
      "c:\\Users\\Aa\\Documents\\GitHub\\pisoscom\\venv\\lib\\site-packages\\sklearn\\base.py:458: UserWarning: X has feature names, but RandomForestRegressor was fitted without feature names\n",
      "  warnings.warn(\n",
      "c:\\Users\\Aa\\Documents\\GitHub\\pisoscom\\venv\\lib\\site-packages\\sklearn\\base.py:1152: DataConversionWarning: A column-vector y was passed when a 1d array was expected. Please change the shape of y to (n_samples,), for example using ravel().\n",
      "  return fit_method(estimator, *args, **kwargs)\n",
      "c:\\Users\\Aa\\Documents\\GitHub\\pisoscom\\venv\\lib\\site-packages\\sklearn\\base.py:458: UserWarning: X has feature names, but RandomForestRegressor was fitted without feature names\n",
      "  warnings.warn(\n",
      "c:\\Users\\Aa\\Documents\\GitHub\\pisoscom\\venv\\lib\\site-packages\\sklearn\\base.py:1152: DataConversionWarning: A column-vector y was passed when a 1d array was expected. Please change the shape of y to (n_samples,), for example using ravel().\n",
      "  return fit_method(estimator, *args, **kwargs)\n",
      "c:\\Users\\Aa\\Documents\\GitHub\\pisoscom\\venv\\lib\\site-packages\\sklearn\\base.py:458: UserWarning: X has feature names, but RandomForestRegressor was fitted without feature names\n",
      "  warnings.warn(\n",
      "c:\\Users\\Aa\\Documents\\GitHub\\pisoscom\\venv\\lib\\site-packages\\sklearn\\base.py:1152: DataConversionWarning: A column-vector y was passed when a 1d array was expected. Please change the shape of y to (n_samples,), for example using ravel().\n",
      "  return fit_method(estimator, *args, **kwargs)\n",
      "c:\\Users\\Aa\\Documents\\GitHub\\pisoscom\\venv\\lib\\site-packages\\sklearn\\base.py:458: UserWarning: X has feature names, but RandomForestRegressor was fitted without feature names\n",
      "  warnings.warn(\n",
      "c:\\Users\\Aa\\Documents\\GitHub\\pisoscom\\venv\\lib\\site-packages\\sklearn\\base.py:1152: DataConversionWarning: A column-vector y was passed when a 1d array was expected. Please change the shape of y to (n_samples,), for example using ravel().\n",
      "  return fit_method(estimator, *args, **kwargs)\n",
      "c:\\Users\\Aa\\Documents\\GitHub\\pisoscom\\venv\\lib\\site-packages\\sklearn\\base.py:458: UserWarning: X has feature names, but RandomForestRegressor was fitted without feature names\n",
      "  warnings.warn(\n",
      "c:\\Users\\Aa\\Documents\\GitHub\\pisoscom\\venv\\lib\\site-packages\\sklearn\\base.py:1152: DataConversionWarning: A column-vector y was passed when a 1d array was expected. Please change the shape of y to (n_samples,), for example using ravel().\n",
      "  return fit_method(estimator, *args, **kwargs)\n",
      "c:\\Users\\Aa\\Documents\\GitHub\\pisoscom\\venv\\lib\\site-packages\\sklearn\\base.py:458: UserWarning: X has feature names, but RandomForestRegressor was fitted without feature names\n",
      "  warnings.warn(\n",
      "c:\\Users\\Aa\\Documents\\GitHub\\pisoscom\\venv\\lib\\site-packages\\sklearn\\base.py:1152: DataConversionWarning: A column-vector y was passed when a 1d array was expected. Please change the shape of y to (n_samples,), for example using ravel().\n",
      "  return fit_method(estimator, *args, **kwargs)\n",
      "c:\\Users\\Aa\\Documents\\GitHub\\pisoscom\\venv\\lib\\site-packages\\sklearn\\base.py:458: UserWarning: X has feature names, but RandomForestRegressor was fitted without feature names\n",
      "  warnings.warn(\n",
      "c:\\Users\\Aa\\Documents\\GitHub\\pisoscom\\venv\\lib\\site-packages\\sklearn\\base.py:1152: DataConversionWarning: A column-vector y was passed when a 1d array was expected. Please change the shape of y to (n_samples,), for example using ravel().\n",
      "  return fit_method(estimator, *args, **kwargs)\n",
      "c:\\Users\\Aa\\Documents\\GitHub\\pisoscom\\venv\\lib\\site-packages\\sklearn\\base.py:458: UserWarning: X has feature names, but RandomForestRegressor was fitted without feature names\n",
      "  warnings.warn(\n",
      "c:\\Users\\Aa\\Documents\\GitHub\\pisoscom\\venv\\lib\\site-packages\\sklearn\\base.py:1152: DataConversionWarning: A column-vector y was passed when a 1d array was expected. Please change the shape of y to (n_samples,), for example using ravel().\n",
      "  return fit_method(estimator, *args, **kwargs)\n",
      "c:\\Users\\Aa\\Documents\\GitHub\\pisoscom\\venv\\lib\\site-packages\\sklearn\\base.py:458: UserWarning: X has feature names, but RandomForestRegressor was fitted without feature names\n",
      "  warnings.warn(\n"
     ]
    }
   ],
   "source": [
    "# Entrenamos con y sin outliers usando el resto de archivos de la carpeta 'provinces'\n",
    "\n",
    "for boolean in with_outliers:    \n",
    "    for file in files[1:]:\n",
    "\n",
    "        df = pd.read_parquet(file)\n",
    "        file_name = file.split('\\\\')[-1]\n",
    "\n",
    "        df_validation = df.sample(frac=0.15)\n",
    "        df_train = df.reset_index()[~df.reset_index()['index'].isin(df_validation.reset_index()['index'])].drop(['index'], axis=1)\n",
    "\n",
    "        if boolean == False:\n",
    "            df_train = outliersFilter(df = df_train, min_price = 50_000, max_price = 5_000_000, max_baths = 15, max_surface = 1_000)\n",
    "\n",
    "        df_cat, encodings = frequencyEncoding(df_train[['state']])\n",
    "        df_train = pd.concat([df_train._get_numeric_data(), df_cat], axis = 1)\n",
    "\n",
    "        df_train = df_train[~df_train['price'].isna()].dropna()\n",
    "\n",
    "        X = df_train.drop(['price'], axis = 1)\n",
    "        y = df_train[['price']]\n",
    "\n",
    "        imputer = KNNImputer(n_neighbors=3)\n",
    "        X = imputer.fit_transform(X)\n",
    "        X_train, X_test, y_train, y_test = train_test_split(X, y, test_size = 0.2, random_state = 42)\n",
    "        model = RandomForestRegressor(n_jobs = -1, random_state = 42, n_estimators = 100)\n",
    "        model.fit(X_train, y_train)\n",
    "        yhat = model.predict(X_test)\n",
    "        df_journal = pd.concat([df_journal, pd.DataFrame([[file_name,\n",
    "                                                        'train',\n",
    "                                                        r2_score(y_test, yhat),\n",
    "                                                        mean_absolute_error(y_test, yhat),\n",
    "                                                        mean_squared_error(y_test, yhat),\n",
    "                                                        boolean]],\n",
    "                                                        columns = ['file', 'stage', 'r2', 'mae', 'mse', 'with_outliers'])])\n",
    "        \n",
    "        df_validation['state'] = df_validation['state'].replace(encodings['state'])\n",
    "        df_validation = df_validation.dropna()\n",
    "\n",
    "        X_val = df_validation.drop(['price'], axis = 1)\n",
    "        y_val = df_validation[['price']]\n",
    "\n",
    "        yhat = model.predict(X_val)\n",
    "\n",
    "        df_journal = pd.concat([df_journal, pd.DataFrame([[file_name,\n",
    "                                                        'validation',\n",
    "                                                        r2_score(y_val, yhat),\n",
    "                                                        mean_absolute_error(y_val, yhat),\n",
    "                                                        mean_squared_error(y_val, yhat),\n",
    "                                                        boolean]],\n",
    "                                                        columns = ['file', 'stage', 'r2', 'mae', 'mse', 'with_outliers'])])\n",
    "        \n",
    "        model_name = file_name.split('.')[0][5:]\n",
    "        \n",
    "        if boolean == True:\n",
    "            with open(f'./models/model_{model_name}.pkl', 'bw') as file:\n",
    "                pkl.dump(model, file)\n",
    "            with open(f'./models/model_{model_name}_encodings.pkl', 'bw') as file:\n",
    "                pkl.dump(encodings, file)\n",
    "        else:\n",
    "            with open(f'./models/model_{model_name}_no_outliers.pkl', 'bw') as file:\n",
    "                pkl.dump(model, file)\n",
    "            with open(f'./models/model_{model_name}_no_outliers_encodings.pkl', 'bw') as file:\n",
    "                pkl.dump(encodings, file)"
   ]
  },
  {
   "cell_type": "code",
   "execution_count": 31,
   "metadata": {},
   "outputs": [
    {
     "data": {
      "text/html": [
       "<div>\n",
       "<style scoped>\n",
       "    .dataframe tbody tr th:only-of-type {\n",
       "        vertical-align: middle;\n",
       "    }\n",
       "\n",
       "    .dataframe tbody tr th {\n",
       "        vertical-align: top;\n",
       "    }\n",
       "\n",
       "    .dataframe thead th {\n",
       "        text-align: right;\n",
       "    }\n",
       "</style>\n",
       "<table border=\"1\" class=\"dataframe\">\n",
       "  <thead>\n",
       "    <tr style=\"text-align: right;\">\n",
       "      <th></th>\n",
       "      <th>file</th>\n",
       "      <th>stage</th>\n",
       "      <th>r2</th>\n",
       "      <th>mae</th>\n",
       "      <th>mse</th>\n",
       "      <th>with_outliers</th>\n",
       "    </tr>\n",
       "  </thead>\n",
       "  <tbody>\n",
       "    <tr>\n",
       "      <th>0</th>\n",
       "      <td>data_25.parquet</td>\n",
       "      <td>train</td>\n",
       "      <td>0.756483</td>\n",
       "      <td>57072.287207</td>\n",
       "      <td>1.422860e+10</td>\n",
       "      <td>True</td>\n",
       "    </tr>\n",
       "    <tr>\n",
       "      <th>1</th>\n",
       "      <td>data_25.parquet</td>\n",
       "      <td>validation</td>\n",
       "      <td>0.112116</td>\n",
       "      <td>132650.232596</td>\n",
       "      <td>5.006568e+10</td>\n",
       "      <td>True</td>\n",
       "    </tr>\n",
       "    <tr>\n",
       "      <th>2</th>\n",
       "      <td>data_25.parquet</td>\n",
       "      <td>train</td>\n",
       "      <td>0.726868</td>\n",
       "      <td>59433.322089</td>\n",
       "      <td>1.306183e+10</td>\n",
       "      <td>False</td>\n",
       "    </tr>\n",
       "    <tr>\n",
       "      <th>3</th>\n",
       "      <td>data_25.parquet</td>\n",
       "      <td>validation</td>\n",
       "      <td>0.489979</td>\n",
       "      <td>101971.031031</td>\n",
       "      <td>2.875886e+10</td>\n",
       "      <td>False</td>\n",
       "    </tr>\n",
       "    <tr>\n",
       "      <th>4</th>\n",
       "      <td>data_alicante.parquet</td>\n",
       "      <td>train</td>\n",
       "      <td>-0.106710</td>\n",
       "      <td>100342.989022</td>\n",
       "      <td>1.087810e+11</td>\n",
       "      <td>True</td>\n",
       "    </tr>\n",
       "    <tr>\n",
       "      <th>...</th>\n",
       "      <td>...</td>\n",
       "      <td>...</td>\n",
       "      <td>...</td>\n",
       "      <td>...</td>\n",
       "      <td>...</td>\n",
       "      <td>...</td>\n",
       "    </tr>\n",
       "    <tr>\n",
       "      <th>75</th>\n",
       "      <td>data_tarragona.parquet</td>\n",
       "      <td>validation</td>\n",
       "      <td>0.684231</td>\n",
       "      <td>51476.919781</td>\n",
       "      <td>7.313855e+09</td>\n",
       "      <td>False</td>\n",
       "    </tr>\n",
       "    <tr>\n",
       "      <th>76</th>\n",
       "      <td>data_toledo.parquet</td>\n",
       "      <td>train</td>\n",
       "      <td>0.619892</td>\n",
       "      <td>42641.748919</td>\n",
       "      <td>3.750951e+09</td>\n",
       "      <td>False</td>\n",
       "    </tr>\n",
       "    <tr>\n",
       "      <th>77</th>\n",
       "      <td>data_toledo.parquet</td>\n",
       "      <td>validation</td>\n",
       "      <td>0.266832</td>\n",
       "      <td>60948.372243</td>\n",
       "      <td>1.519207e+10</td>\n",
       "      <td>False</td>\n",
       "    </tr>\n",
       "    <tr>\n",
       "      <th>78</th>\n",
       "      <td>data_valencia.parquet</td>\n",
       "      <td>train</td>\n",
       "      <td>0.502215</td>\n",
       "      <td>73675.352724</td>\n",
       "      <td>4.998829e+10</td>\n",
       "      <td>False</td>\n",
       "    </tr>\n",
       "    <tr>\n",
       "      <th>79</th>\n",
       "      <td>data_valencia.parquet</td>\n",
       "      <td>validation</td>\n",
       "      <td>0.795989</td>\n",
       "      <td>56075.564264</td>\n",
       "      <td>8.379903e+09</td>\n",
       "      <td>False</td>\n",
       "    </tr>\n",
       "  </tbody>\n",
       "</table>\n",
       "<p>80 rows × 6 columns</p>\n",
       "</div>"
      ],
      "text/plain": [
       "                      file       stage        r2            mae           mse  \\\n",
       "0          data_25.parquet       train  0.756483   57072.287207  1.422860e+10   \n",
       "1          data_25.parquet  validation  0.112116  132650.232596  5.006568e+10   \n",
       "2          data_25.parquet       train  0.726868   59433.322089  1.306183e+10   \n",
       "3          data_25.parquet  validation  0.489979  101971.031031  2.875886e+10   \n",
       "4    data_alicante.parquet       train -0.106710  100342.989022  1.087810e+11   \n",
       "..                     ...         ...       ...            ...           ...   \n",
       "75  data_tarragona.parquet  validation  0.684231   51476.919781  7.313855e+09   \n",
       "76     data_toledo.parquet       train  0.619892   42641.748919  3.750951e+09   \n",
       "77     data_toledo.parquet  validation  0.266832   60948.372243  1.519207e+10   \n",
       "78   data_valencia.parquet       train  0.502215   73675.352724  4.998829e+10   \n",
       "79   data_valencia.parquet  validation  0.795989   56075.564264  8.379903e+09   \n",
       "\n",
       "   with_outliers  \n",
       "0           True  \n",
       "1           True  \n",
       "2          False  \n",
       "3          False  \n",
       "4           True  \n",
       "..           ...  \n",
       "75         False  \n",
       "76         False  \n",
       "77         False  \n",
       "78         False  \n",
       "79         False  \n",
       "\n",
       "[80 rows x 6 columns]"
      ]
     },
     "execution_count": 31,
     "metadata": {},
     "output_type": "execute_result"
    }
   ],
   "source": [
    "df_journal = df_journal.reset_index(drop=True)\n",
    "df_journal"
   ]
  },
  {
   "cell_type": "code",
   "execution_count": 32,
   "metadata": {},
   "outputs": [
    {
     "data": {
      "text/html": [
       "<div>\n",
       "<style scoped>\n",
       "    .dataframe tbody tr th:only-of-type {\n",
       "        vertical-align: middle;\n",
       "    }\n",
       "\n",
       "    .dataframe tbody tr th {\n",
       "        vertical-align: top;\n",
       "    }\n",
       "\n",
       "    .dataframe thead th {\n",
       "        text-align: right;\n",
       "    }\n",
       "</style>\n",
       "<table border=\"1\" class=\"dataframe\">\n",
       "  <thead>\n",
       "    <tr style=\"text-align: right;\">\n",
       "      <th></th>\n",
       "      <th>file</th>\n",
       "      <th>stage</th>\n",
       "      <th>r2</th>\n",
       "      <th>mae</th>\n",
       "      <th>mse</th>\n",
       "      <th>with_outliers</th>\n",
       "    </tr>\n",
       "  </thead>\n",
       "  <tbody>\n",
       "    <tr>\n",
       "      <th>24</th>\n",
       "      <td>data_madrid.parquet</td>\n",
       "      <td>train</td>\n",
       "      <td>0.806927</td>\n",
       "      <td>119261.379792</td>\n",
       "      <td>8.373202e+10</td>\n",
       "      <td>True</td>\n",
       "    </tr>\n",
       "    <tr>\n",
       "      <th>25</th>\n",
       "      <td>data_madrid.parquet</td>\n",
       "      <td>validation</td>\n",
       "      <td>0.722236</td>\n",
       "      <td>153009.245024</td>\n",
       "      <td>1.846798e+11</td>\n",
       "      <td>True</td>\n",
       "    </tr>\n",
       "    <tr>\n",
       "      <th>62</th>\n",
       "      <td>data_madrid.parquet</td>\n",
       "      <td>train</td>\n",
       "      <td>0.871971</td>\n",
       "      <td>93867.218049</td>\n",
       "      <td>3.740431e+10</td>\n",
       "      <td>False</td>\n",
       "    </tr>\n",
       "    <tr>\n",
       "      <th>63</th>\n",
       "      <td>data_madrid.parquet</td>\n",
       "      <td>validation</td>\n",
       "      <td>0.821289</td>\n",
       "      <td>110950.715544</td>\n",
       "      <td>7.186232e+10</td>\n",
       "      <td>False</td>\n",
       "    </tr>\n",
       "  </tbody>\n",
       "</table>\n",
       "</div>"
      ],
      "text/plain": [
       "                   file       stage        r2            mae           mse  \\\n",
       "24  data_madrid.parquet       train  0.806927  119261.379792  8.373202e+10   \n",
       "25  data_madrid.parquet  validation  0.722236  153009.245024  1.846798e+11   \n",
       "62  data_madrid.parquet       train  0.871971   93867.218049  3.740431e+10   \n",
       "63  data_madrid.parquet  validation  0.821289  110950.715544  7.186232e+10   \n",
       "\n",
       "   with_outliers  \n",
       "24          True  \n",
       "25          True  \n",
       "62         False  \n",
       "63         False  "
      ]
     },
     "execution_count": 32,
     "metadata": {},
     "output_type": "execute_result"
    }
   ],
   "source": [
    "df_journal[df_journal['file']=='data_madrid.parquet']"
   ]
  },
  {
   "cell_type": "code",
   "execution_count": 33,
   "metadata": {},
   "outputs": [],
   "source": [
    "df_journal.to_csv('./models/journal.csv', sep=',', index=False)"
   ]
  },
  {
   "cell_type": "code",
   "execution_count": null,
   "metadata": {},
   "outputs": [],
   "source": []
  }
 ],
 "metadata": {
  "kernelspec": {
   "display_name": "venv",
   "language": "python",
   "name": "python3"
  },
  "language_info": {
   "codemirror_mode": {
    "name": "ipython",
    "version": 3
   },
   "file_extension": ".py",
   "mimetype": "text/x-python",
   "name": "python",
   "nbconvert_exporter": "python",
   "pygments_lexer": "ipython3",
   "version": "3.10.9"
  }
 },
 "nbformat": 4,
 "nbformat_minor": 2
}
