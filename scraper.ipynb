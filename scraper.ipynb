{
 "cells": [
  {
   "cell_type": "code",
   "execution_count": 2,
   "metadata": {},
   "outputs": [],
   "source": [
    "import os\n",
    "import requests\n",
    "import requests\n",
    "\n",
    "from bs4 import BeautifulSoup\n",
    "\n",
    "from selenium import webdriver\n",
    "from selenium.webdriver.common.by import By\n",
    "from selenium.webdriver.support.ui import WebDriverWait\n",
    "from selenium.webdriver.support import expected_conditions as EC\n",
    "\n",
    "from time import sleep\n",
    "\n",
    "\n",
    "from locations import *\n",
    "from parsing import *"
   ]
  },
  {
   "cell_type": "markdown",
   "metadata": {},
   "source": [
    "# LOCATIONS SCRAPING"
   ]
  },
  {
   "cell_type": "code",
   "execution_count": 3,
   "metadata": {},
   "outputs": [],
   "source": [
    "# Base\n",
    "\n",
    "base_url = 'https://www.pisos.com/'\n",
    "\n",
    "venta_url = f'{base_url}venta/'"
   ]
  },
  {
   "cell_type": "code",
   "execution_count": 4,
   "metadata": {},
   "outputs": [],
   "source": [
    "# Sacamos todas las paginas filtradas por provincias\n",
    "\n",
    "response = requests.get(base_url)\n",
    "\n",
    "soup = BeautifulSoup(response.text, \"html.parser\")\n",
    "\n",
    "provincias_str = soup.find('div', class_ = 'home-container').find('div', class_ = 'selectBox').find_all('ul')[-1].text\n",
    "\n",
    "provincias = [x.lower() for x in provincias_str.strip().split('\\n')]\n",
    "\n",
    "endpoints = replaceWithUnderscore(provincias)\n",
    "\n",
    "endpoints = [venta_url + endpoint for endpoint in endpoints]\n",
    "\n",
    "with open('locations.txt', 'w') as file:\n",
    "    file.write('\\n'.join(endpoints))"
   ]
  },
  {
   "cell_type": "markdown",
   "metadata": {},
   "source": [
    "# SINGLE PAGE SCRAPING"
   ]
  },
  {
   "cell_type": "code",
   "execution_count": 5,
   "metadata": {},
   "outputs": [],
   "source": [
    "def scrape(url):\n",
    "\n",
    "    browser = webdriver.Chrome()\n",
    "    browser.get(url)\n",
    "    browser.maximize_window()\n",
    "\n",
    "    element = WebDriverWait(browser, 10).until(\n",
    "        EC.presence_of_element_located((By.XPATH, '//*[@id=\"didomi-notice-agree-button\"]'))\n",
    "    )\n",
    "\n",
    "    element.click() # Accept cookies\n",
    "\n",
    "    for i in range(30):\n",
    "\n",
    "        element = WebDriverWait(browser, 10).until(\n",
    "            EC.presence_of_element_located((By.XPATH, f'(//*[@id]/div[2]/div[1]/div[2]/a)[{i + 1}]'))\n",
    "        )\n",
    "\n",
    "        element.click() # Click on the first post\n",
    "\n",
    "        # <SCROLLING>\n",
    "        while True:\n",
    "            is_at_bottom = browser.execute_script(\"return window.scrollY + window.innerHeight >= document.body.scrollHeight\")\n",
    "            browser.execute_script(\"window.scroll({ top: document.body.scrollHeight, behavior: 'smooth' });\")\n",
    "            if is_at_bottom:\n",
    "                break\n",
    "            sleep(0.2)\n",
    "        # </SCROLLING>\n",
    "        \n",
    "        html_content = browser.page_source\n",
    "        soft_url = url.replace('https://www.pisos.com/venta/', '')\n",
    "        soft_url = soft_url.replace('/', '_')\n",
    "        soft_url = soft_url.replace('-', '_')\n",
    "\n",
    "        file_path = f'{os.getcwd()}/html_content/{soft_url}_{i}.html'\n",
    "        try:\n",
    "            with open(file_path, 'w', encoding='utf-8') as file:\n",
    "                file.write(html_content)\n",
    "        except Exception as e:\n",
    "            with open(file_path, 'w', encoding='utf-8') as file:\n",
    "                file.write(repr(e))\n",
    "\n",
    "        go_back_element = WebDriverWait(browser, 10).until(\n",
    "            EC.presence_of_element_located((By.XPATH, '//*[@id=\"GoBackLink\"]'))\n",
    "        )\n",
    "\n",
    "        go_back_element.click() # Click on back arrow\n",
    "\n",
    "    browser.quit()\n",
    "\n",
    "    "
   ]
  },
  {
   "cell_type": "markdown",
   "metadata": {},
   "source": [
    "# TESTING"
   ]
  },
  {
   "cell_type": "code",
   "execution_count": 19,
   "metadata": {},
   "outputs": [],
   "source": [
    "def scanRegions(url):\n",
    "    response = requests.get(url)\n",
    "\n",
    "    print(f'URL: {url} | STATUS {response.status_code}')\n",
    "\n",
    "    soup = BeautifulSoup(response.text, 'html.parser')\n",
    "\n",
    "    items = soup.select('div.zoneList a.item:not(.item-subitem)')\n",
    "\n",
    "    endpoints = {}\n",
    "    for item in items:\n",
    "        endpoint = item['href']\n",
    "        n_results = item.find('span', class_ = 'total').text\n",
    "\n",
    "        # <INT>\n",
    "        if len(n_results) != 0:\n",
    "            try:\n",
    "                n_results = n_results[1:-1]\n",
    "                n_results = ''.join(n_results.split('.'))\n",
    "                n_results = int(n_results)\n",
    "            except:\n",
    "                print(f'FAIL CASTING TO INTEGER {endpoint}')\n",
    "        else:\n",
    "            print(f'n_results EMPTY {endpoint}')\n",
    "        #</INT>\n",
    "\n",
    "        # <RECURSSION>\n",
    "        if n_results > 3000:\n",
    "            endpoints[endpoint] = scanRegions(base_url[:-1] + endpoint)\n",
    "        # </RECURSSION>\n",
    "\n",
    "        else: endpoints[endpoint] = n_results\n",
    "\n",
    "    return endpoints"
   ]
  },
  {
   "cell_type": "code",
   "execution_count": 20,
   "metadata": {},
   "outputs": [],
   "source": [
    "def parseRegions(endpoints):\n",
    "\n",
    "    def extract(endpoints):\n",
    "        array = []\n",
    "        for key, value in endpoints.items():\n",
    "            if isinstance(value, int):\n",
    "                array.append(key)\n",
    "                continue\n",
    "\n",
    "            data = extract(value)\n",
    "            array.extend(data)\n",
    "\n",
    "        return array\n",
    "    \n",
    "    endpoints = extract(endpoints)\n",
    "\n",
    "    array = []\n",
    "    \n",
    "    for endpoint in endpoints:\n",
    "        data = endpoint\n",
    "        if '/venta/pisos-' in endpoint:\n",
    "            data = endpoint.replace('/venta/pisos-', '/viviendas/')\n",
    "        array.append(data)\n",
    "\n",
    "    return array\n"
   ]
  },
  {
   "cell_type": "code",
   "execution_count": 24,
   "metadata": {},
   "outputs": [
    {
     "name": "stdout",
     "output_type": "stream",
     "text": [
      "URL: https://www.pisos.com/viviendas/barcelona/ | STATUS 200\n",
      "[<a class=\"item\" data-highlight=\"true\" href=\"/viviendas/alt_penedes/\"><span class=\"text\">Alt Penedès</span> <span class=\"total\">(632)</span></a>, <a class=\"item\" data-highlight=\"true\" href=\"/viviendas/anoia/\"><span class=\"text\">Anoia</span> <span class=\"total\">(586)</span></a>, <a class=\"item\" data-highlight=\"true\" href=\"/viviendas/bages/\"><span class=\"text\">Bages</span> <span class=\"total\">(1.071)</span></a>, <a class=\"item\" data-highlight=\"true\" href=\"/viviendas/baix_llobregat/\"><span class=\"text\">Baix Llobregat</span> <span class=\"total\">(3.043)</span></a>, <a class=\"item\" data-highlight=\"true\" href=\"/viviendas/barcelones/\"><span class=\"text\">Barcelonès</span> <span class=\"total\">(7.741)</span></a>, <a class=\"item\" data-highlight=\"true\" href=\"/viviendas/bergueda/\"><span class=\"text\">Berguedà</span> <span class=\"total\">(144)</span></a>, <a class=\"item\" data-highlight=\"true\" href=\"/viviendas/garraf/\"><span class=\"text\">Garraf</span> <span class=\"total\">(1.641)</span></a>, <a class=\"item\" data-highlight=\"true\" href=\"/venta/pisos-llucanes/\"><span class=\"text\">Lluçanès</span> <span class=\"total\">(28)</span></a>, <a class=\"item\" data-highlight=\"true\" href=\"/viviendas/maresme/\"><span class=\"text\">Maresme</span> <span class=\"total\">(3.071)</span></a>, <a class=\"item\" data-highlight=\"true\" href=\"/viviendas/moianes/\"><span class=\"text\">Moianès</span> <span class=\"total\">(86)</span></a>, <a class=\"item\" data-highlight=\"true\" href=\"/viviendas/osona/\"><span class=\"text\">Osona</span> <span class=\"total\">(1.054)</span></a>, <a class=\"item\" data-highlight=\"true\" href=\"/viviendas/valles_occidental/\"><span class=\"text\">Vallès Occidental</span> <span class=\"total\">(5.980)</span></a>, <a class=\"item\" data-highlight=\"true\" href=\"/viviendas/valles_oriental/\"><span class=\"text\">Vallès Oriental</span> <span class=\"total\">(2.365)</span></a>]\n",
      "URL: https://www.pisos.com/viviendas/baix_llobregat/ | STATUS 200\n",
      "[<a class=\"item\" data-highlight=\"true\" href=\"/viviendas/baix_llobregat_nord/\"><span class=\"text\">Baix Llobregat Nord</span> <span class=\"total\">(547)</span></a>, <a class=\"item\" data-highlight=\"true\" href=\"/viviendas/baix_llobregat_sud_est/\"><span class=\"text\">Baix Llobregat Sud-Est</span> <span class=\"total\">(1.593)</span></a>, <a class=\"item\" data-highlight=\"true\" href=\"/viviendas/baix_llobregat_sud_oest/\"><span class=\"text\">Baix Llobregat Sud-Oest</span> <span class=\"total\">(903)</span></a>]\n",
      "URL: https://www.pisos.com/viviendas/barcelones/ | STATUS 200\n",
      "[<a class=\"item\" data-highlight=\"true\" href=\"/viviendas/badalona/\"><span class=\"text\">Badalona</span> <span class=\"total\">(1.006)</span></a>, <a class=\"item\" data-highlight=\"true\" href=\"/viviendas/barcelona_capital/\"><span class=\"text\">Barcelona Capital</span> <span class=\"total\">(5.508)</span></a>, <a class=\"item\" data-highlight=\"true\" href=\"/viviendas/hospitalet_de_llobregat/\"><span class=\"text\">L'Hospitalet de Llobregat</span> <span class=\"total\">(846)</span></a>, <a class=\"item\" data-highlight=\"true\" href=\"/venta/pisos-sant_adria_de_besos/\"><span class=\"text\">Sant Adrià de Besòs</span> <span class=\"total\">(57)</span></a>, <a class=\"item\" data-highlight=\"true\" href=\"/viviendas/santa_coloma_de_gramenet/\"><span class=\"text\">Santa Coloma de Gramenet</span> <span class=\"total\">(324)</span></a>]\n",
      "URL: https://www.pisos.com/viviendas/barcelona_capital/ | STATUS 200\n",
      "[<a class=\"item\" data-highlight=\"true\" href=\"/viviendas/ciutat_vella/\"><span class=\"text\">Ciutat Vella</span> <span class=\"total\">(836)</span></a>, <a class=\"item\" data-highlight=\"true\" href=\"/viviendas/barcelona_capital_eixample/\"><span class=\"text\">Eixample</span> <span class=\"total\">(1.164)</span></a>, <a class=\"item\" data-highlight=\"true\" href=\"/viviendas/gracia_distrito/\"><span class=\"text\">Gràcia</span> <span class=\"total\">(284)</span></a>, <a class=\"item\" data-highlight=\"true\" href=\"/viviendas/horta_guinardo/\"><span class=\"text\">Horta-Guinardó</span> <span class=\"total\">(471)</span></a>, <a class=\"item\" data-highlight=\"true\" href=\"/viviendas/barcelona_capital_les_corts/\"><span class=\"text\">Les Corts</span> <span class=\"total\">(245)</span></a>, <a class=\"item\" data-highlight=\"true\" href=\"/viviendas/nou_barris/\"><span class=\"text\">Nou Barris</span> <span class=\"total\">(486)</span></a>, <a class=\"item\" data-highlight=\"true\" href=\"/viviendas/sant_andreu/\"><span class=\"text\">Sant Andreu</span> <span class=\"total\">(339)</span></a>, <a class=\"item\" data-highlight=\"true\" href=\"/viviendas/sant_marti/\"><span class=\"text\">Sant Martí</span> <span class=\"total\">(546)</span></a>, <a class=\"item\" data-highlight=\"true\" href=\"/viviendas/sants_montjuic/\"><span class=\"text\">Sants-Montjuïc</span> <span class=\"total\">(635)</span></a>, <a class=\"item\" data-highlight=\"true\" href=\"/viviendas/sarria_sant_gervasi/\"><span class=\"text\">Sarrià-Sant Gervasi</span> <span class=\"total\">(471)</span></a>]\n",
      "URL: https://www.pisos.com/viviendas/maresme/ | STATUS 200\n",
      "[<a class=\"item\" data-highlight=\"true\" href=\"/viviendas/maresme_est/\"><span class=\"text\">Maresme Est</span> <span class=\"total\">(1.529)</span></a>, <a class=\"item\" data-highlight=\"true\" href=\"/viviendas/maresme_oest/\"><span class=\"text\">Maresme Oest</span> <span class=\"total\">(1.542)</span></a>]\n",
      "URL: https://www.pisos.com/viviendas/valles_occidental/ | STATUS 200\n",
      "[<a class=\"item\" data-highlight=\"true\" href=\"/viviendas/valles_occidental_nord/\"><span class=\"text\">Vallès Occidental Nord</span> <span class=\"total\">(1.979)</span></a>, <a class=\"item\" data-highlight=\"true\" href=\"/viviendas/valles_occidental_sud/\"><span class=\"text\">Vallès Occidental Sud</span> <span class=\"total\">(4.001)</span></a>]\n",
      "URL: https://www.pisos.com/viviendas/valles_occidental_sud/ | STATUS 200\n",
      "[<a class=\"item\" data-highlight=\"true\" href=\"/venta/pisos-badia_del_valles/\"><span class=\"text\">Badia del Vallès</span> <span class=\"total\">(38)</span></a>, <a class=\"item\" data-highlight=\"true\" href=\"/venta/pisos-barbera_del_valles/\"><span class=\"text\">Barberà del Vallès</span> <span class=\"total\">(264)</span></a>, <a class=\"item\" data-highlight=\"true\" href=\"/venta/pisos-castellbisbal/\"><span class=\"text\">Castellbisbal</span> <span class=\"total\">(41)</span></a>, <a class=\"item\" data-highlight=\"true\" href=\"/viviendas/cerdanyola_del_valles/\"><span class=\"text\">Cerdanyola del Vallès</span> <span class=\"total\">(195)</span></a>, <a class=\"item\" data-highlight=\"true\" href=\"/viviendas/montcada_i_reixac/\"><span class=\"text\">Montcada i Reixac</span> <span class=\"total\">(149)</span></a>, <a class=\"item\" data-highlight=\"true\" href=\"/venta/pisos-palau_solita_i_plegamans/\"><span class=\"text\">Palau-solità i Plegamans</span> <span class=\"total\">(77)</span></a>, <a class=\"item\" data-highlight=\"true\" href=\"/venta/pisos-polinya/\"><span class=\"text\">Polinyà</span> <span class=\"total\">(47)</span></a>, <a class=\"item\" data-highlight=\"true\" href=\"/viviendas/ripollet/\"><span class=\"text\">Ripollet</span> <span class=\"total\">(161)</span></a>, <a class=\"item\" data-highlight=\"true\" href=\"/viviendas/rubi/\"><span class=\"text\">Rubí</span> <span class=\"total\">(518)</span></a>, <a class=\"item\" data-highlight=\"true\" href=\"/viviendas/sabadell/\"><span class=\"text\">Sabadell</span> <span class=\"total\">(2.052)</span></a>, <a class=\"item\" data-highlight=\"true\" href=\"/viviendas/sant_cugat_del_valles/\"><span class=\"text\">Sant Cugat del Vallès</span> <span class=\"total\">(269)</span></a>, <a class=\"item\" data-highlight=\"true\" href=\"/venta/pisos-sant_quirze_del_valles/\"><span class=\"text\">Sant Quirze del Vallès</span> <span class=\"total\">(132)</span></a>, <a class=\"item\" data-highlight=\"true\" href=\"/venta/pisos-santa_perpetua_de_mogoda/\"><span class=\"text\">Santa Perpètua de Mogoda</span> <span class=\"total\">(40)</span></a>, <a class=\"item\" data-highlight=\"true\" href=\"/venta/pisos-ullastrell/\"><span class=\"text\">Ullastrell</span> <span class=\"total\">(18)</span></a>]\n"
     ]
    }
   ],
   "source": [
    "URL = 'https://www.pisos.com/viviendas/barcelona/'\n",
    "\n",
    "urls = scanRegions(URL)\n",
    "urls = parseRegions(urls)\n",
    "urls = [base_url + x for x in urls]\n",
    "urls = [x.replace('d//vivienas/', '/venta/pisos-') for x in urls]"
   ]
  },
  {
   "cell_type": "code",
   "execution_count": 25,
   "metadata": {},
   "outputs": [
    {
     "name": "stdout",
     "output_type": "stream",
     "text": [
      "['https://www.pisos.com//viviendas/alt_penedes/', 'https://www.pisos.com//viviendas/anoia/', 'https://www.pisos.com//viviendas/bages/', 'https://www.pisos.com//viviendas/baix_llobregat_nord/', 'https://www.pisos.com//viviendas/baix_llobregat_sud_est/', 'https://www.pisos.com//viviendas/baix_llobregat_sud_oest/', 'https://www.pisos.com//viviendas/badalona/', 'https://www.pisos.com//viviendas/ciutat_vella/', 'https://www.pisos.com//viviendas/barcelona_capital_eixample/', 'https://www.pisos.com//viviendas/gracia_distrito/', 'https://www.pisos.com//viviendas/horta_guinardo/', 'https://www.pisos.com//viviendas/barcelona_capital_les_corts/', 'https://www.pisos.com//viviendas/nou_barris/', 'https://www.pisos.com//viviendas/sant_andreu/', 'https://www.pisos.com//viviendas/sant_marti/', 'https://www.pisos.com//viviendas/sants_montjuic/', 'https://www.pisos.com//viviendas/sarria_sant_gervasi/', 'https://www.pisos.com//viviendas/hospitalet_de_llobregat/', 'https://www.pisos.com//viviendas/sant_adria_de_besos/', 'https://www.pisos.com//viviendas/santa_coloma_de_gramenet/', 'https://www.pisos.com//viviendas/bergueda/', 'https://www.pisos.com//viviendas/garraf/', 'https://www.pisos.com//viviendas/llucanes/', 'https://www.pisos.com//viviendas/maresme_est/', 'https://www.pisos.com//viviendas/maresme_oest/', 'https://www.pisos.com//viviendas/moianes/', 'https://www.pisos.com//viviendas/osona/', 'https://www.pisos.com//viviendas/valles_occidental_nord/', 'https://www.pisos.com//viviendas/badia_del_valles/', 'https://www.pisos.com//viviendas/barbera_del_valles/', 'https://www.pisos.com//viviendas/castellbisbal/', 'https://www.pisos.com//viviendas/cerdanyola_del_valles/', 'https://www.pisos.com//viviendas/montcada_i_reixac/', 'https://www.pisos.com//viviendas/palau_solita_i_plegamans/', 'https://www.pisos.com//viviendas/polinya/', 'https://www.pisos.com//viviendas/ripollet/', 'https://www.pisos.com//viviendas/rubi/', 'https://www.pisos.com//viviendas/sabadell/', 'https://www.pisos.com//viviendas/sant_cugat_del_valles/', 'https://www.pisos.com//viviendas/sant_quirze_del_valles/', 'https://www.pisos.com//viviendas/santa_perpetua_de_mogoda/', 'https://www.pisos.com//viviendas/ullastrell/', 'https://www.pisos.com//viviendas/valles_oriental/']\n"
     ]
    }
   ],
   "source": [
    "print(urls)"
   ]
  },
  {
   "cell_type": "code",
   "execution_count": 9,
   "metadata": {},
   "outputs": [
    {
     "ename": "NameError",
     "evalue": "name 'dsakjdasj' is not defined",
     "output_type": "error",
     "traceback": [
      "\u001b[1;31m---------------------------------------------------------------------------\u001b[0m",
      "\u001b[1;31mNameError\u001b[0m                                 Traceback (most recent call last)",
      "\u001b[1;32mc:\\Users\\cuicuidev\\Desktop\\pisoscom\\scraper.ipynb Cell 11\u001b[0m line \u001b[0;36m1\n\u001b[1;32m----> <a href='vscode-notebook-cell:/c%3A/Users/cuicuidev/Desktop/pisoscom/scraper.ipynb#X15sZmlsZQ%3D%3D?line=0'>1</a>\u001b[0m dsakjdasj\n\u001b[0;32m      <a href='vscode-notebook-cell:/c%3A/Users/cuicuidev/Desktop/pisoscom/scraper.ipynb#X15sZmlsZQ%3D%3D?line=2'>3</a>\u001b[0m \u001b[39mprint\u001b[39m(urls)\n\u001b[0;32m      <a href='vscode-notebook-cell:/c%3A/Users/cuicuidev/Desktop/pisoscom/scraper.ipynb#X15sZmlsZQ%3D%3D?line=3'>4</a>\u001b[0m \u001b[39mfor\u001b[39;00m url \u001b[39min\u001b[39;00m urls:\n",
      "\u001b[1;31mNameError\u001b[0m: name 'dsakjdasj' is not defined"
     ]
    }
   ],
   "source": [
    "for url in urls:\n",
    "    for i in range(57):\n",
    "        try:\n",
    "            endpoint = url + f'{i+1}'\n",
    "            scrape(endpoint)\n",
    "        except:\n",
    "            continue"
   ]
  },
  {
   "cell_type": "code",
   "execution_count": null,
   "metadata": {},
   "outputs": [],
   "source": [
    "urls"
   ]
  },
  {
   "cell_type": "code",
   "execution_count": null,
   "metadata": {},
   "outputs": [],
   "source": []
  }
 ],
 "metadata": {
  "kernelspec": {
   "display_name": "venv",
   "language": "python",
   "name": "python3"
  },
  "language_info": {
   "codemirror_mode": {
    "name": "ipython",
    "version": 3
   },
   "file_extension": ".py",
   "mimetype": "text/x-python",
   "name": "python",
   "nbconvert_exporter": "python",
   "pygments_lexer": "ipython3",
   "version": "3.10.11"
  },
  "orig_nbformat": 4
 },
 "nbformat": 4,
 "nbformat_minor": 2
}
