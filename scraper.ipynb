{
 "cells": [
  {
   "cell_type": "code",
   "execution_count": 5,
   "metadata": {},
   "outputs": [],
   "source": [
    "import os\n",
    "import requests\n",
    "import requests\n",
    "import ast\n",
    "\n",
    "import pandas as pd\n",
    "import glob\n",
    "import plotly.express as px\n",
    "\n",
    "from bs4 import BeautifulSoup\n",
    "\n",
    "from selenium import webdriver\n",
    "from selenium.webdriver.common.by import By\n",
    "from selenium.webdriver.support.ui import WebDriverWait\n",
    "from selenium.webdriver.support import expected_conditions as EC\n",
    "\n",
    "from time import sleep\n",
    "\n",
    "from locations import *\n",
    "from parsing import *"
   ]
  },
  {
   "cell_type": "markdown",
   "metadata": {},
   "source": [
    "# LOCATIONS SCRAPING"
   ]
  },
  {
   "cell_type": "code",
   "execution_count": 66,
   "metadata": {},
   "outputs": [],
   "source": [
    "# Base\n",
    "\n",
    "base_url = 'https://www.pisos.com/'\n",
    "\n",
    "venta_url = f'{base_url}venta/'"
   ]
  },
  {
   "cell_type": "code",
   "execution_count": 67,
   "metadata": {},
   "outputs": [],
   "source": [
    "# Sacamos todas las paginas filtradas por provincias\n",
    "\n",
    "response = requests.get(base_url)\n",
    "\n",
    "soup = BeautifulSoup(response.text, \"html.parser\")\n",
    "\n",
    "provincias_str = soup.find('div', class_ = 'home-container').find('div', class_ = 'selectBox').find_all('ul')[-1].text\n",
    "\n",
    "provincias = [x.lower() for x in provincias_str.strip().split('\\n')]\n",
    "\n",
    "endpoints = replaceWithUnderscore(provincias)\n",
    "\n",
    "endpoints = [venta_url + endpoint for endpoint in endpoints]\n",
    "\n",
    "with open('locations.txt', 'w') as file:\n",
    "    file.write('\\n'.join(endpoints))"
   ]
  },
  {
   "cell_type": "markdown",
   "metadata": {},
   "source": [
    "# SINGLE PAGE SCRAPING"
   ]
  },
  {
   "cell_type": "code",
   "execution_count": 68,
   "metadata": {},
   "outputs": [],
   "source": [
    "def scrape(urls):\n",
    "    browser = webdriver.Chrome()\n",
    "\n",
    "    for idx, url in enumerate(urls):\n",
    "        browser.get(url)\n",
    "        # browser.maximize_window()\n",
    "\n",
    "        if idx == 0:\n",
    "            element = WebDriverWait(browser, 10).until(\n",
    "                EC.presence_of_element_located((By.XPATH, '//*[@id=\"didomi-notice-agree-button\"]'))\n",
    "            )\n",
    "\n",
    "            element.click() # Accept cookies\n",
    "\n",
    "        # <SCROLLING>\n",
    "        while True:\n",
    "            is_at_bottom = browser.execute_script(\"return window.scrollY + window.innerHeight >= document.body.scrollHeight\")\n",
    "            browser.execute_script(\"window.scroll({ top: document.body.scrollHeight, behavior: 'smooth' });\")\n",
    "            if is_at_bottom:\n",
    "                break\n",
    "            sleep(0.2)\n",
    "        # </SCROLLING>\n",
    "        \n",
    "        html_content = browser.page_source\n",
    "        soft_url = url.replace('https://www.pisos.com/comprar/', '')\n",
    "        soft_url = soft_url.replace('/', '_')\n",
    "        soft_url = soft_url.replace('-', '_')\n",
    "\n",
    "        file_path = f'{os.getcwd()}/html_content/{soft_url}.html'\n",
    "        try:\n",
    "            with open(file_path, 'w', encoding='utf-8') as file:\n",
    "                file.write(html_content)\n",
    "        except Exception as e:\n",
    "            with open(file_path, 'w', encoding='utf-8') as file:\n",
    "                file.write(repr(e))\n",
    "\n",
    "    browser.quit()\n",
    "\n",
    "    "
   ]
  },
  {
   "cell_type": "markdown",
   "metadata": {},
   "source": [
    "# TESTING"
   ]
  },
  {
   "cell_type": "code",
   "execution_count": 69,
   "metadata": {},
   "outputs": [],
   "source": [
    "def scanRegions(url):\n",
    "    response = requests.get(url)\n",
    "\n",
    "    print(f'URL: {url} | STATUS {response.status_code}')\n",
    "\n",
    "    soup = BeautifulSoup(response.text, 'html.parser')\n",
    "\n",
    "    items = soup.select('div.zoneList a.item:not(.item-subitem)')\n",
    "\n",
    "    endpoints = {}\n",
    "    for item in items:\n",
    "        endpoint = item['href']\n",
    "        n_results = item.find('span', class_ = 'total').text\n",
    "\n",
    "        # <INT>\n",
    "        if len(n_results) != 0:\n",
    "            try:\n",
    "                n_results = n_results[1:-1]\n",
    "                n_results = ''.join(n_results.split('.'))\n",
    "                n_results = int(n_results)\n",
    "            except:\n",
    "                print(f'FAIL CASTING TO INTEGER {endpoint}')\n",
    "        else:\n",
    "            print(f'n_results EMPTY {endpoint}')\n",
    "        #</INT>\n",
    "\n",
    "        # <RECURSSION>\n",
    "        if n_results > 3000:\n",
    "            endpoints[endpoint] = scanRegions(base_url[:-1] + endpoint)\n",
    "        # </RECURSSION>\n",
    "\n",
    "        else: endpoints[endpoint] = n_results\n",
    "\n",
    "    return endpoints"
   ]
  },
  {
   "cell_type": "code",
   "execution_count": 70,
   "metadata": {},
   "outputs": [],
   "source": [
    "def parseRegions(endpoints):\n",
    "\n",
    "    def extract(endpoints):\n",
    "        array = []\n",
    "        for key, value in endpoints.items():\n",
    "            if isinstance(value, int):\n",
    "                array.append(key)\n",
    "                continue\n",
    "\n",
    "            data = extract(value)\n",
    "            array.extend(data)\n",
    "\n",
    "        return array\n",
    "    \n",
    "    endpoints = extract(endpoints)\n",
    "\n",
    "    array = []\n",
    "    \n",
    "    for endpoint in endpoints:\n",
    "        data = endpoint\n",
    "        if '/venta/pisos-' in endpoint:\n",
    "            data = endpoint.replace('/venta/pisos-', '/viviendas/')\n",
    "        array.append(data)\n",
    "\n",
    "    return array"
   ]
  },
  {
   "cell_type": "code",
   "execution_count": 71,
   "metadata": {},
   "outputs": [
    {
     "name": "stdout",
     "output_type": "stream",
     "text": [
      "URL: https://www.pisos.com/viviendas/madrid/ | STATUS 200\n",
      "URL: https://www.pisos.com/viviendas/madrid_capital/ | STATUS 200\n",
      "['https://www.pisos.com/venta/pisos-corredor_del_henares/', 'https://www.pisos.com/venta/pisos-arganzuela/', 'https://www.pisos.com/venta/pisos-madrid_capital_barajas/', 'https://www.pisos.com/venta/pisos-madrid_capital_carabanchel/', 'https://www.pisos.com/venta/pisos-madrid_capital_centro/', 'https://www.pisos.com/venta/pisos-madrid_capital_chamartin/', 'https://www.pisos.com/venta/pisos-chamberi_distrito/', 'https://www.pisos.com/venta/pisos-ciudad_lineal/', 'https://www.pisos.com/venta/pisos-fuencarral_el_pardo/', 'https://www.pisos.com/venta/pisos-hortaleza/', 'https://www.pisos.com/venta/pisos-latina/', 'https://www.pisos.com/venta/pisos-moncloa_aravaca/', 'https://www.pisos.com/venta/pisos-moratalaz/', 'https://www.pisos.com/venta/pisos-puente_de_vallecas/', 'https://www.pisos.com/venta/pisos-madrid_capital_retiro/', 'https://www.pisos.com/venta/pisos-madrid_capital_salamanca/', 'https://www.pisos.com/venta/pisos-madrid_capital_san_blas/', 'https://www.pisos.com/venta/pisos-tetuan/', 'https://www.pisos.com/venta/pisos-madrid_capital_usera/', 'https://www.pisos.com/venta/pisos-madrid_capital_vicalvaro/', 'https://www.pisos.com/venta/pisos-villa_de_vallecas/', 'https://www.pisos.com/venta/pisos-villaverde_distrito/', 'https://www.pisos.com/venta/pisos-madrid_noroeste/', 'https://www.pisos.com/venta/pisos-madrid_norte/', 'https://www.pisos.com/venta/pisos-madrid_sur/', 'https://www.pisos.com/venta/pisos-madrid_sureste/', 'https://www.pisos.com/venta/pisos-madrid_suroeste/']\n"
     ]
    }
   ],
   "source": [
    "URL = 'https://www.pisos.com/viviendas/madrid/'\n",
    "\n",
    "urls = scanRegions(URL)\n",
    "urls = parseRegions(urls)\n",
    "urls = [base_url + x for x in urls]\n",
    "urls = [x.replace('//viviendas/', '/venta/pisos-') for x in urls]\n",
    "print(urls)"
   ]
  },
  {
   "cell_type": "code",
   "execution_count": 72,
   "metadata": {},
   "outputs": [],
   "source": [
    "def scrapeUrls(endpoint):\n",
    "    response = requests.get(endpoint)\n",
    "\n",
    "    soup = BeautifulSoup(response.text, 'html.parser')\n",
    "\n",
    "    results = soup.find('div', class_ = 'grid__title').find_all('span')[-1].text\n",
    "\n",
    "    n_results = int(''.join([x for x in results if x.isnumeric()]))\n",
    "    n_pages = (n_results // 30) + 1\n",
    "\n",
    "    urls = []\n",
    "    for i in range(n_pages):\n",
    "        url = f'{endpoint}{i + 1}'\n",
    "        response = requests.get(url)\n",
    "        soup = BeautifulSoup(response.text, 'html.parser')\n",
    "\n",
    "        ads = soup.find_all('a', class_ = 'ad-preview__title')\n",
    "        urls.extend([x['href'] for x in ads])\n",
    "    return urls"
   ]
  },
  {
   "cell_type": "code",
   "execution_count": 73,
   "metadata": {},
   "outputs": [],
   "source": [
    "for url in urls:\n",
    "    urls_ = scrapeUrls(url)\n",
    "    urls_ = list(set(urls_))\n",
    "    urls_ = [base_url[:-1] + x for x in urls_]\n",
    "    with open('urls.csv', 'a+') as file:\n",
    "        file.writelines([x + ',\\n' for x in urls_])"
   ]
  },
  {
   "cell_type": "code",
   "execution_count": 75,
   "metadata": {},
   "outputs": [],
   "source": [
    "with open('urls.csv') as file:\n",
    "    urls = file.read()\n",
    "\n",
    "urls = urls.split(',\\n')"
   ]
  },
  {
   "cell_type": "code",
   "execution_count": 78,
   "metadata": {},
   "outputs": [
    {
     "ename": "InvalidArgumentException",
     "evalue": "Message: invalid argument\n  (Session info: chrome=117.0.5938.150)\nStacktrace:\n\tGetHandleVerifier [0x00007FF765B47892+54818]\n\t(No symbol) [0x00007FF765AB6AC2]\n\t(No symbol) [0x00007FF76596D8ED]\n\t(No symbol) [0x00007FF76595C5B9]\n\t(No symbol) [0x00007FF76595A961]\n\t(No symbol) [0x00007FF76595B123]\n\t(No symbol) [0x00007FF76596FE4F]\n\t(No symbol) [0x00007FF7659E7917]\n\t(No symbol) [0x00007FF7659CEAAA]\n\t(No symbol) [0x00007FF7659E75A2]\n\t(No symbol) [0x00007FF7659CE883]\n\t(No symbol) [0x00007FF7659A3691]\n\t(No symbol) [0x00007FF7659A48D4]\n\tGetHandleVerifier [0x00007FF765EAB992+3610402]\n\tGetHandleVerifier [0x00007FF765F01860+3962352]\n\tGetHandleVerifier [0x00007FF765EF9D4F+3930847]\n\tGetHandleVerifier [0x00007FF765BE3646+693206]\n\t(No symbol) [0x00007FF765AC1628]\n\t(No symbol) [0x00007FF765ABD934]\n\t(No symbol) [0x00007FF765ABDA62]\n\t(No symbol) [0x00007FF765AAE113]\n\tBaseThreadInitThunk [0x00007FFA88CA7344+20]\n\tRtlUserThreadStart [0x00007FFA892C26B1+33]\n",
     "output_type": "error",
     "traceback": [
      "\u001b[1;31m---------------------------------------------------------------------------\u001b[0m",
      "\u001b[1;31mInvalidArgumentException\u001b[0m                  Traceback (most recent call last)",
      "\u001b[1;32mc:\\Users\\cuicuidev\\Desktop\\pisoscom\\scraper.ipynb Cell 14\u001b[0m line \u001b[0;36m1\n\u001b[1;32m----> <a href='vscode-notebook-cell:/c%3A/Users/cuicuidev/Desktop/pisoscom/scraper.ipynb#X13sZmlsZQ%3D%3D?line=0'>1</a>\u001b[0m scrape(urls[\u001b[39m8_846\u001b[39;49m:])\n",
      "\u001b[1;32mc:\\Users\\cuicuidev\\Desktop\\pisoscom\\scraper.ipynb Cell 14\u001b[0m line \u001b[0;36m5\n\u001b[0;32m      <a href='vscode-notebook-cell:/c%3A/Users/cuicuidev/Desktop/pisoscom/scraper.ipynb#X13sZmlsZQ%3D%3D?line=1'>2</a>\u001b[0m browser \u001b[39m=\u001b[39m webdriver\u001b[39m.\u001b[39mChrome()\n\u001b[0;32m      <a href='vscode-notebook-cell:/c%3A/Users/cuicuidev/Desktop/pisoscom/scraper.ipynb#X13sZmlsZQ%3D%3D?line=3'>4</a>\u001b[0m \u001b[39mfor\u001b[39;00m idx, url \u001b[39min\u001b[39;00m \u001b[39menumerate\u001b[39m(urls):\n\u001b[1;32m----> <a href='vscode-notebook-cell:/c%3A/Users/cuicuidev/Desktop/pisoscom/scraper.ipynb#X13sZmlsZQ%3D%3D?line=4'>5</a>\u001b[0m     browser\u001b[39m.\u001b[39;49mget(url)\n\u001b[0;32m      <a href='vscode-notebook-cell:/c%3A/Users/cuicuidev/Desktop/pisoscom/scraper.ipynb#X13sZmlsZQ%3D%3D?line=5'>6</a>\u001b[0m     \u001b[39m# browser.maximize_window()\u001b[39;00m\n\u001b[0;32m      <a href='vscode-notebook-cell:/c%3A/Users/cuicuidev/Desktop/pisoscom/scraper.ipynb#X13sZmlsZQ%3D%3D?line=7'>8</a>\u001b[0m     \u001b[39mif\u001b[39;00m idx \u001b[39m==\u001b[39m \u001b[39m0\u001b[39m:\n",
      "File \u001b[1;32mc:\\Users\\cuicuidev\\Desktop\\pisoscom\\venv\\lib\\site-packages\\selenium\\webdriver\\remote\\webdriver.py:353\u001b[0m, in \u001b[0;36mWebDriver.get\u001b[1;34m(self, url)\u001b[0m\n\u001b[0;32m    351\u001b[0m \u001b[39mdef\u001b[39;00m \u001b[39mget\u001b[39m(\u001b[39mself\u001b[39m, url: \u001b[39mstr\u001b[39m) \u001b[39m-\u001b[39m\u001b[39m>\u001b[39m \u001b[39mNone\u001b[39;00m:\n\u001b[0;32m    352\u001b[0m \u001b[39m    \u001b[39m\u001b[39m\"\"\"Loads a web page in the current browser session.\"\"\"\u001b[39;00m\n\u001b[1;32m--> 353\u001b[0m     \u001b[39mself\u001b[39;49m\u001b[39m.\u001b[39;49mexecute(Command\u001b[39m.\u001b[39;49mGET, {\u001b[39m\"\u001b[39;49m\u001b[39murl\u001b[39;49m\u001b[39m\"\u001b[39;49m: url})\n",
      "File \u001b[1;32mc:\\Users\\cuicuidev\\Desktop\\pisoscom\\venv\\lib\\site-packages\\selenium\\webdriver\\remote\\webdriver.py:344\u001b[0m, in \u001b[0;36mWebDriver.execute\u001b[1;34m(self, driver_command, params)\u001b[0m\n\u001b[0;32m    342\u001b[0m response \u001b[39m=\u001b[39m \u001b[39mself\u001b[39m\u001b[39m.\u001b[39mcommand_executor\u001b[39m.\u001b[39mexecute(driver_command, params)\n\u001b[0;32m    343\u001b[0m \u001b[39mif\u001b[39;00m response:\n\u001b[1;32m--> 344\u001b[0m     \u001b[39mself\u001b[39;49m\u001b[39m.\u001b[39;49merror_handler\u001b[39m.\u001b[39;49mcheck_response(response)\n\u001b[0;32m    345\u001b[0m     response[\u001b[39m\"\u001b[39m\u001b[39mvalue\u001b[39m\u001b[39m\"\u001b[39m] \u001b[39m=\u001b[39m \u001b[39mself\u001b[39m\u001b[39m.\u001b[39m_unwrap_value(response\u001b[39m.\u001b[39mget(\u001b[39m\"\u001b[39m\u001b[39mvalue\u001b[39m\u001b[39m\"\u001b[39m, \u001b[39mNone\u001b[39;00m))\n\u001b[0;32m    346\u001b[0m     \u001b[39mreturn\u001b[39;00m response\n",
      "File \u001b[1;32mc:\\Users\\cuicuidev\\Desktop\\pisoscom\\venv\\lib\\site-packages\\selenium\\webdriver\\remote\\errorhandler.py:229\u001b[0m, in \u001b[0;36mErrorHandler.check_response\u001b[1;34m(self, response)\u001b[0m\n\u001b[0;32m    227\u001b[0m         alert_text \u001b[39m=\u001b[39m value[\u001b[39m\"\u001b[39m\u001b[39malert\u001b[39m\u001b[39m\"\u001b[39m]\u001b[39m.\u001b[39mget(\u001b[39m\"\u001b[39m\u001b[39mtext\u001b[39m\u001b[39m\"\u001b[39m)\n\u001b[0;32m    228\u001b[0m     \u001b[39mraise\u001b[39;00m exception_class(message, screen, stacktrace, alert_text)  \u001b[39m# type: ignore[call-arg]  # mypy is not smart enough here\u001b[39;00m\n\u001b[1;32m--> 229\u001b[0m \u001b[39mraise\u001b[39;00m exception_class(message, screen, stacktrace)\n",
      "\u001b[1;31mInvalidArgumentException\u001b[0m: Message: invalid argument\n  (Session info: chrome=117.0.5938.150)\nStacktrace:\n\tGetHandleVerifier [0x00007FF765B47892+54818]\n\t(No symbol) [0x00007FF765AB6AC2]\n\t(No symbol) [0x00007FF76596D8ED]\n\t(No symbol) [0x00007FF76595C5B9]\n\t(No symbol) [0x00007FF76595A961]\n\t(No symbol) [0x00007FF76595B123]\n\t(No symbol) [0x00007FF76596FE4F]\n\t(No symbol) [0x00007FF7659E7917]\n\t(No symbol) [0x00007FF7659CEAAA]\n\t(No symbol) [0x00007FF7659E75A2]\n\t(No symbol) [0x00007FF7659CE883]\n\t(No symbol) [0x00007FF7659A3691]\n\t(No symbol) [0x00007FF7659A48D4]\n\tGetHandleVerifier [0x00007FF765EAB992+3610402]\n\tGetHandleVerifier [0x00007FF765F01860+3962352]\n\tGetHandleVerifier [0x00007FF765EF9D4F+3930847]\n\tGetHandleVerifier [0x00007FF765BE3646+693206]\n\t(No symbol) [0x00007FF765AC1628]\n\t(No symbol) [0x00007FF765ABD934]\n\t(No symbol) [0x00007FF765ABDA62]\n\t(No symbol) [0x00007FF765AAE113]\n\tBaseThreadInitThunk [0x00007FFA88CA7344+20]\n\tRtlUserThreadStart [0x00007FFA892C26B1+33]\n"
     ]
    }
   ],
   "source": [
    "scrape(urls[8_846:])"
   ]
  },
  {
   "cell_type": "code",
   "execution_count": 79,
   "metadata": {},
   "outputs": [],
   "source": [
    "data = {\n",
    "    'price' : [],\n",
    "    'title' : [],\n",
    "    'location' : [],\n",
    "    'lat' : [],\n",
    "    'lng' : [],\n",
    "    'characteristics' : [],\n",
    "}\n",
    "\n",
    "files = glob.glob('html_content/*.html')\n",
    "\n",
    "for file in files:\n",
    "    with open(file, encoding='utf-8') as f:\n",
    "        source = f.read()\n",
    "    soup = BeautifulSoup(source, 'html.parser')\n",
    "\n",
    "    price = getPrice(soup)\n",
    "    title = getTitle(soup)\n",
    "    location = getLocation(soup)\n",
    "    lat, long = getLatLong(soup)\n",
    "    characteristics = getCharacteristics(soup)\n",
    "\n",
    "    data['price'].append(price)\n",
    "    data['title'].append(title)\n",
    "    data['location'].append(location)\n",
    "    data['lat'].append(lat)\n",
    "    data['lng'].append(long)\n",
    "    data['characteristics'].append(characteristics)\n",
    "\n",
    "df = pd.DataFrame(data)"
   ]
  },
  {
   "cell_type": "code",
   "execution_count": 80,
   "metadata": {},
   "outputs": [],
   "source": [
    "df.to_csv('madrid.csv')"
   ]
  },
  {
   "cell_type": "code",
   "execution_count": null,
   "metadata": {},
   "outputs": [],
   "source": [
    "####################################################################################################################"
   ]
  },
  {
   "cell_type": "code",
   "execution_count": 10,
   "metadata": {},
   "outputs": [],
   "source": [
    "df = pd.read_csv('madrid.csv')\n",
    "df.drop('Unnamed: 0', axis = 1, inplace = True)"
   ]
  },
  {
   "cell_type": "code",
   "execution_count": 11,
   "metadata": {},
   "outputs": [],
   "source": [
    "def tryInt(n):\n",
    "    try:\n",
    "        return int(''.join(n[:-2].split('.')))\n",
    "    except: return np.nan"
   ]
  },
  {
   "cell_type": "code",
   "execution_count": 12,
   "metadata": {},
   "outputs": [],
   "source": [
    "def tryLiteralEval(row):\n",
    "    try:\n",
    "        return ast.literal_eval(row)\n",
    "    except:\n",
    "        return lambda _: np.nan\n"
   ]
  },
  {
   "cell_type": "markdown",
   "metadata": {},
   "source": [
    "# DATA PROCESSING"
   ]
  },
  {
   "cell_type": "code",
   "execution_count": 13,
   "metadata": {},
   "outputs": [],
   "source": [
    "df['price'] = df['price'].map(lambda x: tryInt(x))\n",
    "df['characteristics'] = df['characteristics'].apply(tryLiteralEval)"
   ]
  },
  {
   "cell_type": "code",
   "execution_count": 14,
   "metadata": {},
   "outputs": [
    {
     "data": {
      "text/html": [
       "<div>\n",
       "<style scoped>\n",
       "    .dataframe tbody tr th:only-of-type {\n",
       "        vertical-align: middle;\n",
       "    }\n",
       "\n",
       "    .dataframe tbody tr th {\n",
       "        vertical-align: top;\n",
       "    }\n",
       "\n",
       "    .dataframe thead th {\n",
       "        text-align: right;\n",
       "    }\n",
       "</style>\n",
       "<table border=\"1\" class=\"dataframe\">\n",
       "  <thead>\n",
       "    <tr style=\"text-align: right;\">\n",
       "      <th></th>\n",
       "      <th>price</th>\n",
       "      <th>title</th>\n",
       "      <th>location</th>\n",
       "      <th>lat</th>\n",
       "      <th>lng</th>\n",
       "      <th>characteristics</th>\n",
       "    </tr>\n",
       "  </thead>\n",
       "  <tbody>\n",
       "    <tr>\n",
       "      <th>0</th>\n",
       "      <td>176000.0</td>\n",
       "      <td>Apartamento en venta en Abantos-Monte Carmelo-...</td>\n",
       "      <td>Abantos-Monte Carmelo-El Rosario (San Lorenzo ...</td>\n",
       "      <td>40.593445</td>\n",
       "      <td>-4.145386</td>\n",
       "      <td>[Superficie construida : 63 m², Superficie úti...</td>\n",
       "    </tr>\n",
       "    <tr>\n",
       "      <th>1</th>\n",
       "      <td>116500.0</td>\n",
       "      <td>Apartamento en venta en Calle de Ercilla, 20, ...</td>\n",
       "      <td>Calle de Ercilla, 20, cerca de Calle del Labra...</td>\n",
       "      <td>40.402079</td>\n",
       "      <td>-3.702151</td>\n",
       "      <td>[Superficie construida : 25 m², Baños : 1, Pla...</td>\n",
       "    </tr>\n",
       "    <tr>\n",
       "      <th>2</th>\n",
       "      <td>169000.0</td>\n",
       "      <td>Apartamento en venta en Ajalvir</td>\n",
       "      <td>Ajalvir</td>\n",
       "      <td>40.534457</td>\n",
       "      <td>-3.479415</td>\n",
       "      <td>[Superficie construida : 70 m², Superficie úti...</td>\n",
       "    </tr>\n",
       "    <tr>\n",
       "      <th>3</th>\n",
       "      <td>174000.0</td>\n",
       "      <td>Apartamento en venta en Alcorcón</td>\n",
       "      <td>Casco Antiguo (Alcorcón)</td>\n",
       "      <td>40.344358</td>\n",
       "      <td>-3.825283</td>\n",
       "      <td>[Superficie construida : 60 m², Superficie úti...</td>\n",
       "    </tr>\n",
       "    <tr>\n",
       "      <th>4</th>\n",
       "      <td>130000.0</td>\n",
       "      <td>Apartamento en venta en Alcorcón</td>\n",
       "      <td>Casco Antiguo (Alcorcón)</td>\n",
       "      <td>40.347096</td>\n",
       "      <td>-3.827826</td>\n",
       "      <td>[Superficie construida : 60 m², Superficie úti...</td>\n",
       "    </tr>\n",
       "    <tr>\n",
       "      <th>...</th>\n",
       "      <td>...</td>\n",
       "      <td>...</td>\n",
       "      <td>...</td>\n",
       "      <td>...</td>\n",
       "      <td>...</td>\n",
       "      <td>...</td>\n",
       "    </tr>\n",
       "    <tr>\n",
       "      <th>15832</th>\n",
       "      <td>135000.0</td>\n",
       "      <td>Piso en venta en Calle de la Circunvalación</td>\n",
       "      <td>Calle de la Circunvalación. Zona Suroeste (Tor...</td>\n",
       "      <td>40.454606</td>\n",
       "      <td>-3.455234</td>\n",
       "      <td>[Superficie construida : 67 m², Superficie úti...</td>\n",
       "    </tr>\n",
       "    <tr>\n",
       "      <th>15833</th>\n",
       "      <td>210000.0</td>\n",
       "      <td>Piso en venta en Calle de Urano</td>\n",
       "      <td>Calle de Urano. Zona Suroeste (Torrejón de Ardoz)</td>\n",
       "      <td>40.441928</td>\n",
       "      <td>-3.473036</td>\n",
       "      <td>[Superficie construida : 79 m², Superficie úti...</td>\n",
       "    </tr>\n",
       "    <tr>\n",
       "      <th>15834</th>\n",
       "      <td>324600.0</td>\n",
       "      <td>Piso en venta en Fresnos</td>\n",
       "      <td>Zona Suroeste (Torrejón de Ardoz)</td>\n",
       "      <td>40.448403</td>\n",
       "      <td>-3.470899</td>\n",
       "      <td>[Superficie construida : 140 m², Habitaciones ...</td>\n",
       "    </tr>\n",
       "    <tr>\n",
       "      <th>15835</th>\n",
       "      <td>249900.0</td>\n",
       "      <td>Piso en venta en Calle de Cibeles</td>\n",
       "      <td>Calle de Cibeles. Zona Suroeste (Torrejón de A...</td>\n",
       "      <td>40.444707</td>\n",
       "      <td>-3.473520</td>\n",
       "      <td>[Superficie construida : 106 m², Superficie út...</td>\n",
       "    </tr>\n",
       "    <tr>\n",
       "      <th>15836</th>\n",
       "      <td>253800.0</td>\n",
       "      <td>Piso en venta en Fresnos</td>\n",
       "      <td>Zona Suroeste (Torrejón de Ardoz)</td>\n",
       "      <td>40.447273</td>\n",
       "      <td>-3.473262</td>\n",
       "      <td>[Superficie construida : 90 m², Habitaciones :...</td>\n",
       "    </tr>\n",
       "  </tbody>\n",
       "</table>\n",
       "<p>15837 rows × 6 columns</p>\n",
       "</div>"
      ],
      "text/plain": [
       "          price                                              title  \\\n",
       "0      176000.0  Apartamento en venta en Abantos-Monte Carmelo-...   \n",
       "1      116500.0  Apartamento en venta en Calle de Ercilla, 20, ...   \n",
       "2      169000.0                    Apartamento en venta en Ajalvir   \n",
       "3      174000.0                   Apartamento en venta en Alcorcón   \n",
       "4      130000.0                   Apartamento en venta en Alcorcón   \n",
       "...         ...                                                ...   \n",
       "15832  135000.0        Piso en venta en Calle de la Circunvalación   \n",
       "15833  210000.0                    Piso en venta en Calle de Urano   \n",
       "15834  324600.0                           Piso en venta en Fresnos   \n",
       "15835  249900.0                  Piso en venta en Calle de Cibeles   \n",
       "15836  253800.0                           Piso en venta en Fresnos   \n",
       "\n",
       "                                                location        lat       lng  \\\n",
       "0      Abantos-Monte Carmelo-El Rosario (San Lorenzo ...  40.593445 -4.145386   \n",
       "1      Calle de Ercilla, 20, cerca de Calle del Labra...  40.402079 -3.702151   \n",
       "2                                                Ajalvir  40.534457 -3.479415   \n",
       "3                               Casco Antiguo (Alcorcón)  40.344358 -3.825283   \n",
       "4                               Casco Antiguo (Alcorcón)  40.347096 -3.827826   \n",
       "...                                                  ...        ...       ...   \n",
       "15832  Calle de la Circunvalación. Zona Suroeste (Tor...  40.454606 -3.455234   \n",
       "15833  Calle de Urano. Zona Suroeste (Torrejón de Ardoz)  40.441928 -3.473036   \n",
       "15834                  Zona Suroeste (Torrejón de Ardoz)  40.448403 -3.470899   \n",
       "15835  Calle de Cibeles. Zona Suroeste (Torrejón de A...  40.444707 -3.473520   \n",
       "15836                  Zona Suroeste (Torrejón de Ardoz)  40.447273 -3.473262   \n",
       "\n",
       "                                         characteristics  \n",
       "0      [Superficie construida : 63 m², Superficie úti...  \n",
       "1      [Superficie construida : 25 m², Baños : 1, Pla...  \n",
       "2      [Superficie construida : 70 m², Superficie úti...  \n",
       "3      [Superficie construida : 60 m², Superficie úti...  \n",
       "4      [Superficie construida : 60 m², Superficie úti...  \n",
       "...                                                  ...  \n",
       "15832  [Superficie construida : 67 m², Superficie úti...  \n",
       "15833  [Superficie construida : 79 m², Superficie úti...  \n",
       "15834  [Superficie construida : 140 m², Habitaciones ...  \n",
       "15835  [Superficie construida : 106 m², Superficie út...  \n",
       "15836  [Superficie construida : 90 m², Habitaciones :...  \n",
       "\n",
       "[15837 rows x 6 columns]"
      ]
     },
     "execution_count": 14,
     "metadata": {},
     "output_type": "execute_result"
    }
   ],
   "source": [
    "df"
   ]
  },
  {
   "cell_type": "markdown",
   "metadata": {},
   "source": [
    "#### CHARACTERISTICS PARSING"
   ]
  },
  {
   "cell_type": "code",
   "execution_count": 15,
   "metadata": {},
   "outputs": [],
   "source": [
    "# HAY QUE REFACTORIZAR ESTE CHURRO HORRIBLE!!!!!!!\n",
    "\n",
    "columns = []\n",
    "characteristics = df['characteristics'].iloc\n",
    "\n",
    "for chars in characteristics:\n",
    "    for char in chars:\n",
    "        vals = char.split(':')\n",
    "        if isinstance(vals, list):\n",
    "            columns.append(vals[0])\n",
    "        else:\n",
    "            columns.append(vals)\n",
    "\n",
    "columns = [x.strip() for x in columns]\n",
    "columns = list(set(columns))\n",
    "data = []\n",
    "\n",
    "for chars in characteristics:\n",
    "\n",
    "    dict_data = {}\n",
    "\n",
    "    for char in chars:\n",
    "        content = char.split(':')\n",
    "        if len(content) == 2:\n",
    "            key, value = content\n",
    "            key = key.strip()\n",
    "            dict_data[key] = value\n",
    "        else:\n",
    "            continue\n",
    "\n",
    "    dict_columns = {}\n",
    "\n",
    "    for column in columns:\n",
    "        for key, value in dict_data.items():\n",
    "            if key == column:\n",
    "                dict_columns[column] = value\n",
    "        \n",
    "    for column in columns:\n",
    "        if dict_columns.get(column) is None:\n",
    "            dict_columns[column] = np.nan\n",
    "\n",
    "    data.append(dict_columns)\n",
    "\n",
    "# HAY QUE REFACTORIZAR ESTE CHURRO HORRIBLE!!!!!!!"
   ]
  },
  {
   "cell_type": "code",
   "execution_count": 16,
   "metadata": {},
   "outputs": [],
   "source": [
    "df_characteristics = pd.DataFrame(data)"
   ]
  },
  {
   "cell_type": "code",
   "execution_count": 17,
   "metadata": {},
   "outputs": [],
   "source": [
    "df_ = pd.concat([df, df_characteristics], axis = 1).drop('characteristics', axis = 1)"
   ]
  },
  {
   "cell_type": "code",
   "execution_count": 18,
   "metadata": {},
   "outputs": [
    {
     "data": {
      "text/plain": [
       "0           En trámite\n",
       "1           En trámite\n",
       "2           En trámite\n",
       "3          No indicado\n",
       "4          No indicado\n",
       "             ...      \n",
       "15832      No indicado\n",
       "15833       En trámite\n",
       "15834      No indicado\n",
       "15835       En trámite\n",
       "15836      No indicado\n",
       "Name: Clasificación, Length: 15837, dtype: object"
      ]
     },
     "execution_count": 18,
     "metadata": {},
     "output_type": "execute_result"
    }
   ],
   "source": [
    "df_['Clasificación']"
   ]
  },
  {
   "cell_type": "code",
   "execution_count": 35,
   "metadata": {},
   "outputs": [],
   "source": [
    "df_.to_csv('madrid_parsed.csv', sep = \",\", index = False)"
   ]
  },
  {
   "cell_type": "markdown",
   "metadata": {},
   "source": [
    "# NP.NAN"
   ]
  },
  {
   "cell_type": "code",
   "execution_count": 19,
   "metadata": {},
   "outputs": [
    {
     "data": {
      "application/vnd.plotly.v1+json": {
       "config": {
        "plotlyServerURL": "https://plot.ly"
       },
       "data": [
        {
         "alignmentgroup": "True",
         "hovertemplate": "x=%{x}<br>y=%{y}<extra></extra>",
         "legendgroup": "",
         "marker": {
          "color": "#636efa",
          "pattern": {
           "shape": ""
          }
         },
         "name": "",
         "offsetgroup": "",
         "orientation": "h",
         "showlegend": false,
         "textposition": "auto",
         "type": "bar",
         "x": [
          15616,
          15742,
          15697,
          15697,
          15697,
          1966,
          358,
          15740,
          15739,
          2740,
          15152,
          185,
          4794,
          74,
          6511,
          7327,
          7114,
          2366,
          11829,
          51,
          425,
          281,
          3610,
          542,
          3583,
          15672,
          5224,
          15145,
          5825,
          48,
          20,
          1155,
          172,
          596,
          0,
          1246,
          8,
          4343,
          3,
          61,
          246,
          2139,
          702,
          177,
          147,
          1,
          140,
          0,
          2177,
          7819,
          5264,
          7,
          249,
          38,
          0,
          0,
          204,
          75
         ],
         "xaxis": "x",
         "y": [
          "price",
          "title",
          "location",
          "lat",
          "lng",
          "Jardín",
          "Cocina equipada",
          "Referencia",
          "Clasificación",
          "Piscina",
          "Baños",
          "Vidrios dobles",
          "Garaje",
          "Lavadero",
          "Armarios empotrados",
          "Superficie útil",
          "Planta",
          "Carpintería exterior",
          "Conservación",
          "Balcón",
          "Carpintería interior",
          "Comedor",
          "Gastos de comunidad",
          "Portero automático",
          "Antigüedad",
          "Superficie construida",
          "Tipo suelo",
          "Habitaciones",
          "Orientación",
          "Luz",
          "Adaptado a personas con movilidad reducida",
          "Consumo",
          "Gas",
          "Exterior",
          "No se aceptan mascotas",
          "Tipo de casa",
          "Urbanizado",
          "Aire acondicionado",
          "Calle alumbrada",
          "Puerta blindada",
          "Amueblado",
          "Cocina",
          "Terraza",
          "Sistema de seguridad",
          "Trastero",
          "Calle asfaltada",
          "Agua",
          "Esquina",
          "Superficie solar",
          "Calefacción",
          "Emisiones",
          "Teléfono",
          "Ascensor",
          "Chimenea",
          "Se aceptan mascotas",
          "Pedir más información",
          "Interior",
          "Soleado"
         ],
         "yaxis": "y"
        }
       ],
       "layout": {
        "barmode": "relative",
        "height": 1000,
        "legend": {
         "tracegroupgap": 0
        },
        "margin": {
         "t": 60
        },
        "template": {
         "data": {
          "bar": [
           {
            "error_x": {
             "color": "#2a3f5f"
            },
            "error_y": {
             "color": "#2a3f5f"
            },
            "marker": {
             "line": {
              "color": "#E5ECF6",
              "width": 0.5
             },
             "pattern": {
              "fillmode": "overlay",
              "size": 10,
              "solidity": 0.2
             }
            },
            "type": "bar"
           }
          ],
          "barpolar": [
           {
            "marker": {
             "line": {
              "color": "#E5ECF6",
              "width": 0.5
             },
             "pattern": {
              "fillmode": "overlay",
              "size": 10,
              "solidity": 0.2
             }
            },
            "type": "barpolar"
           }
          ],
          "carpet": [
           {
            "aaxis": {
             "endlinecolor": "#2a3f5f",
             "gridcolor": "white",
             "linecolor": "white",
             "minorgridcolor": "white",
             "startlinecolor": "#2a3f5f"
            },
            "baxis": {
             "endlinecolor": "#2a3f5f",
             "gridcolor": "white",
             "linecolor": "white",
             "minorgridcolor": "white",
             "startlinecolor": "#2a3f5f"
            },
            "type": "carpet"
           }
          ],
          "choropleth": [
           {
            "colorbar": {
             "outlinewidth": 0,
             "ticks": ""
            },
            "type": "choropleth"
           }
          ],
          "contour": [
           {
            "colorbar": {
             "outlinewidth": 0,
             "ticks": ""
            },
            "colorscale": [
             [
              0,
              "#0d0887"
             ],
             [
              0.1111111111111111,
              "#46039f"
             ],
             [
              0.2222222222222222,
              "#7201a8"
             ],
             [
              0.3333333333333333,
              "#9c179e"
             ],
             [
              0.4444444444444444,
              "#bd3786"
             ],
             [
              0.5555555555555556,
              "#d8576b"
             ],
             [
              0.6666666666666666,
              "#ed7953"
             ],
             [
              0.7777777777777778,
              "#fb9f3a"
             ],
             [
              0.8888888888888888,
              "#fdca26"
             ],
             [
              1,
              "#f0f921"
             ]
            ],
            "type": "contour"
           }
          ],
          "contourcarpet": [
           {
            "colorbar": {
             "outlinewidth": 0,
             "ticks": ""
            },
            "type": "contourcarpet"
           }
          ],
          "heatmap": [
           {
            "colorbar": {
             "outlinewidth": 0,
             "ticks": ""
            },
            "colorscale": [
             [
              0,
              "#0d0887"
             ],
             [
              0.1111111111111111,
              "#46039f"
             ],
             [
              0.2222222222222222,
              "#7201a8"
             ],
             [
              0.3333333333333333,
              "#9c179e"
             ],
             [
              0.4444444444444444,
              "#bd3786"
             ],
             [
              0.5555555555555556,
              "#d8576b"
             ],
             [
              0.6666666666666666,
              "#ed7953"
             ],
             [
              0.7777777777777778,
              "#fb9f3a"
             ],
             [
              0.8888888888888888,
              "#fdca26"
             ],
             [
              1,
              "#f0f921"
             ]
            ],
            "type": "heatmap"
           }
          ],
          "heatmapgl": [
           {
            "colorbar": {
             "outlinewidth": 0,
             "ticks": ""
            },
            "colorscale": [
             [
              0,
              "#0d0887"
             ],
             [
              0.1111111111111111,
              "#46039f"
             ],
             [
              0.2222222222222222,
              "#7201a8"
             ],
             [
              0.3333333333333333,
              "#9c179e"
             ],
             [
              0.4444444444444444,
              "#bd3786"
             ],
             [
              0.5555555555555556,
              "#d8576b"
             ],
             [
              0.6666666666666666,
              "#ed7953"
             ],
             [
              0.7777777777777778,
              "#fb9f3a"
             ],
             [
              0.8888888888888888,
              "#fdca26"
             ],
             [
              1,
              "#f0f921"
             ]
            ],
            "type": "heatmapgl"
           }
          ],
          "histogram": [
           {
            "marker": {
             "pattern": {
              "fillmode": "overlay",
              "size": 10,
              "solidity": 0.2
             }
            },
            "type": "histogram"
           }
          ],
          "histogram2d": [
           {
            "colorbar": {
             "outlinewidth": 0,
             "ticks": ""
            },
            "colorscale": [
             [
              0,
              "#0d0887"
             ],
             [
              0.1111111111111111,
              "#46039f"
             ],
             [
              0.2222222222222222,
              "#7201a8"
             ],
             [
              0.3333333333333333,
              "#9c179e"
             ],
             [
              0.4444444444444444,
              "#bd3786"
             ],
             [
              0.5555555555555556,
              "#d8576b"
             ],
             [
              0.6666666666666666,
              "#ed7953"
             ],
             [
              0.7777777777777778,
              "#fb9f3a"
             ],
             [
              0.8888888888888888,
              "#fdca26"
             ],
             [
              1,
              "#f0f921"
             ]
            ],
            "type": "histogram2d"
           }
          ],
          "histogram2dcontour": [
           {
            "colorbar": {
             "outlinewidth": 0,
             "ticks": ""
            },
            "colorscale": [
             [
              0,
              "#0d0887"
             ],
             [
              0.1111111111111111,
              "#46039f"
             ],
             [
              0.2222222222222222,
              "#7201a8"
             ],
             [
              0.3333333333333333,
              "#9c179e"
             ],
             [
              0.4444444444444444,
              "#bd3786"
             ],
             [
              0.5555555555555556,
              "#d8576b"
             ],
             [
              0.6666666666666666,
              "#ed7953"
             ],
             [
              0.7777777777777778,
              "#fb9f3a"
             ],
             [
              0.8888888888888888,
              "#fdca26"
             ],
             [
              1,
              "#f0f921"
             ]
            ],
            "type": "histogram2dcontour"
           }
          ],
          "mesh3d": [
           {
            "colorbar": {
             "outlinewidth": 0,
             "ticks": ""
            },
            "type": "mesh3d"
           }
          ],
          "parcoords": [
           {
            "line": {
             "colorbar": {
              "outlinewidth": 0,
              "ticks": ""
             }
            },
            "type": "parcoords"
           }
          ],
          "pie": [
           {
            "automargin": true,
            "type": "pie"
           }
          ],
          "scatter": [
           {
            "fillpattern": {
             "fillmode": "overlay",
             "size": 10,
             "solidity": 0.2
            },
            "type": "scatter"
           }
          ],
          "scatter3d": [
           {
            "line": {
             "colorbar": {
              "outlinewidth": 0,
              "ticks": ""
             }
            },
            "marker": {
             "colorbar": {
              "outlinewidth": 0,
              "ticks": ""
             }
            },
            "type": "scatter3d"
           }
          ],
          "scattercarpet": [
           {
            "marker": {
             "colorbar": {
              "outlinewidth": 0,
              "ticks": ""
             }
            },
            "type": "scattercarpet"
           }
          ],
          "scattergeo": [
           {
            "marker": {
             "colorbar": {
              "outlinewidth": 0,
              "ticks": ""
             }
            },
            "type": "scattergeo"
           }
          ],
          "scattergl": [
           {
            "marker": {
             "colorbar": {
              "outlinewidth": 0,
              "ticks": ""
             }
            },
            "type": "scattergl"
           }
          ],
          "scattermapbox": [
           {
            "marker": {
             "colorbar": {
              "outlinewidth": 0,
              "ticks": ""
             }
            },
            "type": "scattermapbox"
           }
          ],
          "scatterpolar": [
           {
            "marker": {
             "colorbar": {
              "outlinewidth": 0,
              "ticks": ""
             }
            },
            "type": "scatterpolar"
           }
          ],
          "scatterpolargl": [
           {
            "marker": {
             "colorbar": {
              "outlinewidth": 0,
              "ticks": ""
             }
            },
            "type": "scatterpolargl"
           }
          ],
          "scatterternary": [
           {
            "marker": {
             "colorbar": {
              "outlinewidth": 0,
              "ticks": ""
             }
            },
            "type": "scatterternary"
           }
          ],
          "surface": [
           {
            "colorbar": {
             "outlinewidth": 0,
             "ticks": ""
            },
            "colorscale": [
             [
              0,
              "#0d0887"
             ],
             [
              0.1111111111111111,
              "#46039f"
             ],
             [
              0.2222222222222222,
              "#7201a8"
             ],
             [
              0.3333333333333333,
              "#9c179e"
             ],
             [
              0.4444444444444444,
              "#bd3786"
             ],
             [
              0.5555555555555556,
              "#d8576b"
             ],
             [
              0.6666666666666666,
              "#ed7953"
             ],
             [
              0.7777777777777778,
              "#fb9f3a"
             ],
             [
              0.8888888888888888,
              "#fdca26"
             ],
             [
              1,
              "#f0f921"
             ]
            ],
            "type": "surface"
           }
          ],
          "table": [
           {
            "cells": {
             "fill": {
              "color": "#EBF0F8"
             },
             "line": {
              "color": "white"
             }
            },
            "header": {
             "fill": {
              "color": "#C8D4E3"
             },
             "line": {
              "color": "white"
             }
            },
            "type": "table"
           }
          ]
         },
         "layout": {
          "annotationdefaults": {
           "arrowcolor": "#2a3f5f",
           "arrowhead": 0,
           "arrowwidth": 1
          },
          "autotypenumbers": "strict",
          "coloraxis": {
           "colorbar": {
            "outlinewidth": 0,
            "ticks": ""
           }
          },
          "colorscale": {
           "diverging": [
            [
             0,
             "#8e0152"
            ],
            [
             0.1,
             "#c51b7d"
            ],
            [
             0.2,
             "#de77ae"
            ],
            [
             0.3,
             "#f1b6da"
            ],
            [
             0.4,
             "#fde0ef"
            ],
            [
             0.5,
             "#f7f7f7"
            ],
            [
             0.6,
             "#e6f5d0"
            ],
            [
             0.7,
             "#b8e186"
            ],
            [
             0.8,
             "#7fbc41"
            ],
            [
             0.9,
             "#4d9221"
            ],
            [
             1,
             "#276419"
            ]
           ],
           "sequential": [
            [
             0,
             "#0d0887"
            ],
            [
             0.1111111111111111,
             "#46039f"
            ],
            [
             0.2222222222222222,
             "#7201a8"
            ],
            [
             0.3333333333333333,
             "#9c179e"
            ],
            [
             0.4444444444444444,
             "#bd3786"
            ],
            [
             0.5555555555555556,
             "#d8576b"
            ],
            [
             0.6666666666666666,
             "#ed7953"
            ],
            [
             0.7777777777777778,
             "#fb9f3a"
            ],
            [
             0.8888888888888888,
             "#fdca26"
            ],
            [
             1,
             "#f0f921"
            ]
           ],
           "sequentialminus": [
            [
             0,
             "#0d0887"
            ],
            [
             0.1111111111111111,
             "#46039f"
            ],
            [
             0.2222222222222222,
             "#7201a8"
            ],
            [
             0.3333333333333333,
             "#9c179e"
            ],
            [
             0.4444444444444444,
             "#bd3786"
            ],
            [
             0.5555555555555556,
             "#d8576b"
            ],
            [
             0.6666666666666666,
             "#ed7953"
            ],
            [
             0.7777777777777778,
             "#fb9f3a"
            ],
            [
             0.8888888888888888,
             "#fdca26"
            ],
            [
             1,
             "#f0f921"
            ]
           ]
          },
          "colorway": [
           "#636efa",
           "#EF553B",
           "#00cc96",
           "#ab63fa",
           "#FFA15A",
           "#19d3f3",
           "#FF6692",
           "#B6E880",
           "#FF97FF",
           "#FECB52"
          ],
          "font": {
           "color": "#2a3f5f"
          },
          "geo": {
           "bgcolor": "white",
           "lakecolor": "white",
           "landcolor": "#E5ECF6",
           "showlakes": true,
           "showland": true,
           "subunitcolor": "white"
          },
          "hoverlabel": {
           "align": "left"
          },
          "hovermode": "closest",
          "mapbox": {
           "style": "light"
          },
          "paper_bgcolor": "white",
          "plot_bgcolor": "#E5ECF6",
          "polar": {
           "angularaxis": {
            "gridcolor": "white",
            "linecolor": "white",
            "ticks": ""
           },
           "bgcolor": "#E5ECF6",
           "radialaxis": {
            "gridcolor": "white",
            "linecolor": "white",
            "ticks": ""
           }
          },
          "scene": {
           "xaxis": {
            "backgroundcolor": "#E5ECF6",
            "gridcolor": "white",
            "gridwidth": 2,
            "linecolor": "white",
            "showbackground": true,
            "ticks": "",
            "zerolinecolor": "white"
           },
           "yaxis": {
            "backgroundcolor": "#E5ECF6",
            "gridcolor": "white",
            "gridwidth": 2,
            "linecolor": "white",
            "showbackground": true,
            "ticks": "",
            "zerolinecolor": "white"
           },
           "zaxis": {
            "backgroundcolor": "#E5ECF6",
            "gridcolor": "white",
            "gridwidth": 2,
            "linecolor": "white",
            "showbackground": true,
            "ticks": "",
            "zerolinecolor": "white"
           }
          },
          "shapedefaults": {
           "line": {
            "color": "#2a3f5f"
           }
          },
          "ternary": {
           "aaxis": {
            "gridcolor": "white",
            "linecolor": "white",
            "ticks": ""
           },
           "baxis": {
            "gridcolor": "white",
            "linecolor": "white",
            "ticks": ""
           },
           "bgcolor": "#E5ECF6",
           "caxis": {
            "gridcolor": "white",
            "linecolor": "white",
            "ticks": ""
           }
          },
          "title": {
           "x": 0.05
          },
          "xaxis": {
           "automargin": true,
           "gridcolor": "white",
           "linecolor": "white",
           "ticks": "",
           "title": {
            "standoff": 15
           },
           "zerolinecolor": "white",
           "zerolinewidth": 2
          },
          "yaxis": {
           "automargin": true,
           "gridcolor": "white",
           "linecolor": "white",
           "ticks": "",
           "title": {
            "standoff": 15
           },
           "zerolinecolor": "white",
           "zerolinewidth": 2
          }
         }
        },
        "xaxis": {
         "anchor": "y",
         "domain": [
          0,
          1
         ],
         "title": {
          "text": "x"
         }
        },
        "yaxis": {
         "anchor": "x",
         "domain": [
          0,
          1
         ],
         "title": {
          "text": "y"
         }
        }
       }
      }
     },
     "metadata": {},
     "output_type": "display_data"
    }
   ],
   "source": [
    "fig = px.bar([df_[x].dropna().count() for x in df_.columns], y = df_.columns, x = [df_[x].dropna().count() for x in df_.columns])\n",
    "\n",
    "fig.update_layout(height = 1000)"
   ]
  },
  {
   "cell_type": "code",
   "execution_count": 20,
   "metadata": {},
   "outputs": [],
   "source": [
    "def nanPercentage(col):\n",
    "    orig_size = len(col)\n",
    "    drop_size = len(col.dropna())\n",
    "    return 1 - drop_size/orig_size\n",
    "\n",
    "def nanReport(threshold):\n",
    "    df = df_[[col for col in df_.columns if nanPercentage(df_[col]) < threshold]]\n",
    "    print(f'Porcentaje de valores perdidos en total: {1- df.dropna().shape[0] / df.shape[0]}')\n",
    "    print(f'Columnas conservadas: {len(df.columns)}')\n",
    "    return df"
   ]
  },
  {
   "cell_type": "markdown",
   "metadata": {},
   "source": [
    "# CONCLUSION: HAY MUCHOS NANS"
   ]
  },
  {
   "cell_type": "code",
   "execution_count": 21,
   "metadata": {},
   "outputs": [
    {
     "name": "stdout",
     "output_type": "stream",
     "text": [
      "Porcentaje de valores perdidos en total: 0.2995516827682011\n",
      "Columnas conservadas: 11\n"
     ]
    }
   ],
   "source": [
    "df_1 = nanReport(0.3)"
   ]
  },
  {
   "cell_type": "code",
   "execution_count": 22,
   "metadata": {},
   "outputs": [
    {
     "data": {
      "text/html": [
       "<div>\n",
       "<style scoped>\n",
       "    .dataframe tbody tr th:only-of-type {\n",
       "        vertical-align: middle;\n",
       "    }\n",
       "\n",
       "    .dataframe tbody tr th {\n",
       "        vertical-align: top;\n",
       "    }\n",
       "\n",
       "    .dataframe thead th {\n",
       "        text-align: right;\n",
       "    }\n",
       "</style>\n",
       "<table border=\"1\" class=\"dataframe\">\n",
       "  <thead>\n",
       "    <tr style=\"text-align: right;\">\n",
       "      <th></th>\n",
       "      <th>price</th>\n",
       "      <th>title</th>\n",
       "      <th>location</th>\n",
       "      <th>lat</th>\n",
       "      <th>lng</th>\n",
       "      <th>Referencia</th>\n",
       "      <th>Clasificación</th>\n",
       "      <th>Baños</th>\n",
       "      <th>Conservación</th>\n",
       "      <th>Superficie construida</th>\n",
       "      <th>Habitaciones</th>\n",
       "    </tr>\n",
       "  </thead>\n",
       "  <tbody>\n",
       "    <tr>\n",
       "      <th>0</th>\n",
       "      <td>176000.0</td>\n",
       "      <td>Apartamento en venta en Abantos-Monte Carmelo-...</td>\n",
       "      <td>Abantos-Monte Carmelo-El Rosario (San Lorenzo ...</td>\n",
       "      <td>40.593445</td>\n",
       "      <td>-4.145386</td>\n",
       "      <td>4994318-VF-812</td>\n",
       "      <td>En trámite</td>\n",
       "      <td>1</td>\n",
       "      <td>A estrenar</td>\n",
       "      <td>63 m²</td>\n",
       "      <td>1</td>\n",
       "    </tr>\n",
       "    <tr>\n",
       "      <th>1</th>\n",
       "      <td>116500.0</td>\n",
       "      <td>Apartamento en venta en Calle de Ercilla, 20, ...</td>\n",
       "      <td>Calle de Ercilla, 20, cerca de Calle del Labra...</td>\n",
       "      <td>40.402079</td>\n",
       "      <td>-3.702151</td>\n",
       "      <td>EP805-1309</td>\n",
       "      <td>En trámite</td>\n",
       "      <td>1</td>\n",
       "      <td>NaN</td>\n",
       "      <td>25 m²</td>\n",
       "      <td>NaN</td>\n",
       "    </tr>\n",
       "    <tr>\n",
       "      <th>2</th>\n",
       "      <td>169000.0</td>\n",
       "      <td>Apartamento en venta en Ajalvir</td>\n",
       "      <td>Ajalvir</td>\n",
       "      <td>40.534457</td>\n",
       "      <td>-3.479415</td>\n",
       "      <td>IFC76153-1690TN</td>\n",
       "      <td>En trámite</td>\n",
       "      <td>1</td>\n",
       "      <td>En buen estado</td>\n",
       "      <td>70 m²</td>\n",
       "      <td>1</td>\n",
       "    </tr>\n",
       "    <tr>\n",
       "      <th>3</th>\n",
       "      <td>174000.0</td>\n",
       "      <td>Apartamento en venta en Alcorcón</td>\n",
       "      <td>Casco Antiguo (Alcorcón)</td>\n",
       "      <td>40.344358</td>\n",
       "      <td>-3.825283</td>\n",
       "      <td>SA1398-4340/6592</td>\n",
       "      <td>No indicado</td>\n",
       "      <td>1</td>\n",
       "      <td>NaN</td>\n",
       "      <td>60 m²</td>\n",
       "      <td>1</td>\n",
       "    </tr>\n",
       "    <tr>\n",
       "      <th>4</th>\n",
       "      <td>130000.0</td>\n",
       "      <td>Apartamento en venta en Alcorcón</td>\n",
       "      <td>Casco Antiguo (Alcorcón)</td>\n",
       "      <td>40.347096</td>\n",
       "      <td>-3.827826</td>\n",
       "      <td>SA2135-04930/7619</td>\n",
       "      <td>No indicado</td>\n",
       "      <td>1</td>\n",
       "      <td>NaN</td>\n",
       "      <td>60 m²</td>\n",
       "      <td>2</td>\n",
       "    </tr>\n",
       "    <tr>\n",
       "      <th>...</th>\n",
       "      <td>...</td>\n",
       "      <td>...</td>\n",
       "      <td>...</td>\n",
       "      <td>...</td>\n",
       "      <td>...</td>\n",
       "      <td>...</td>\n",
       "      <td>...</td>\n",
       "      <td>...</td>\n",
       "      <td>...</td>\n",
       "      <td>...</td>\n",
       "      <td>...</td>\n",
       "    </tr>\n",
       "    <tr>\n",
       "      <th>15832</th>\n",
       "      <td>135000.0</td>\n",
       "      <td>Piso en venta en Calle de la Circunvalación</td>\n",
       "      <td>Calle de la Circunvalación. Zona Suroeste (Tor...</td>\n",
       "      <td>40.454606</td>\n",
       "      <td>-3.455234</td>\n",
       "      <td>SA4463-BANCO-0001</td>\n",
       "      <td>No indicado</td>\n",
       "      <td>1</td>\n",
       "      <td>A reformar</td>\n",
       "      <td>67 m²</td>\n",
       "      <td>3</td>\n",
       "    </tr>\n",
       "    <tr>\n",
       "      <th>15833</th>\n",
       "      <td>210000.0</td>\n",
       "      <td>Piso en venta en Calle de Urano</td>\n",
       "      <td>Calle de Urano. Zona Suroeste (Torrejón de Ardoz)</td>\n",
       "      <td>40.441928</td>\n",
       "      <td>-3.473036</td>\n",
       "      <td>SA3697-IL-04891</td>\n",
       "      <td>En trámite</td>\n",
       "      <td>2</td>\n",
       "      <td>En buen estado</td>\n",
       "      <td>79 m²</td>\n",
       "      <td>1</td>\n",
       "    </tr>\n",
       "    <tr>\n",
       "      <th>15834</th>\n",
       "      <td>324600.0</td>\n",
       "      <td>Piso en venta en Fresnos</td>\n",
       "      <td>Zona Suroeste (Torrejón de Ardoz)</td>\n",
       "      <td>40.448403</td>\n",
       "      <td>-3.470899</td>\n",
       "      <td>SA555-39508999/1670</td>\n",
       "      <td>No indicado</td>\n",
       "      <td>3</td>\n",
       "      <td>NaN</td>\n",
       "      <td>140 m²</td>\n",
       "      <td>4</td>\n",
       "    </tr>\n",
       "    <tr>\n",
       "      <th>15835</th>\n",
       "      <td>249900.0</td>\n",
       "      <td>Piso en venta en Calle de Cibeles</td>\n",
       "      <td>Calle de Cibeles. Zona Suroeste (Torrejón de A...</td>\n",
       "      <td>40.444707</td>\n",
       "      <td>-3.473520</td>\n",
       "      <td>4525678-000021</td>\n",
       "      <td>En trámite</td>\n",
       "      <td>2</td>\n",
       "      <td>En buen estado</td>\n",
       "      <td>106 m²</td>\n",
       "      <td>3</td>\n",
       "    </tr>\n",
       "    <tr>\n",
       "      <th>15836</th>\n",
       "      <td>253800.0</td>\n",
       "      <td>Piso en venta en Fresnos</td>\n",
       "      <td>Zona Suroeste (Torrejón de Ardoz)</td>\n",
       "      <td>40.447273</td>\n",
       "      <td>-3.473262</td>\n",
       "      <td>SA555-40574646/1670</td>\n",
       "      <td>No indicado</td>\n",
       "      <td>2</td>\n",
       "      <td>NaN</td>\n",
       "      <td>90 m²</td>\n",
       "      <td>3</td>\n",
       "    </tr>\n",
       "  </tbody>\n",
       "</table>\n",
       "<p>15837 rows × 11 columns</p>\n",
       "</div>"
      ],
      "text/plain": [
       "          price                                              title  \\\n",
       "0      176000.0  Apartamento en venta en Abantos-Monte Carmelo-...   \n",
       "1      116500.0  Apartamento en venta en Calle de Ercilla, 20, ...   \n",
       "2      169000.0                    Apartamento en venta en Ajalvir   \n",
       "3      174000.0                   Apartamento en venta en Alcorcón   \n",
       "4      130000.0                   Apartamento en venta en Alcorcón   \n",
       "...         ...                                                ...   \n",
       "15832  135000.0        Piso en venta en Calle de la Circunvalación   \n",
       "15833  210000.0                    Piso en venta en Calle de Urano   \n",
       "15834  324600.0                           Piso en venta en Fresnos   \n",
       "15835  249900.0                  Piso en venta en Calle de Cibeles   \n",
       "15836  253800.0                           Piso en venta en Fresnos   \n",
       "\n",
       "                                                location        lat       lng  \\\n",
       "0      Abantos-Monte Carmelo-El Rosario (San Lorenzo ...  40.593445 -4.145386   \n",
       "1      Calle de Ercilla, 20, cerca de Calle del Labra...  40.402079 -3.702151   \n",
       "2                                                Ajalvir  40.534457 -3.479415   \n",
       "3                               Casco Antiguo (Alcorcón)  40.344358 -3.825283   \n",
       "4                               Casco Antiguo (Alcorcón)  40.347096 -3.827826   \n",
       "...                                                  ...        ...       ...   \n",
       "15832  Calle de la Circunvalación. Zona Suroeste (Tor...  40.454606 -3.455234   \n",
       "15833  Calle de Urano. Zona Suroeste (Torrejón de Ardoz)  40.441928 -3.473036   \n",
       "15834                  Zona Suroeste (Torrejón de Ardoz)  40.448403 -3.470899   \n",
       "15835  Calle de Cibeles. Zona Suroeste (Torrejón de A...  40.444707 -3.473520   \n",
       "15836                  Zona Suroeste (Torrejón de Ardoz)  40.447273 -3.473262   \n",
       "\n",
       "                 Referencia  Clasificación Baños     Conservación  \\\n",
       "0            4994318-VF-812     En trámite     1       A estrenar   \n",
       "1                EP805-1309     En trámite     1              NaN   \n",
       "2           IFC76153-1690TN     En trámite     1   En buen estado   \n",
       "3          SA1398-4340/6592    No indicado     1              NaN   \n",
       "4         SA2135-04930/7619    No indicado     1              NaN   \n",
       "...                     ...            ...   ...              ...   \n",
       "15832     SA4463-BANCO-0001    No indicado     1       A reformar   \n",
       "15833       SA3697-IL-04891     En trámite     2   En buen estado   \n",
       "15834   SA555-39508999/1670    No indicado     3              NaN   \n",
       "15835        4525678-000021     En trámite     2   En buen estado   \n",
       "15836   SA555-40574646/1670    No indicado     2              NaN   \n",
       "\n",
       "      Superficie construida Habitaciones  \n",
       "0                     63 m²            1  \n",
       "1                     25 m²          NaN  \n",
       "2                     70 m²            1  \n",
       "3                     60 m²            1  \n",
       "4                     60 m²            2  \n",
       "...                     ...          ...  \n",
       "15832                 67 m²            3  \n",
       "15833                 79 m²            1  \n",
       "15834                140 m²            4  \n",
       "15835                106 m²            3  \n",
       "15836                 90 m²            3  \n",
       "\n",
       "[15837 rows x 11 columns]"
      ]
     },
     "execution_count": 22,
     "metadata": {},
     "output_type": "execute_result"
    }
   ],
   "source": [
    "df_1"
   ]
  },
  {
   "cell_type": "code",
   "execution_count": 23,
   "metadata": {},
   "outputs": [],
   "source": [
    "df_2 = df_1[['price', 'lat', 'lng', 'Baños', 'Habitaciones', 'Superficie construida', 'Conservación']].dropna()"
   ]
  },
  {
   "cell_type": "code",
   "execution_count": 24,
   "metadata": {},
   "outputs": [],
   "source": [
    "df_2['Superficie construida'] = df_2['Superficie construida'].apply(lambda x: int(''.join(x[:-3].split('.'))))"
   ]
  },
  {
   "cell_type": "code",
   "execution_count": 25,
   "metadata": {},
   "outputs": [],
   "source": [
    "df_2 = pd.concat([df_2.drop('Conservación', axis = 1), pd.get_dummies(df_2['Conservación'], drop_first = True)], axis = 1)"
   ]
  },
  {
   "cell_type": "code",
   "execution_count": 26,
   "metadata": {},
   "outputs": [],
   "source": [
    "X = df_2.drop('price', axis = 1)\n",
    "y = df_2[['price']]"
   ]
  },
  {
   "cell_type": "code",
   "execution_count": 27,
   "metadata": {},
   "outputs": [],
   "source": [
    "from sklearn.ensemble import RandomForestRegressor\n",
    "from sklearn.model_selection import train_test_split"
   ]
  },
  {
   "cell_type": "code",
   "execution_count": 28,
   "metadata": {},
   "outputs": [],
   "source": [
    "model = RandomForestRegressor()"
   ]
  },
  {
   "cell_type": "code",
   "execution_count": 29,
   "metadata": {},
   "outputs": [],
   "source": [
    "X_train, X_test, y_train, y_test = train_test_split(X, y, test_size = 0.2, random_state = 42)"
   ]
  },
  {
   "cell_type": "code",
   "execution_count": 30,
   "metadata": {},
   "outputs": [
    {
     "name": "stderr",
     "output_type": "stream",
     "text": [
      "C:\\Users\\Aa\\AppData\\Local\\Packages\\PythonSoftwareFoundation.Python.3.11_qbz5n2kfra8p0\\LocalCache\\local-packages\\Python311\\site-packages\\sklearn\\base.py:1151: DataConversionWarning:\n",
      "\n",
      "A column-vector y was passed when a 1d array was expected. Please change the shape of y to (n_samples,), for example using ravel().\n",
      "\n"
     ]
    },
    {
     "data": {
      "text/html": [
       "<style>#sk-container-id-1 {color: black;}#sk-container-id-1 pre{padding: 0;}#sk-container-id-1 div.sk-toggleable {background-color: white;}#sk-container-id-1 label.sk-toggleable__label {cursor: pointer;display: block;width: 100%;margin-bottom: 0;padding: 0.3em;box-sizing: border-box;text-align: center;}#sk-container-id-1 label.sk-toggleable__label-arrow:before {content: \"▸\";float: left;margin-right: 0.25em;color: #696969;}#sk-container-id-1 label.sk-toggleable__label-arrow:hover:before {color: black;}#sk-container-id-1 div.sk-estimator:hover label.sk-toggleable__label-arrow:before {color: black;}#sk-container-id-1 div.sk-toggleable__content {max-height: 0;max-width: 0;overflow: hidden;text-align: left;background-color: #f0f8ff;}#sk-container-id-1 div.sk-toggleable__content pre {margin: 0.2em;color: black;border-radius: 0.25em;background-color: #f0f8ff;}#sk-container-id-1 input.sk-toggleable__control:checked~div.sk-toggleable__content {max-height: 200px;max-width: 100%;overflow: auto;}#sk-container-id-1 input.sk-toggleable__control:checked~label.sk-toggleable__label-arrow:before {content: \"▾\";}#sk-container-id-1 div.sk-estimator input.sk-toggleable__control:checked~label.sk-toggleable__label {background-color: #d4ebff;}#sk-container-id-1 div.sk-label input.sk-toggleable__control:checked~label.sk-toggleable__label {background-color: #d4ebff;}#sk-container-id-1 input.sk-hidden--visually {border: 0;clip: rect(1px 1px 1px 1px);clip: rect(1px, 1px, 1px, 1px);height: 1px;margin: -1px;overflow: hidden;padding: 0;position: absolute;width: 1px;}#sk-container-id-1 div.sk-estimator {font-family: monospace;background-color: #f0f8ff;border: 1px dotted black;border-radius: 0.25em;box-sizing: border-box;margin-bottom: 0.5em;}#sk-container-id-1 div.sk-estimator:hover {background-color: #d4ebff;}#sk-container-id-1 div.sk-parallel-item::after {content: \"\";width: 100%;border-bottom: 1px solid gray;flex-grow: 1;}#sk-container-id-1 div.sk-label:hover label.sk-toggleable__label {background-color: #d4ebff;}#sk-container-id-1 div.sk-serial::before {content: \"\";position: absolute;border-left: 1px solid gray;box-sizing: border-box;top: 0;bottom: 0;left: 50%;z-index: 0;}#sk-container-id-1 div.sk-serial {display: flex;flex-direction: column;align-items: center;background-color: white;padding-right: 0.2em;padding-left: 0.2em;position: relative;}#sk-container-id-1 div.sk-item {position: relative;z-index: 1;}#sk-container-id-1 div.sk-parallel {display: flex;align-items: stretch;justify-content: center;background-color: white;position: relative;}#sk-container-id-1 div.sk-item::before, #sk-container-id-1 div.sk-parallel-item::before {content: \"\";position: absolute;border-left: 1px solid gray;box-sizing: border-box;top: 0;bottom: 0;left: 50%;z-index: -1;}#sk-container-id-1 div.sk-parallel-item {display: flex;flex-direction: column;z-index: 1;position: relative;background-color: white;}#sk-container-id-1 div.sk-parallel-item:first-child::after {align-self: flex-end;width: 50%;}#sk-container-id-1 div.sk-parallel-item:last-child::after {align-self: flex-start;width: 50%;}#sk-container-id-1 div.sk-parallel-item:only-child::after {width: 0;}#sk-container-id-1 div.sk-dashed-wrapped {border: 1px dashed gray;margin: 0 0.4em 0.5em 0.4em;box-sizing: border-box;padding-bottom: 0.4em;background-color: white;}#sk-container-id-1 div.sk-label label {font-family: monospace;font-weight: bold;display: inline-block;line-height: 1.2em;}#sk-container-id-1 div.sk-label-container {text-align: center;}#sk-container-id-1 div.sk-container {/* jupyter's `normalize.less` sets `[hidden] { display: none; }` but bootstrap.min.css set `[hidden] { display: none !important; }` so we also need the `!important` here to be able to override the default hidden behavior on the sphinx rendered scikit-learn.org. See: https://github.com/scikit-learn/scikit-learn/issues/21755 */display: inline-block !important;position: relative;}#sk-container-id-1 div.sk-text-repr-fallback {display: none;}</style><div id=\"sk-container-id-1\" class=\"sk-top-container\"><div class=\"sk-text-repr-fallback\"><pre>RandomForestRegressor()</pre><b>In a Jupyter environment, please rerun this cell to show the HTML representation or trust the notebook. <br />On GitHub, the HTML representation is unable to render, please try loading this page with nbviewer.org.</b></div><div class=\"sk-container\" hidden><div class=\"sk-item\"><div class=\"sk-estimator sk-toggleable\"><input class=\"sk-toggleable__control sk-hidden--visually\" id=\"sk-estimator-id-1\" type=\"checkbox\" checked><label for=\"sk-estimator-id-1\" class=\"sk-toggleable__label sk-toggleable__label-arrow\">RandomForestRegressor</label><div class=\"sk-toggleable__content\"><pre>RandomForestRegressor()</pre></div></div></div></div></div>"
      ],
      "text/plain": [
       "RandomForestRegressor()"
      ]
     },
     "execution_count": 30,
     "metadata": {},
     "output_type": "execute_result"
    }
   ],
   "source": [
    "model.fit(X_train, y_train)"
   ]
  },
  {
   "cell_type": "code",
   "execution_count": 31,
   "metadata": {},
   "outputs": [],
   "source": [
    "yhat = model.predict(X_test)"
   ]
  },
  {
   "cell_type": "code",
   "execution_count": 32,
   "metadata": {},
   "outputs": [],
   "source": [
    "from sklearn.metrics import r2_score, mean_squared_error, mean_absolute_error"
   ]
  },
  {
   "cell_type": "code",
   "execution_count": 33,
   "metadata": {},
   "outputs": [
    {
     "name": "stdout",
     "output_type": "stream",
     "text": [
      "0.8263024859973126\n",
      "115384.43226327674\n",
      "107903074243.75594\n"
     ]
    }
   ],
   "source": [
    "print(r2_score(y_test, yhat))\n",
    "print(mean_absolute_error(y_test, yhat))\n",
    "print(mean_squared_error(y_test, yhat))"
   ]
  }
 ],
 "metadata": {
  "kernelspec": {
   "display_name": "venv",
   "language": "python",
   "name": "python3"
  },
  "language_info": {
   "codemirror_mode": {
    "name": "ipython",
    "version": 3
   },
   "file_extension": ".py",
   "mimetype": "text/x-python",
   "name": "python",
   "nbconvert_exporter": "python",
   "pygments_lexer": "ipython3",
   "version": "3.10.11"
  },
  "orig_nbformat": 4
 },
 "nbformat": 4,
 "nbformat_minor": 2
}
