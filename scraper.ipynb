{
 "cells": [
  {
   "cell_type": "code",
   "execution_count": 73,
   "metadata": {},
   "outputs": [],
   "source": [
    "import os\n",
    "import requests\n",
    "import requests\n",
    "import ast\n",
    "\n",
    "import pandas as pd\n",
    "import glob\n",
    "import plotly.express as px\n",
    "\n",
    "from bs4 import BeautifulSoup\n",
    "\n",
    "from selenium import webdriver\n",
    "from selenium.webdriver.common.by import By\n",
    "from selenium.webdriver.support.ui import WebDriverWait\n",
    "from selenium.webdriver.support import expected_conditions as EC\n",
    "\n",
    "from time import sleep\n",
    "\n",
    "\n",
    "from locations import *\n",
    "from parsing import *"
   ]
  },
  {
   "cell_type": "markdown",
   "metadata": {},
   "source": [
    "# LOCATIONS SCRAPING"
   ]
  },
  {
   "cell_type": "code",
   "execution_count": 74,
   "metadata": {},
   "outputs": [],
   "source": [
    "# Base\n",
    "\n",
    "base_url = 'https://www.pisos.com/'\n",
    "\n",
    "venta_url = f'{base_url}venta/'"
   ]
  },
  {
   "cell_type": "code",
   "execution_count": 75,
   "metadata": {},
   "outputs": [],
   "source": [
    "# Sacamos todas las paginas filtradas por provincias\n",
    "\n",
    "response = requests.get(base_url)\n",
    "\n",
    "soup = BeautifulSoup(response.text, \"html.parser\")\n",
    "\n",
    "provincias_str = soup.find('div', class_ = 'home-container').find('div', class_ = 'selectBox').find_all('ul')[-1].text\n",
    "\n",
    "provincias = [x.lower() for x in provincias_str.strip().split('\\n')]\n",
    "\n",
    "endpoints = replaceWithUnderscore(provincias)\n",
    "\n",
    "endpoints = [venta_url + endpoint for endpoint in endpoints]\n",
    "\n",
    "with open('locations.txt', 'w') as file:\n",
    "    file.write('\\n'.join(endpoints))"
   ]
  },
  {
   "cell_type": "markdown",
   "metadata": {},
   "source": [
    "# SINGLE PAGE SCRAPING"
   ]
  },
  {
   "cell_type": "code",
   "execution_count": 76,
   "metadata": {},
   "outputs": [],
   "source": [
    "def scrape(url):\n",
    "\n",
    "    browser = webdriver.Chrome()\n",
    "    browser.get(url)\n",
    "    browser.maximize_window()\n",
    "\n",
    "    element = WebDriverWait(browser, 10).until(\n",
    "        EC.presence_of_element_located((By.XPATH, '//*[@id=\"didomi-notice-agree-button\"]'))\n",
    "    )\n",
    "\n",
    "    element.click() # Accept cookies\n",
    "\n",
    "    for i in range(30):\n",
    "\n",
    "        element = WebDriverWait(browser, 10).until(\n",
    "            EC.presence_of_element_located((By.XPATH, f'(//*[@id]/div[2]/div[1]/div[2]/a)[{i + 1}]'))\n",
    "        )\n",
    "\n",
    "        element.click() # Click on the first post\n",
    "\n",
    "        # <SCROLLING>\n",
    "        while True:\n",
    "            is_at_bottom = browser.execute_script(\"return window.scrollY + window.innerHeight >= document.body.scrollHeight\")\n",
    "            browser.execute_script(\"window.scroll({ top: document.body.scrollHeight, behavior: 'smooth' });\")\n",
    "            if is_at_bottom:\n",
    "                break\n",
    "            sleep(0.2)\n",
    "        # </SCROLLING>\n",
    "        \n",
    "        html_content = browser.page_source\n",
    "        soft_url = url.replace('https://www.pisos.com/venta/', '')\n",
    "        soft_url = soft_url.replace('/', '_')\n",
    "        soft_url = soft_url.replace('-', '_')\n",
    "\n",
    "        file_path = f'{os.getcwd()}/html_content/{soft_url}_{i}.html'\n",
    "        try:\n",
    "            with open(file_path, 'w', encoding='utf-8') as file:\n",
    "                file.write(html_content)\n",
    "        except Exception as e:\n",
    "            with open(file_path, 'w', encoding='utf-8') as file:\n",
    "                file.write(repr(e))\n",
    "\n",
    "        go_back_element = WebDriverWait(browser, 10).until(\n",
    "            EC.presence_of_element_located((By.XPATH, '//*[@id=\"GoBackLink\"]'))\n",
    "        )\n",
    "\n",
    "        go_back_element.click() # Click on back arrow\n",
    "\n",
    "    browser.quit()\n",
    "\n",
    "    "
   ]
  },
  {
   "cell_type": "markdown",
   "metadata": {},
   "source": [
    "# TESTING"
   ]
  },
  {
   "cell_type": "code",
   "execution_count": 77,
   "metadata": {},
   "outputs": [],
   "source": [
    "def scanRegions(url):\n",
    "    response = requests.get(url)\n",
    "\n",
    "    print(f'URL: {url} | STATUS {response.status_code}')\n",
    "\n",
    "    soup = BeautifulSoup(response.text, 'html.parser')\n",
    "\n",
    "    items = soup.select('div.zoneList a.item:not(.item-subitem)')\n",
    "\n",
    "    endpoints = {}\n",
    "    for item in items:\n",
    "        endpoint = item['href']\n",
    "        n_results = item.find('span', class_ = 'total').text\n",
    "\n",
    "        # <INT>\n",
    "        if len(n_results) != 0:\n",
    "            try:\n",
    "                n_results = n_results[1:-1]\n",
    "                n_results = ''.join(n_results.split('.'))\n",
    "                n_results = int(n_results)\n",
    "            except:\n",
    "                print(f'FAIL CASTING TO INTEGER {endpoint}')\n",
    "        else:\n",
    "            print(f'n_results EMPTY {endpoint}')\n",
    "        #</INT>\n",
    "\n",
    "        # <RECURSSION>\n",
    "        if n_results > 3000:\n",
    "            endpoints[endpoint] = scanRegions(base_url[:-1] + endpoint)\n",
    "        # </RECURSSION>\n",
    "\n",
    "        else: endpoints[endpoint] = n_results\n",
    "\n",
    "    return endpoints"
   ]
  },
  {
   "cell_type": "code",
   "execution_count": 78,
   "metadata": {},
   "outputs": [],
   "source": [
    "def parseRegions(endpoints):\n",
    "\n",
    "    def extract(endpoints):\n",
    "        array = []\n",
    "        for key, value in endpoints.items():\n",
    "            if isinstance(value, int):\n",
    "                array.append(key)\n",
    "                continue\n",
    "\n",
    "            data = extract(value)\n",
    "            array.extend(data)\n",
    "\n",
    "        return array\n",
    "    \n",
    "    endpoints = extract(endpoints)\n",
    "\n",
    "    array = []\n",
    "    \n",
    "    for endpoint in endpoints:\n",
    "        data = endpoint\n",
    "        if '/venta/pisos-' in endpoint:\n",
    "            data = endpoint.replace('/venta/pisos-', '/viviendas/')\n",
    "        array.append(data)\n",
    "\n",
    "    return array"
   ]
  },
  {
   "cell_type": "code",
   "execution_count": 79,
   "metadata": {},
   "outputs": [],
   "source": [
    "# URL = 'https://www.pisos.com/viviendas/o_eume_ortegal/'\n",
    "\n",
    "# urls = scanRegions(URL)\n",
    "# urls = parseRegions(urls)\n",
    "# urls = [base_url + x for x in urls]\n",
    "# urls = [x.replace('//viviendas/', '/venta/pisos-') for x in urls]\n",
    "# print(urls)"
   ]
  },
  {
   "cell_type": "code",
   "execution_count": 80,
   "metadata": {},
   "outputs": [],
   "source": [
    "# for url in urls:\n",
    "#     for i in range(20):\n",
    "#         try:\n",
    "#             endpoint = url + f'{i+1}'\n",
    "#             scrape(endpoint)\n",
    "#         except:\n",
    "#             break"
   ]
  },
  {
   "cell_type": "code",
   "execution_count": 81,
   "metadata": {},
   "outputs": [],
   "source": [
    "# data = {\n",
    "#     'price' : [],\n",
    "#     'title' : [],\n",
    "#     'location' : [],\n",
    "#     'lat' : [],\n",
    "#     'lng' : [],\n",
    "#     'characteristics' : [],\n",
    "# }\n",
    "\n",
    "# files = glob.glob('html_content/*.html')\n",
    "\n",
    "# for file in files:\n",
    "#     with open(file, encoding='utf-8') as f:\n",
    "#         source = f.read()\n",
    "#     soup = BeautifulSoup(source, 'html.parser')\n",
    "\n",
    "#     price = getPrice(soup)\n",
    "#     title = getTitle(soup)\n",
    "#     location = getLocation(soup)\n",
    "#     lat, long = getLatLong(soup)\n",
    "#     characteristics = getCharacteristics(soup)\n",
    "\n",
    "#     data['price'].append(price)\n",
    "#     data['title'].append(title)\n",
    "#     data['location'].append(location)\n",
    "#     data['lat'].append(lat)\n",
    "#     data['lng'].append(long)\n",
    "#     data['characteristics'].append(characteristics)\n",
    "\n",
    "# df = pd.DataFrame(data)"
   ]
  },
  {
   "cell_type": "code",
   "execution_count": 82,
   "metadata": {},
   "outputs": [],
   "source": [
    "df = pd.read_csv('prueba.csv')"
   ]
  },
  {
   "cell_type": "code",
   "execution_count": 83,
   "metadata": {},
   "outputs": [],
   "source": [
    "def tryInt(n):\n",
    "    try:\n",
    "        return int(n)\n",
    "    except: return np.nan"
   ]
  },
  {
   "cell_type": "markdown",
   "metadata": {},
   "source": [
    "# DATA PROCESSING"
   ]
  },
  {
   "cell_type": "code",
   "execution_count": 84,
   "metadata": {},
   "outputs": [],
   "source": [
    "df['price'] = df['price'].map(lambda x: tryInt(''.join(x[:-2].split('.'))))\n",
    "df['characteristics'] = df['characteristics'].apply(ast.literal_eval)"
   ]
  },
  {
   "cell_type": "markdown",
   "metadata": {},
   "source": [
    "#### CHARACTERISTICS PARSING"
   ]
  },
  {
   "cell_type": "code",
   "execution_count": 85,
   "metadata": {},
   "outputs": [],
   "source": [
    "# HAY QUE REFACTORIZAR ESTE CHURRO HORRIBLE!!!!!!!\n",
    "\n",
    "columns = []\n",
    "characteristics = df['characteristics'].iloc\n",
    "\n",
    "for chars in characteristics:\n",
    "    for char in chars:\n",
    "        vals = char.split(':')\n",
    "        if isinstance(vals, list):\n",
    "            columns.append(vals[0])\n",
    "        else:\n",
    "            columns.append(vals)\n",
    "\n",
    "columns = [x.strip() for x in columns]\n",
    "columns = list(set(columns))\n",
    "data = []\n",
    "\n",
    "for chars in characteristics:\n",
    "\n",
    "    dict_data = {}\n",
    "\n",
    "    for char in chars:\n",
    "        content = char.split(':')\n",
    "        if len(content) == 2:\n",
    "            key, value = content\n",
    "            key = key.strip()\n",
    "            dict_data[key] = value\n",
    "        else:\n",
    "            continue\n",
    "\n",
    "    dict_columns = {}\n",
    "\n",
    "    for column in columns:\n",
    "        for key, value in dict_data.items():\n",
    "            if key == column:\n",
    "                dict_columns[column] = value\n",
    "        \n",
    "    for column in columns:\n",
    "        if dict_columns.get(column) is None:\n",
    "            dict_columns[column] = np.nan\n",
    "\n",
    "    data.append(dict_columns)\n",
    "\n",
    "# HAY QUE REFACTORIZAR ESTE CHURRO HORRIBLE!!!!!!!"
   ]
  },
  {
   "cell_type": "code",
   "execution_count": 86,
   "metadata": {},
   "outputs": [],
   "source": [
    "df_characteristics = pd.DataFrame(data)"
   ]
  },
  {
   "cell_type": "code",
   "execution_count": 87,
   "metadata": {},
   "outputs": [],
   "source": [
    "df_ = pd.concat([df, df_characteristics], axis = 1).drop('characteristics', axis = 1)"
   ]
  },
  {
   "cell_type": "code",
   "execution_count": 88,
   "metadata": {},
   "outputs": [
    {
     "data": {
      "text/html": [
       "<div>\n",
       "<style scoped>\n",
       "    .dataframe tbody tr th:only-of-type {\n",
       "        vertical-align: middle;\n",
       "    }\n",
       "\n",
       "    .dataframe tbody tr th {\n",
       "        vertical-align: top;\n",
       "    }\n",
       "\n",
       "    .dataframe thead th {\n",
       "        text-align: right;\n",
       "    }\n",
       "</style>\n",
       "<table border=\"1\" class=\"dataframe\">\n",
       "  <thead>\n",
       "    <tr style=\"text-align: right;\">\n",
       "      <th></th>\n",
       "      <th>price</th>\n",
       "      <th>title</th>\n",
       "      <th>location</th>\n",
       "      <th>lat</th>\n",
       "      <th>lng</th>\n",
       "      <th>Superficie construida</th>\n",
       "      <th>Baños</th>\n",
       "      <th>Orientación</th>\n",
       "      <th>Superficie solar</th>\n",
       "      <th>Superficie útil</th>\n",
       "      <th>...</th>\n",
       "      <th>Amueblado</th>\n",
       "      <th>Sistema de seguridad</th>\n",
       "      <th>Carpintería interior</th>\n",
       "      <th>Puerta blindada</th>\n",
       "      <th>Calle asfaltada</th>\n",
       "      <th>Gastos de comunidad</th>\n",
       "      <th>Tipo de casa</th>\n",
       "      <th>Carpintería exterior</th>\n",
       "      <th>Gas</th>\n",
       "      <th>Portero automático</th>\n",
       "    </tr>\n",
       "  </thead>\n",
       "  <tbody>\n",
       "    <tr>\n",
       "      <th>0</th>\n",
       "      <td>180000.0</td>\n",
       "      <td>Finca rústica en venta en Calle Lugar Babio</td>\n",
       "      <td>Calle Lugar Babio. Bergondo (Carrio) (Bergondo)</td>\n",
       "      <td>43.317188</td>\n",
       "      <td>-8.243459</td>\n",
       "      <td>445 m²</td>\n",
       "      <td>1</td>\n",
       "      <td>Norte</td>\n",
       "      <td>2.921 m²</td>\n",
       "      <td>400 m²</td>\n",
       "      <td>...</td>\n",
       "      <td>NaN</td>\n",
       "      <td>NaN</td>\n",
       "      <td>NaN</td>\n",
       "      <td>NaN</td>\n",
       "      <td>NaN</td>\n",
       "      <td>NaN</td>\n",
       "      <td>NaN</td>\n",
       "      <td>NaN</td>\n",
       "      <td>NaN</td>\n",
       "      <td>NaN</td>\n",
       "    </tr>\n",
       "    <tr>\n",
       "      <th>1</th>\n",
       "      <td>210000.0</td>\n",
       "      <td>Casa en venta en Calle Punta Do Salto</td>\n",
       "      <td>Calle Punta Do Salto. Arteixo</td>\n",
       "      <td>43.340884</td>\n",
       "      <td>-8.482044</td>\n",
       "      <td>420 m²</td>\n",
       "      <td>3</td>\n",
       "      <td>NaN</td>\n",
       "      <td>626 m²</td>\n",
       "      <td>360 m²</td>\n",
       "      <td>...</td>\n",
       "      <td>Semi amueblado</td>\n",
       "      <td>NaN</td>\n",
       "      <td>NaN</td>\n",
       "      <td>NaN</td>\n",
       "      <td>NaN</td>\n",
       "      <td>NaN</td>\n",
       "      <td>NaN</td>\n",
       "      <td>Aluminio</td>\n",
       "      <td>NaN</td>\n",
       "      <td>NaN</td>\n",
       "    </tr>\n",
       "    <tr>\n",
       "      <th>2</th>\n",
       "      <td>126626.0</td>\n",
       "      <td>Piso en venta en Calle Blanco White</td>\n",
       "      <td>Calle Blanco White. Os Mallos-A Falperra (A Co...</td>\n",
       "      <td>43.347553</td>\n",
       "      <td>-8.416538</td>\n",
       "      <td>78 m²</td>\n",
       "      <td>1</td>\n",
       "      <td>NaN</td>\n",
       "      <td>NaN</td>\n",
       "      <td>NaN</td>\n",
       "      <td>...</td>\n",
       "      <td>NaN</td>\n",
       "      <td>NaN</td>\n",
       "      <td>NaN</td>\n",
       "      <td>NaN</td>\n",
       "      <td>NaN</td>\n",
       "      <td>NaN</td>\n",
       "      <td>NaN</td>\n",
       "      <td>NaN</td>\n",
       "      <td>NaN</td>\n",
       "      <td>NaN</td>\n",
       "    </tr>\n",
       "    <tr>\n",
       "      <th>3</th>\n",
       "      <td>102600.0</td>\n",
       "      <td>Piso en venta en Calle del Roi Xordo</td>\n",
       "      <td>Calle del Roi Xordo. Culleredo</td>\n",
       "      <td>43.318661</td>\n",
       "      <td>-8.384513</td>\n",
       "      <td>104 m²</td>\n",
       "      <td>1</td>\n",
       "      <td>NaN</td>\n",
       "      <td>NaN</td>\n",
       "      <td>NaN</td>\n",
       "      <td>...</td>\n",
       "      <td>NaN</td>\n",
       "      <td>NaN</td>\n",
       "      <td>NaN</td>\n",
       "      <td>NaN</td>\n",
       "      <td>NaN</td>\n",
       "      <td>NaN</td>\n",
       "      <td>NaN</td>\n",
       "      <td>NaN</td>\n",
       "      <td>NaN</td>\n",
       "      <td>NaN</td>\n",
       "    </tr>\n",
       "    <tr>\n",
       "      <th>4</th>\n",
       "      <td>95000.0</td>\n",
       "      <td>Piso en venta en Travesía de Pastoriza</td>\n",
       "      <td>Travesía de Pastoriza. Arteixo</td>\n",
       "      <td>43.336506</td>\n",
       "      <td>-8.462301</td>\n",
       "      <td>93 m²</td>\n",
       "      <td>2</td>\n",
       "      <td>Norte</td>\n",
       "      <td>NaN</td>\n",
       "      <td>83 m²</td>\n",
       "      <td>...</td>\n",
       "      <td>NaN</td>\n",
       "      <td>NaN</td>\n",
       "      <td>NaN</td>\n",
       "      <td>NaN</td>\n",
       "      <td>NaN</td>\n",
       "      <td>Entre 40 y 60€</td>\n",
       "      <td>NaN</td>\n",
       "      <td>NaN</td>\n",
       "      <td>NaN</td>\n",
       "      <td>NaN</td>\n",
       "    </tr>\n",
       "    <tr>\n",
       "      <th>...</th>\n",
       "      <td>...</td>\n",
       "      <td>...</td>\n",
       "      <td>...</td>\n",
       "      <td>...</td>\n",
       "      <td>...</td>\n",
       "      <td>...</td>\n",
       "      <td>...</td>\n",
       "      <td>...</td>\n",
       "      <td>...</td>\n",
       "      <td>...</td>\n",
       "      <td>...</td>\n",
       "      <td>...</td>\n",
       "      <td>...</td>\n",
       "      <td>...</td>\n",
       "      <td>...</td>\n",
       "      <td>...</td>\n",
       "      <td>...</td>\n",
       "      <td>...</td>\n",
       "      <td>...</td>\n",
       "      <td>...</td>\n",
       "      <td>...</td>\n",
       "    </tr>\n",
       "    <tr>\n",
       "      <th>4214</th>\n",
       "      <td>479900.0</td>\n",
       "      <td>Casa en venta en Calle Casteliño</td>\n",
       "      <td>Calle Casteliño. Sada</td>\n",
       "      <td>43.339523</td>\n",
       "      <td>-8.267679</td>\n",
       "      <td>465 m²</td>\n",
       "      <td>4</td>\n",
       "      <td>NaN</td>\n",
       "      <td>2.715 m²</td>\n",
       "      <td>392 m²</td>\n",
       "      <td>...</td>\n",
       "      <td>NaN</td>\n",
       "      <td>NaN</td>\n",
       "      <td>NaN</td>\n",
       "      <td>NaN</td>\n",
       "      <td>NaN</td>\n",
       "      <td>NaN</td>\n",
       "      <td>NaN</td>\n",
       "      <td>NaN</td>\n",
       "      <td>NaN</td>\n",
       "      <td>NaN</td>\n",
       "    </tr>\n",
       "    <tr>\n",
       "      <th>4215</th>\n",
       "      <td>145000.0</td>\n",
       "      <td>Piso en venta en Calle de la obra</td>\n",
       "      <td>Calle de la obra. Sada</td>\n",
       "      <td>43.348638</td>\n",
       "      <td>-8.251601</td>\n",
       "      <td>102 m²</td>\n",
       "      <td>2</td>\n",
       "      <td>Sur</td>\n",
       "      <td>NaN</td>\n",
       "      <td>NaN</td>\n",
       "      <td>...</td>\n",
       "      <td>NaN</td>\n",
       "      <td>NaN</td>\n",
       "      <td>NaN</td>\n",
       "      <td>NaN</td>\n",
       "      <td>NaN</td>\n",
       "      <td>Entre 40 y 60€</td>\n",
       "      <td>NaN</td>\n",
       "      <td>NaN</td>\n",
       "      <td>NaN</td>\n",
       "      <td>NaN</td>\n",
       "    </tr>\n",
       "    <tr>\n",
       "      <th>4216</th>\n",
       "      <td>134000.0</td>\n",
       "      <td>Casa unifamiliar en venta en Avenida de Sada y...</td>\n",
       "      <td>Avenida de Sada y sus Contornos, 44, cerca de ...</td>\n",
       "      <td>43.358830</td>\n",
       "      <td>-8.251664</td>\n",
       "      <td>87 m²</td>\n",
       "      <td>1</td>\n",
       "      <td>NaN</td>\n",
       "      <td>NaN</td>\n",
       "      <td>NaN</td>\n",
       "      <td>...</td>\n",
       "      <td>NaN</td>\n",
       "      <td>NaN</td>\n",
       "      <td>NaN</td>\n",
       "      <td>NaN</td>\n",
       "      <td>NaN</td>\n",
       "      <td>Entre 10 y 20 €</td>\n",
       "      <td>Unifamiliar</td>\n",
       "      <td>NaN</td>\n",
       "      <td>NaN</td>\n",
       "      <td>NaN</td>\n",
       "    </tr>\n",
       "    <tr>\n",
       "      <th>4217</th>\n",
       "      <td>380000.0</td>\n",
       "      <td>Chalet unifamiliar en venta en Soneiro,  1</td>\n",
       "      <td>Soneiro,  1. Alborelle (Sada)</td>\n",
       "      <td>43.327100</td>\n",
       "      <td>-8.287360</td>\n",
       "      <td>1.300 m²</td>\n",
       "      <td>3</td>\n",
       "      <td>NaN</td>\n",
       "      <td>1.300 m²</td>\n",
       "      <td>490 m²</td>\n",
       "      <td>...</td>\n",
       "      <td>NaN</td>\n",
       "      <td>NaN</td>\n",
       "      <td>NaN</td>\n",
       "      <td>NaN</td>\n",
       "      <td>NaN</td>\n",
       "      <td>NaN</td>\n",
       "      <td>NaN</td>\n",
       "      <td>NaN</td>\n",
       "      <td>NaN</td>\n",
       "      <td>NaN</td>\n",
       "    </tr>\n",
       "    <tr>\n",
       "      <th>4218</th>\n",
       "      <td>135000.0</td>\n",
       "      <td>Piso en venta en Camiño de Ferrer, 5</td>\n",
       "      <td>Camiño de Ferrer, 5. Fontán (Sada)</td>\n",
       "      <td>43.351033</td>\n",
       "      <td>-8.262322</td>\n",
       "      <td>78 m²</td>\n",
       "      <td>2</td>\n",
       "      <td>Este</td>\n",
       "      <td>NaN</td>\n",
       "      <td>70 m²</td>\n",
       "      <td>...</td>\n",
       "      <td>NaN</td>\n",
       "      <td>NaN</td>\n",
       "      <td>NaN</td>\n",
       "      <td>NaN</td>\n",
       "      <td>NaN</td>\n",
       "      <td>Entre 20 y 40 €</td>\n",
       "      <td>NaN</td>\n",
       "      <td>Aluminio</td>\n",
       "      <td>NaN</td>\n",
       "      <td>NaN</td>\n",
       "    </tr>\n",
       "  </tbody>\n",
       "</table>\n",
       "<p>4219 rows × 57 columns</p>\n",
       "</div>"
      ],
      "text/plain": [
       "         price                                              title  \\\n",
       "0     180000.0        Finca rústica en venta en Calle Lugar Babio   \n",
       "1     210000.0              Casa en venta en Calle Punta Do Salto   \n",
       "2     126626.0                Piso en venta en Calle Blanco White   \n",
       "3     102600.0               Piso en venta en Calle del Roi Xordo   \n",
       "4      95000.0             Piso en venta en Travesía de Pastoriza   \n",
       "...        ...                                                ...   \n",
       "4214  479900.0                   Casa en venta en Calle Casteliño   \n",
       "4215  145000.0                  Piso en venta en Calle de la obra   \n",
       "4216  134000.0  Casa unifamiliar en venta en Avenida de Sada y...   \n",
       "4217  380000.0         Chalet unifamiliar en venta en Soneiro,  1   \n",
       "4218  135000.0               Piso en venta en Camiño de Ferrer, 5   \n",
       "\n",
       "                                               location        lat       lng  \\\n",
       "0       Calle Lugar Babio. Bergondo (Carrio) (Bergondo)  43.317188 -8.243459   \n",
       "1                         Calle Punta Do Salto. Arteixo  43.340884 -8.482044   \n",
       "2     Calle Blanco White. Os Mallos-A Falperra (A Co...  43.347553 -8.416538   \n",
       "3                        Calle del Roi Xordo. Culleredo  43.318661 -8.384513   \n",
       "4                        Travesía de Pastoriza. Arteixo  43.336506 -8.462301   \n",
       "...                                                 ...        ...       ...   \n",
       "4214                              Calle Casteliño. Sada  43.339523 -8.267679   \n",
       "4215                             Calle de la obra. Sada  43.348638 -8.251601   \n",
       "4216  Avenida de Sada y sus Contornos, 44, cerca de ...  43.358830 -8.251664   \n",
       "4217                      Soneiro,  1. Alborelle (Sada)  43.327100 -8.287360   \n",
       "4218                 Camiño de Ferrer, 5. Fontán (Sada)  43.351033 -8.262322   \n",
       "\n",
       "     Superficie construida Baños Orientación Superficie solar Superficie útil  \\\n",
       "0                   445 m²     1       Norte         2.921 m²          400 m²   \n",
       "1                   420 m²     3         NaN           626 m²          360 m²   \n",
       "2                    78 m²     1         NaN              NaN             NaN   \n",
       "3                   104 m²     1         NaN              NaN             NaN   \n",
       "4                    93 m²     2       Norte              NaN           83 m²   \n",
       "...                    ...   ...         ...              ...             ...   \n",
       "4214                465 m²     4         NaN         2.715 m²          392 m²   \n",
       "4215                102 m²     2         Sur              NaN             NaN   \n",
       "4216                 87 m²     1         NaN              NaN             NaN   \n",
       "4217              1.300 m²     3         NaN         1.300 m²          490 m²   \n",
       "4218                 78 m²     2        Este              NaN           70 m²   \n",
       "\n",
       "      ...        Amueblado Sistema de seguridad Carpintería interior  \\\n",
       "0     ...              NaN                  NaN                  NaN   \n",
       "1     ...   Semi amueblado                  NaN                  NaN   \n",
       "2     ...              NaN                  NaN                  NaN   \n",
       "3     ...              NaN                  NaN                  NaN   \n",
       "4     ...              NaN                  NaN                  NaN   \n",
       "...   ...              ...                  ...                  ...   \n",
       "4214  ...              NaN                  NaN                  NaN   \n",
       "4215  ...              NaN                  NaN                  NaN   \n",
       "4216  ...              NaN                  NaN                  NaN   \n",
       "4217  ...              NaN                  NaN                  NaN   \n",
       "4218  ...              NaN                  NaN                  NaN   \n",
       "\n",
       "     Puerta blindada Calle asfaltada Gastos de comunidad  Tipo de casa  \\\n",
       "0                NaN             NaN                 NaN           NaN   \n",
       "1                NaN             NaN                 NaN           NaN   \n",
       "2                NaN             NaN                 NaN           NaN   \n",
       "3                NaN             NaN                 NaN           NaN   \n",
       "4                NaN             NaN      Entre 40 y 60€           NaN   \n",
       "...              ...             ...                 ...           ...   \n",
       "4214             NaN             NaN                 NaN           NaN   \n",
       "4215             NaN             NaN      Entre 40 y 60€           NaN   \n",
       "4216             NaN             NaN     Entre 10 y 20 €   Unifamiliar   \n",
       "4217             NaN             NaN                 NaN           NaN   \n",
       "4218             NaN             NaN     Entre 20 y 40 €           NaN   \n",
       "\n",
       "     Carpintería exterior  Gas Portero automático  \n",
       "0                     NaN  NaN                NaN  \n",
       "1                Aluminio  NaN                NaN  \n",
       "2                     NaN  NaN                NaN  \n",
       "3                     NaN  NaN                NaN  \n",
       "4                     NaN  NaN                NaN  \n",
       "...                   ...  ...                ...  \n",
       "4214                  NaN  NaN                NaN  \n",
       "4215                  NaN  NaN                NaN  \n",
       "4216                  NaN  NaN                NaN  \n",
       "4217                  NaN  NaN                NaN  \n",
       "4218             Aluminio  NaN                NaN  \n",
       "\n",
       "[4219 rows x 57 columns]"
      ]
     },
     "execution_count": 88,
     "metadata": {},
     "output_type": "execute_result"
    }
   ],
   "source": [
    "df_"
   ]
  },
  {
   "cell_type": "markdown",
   "metadata": {},
   "source": [
    "# NP.NAN"
   ]
  },
  {
   "cell_type": "code",
   "execution_count": 89,
   "metadata": {},
   "outputs": [
    {
     "data": {
      "application/vnd.plotly.v1+json": {
       "config": {
        "plotlyServerURL": "https://plot.ly"
       },
       "data": [
        {
         "alignmentgroup": "True",
         "hovertemplate": "x=%{x}<br>y=%{y}<extra></extra>",
         "legendgroup": "",
         "marker": {
          "color": "#636efa",
          "pattern": {
           "shape": ""
          }
         },
         "name": "",
         "offsetgroup": "",
         "orientation": "h",
         "showlegend": false,
         "textposition": "auto",
         "type": "bar",
         "x": [
          4197,
          4219,
          4205,
          4205,
          4205,
          3342,
          3975,
          734,
          572,
          1562,
          3988,
          2267,
          4219,
          4219,
          1188,
          29,
          35,
          31,
          0,
          94,
          0,
          1757,
          1625,
          24,
          0,
          40,
          13,
          1195,
          86,
          272,
          2,
          1050,
          108,
          0,
          28,
          32,
          2,
          153,
          13,
          0,
          4,
          29,
          1718,
          106,
          1327,
          2225,
          10,
          636,
          10,
          874,
          4,
          0,
          590,
          192,
          506,
          21,
          65
         ],
         "xaxis": "x",
         "y": [
          "price",
          "title",
          "location",
          "lat",
          "lng",
          "Superficie construida",
          "Baños",
          "Orientación",
          "Superficie solar",
          "Superficie útil",
          "Habitaciones",
          "Conservación",
          "Clasificación",
          "Referencia",
          "Garaje",
          "Aire acondicionado",
          "Cocina equipada",
          "Exterior",
          "Urbanizado",
          "Trastero",
          "Pedir más información",
          "Tipo suelo",
          "Calefacción",
          "Vidrios dobles",
          "Esquina",
          "Comedor",
          "Luz",
          "Antigüedad",
          "Piscina",
          "Consumo",
          "Chimenea",
          "Emisiones",
          "Agua",
          "Se aceptan mascotas",
          "Balcón",
          "Ascensor",
          "Teléfono",
          "Jardín",
          "Soleado",
          "Calle alumbrada",
          "Adaptado a personas con movilidad reducida",
          "Interior",
          "Cocina",
          "Terraza",
          "Armarios empotrados",
          "Planta",
          "Lavadero",
          "Amueblado",
          "Sistema de seguridad",
          "Carpintería interior",
          "Puerta blindada",
          "Calle asfaltada",
          "Gastos de comunidad",
          "Tipo de casa",
          "Carpintería exterior",
          "Gas",
          "Portero automático"
         ],
         "yaxis": "y"
        }
       ],
       "layout": {
        "barmode": "relative",
        "height": 1000,
        "legend": {
         "tracegroupgap": 0
        },
        "margin": {
         "t": 60
        },
        "template": {
         "data": {
          "bar": [
           {
            "error_x": {
             "color": "#2a3f5f"
            },
            "error_y": {
             "color": "#2a3f5f"
            },
            "marker": {
             "line": {
              "color": "#E5ECF6",
              "width": 0.5
             },
             "pattern": {
              "fillmode": "overlay",
              "size": 10,
              "solidity": 0.2
             }
            },
            "type": "bar"
           }
          ],
          "barpolar": [
           {
            "marker": {
             "line": {
              "color": "#E5ECF6",
              "width": 0.5
             },
             "pattern": {
              "fillmode": "overlay",
              "size": 10,
              "solidity": 0.2
             }
            },
            "type": "barpolar"
           }
          ],
          "carpet": [
           {
            "aaxis": {
             "endlinecolor": "#2a3f5f",
             "gridcolor": "white",
             "linecolor": "white",
             "minorgridcolor": "white",
             "startlinecolor": "#2a3f5f"
            },
            "baxis": {
             "endlinecolor": "#2a3f5f",
             "gridcolor": "white",
             "linecolor": "white",
             "minorgridcolor": "white",
             "startlinecolor": "#2a3f5f"
            },
            "type": "carpet"
           }
          ],
          "choropleth": [
           {
            "colorbar": {
             "outlinewidth": 0,
             "ticks": ""
            },
            "type": "choropleth"
           }
          ],
          "contour": [
           {
            "colorbar": {
             "outlinewidth": 0,
             "ticks": ""
            },
            "colorscale": [
             [
              0,
              "#0d0887"
             ],
             [
              0.1111111111111111,
              "#46039f"
             ],
             [
              0.2222222222222222,
              "#7201a8"
             ],
             [
              0.3333333333333333,
              "#9c179e"
             ],
             [
              0.4444444444444444,
              "#bd3786"
             ],
             [
              0.5555555555555556,
              "#d8576b"
             ],
             [
              0.6666666666666666,
              "#ed7953"
             ],
             [
              0.7777777777777778,
              "#fb9f3a"
             ],
             [
              0.8888888888888888,
              "#fdca26"
             ],
             [
              1,
              "#f0f921"
             ]
            ],
            "type": "contour"
           }
          ],
          "contourcarpet": [
           {
            "colorbar": {
             "outlinewidth": 0,
             "ticks": ""
            },
            "type": "contourcarpet"
           }
          ],
          "heatmap": [
           {
            "colorbar": {
             "outlinewidth": 0,
             "ticks": ""
            },
            "colorscale": [
             [
              0,
              "#0d0887"
             ],
             [
              0.1111111111111111,
              "#46039f"
             ],
             [
              0.2222222222222222,
              "#7201a8"
             ],
             [
              0.3333333333333333,
              "#9c179e"
             ],
             [
              0.4444444444444444,
              "#bd3786"
             ],
             [
              0.5555555555555556,
              "#d8576b"
             ],
             [
              0.6666666666666666,
              "#ed7953"
             ],
             [
              0.7777777777777778,
              "#fb9f3a"
             ],
             [
              0.8888888888888888,
              "#fdca26"
             ],
             [
              1,
              "#f0f921"
             ]
            ],
            "type": "heatmap"
           }
          ],
          "heatmapgl": [
           {
            "colorbar": {
             "outlinewidth": 0,
             "ticks": ""
            },
            "colorscale": [
             [
              0,
              "#0d0887"
             ],
             [
              0.1111111111111111,
              "#46039f"
             ],
             [
              0.2222222222222222,
              "#7201a8"
             ],
             [
              0.3333333333333333,
              "#9c179e"
             ],
             [
              0.4444444444444444,
              "#bd3786"
             ],
             [
              0.5555555555555556,
              "#d8576b"
             ],
             [
              0.6666666666666666,
              "#ed7953"
             ],
             [
              0.7777777777777778,
              "#fb9f3a"
             ],
             [
              0.8888888888888888,
              "#fdca26"
             ],
             [
              1,
              "#f0f921"
             ]
            ],
            "type": "heatmapgl"
           }
          ],
          "histogram": [
           {
            "marker": {
             "pattern": {
              "fillmode": "overlay",
              "size": 10,
              "solidity": 0.2
             }
            },
            "type": "histogram"
           }
          ],
          "histogram2d": [
           {
            "colorbar": {
             "outlinewidth": 0,
             "ticks": ""
            },
            "colorscale": [
             [
              0,
              "#0d0887"
             ],
             [
              0.1111111111111111,
              "#46039f"
             ],
             [
              0.2222222222222222,
              "#7201a8"
             ],
             [
              0.3333333333333333,
              "#9c179e"
             ],
             [
              0.4444444444444444,
              "#bd3786"
             ],
             [
              0.5555555555555556,
              "#d8576b"
             ],
             [
              0.6666666666666666,
              "#ed7953"
             ],
             [
              0.7777777777777778,
              "#fb9f3a"
             ],
             [
              0.8888888888888888,
              "#fdca26"
             ],
             [
              1,
              "#f0f921"
             ]
            ],
            "type": "histogram2d"
           }
          ],
          "histogram2dcontour": [
           {
            "colorbar": {
             "outlinewidth": 0,
             "ticks": ""
            },
            "colorscale": [
             [
              0,
              "#0d0887"
             ],
             [
              0.1111111111111111,
              "#46039f"
             ],
             [
              0.2222222222222222,
              "#7201a8"
             ],
             [
              0.3333333333333333,
              "#9c179e"
             ],
             [
              0.4444444444444444,
              "#bd3786"
             ],
             [
              0.5555555555555556,
              "#d8576b"
             ],
             [
              0.6666666666666666,
              "#ed7953"
             ],
             [
              0.7777777777777778,
              "#fb9f3a"
             ],
             [
              0.8888888888888888,
              "#fdca26"
             ],
             [
              1,
              "#f0f921"
             ]
            ],
            "type": "histogram2dcontour"
           }
          ],
          "mesh3d": [
           {
            "colorbar": {
             "outlinewidth": 0,
             "ticks": ""
            },
            "type": "mesh3d"
           }
          ],
          "parcoords": [
           {
            "line": {
             "colorbar": {
              "outlinewidth": 0,
              "ticks": ""
             }
            },
            "type": "parcoords"
           }
          ],
          "pie": [
           {
            "automargin": true,
            "type": "pie"
           }
          ],
          "scatter": [
           {
            "fillpattern": {
             "fillmode": "overlay",
             "size": 10,
             "solidity": 0.2
            },
            "type": "scatter"
           }
          ],
          "scatter3d": [
           {
            "line": {
             "colorbar": {
              "outlinewidth": 0,
              "ticks": ""
             }
            },
            "marker": {
             "colorbar": {
              "outlinewidth": 0,
              "ticks": ""
             }
            },
            "type": "scatter3d"
           }
          ],
          "scattercarpet": [
           {
            "marker": {
             "colorbar": {
              "outlinewidth": 0,
              "ticks": ""
             }
            },
            "type": "scattercarpet"
           }
          ],
          "scattergeo": [
           {
            "marker": {
             "colorbar": {
              "outlinewidth": 0,
              "ticks": ""
             }
            },
            "type": "scattergeo"
           }
          ],
          "scattergl": [
           {
            "marker": {
             "colorbar": {
              "outlinewidth": 0,
              "ticks": ""
             }
            },
            "type": "scattergl"
           }
          ],
          "scattermapbox": [
           {
            "marker": {
             "colorbar": {
              "outlinewidth": 0,
              "ticks": ""
             }
            },
            "type": "scattermapbox"
           }
          ],
          "scatterpolar": [
           {
            "marker": {
             "colorbar": {
              "outlinewidth": 0,
              "ticks": ""
             }
            },
            "type": "scatterpolar"
           }
          ],
          "scatterpolargl": [
           {
            "marker": {
             "colorbar": {
              "outlinewidth": 0,
              "ticks": ""
             }
            },
            "type": "scatterpolargl"
           }
          ],
          "scatterternary": [
           {
            "marker": {
             "colorbar": {
              "outlinewidth": 0,
              "ticks": ""
             }
            },
            "type": "scatterternary"
           }
          ],
          "surface": [
           {
            "colorbar": {
             "outlinewidth": 0,
             "ticks": ""
            },
            "colorscale": [
             [
              0,
              "#0d0887"
             ],
             [
              0.1111111111111111,
              "#46039f"
             ],
             [
              0.2222222222222222,
              "#7201a8"
             ],
             [
              0.3333333333333333,
              "#9c179e"
             ],
             [
              0.4444444444444444,
              "#bd3786"
             ],
             [
              0.5555555555555556,
              "#d8576b"
             ],
             [
              0.6666666666666666,
              "#ed7953"
             ],
             [
              0.7777777777777778,
              "#fb9f3a"
             ],
             [
              0.8888888888888888,
              "#fdca26"
             ],
             [
              1,
              "#f0f921"
             ]
            ],
            "type": "surface"
           }
          ],
          "table": [
           {
            "cells": {
             "fill": {
              "color": "#EBF0F8"
             },
             "line": {
              "color": "white"
             }
            },
            "header": {
             "fill": {
              "color": "#C8D4E3"
             },
             "line": {
              "color": "white"
             }
            },
            "type": "table"
           }
          ]
         },
         "layout": {
          "annotationdefaults": {
           "arrowcolor": "#2a3f5f",
           "arrowhead": 0,
           "arrowwidth": 1
          },
          "autotypenumbers": "strict",
          "coloraxis": {
           "colorbar": {
            "outlinewidth": 0,
            "ticks": ""
           }
          },
          "colorscale": {
           "diverging": [
            [
             0,
             "#8e0152"
            ],
            [
             0.1,
             "#c51b7d"
            ],
            [
             0.2,
             "#de77ae"
            ],
            [
             0.3,
             "#f1b6da"
            ],
            [
             0.4,
             "#fde0ef"
            ],
            [
             0.5,
             "#f7f7f7"
            ],
            [
             0.6,
             "#e6f5d0"
            ],
            [
             0.7,
             "#b8e186"
            ],
            [
             0.8,
             "#7fbc41"
            ],
            [
             0.9,
             "#4d9221"
            ],
            [
             1,
             "#276419"
            ]
           ],
           "sequential": [
            [
             0,
             "#0d0887"
            ],
            [
             0.1111111111111111,
             "#46039f"
            ],
            [
             0.2222222222222222,
             "#7201a8"
            ],
            [
             0.3333333333333333,
             "#9c179e"
            ],
            [
             0.4444444444444444,
             "#bd3786"
            ],
            [
             0.5555555555555556,
             "#d8576b"
            ],
            [
             0.6666666666666666,
             "#ed7953"
            ],
            [
             0.7777777777777778,
             "#fb9f3a"
            ],
            [
             0.8888888888888888,
             "#fdca26"
            ],
            [
             1,
             "#f0f921"
            ]
           ],
           "sequentialminus": [
            [
             0,
             "#0d0887"
            ],
            [
             0.1111111111111111,
             "#46039f"
            ],
            [
             0.2222222222222222,
             "#7201a8"
            ],
            [
             0.3333333333333333,
             "#9c179e"
            ],
            [
             0.4444444444444444,
             "#bd3786"
            ],
            [
             0.5555555555555556,
             "#d8576b"
            ],
            [
             0.6666666666666666,
             "#ed7953"
            ],
            [
             0.7777777777777778,
             "#fb9f3a"
            ],
            [
             0.8888888888888888,
             "#fdca26"
            ],
            [
             1,
             "#f0f921"
            ]
           ]
          },
          "colorway": [
           "#636efa",
           "#EF553B",
           "#00cc96",
           "#ab63fa",
           "#FFA15A",
           "#19d3f3",
           "#FF6692",
           "#B6E880",
           "#FF97FF",
           "#FECB52"
          ],
          "font": {
           "color": "#2a3f5f"
          },
          "geo": {
           "bgcolor": "white",
           "lakecolor": "white",
           "landcolor": "#E5ECF6",
           "showlakes": true,
           "showland": true,
           "subunitcolor": "white"
          },
          "hoverlabel": {
           "align": "left"
          },
          "hovermode": "closest",
          "mapbox": {
           "style": "light"
          },
          "paper_bgcolor": "white",
          "plot_bgcolor": "#E5ECF6",
          "polar": {
           "angularaxis": {
            "gridcolor": "white",
            "linecolor": "white",
            "ticks": ""
           },
           "bgcolor": "#E5ECF6",
           "radialaxis": {
            "gridcolor": "white",
            "linecolor": "white",
            "ticks": ""
           }
          },
          "scene": {
           "xaxis": {
            "backgroundcolor": "#E5ECF6",
            "gridcolor": "white",
            "gridwidth": 2,
            "linecolor": "white",
            "showbackground": true,
            "ticks": "",
            "zerolinecolor": "white"
           },
           "yaxis": {
            "backgroundcolor": "#E5ECF6",
            "gridcolor": "white",
            "gridwidth": 2,
            "linecolor": "white",
            "showbackground": true,
            "ticks": "",
            "zerolinecolor": "white"
           },
           "zaxis": {
            "backgroundcolor": "#E5ECF6",
            "gridcolor": "white",
            "gridwidth": 2,
            "linecolor": "white",
            "showbackground": true,
            "ticks": "",
            "zerolinecolor": "white"
           }
          },
          "shapedefaults": {
           "line": {
            "color": "#2a3f5f"
           }
          },
          "ternary": {
           "aaxis": {
            "gridcolor": "white",
            "linecolor": "white",
            "ticks": ""
           },
           "baxis": {
            "gridcolor": "white",
            "linecolor": "white",
            "ticks": ""
           },
           "bgcolor": "#E5ECF6",
           "caxis": {
            "gridcolor": "white",
            "linecolor": "white",
            "ticks": ""
           }
          },
          "title": {
           "x": 0.05
          },
          "xaxis": {
           "automargin": true,
           "gridcolor": "white",
           "linecolor": "white",
           "ticks": "",
           "title": {
            "standoff": 15
           },
           "zerolinecolor": "white",
           "zerolinewidth": 2
          },
          "yaxis": {
           "automargin": true,
           "gridcolor": "white",
           "linecolor": "white",
           "ticks": "",
           "title": {
            "standoff": 15
           },
           "zerolinecolor": "white",
           "zerolinewidth": 2
          }
         }
        },
        "xaxis": {
         "anchor": "y",
         "domain": [
          0,
          1
         ],
         "title": {
          "text": "x"
         }
        },
        "yaxis": {
         "anchor": "x",
         "domain": [
          0,
          1
         ],
         "title": {
          "text": "y"
         }
        }
       }
      }
     },
     "metadata": {},
     "output_type": "display_data"
    }
   ],
   "source": [
    "fig = px.bar([df_[x].dropna().count() for x in df_.columns], y = df_.columns, x = [df_[x].dropna().count() for x in df_.columns])\n",
    "\n",
    "fig.update_layout(height = 1000)"
   ]
  },
  {
   "cell_type": "code",
   "execution_count": 90,
   "metadata": {},
   "outputs": [],
   "source": [
    "def nanPercentage(col):\n",
    "    orig_size = len(col)\n",
    "    drop_size = len(col.dropna())\n",
    "    return 1 - drop_size/orig_size\n",
    "\n",
    "def nanReport(threshold):\n",
    "    df = df_[[col for col in df_.columns if nanPercentage(df_[col]) < threshold]]\n",
    "    print(f'Porcentaje de valores perdidos en total: {1- df.dropna().shape[0] / df.shape[0]}')\n",
    "    print(f'Columnas conservadas: {len(df.columns)}')"
   ]
  },
  {
   "cell_type": "markdown",
   "metadata": {},
   "source": [
    "# CONCLUSION: HAY MUCHOS NANS"
   ]
  },
  {
   "cell_type": "code",
   "execution_count": 91,
   "metadata": {},
   "outputs": [
    {
     "name": "stdout",
     "output_type": "stream",
     "text": [
      "Porcentaje de valores perdidos en total: 0.06826262147428297\n",
      "Columnas conservadas: 9\n"
     ]
    }
   ],
   "source": [
    "nanReport(0.1)"
   ]
  }
 ],
 "metadata": {
  "kernelspec": {
   "display_name": "venv",
   "language": "python",
   "name": "python3"
  },
  "language_info": {
   "codemirror_mode": {
    "name": "ipython",
    "version": 3
   },
   "file_extension": ".py",
   "mimetype": "text/x-python",
   "name": "python",
   "nbconvert_exporter": "python",
   "pygments_lexer": "ipython3",
   "version": "3.10.11"
  },
  "orig_nbformat": 4
 },
 "nbformat": 4,
 "nbformat_minor": 2
}
