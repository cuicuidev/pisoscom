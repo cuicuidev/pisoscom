{
 "cells": [
  {
   "cell_type": "code",
   "execution_count": 3,
   "metadata": {},
   "outputs": [],
   "source": [
    "from selenium import webdriver\n",
    "from selenium.webdriver.common.by import By\n",
    "from selenium.webdriver.support.ui import WebDriverWait\n",
    "from selenium.webdriver.support import expected_conditions as EC\n",
    "\n",
    "from bs4 import BeautifulSoup\n",
    "\n",
    "from time import sleep"
   ]
  },
  {
   "cell_type": "code",
   "execution_count": 13,
   "metadata": {},
   "outputs": [],
   "source": [
    "url = 'https://www.pisos.com'"
   ]
  },
  {
   "cell_type": "code",
   "execution_count": 14,
   "metadata": {},
   "outputs": [],
   "source": [
    "driver = webdriver.Chrome()\n",
    "driver.get(url)\n",
    "\n",
    "element = WebDriverWait(driver, 10).until(\n",
    "    EC.presence_of_element_located((By.XPATH, '//*[@id=\"didomi-notice-agree-button\"]'))\n",
    ")\n",
    "\n",
    "element.click()\n",
    "\n",
    "html = driver.page_source\n",
    "soup = BeautifulSoup(html, 'html.parser')\n",
    "\n",
    "zonas = soup.find('ul', id = 'listazonas').find_all('li')\n",
    "\n",
    "zonas = [x.text for x in zonas]\n",
    "\n",
    "driver.quit()"
   ]
  },
  {
   "cell_type": "code",
   "execution_count": 19,
   "metadata": {},
   "outputs": [
    {
     "name": "stdout",
     "output_type": "stream",
     "text": [
      "['https://www.pisos.com/viviendas/a_coruna/', 'https://www.pisos.com/viviendas/alava_araba/', 'https://www.pisos.com/viviendas/albacete/', 'https://www.pisos.com/viviendas/alicante/', 'https://www.pisos.com/viviendas/almeria/', 'https://www.pisos.com/viviendas/andorra/', 'https://www.pisos.com/viviendas/asturias/', 'https://www.pisos.com/viviendas/avila/', 'https://www.pisos.com/viviendas/badajoz/', 'https://www.pisos.com/viviendas/islas_baleares_illes_balears/', 'https://www.pisos.com/viviendas/barcelona/', 'https://www.pisos.com/viviendas/bilbao/', 'https://www.pisos.com/viviendas/vizcaya_bizkaia/', 'https://www.pisos.com/viviendas/burgos/', 'https://www.pisos.com/viviendas/caceres/', 'https://www.pisos.com/viviendas/cadiz/', 'https://www.pisos.com/viviendas/cantabria/', 'https://www.pisos.com/viviendas/castellon_castello/', 'https://www.pisos.com/venta/pisos-cerdanya_francesa/', 'https://www.pisos.com/venta/pisos-ceuta/', 'https://www.pisos.com/viviendas/ciudad_real/', 'https://www.pisos.com/viviendas/cordoba/', 'https://www.pisos.com/viviendas/cuenca/', 'https://www.pisos.com/viviendas/san_sebastian_donostia/', 'https://www.pisos.com/viviendas/isla_de_ibiza_eivissa/', 'https://www.pisos.com/venta/pisos-el_hierro/', 'https://www.pisos.com/venta/pisos-formentera/', 'https://www.pisos.com/viviendas/fuerteventura/', 'https://www.pisos.com/viviendas/vitoria_gasteiz_zona_urbana/', 'https://www.pisos.com/viviendas/gijon_concejo_xixon_conceyu_gijon/', 'https://www.pisos.com/viviendas/guipuzcoa_gipuzkoa/', 'https://www.pisos.com/viviendas/girona/', 'https://www.pisos.com/viviendas/gran_canaria/', 'https://www.pisos.com/viviendas/granada/', 'https://www.pisos.com/viviendas/guadalajara/', 'https://www.pisos.com/viviendas/guipuzcoa_gipuzkoa/', 'https://www.pisos.com/viviendas/huelva/', 'https://www.pisos.com/viviendas/huesca/', 'https://www.pisos.com/viviendas/isla_de_ibiza_eivissa/', 'https://www.pisos.com/venta/pisos-pais_vasco_frances_iparralde/', 'https://www.pisos.com/viviendas/pamplona_iruna/', 'https://www.pisos.com/viviendas/islas_baleares_illes_balears/', 'https://www.pisos.com/viviendas/jaen/', 'https://www.pisos.com/viviendas/a_coruna/', 'https://www.pisos.com/viviendas/la_palma/', 'https://www.pisos.com/viviendas/la_rioja/', 'https://www.pisos.com/viviendas/lanzarote/', 'https://www.pisos.com/viviendas/las_palmas/', 'https://www.pisos.com/viviendas/las_palmas_de_gran_canaria/', 'https://www.pisos.com/viviendas/leon/', 'https://www.pisos.com/viviendas/lleida/', 'https://www.pisos.com/viviendas/logrono/', 'https://www.pisos.com/viviendas/lugo/', 'https://www.pisos.com/viviendas/madrid/', 'https://www.pisos.com/viviendas/malaga/', 'https://www.pisos.com/viviendas/isla_de_mallorca/', 'https://www.pisos.com/venta/pisos-melilla/', 'https://www.pisos.com/viviendas/isla_de_menorca/', 'https://www.pisos.com/viviendas/murcia/', 'https://www.pisos.com/viviendas/navarra_nafarroa/', 'https://www.pisos.com/viviendas/ourense/', 'https://www.pisos.com/viviendas/oviedo/', 'https://www.pisos.com/venta/pisos-pais_vasco_frances_iparralde/', 'https://www.pisos.com/viviendas/palencia/', 'https://www.pisos.com/viviendas/isla_de_mallorca_palma_de_mallorca/', 'https://www.pisos.com/viviendas/pamplona_iruna/', 'https://www.pisos.com/viviendas/pontevedra/', 'https://www.pisos.com/viviendas/salamanca/', 'https://www.pisos.com/viviendas/san_sebastian_donostia/', 'https://www.pisos.com/viviendas/santa_cruz_de_tenerife/', 'https://www.pisos.com/viviendas/santander/', 'https://www.pisos.com/viviendas/segovia/', 'https://www.pisos.com/viviendas/sevilla/', 'https://www.pisos.com/viviendas/soria/', 'https://www.pisos.com/viviendas/tarragona/', 'https://www.pisos.com/viviendas/tenerife/', 'https://www.pisos.com/viviendas/teruel/', 'https://www.pisos.com/viviendas/toledo/', 'https://www.pisos.com/viviendas/valencia/', 'https://www.pisos.com/viviendas/valladolid/', 'https://www.pisos.com/viviendas/vigo/', 'https://www.pisos.com/viviendas/vitoria_gasteiz_zona_urbana/', 'https://www.pisos.com/viviendas/vizcaya_bizkaia/', 'https://www.pisos.com/viviendas/zamora/', 'https://www.pisos.com/viviendas/zaragoza/']\n"
     ]
    }
   ],
   "source": [
    "driver = webdriver.Chrome()\n",
    "driver.get(url)\n",
    "\n",
    "element = WebDriverWait(driver, 10).until(\n",
    "    EC.presence_of_element_located((By.XPATH, '//*[@id=\"didomi-notice-agree-button\"]'))\n",
    ")\n",
    "\n",
    "element.click()\n",
    "\n",
    "urls = []\n",
    "for i in range(len(zonas)):\n",
    "    sleep(3)\n",
    "\n",
    "    xpath = f'//*[@id=\"listazonas\"]/li[{i + 1}]'\n",
    "    element = WebDriverWait(driver, 10).until(\n",
    "        EC.presence_of_element_located((By.XPATH, xpath))\n",
    "    )\n",
    "\n",
    "    element.click()\n",
    "\n",
    "    element = WebDriverWait(driver, 10).until(\n",
    "                    EC.presence_of_element_located((By.XPATH, '//*[@id=\"btnBuscarHome\"]'))\n",
    "                    )\n",
    "\n",
    "    element.click()\n",
    "\n",
    "    sleep(3)\n",
    "\n",
    "    urls.append(driver.current_url)\n",
    "    \n",
    "    driver.back()\n",
    "\n",
    "driver.quit()\n",
    "\n",
    "print(urls)"
   ]
  },
  {
   "cell_type": "code",
   "execution_count": 20,
   "metadata": {},
   "outputs": [
    {
     "data": {
      "text/plain": [
       "['https://www.pisos.com/viviendas/a_coruna/',\n",
       " 'https://www.pisos.com/viviendas/alava_araba/',\n",
       " 'https://www.pisos.com/viviendas/albacete/',\n",
       " 'https://www.pisos.com/viviendas/alicante/',\n",
       " 'https://www.pisos.com/viviendas/almeria/',\n",
       " 'https://www.pisos.com/viviendas/andorra/',\n",
       " 'https://www.pisos.com/viviendas/asturias/',\n",
       " 'https://www.pisos.com/viviendas/avila/',\n",
       " 'https://www.pisos.com/viviendas/badajoz/',\n",
       " 'https://www.pisos.com/viviendas/islas_baleares_illes_balears/',\n",
       " 'https://www.pisos.com/viviendas/barcelona/',\n",
       " 'https://www.pisos.com/viviendas/bilbao/',\n",
       " 'https://www.pisos.com/viviendas/vizcaya_bizkaia/',\n",
       " 'https://www.pisos.com/viviendas/burgos/',\n",
       " 'https://www.pisos.com/viviendas/caceres/',\n",
       " 'https://www.pisos.com/viviendas/cadiz/',\n",
       " 'https://www.pisos.com/viviendas/cantabria/',\n",
       " 'https://www.pisos.com/viviendas/castellon_castello/',\n",
       " 'https://www.pisos.com/venta/pisos-cerdanya_francesa/',\n",
       " 'https://www.pisos.com/venta/pisos-ceuta/',\n",
       " 'https://www.pisos.com/viviendas/ciudad_real/',\n",
       " 'https://www.pisos.com/viviendas/cordoba/',\n",
       " 'https://www.pisos.com/viviendas/cuenca/',\n",
       " 'https://www.pisos.com/viviendas/san_sebastian_donostia/',\n",
       " 'https://www.pisos.com/viviendas/isla_de_ibiza_eivissa/',\n",
       " 'https://www.pisos.com/venta/pisos-el_hierro/',\n",
       " 'https://www.pisos.com/venta/pisos-formentera/',\n",
       " 'https://www.pisos.com/viviendas/fuerteventura/',\n",
       " 'https://www.pisos.com/viviendas/vitoria_gasteiz_zona_urbana/',\n",
       " 'https://www.pisos.com/viviendas/gijon_concejo_xixon_conceyu_gijon/',\n",
       " 'https://www.pisos.com/viviendas/guipuzcoa_gipuzkoa/',\n",
       " 'https://www.pisos.com/viviendas/girona/',\n",
       " 'https://www.pisos.com/viviendas/gran_canaria/',\n",
       " 'https://www.pisos.com/viviendas/granada/',\n",
       " 'https://www.pisos.com/viviendas/guadalajara/',\n",
       " 'https://www.pisos.com/viviendas/guipuzcoa_gipuzkoa/',\n",
       " 'https://www.pisos.com/viviendas/huelva/',\n",
       " 'https://www.pisos.com/viviendas/huesca/',\n",
       " 'https://www.pisos.com/viviendas/isla_de_ibiza_eivissa/',\n",
       " 'https://www.pisos.com/venta/pisos-pais_vasco_frances_iparralde/',\n",
       " 'https://www.pisos.com/viviendas/pamplona_iruna/',\n",
       " 'https://www.pisos.com/viviendas/islas_baleares_illes_balears/',\n",
       " 'https://www.pisos.com/viviendas/jaen/',\n",
       " 'https://www.pisos.com/viviendas/a_coruna/',\n",
       " 'https://www.pisos.com/viviendas/la_palma/',\n",
       " 'https://www.pisos.com/viviendas/la_rioja/',\n",
       " 'https://www.pisos.com/viviendas/lanzarote/',\n",
       " 'https://www.pisos.com/viviendas/las_palmas/',\n",
       " 'https://www.pisos.com/viviendas/las_palmas_de_gran_canaria/',\n",
       " 'https://www.pisos.com/viviendas/leon/',\n",
       " 'https://www.pisos.com/viviendas/lleida/',\n",
       " 'https://www.pisos.com/viviendas/logrono/',\n",
       " 'https://www.pisos.com/viviendas/lugo/',\n",
       " 'https://www.pisos.com/viviendas/madrid/',\n",
       " 'https://www.pisos.com/viviendas/malaga/',\n",
       " 'https://www.pisos.com/viviendas/isla_de_mallorca/',\n",
       " 'https://www.pisos.com/venta/pisos-melilla/',\n",
       " 'https://www.pisos.com/viviendas/isla_de_menorca/',\n",
       " 'https://www.pisos.com/viviendas/murcia/',\n",
       " 'https://www.pisos.com/viviendas/navarra_nafarroa/',\n",
       " 'https://www.pisos.com/viviendas/ourense/',\n",
       " 'https://www.pisos.com/viviendas/oviedo/',\n",
       " 'https://www.pisos.com/venta/pisos-pais_vasco_frances_iparralde/',\n",
       " 'https://www.pisos.com/viviendas/palencia/',\n",
       " 'https://www.pisos.com/viviendas/isla_de_mallorca_palma_de_mallorca/',\n",
       " 'https://www.pisos.com/viviendas/pamplona_iruna/',\n",
       " 'https://www.pisos.com/viviendas/pontevedra/',\n",
       " 'https://www.pisos.com/viviendas/salamanca/',\n",
       " 'https://www.pisos.com/viviendas/san_sebastian_donostia/',\n",
       " 'https://www.pisos.com/viviendas/santa_cruz_de_tenerife/',\n",
       " 'https://www.pisos.com/viviendas/santander/',\n",
       " 'https://www.pisos.com/viviendas/segovia/',\n",
       " 'https://www.pisos.com/viviendas/sevilla/',\n",
       " 'https://www.pisos.com/viviendas/soria/',\n",
       " 'https://www.pisos.com/viviendas/tarragona/',\n",
       " 'https://www.pisos.com/viviendas/tenerife/',\n",
       " 'https://www.pisos.com/viviendas/teruel/',\n",
       " 'https://www.pisos.com/viviendas/toledo/',\n",
       " 'https://www.pisos.com/viviendas/valencia/',\n",
       " 'https://www.pisos.com/viviendas/valladolid/',\n",
       " 'https://www.pisos.com/viviendas/vigo/',\n",
       " 'https://www.pisos.com/viviendas/vitoria_gasteiz_zona_urbana/',\n",
       " 'https://www.pisos.com/viviendas/vizcaya_bizkaia/',\n",
       " 'https://www.pisos.com/viviendas/zamora/',\n",
       " 'https://www.pisos.com/viviendas/zaragoza/']"
      ]
     },
     "execution_count": 20,
     "metadata": {},
     "output_type": "execute_result"
    }
   ],
   "source": [
    "urls"
   ]
  },
  {
   "cell_type": "code",
   "execution_count": 22,
   "metadata": {},
   "outputs": [
    {
     "name": "stdout",
     "output_type": "stream",
     "text": [
      "['a_coruna', 'alava_araba', 'albacete', 'alicante', 'almeria', 'andorra', 'asturias', 'avila', 'badajoz', 'islas_baleares_illes_balears', 'barcelona', 'bilbao', 'vizcaya_bizkaia', 'burgos', 'caceres', 'cadiz', 'cantabria', 'castellon_castello', 'pisos-cerdanya_francesa', 'pisos-ceuta', 'ciudad_real', 'cordoba', 'cuenca', 'san_sebastian_donostia', 'isla_de_ibiza_eivissa', 'pisos-el_hierro', 'pisos-formentera', 'fuerteventura', 'vitoria_gasteiz_zona_urbana', 'gijon_concejo_xixon_conceyu_gijon', 'guipuzcoa_gipuzkoa', 'girona', 'gran_canaria', 'granada', 'guadalajara', 'guipuzcoa_gipuzkoa', 'huelva', 'huesca', 'isla_de_ibiza_eivissa', 'pisos-pais_vasco_frances_iparralde', 'pamplona_iruna', 'islas_baleares_illes_balears', 'jaen', 'a_coruna', 'la_palma', 'la_rioja', 'lanzarote', 'las_palmas', 'las_palmas_de_gran_canaria', 'leon', 'lleida', 'logrono', 'lugo', 'madrid', 'malaga', 'isla_de_mallorca', 'pisos-melilla', 'isla_de_menorca', 'murcia', 'navarra_nafarroa', 'ourense', 'oviedo', 'pisos-pais_vasco_frances_iparralde', 'palencia', 'isla_de_mallorca_palma_de_mallorca', 'pamplona_iruna', 'pontevedra', 'salamanca', 'san_sebastian_donostia', 'santa_cruz_de_tenerife', 'santander', 'segovia', 'sevilla', 'soria', 'tarragona', 'tenerife', 'teruel', 'toledo', 'valencia', 'valladolid', 'vigo', 'vitoria_gasteiz_zona_urbana', 'vizcaya_bizkaia', 'zamora', 'zaragoza']\n"
     ]
    }
   ],
   "source": [
    "endpoints = [x.split('/')[-2] for x in urls]\n",
    "print(endpoints)"
   ]
  },
  {
   "cell_type": "code",
   "execution_count": 28,
   "metadata": {},
   "outputs": [],
   "source": [
    "import datetime\n",
    "\n",
    "def scrape(urls):\n",
    "    browser = webdriver.Chrome()\n",
    "    \n",
    "    for idx, url in enumerate(urls):\n",
    "\n",
    "        browser.get(url)\n",
    "\n",
    "        if idx == 0:\n",
    "            element = WebDriverWait(browser, 10).until(\n",
    "                EC.presence_of_element_located((By.XPATH, '//*[@id=\"didomi-notice-agree-button\"]'))\n",
    "            )\n",
    "\n",
    "            element.click()\n",
    "\n",
    "        # <SCROLLING>\n",
    "        while True:\n",
    "            try:\n",
    "                if browser.find_element(By.XPATH, '//*[@id=\"location\"]/script[2]'):\n",
    "                    break\n",
    "            except: pass\n",
    "\n",
    "            browser.execute_script(\"window.scroll({ top: document.body.scrollHeight, behavior: 'smooth' });\")\n",
    "            sleep(0.2)\n",
    "        # </SCROLLING>\n",
    "        \n",
    "        html_content = browser.page_source\n",
    "\n",
    "        timestamp = ''.join(str(datetime.datetime.now().timestamp()).split('.'))\n",
    "\n",
    "        soft_url = url.replace('https://www.pisos.com/comprar/', '')\n",
    "        soft_url = soft_url.replace('/', '_')\n",
    "        soft_url = soft_url.replace('-', '_')\n",
    "\n",
    "        metadata = {'timestamp' : timestamp, 'soft_url' : soft_url}\n",
    "\n",
    "        yield html_content, metadata\n",
    "\n",
    "    browser.quit()"
   ]
  },
  {
   "cell_type": "code",
   "execution_count": 29,
   "metadata": {},
   "outputs": [
    {
     "name": "stderr",
     "output_type": "stream",
     "text": [
      "The chromedriver version (117.0.5938.92) detected in PATH at c:\\Users\\cuicuidev\\Desktop\\pisoscom\\scraping_legacy\\chromedriver.exe might not be compatible with the detected chrome version (118.0.5993.120); currently, chromedriver 118.0.5993.70 is recommended for chrome 118.*, so it is advised to delete the driver in PATH and retry\n"
     ]
    }
   ],
   "source": [
    "data = []\n",
    "for i in scrape(['https://www.pisos.com/comprar/apartamento-ames_san_tome-33416853087_106900/', 'https://www.pisos.com/comprar/piso-catro_caminos_a_gaiteira15009-32539758204_100500/']):\n",
    "    data.append(i[0])"
   ]
  },
  {
   "cell_type": "code",
   "execution_count": 33,
   "metadata": {},
   "outputs": [
    {
     "name": "stdout",
     "output_type": "stream",
     "text": [
      "('42.8467397', '-8.5778237')\n"
     ]
    }
   ],
   "source": [
    "import numpy as np\n",
    "import re\n",
    "def getLatLong(soup: BeautifulSoup):\n",
    "    try:\n",
    "        # Find all script tags with the specified type\n",
    "        script_tags = soup.find_all('script', {'type': 'text/javascript'})\n",
    "\n",
    "        # Define a regular expression pattern to match lat and long values\n",
    "        pattern = re.compile(r'var _Lat = \"(.*?)\";\\s*var _Long = \"(.*?)\";')\n",
    "\n",
    "        # Iterate through script tags to find and extract lat and long values\n",
    "        for script_tag in script_tags:\n",
    "            match = pattern.search(script_tag.text)\n",
    "            if match:\n",
    "                lat, long = match.groups()\n",
    "                return lat, long\n",
    "        lat, long = np.nan, np.nan\n",
    "    except:\n",
    "        lat, long = np.nan, np.nan\n",
    "    return lat, long\n",
    "\n",
    "print(getLatLong(BeautifulSoup(data[0], 'html.parser')))"
   ]
  },
  {
   "cell_type": "code",
   "execution_count": null,
   "metadata": {},
   "outputs": [],
   "source": [
    "'//*[@id=\"location\"]/script[2]'"
   ]
  }
 ],
 "metadata": {
  "kernelspec": {
   "display_name": "venv",
   "language": "python",
   "name": "python3"
  },
  "language_info": {
   "codemirror_mode": {
    "name": "ipython",
    "version": 3
   },
   "file_extension": ".py",
   "mimetype": "text/x-python",
   "name": "python",
   "nbconvert_exporter": "python",
   "pygments_lexer": "ipython3",
   "version": "3.10.11"
  }
 },
 "nbformat": 4,
 "nbformat_minor": 2
}
