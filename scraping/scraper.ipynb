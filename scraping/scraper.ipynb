{
 "cells": [
  {
   "cell_type": "code",
   "execution_count": 51,
   "metadata": {},
   "outputs": [],
   "source": [
    "import os\n",
    "import requests\n",
    "import requests\n",
    "import ast\n",
    "\n",
    "import pandas as pd\n",
    "import glob\n",
    "import plotly.express as px\n",
    "\n",
    "from bs4 import BeautifulSoup\n",
    "\n",
    "from selenium import webdriver\n",
    "from selenium.webdriver.common.by import By\n",
    "from selenium.webdriver.support.ui import WebDriverWait\n",
    "from selenium.webdriver.support import expected_conditions as EC\n",
    "\n",
    "from time import sleep\n",
    "\n",
    "from locations import *\n",
    "from parsing import *"
   ]
  },
  {
   "cell_type": "markdown",
   "metadata": {},
   "source": [
    "# LOCATIONS SCRAPING"
   ]
  },
  {
   "cell_type": "code",
   "execution_count": 52,
   "metadata": {},
   "outputs": [],
   "source": [
    "# Base\n",
    "\n",
    "base_url = 'https://www.pisos.com/'\n",
    "\n",
    "venta_url = f'{base_url}venta/'\n",
    "\n",
    "URL = 'https://www.pisos.com/viviendas/valencia/'"
   ]
  },
  {
   "cell_type": "code",
   "execution_count": 53,
   "metadata": {},
   "outputs": [],
   "source": [
    "# Sacamos todas las paginas filtradas por provincias\n",
    "\n",
    "response = requests.get(base_url)\n",
    "\n",
    "soup = BeautifulSoup(response.text, \"html.parser\")\n",
    "\n",
    "provincias_str = soup.find('div', class_ = 'home-container').find('div', class_ = 'selectBox').find_all('ul')[-1].text\n",
    "\n",
    "provincias = [x.lower() for x in provincias_str.strip().split('\\n')]\n",
    "\n",
    "endpoints = replaceWithUnderscore(provincias)\n",
    "\n",
    "endpoints = [venta_url + endpoint for endpoint in endpoints]\n",
    "\n",
    "# with open('locations.txt', 'w') as file:\n",
    "#     file.write('\\n'.join(endpoints))"
   ]
  },
  {
   "cell_type": "markdown",
   "metadata": {},
   "source": [
    "# SINGLE PAGE SCRAPING"
   ]
  },
  {
   "cell_type": "code",
   "execution_count": 54,
   "metadata": {},
   "outputs": [],
   "source": [
    "def scrape(urls):\n",
    "    browser = webdriver.Chrome()\n",
    "\n",
    "    for idx, url in enumerate(urls):\n",
    "        browser.get(url)\n",
    "        # browser.maximize_window()\n",
    "\n",
    "        if idx == 0:\n",
    "            element = WebDriverWait(browser, 10).until(\n",
    "                EC.presence_of_element_located((By.XPATH, '//*[@id=\"didomi-notice-agree-button\"]'))\n",
    "            )\n",
    "\n",
    "            element.click() # Accept cookies\n",
    "\n",
    "        # <SCROLLING>\n",
    "        while True:\n",
    "            is_at_bottom = browser.execute_script(\"return window.scrollY + window.innerHeight >= document.body.scrollHeight\")\n",
    "            browser.execute_script(\"window.scroll({ top: document.body.scrollHeight, behavior: 'smooth' });\")\n",
    "            if is_at_bottom:\n",
    "                break\n",
    "            sleep(0.2)\n",
    "        # </SCROLLING>\n",
    "        \n",
    "        html_content = browser.page_source\n",
    "\n",
    "        timestamp = ''.join(str(datetime.datetime.now().timestamp()).split('.'))\n",
    "\n",
    "        soft_url = url.replace('https://www.pisos.com/comprar/', '')\n",
    "        soft_url = soft_url.replace('/', '_')\n",
    "        soft_url = soft_url.replace('-', '_')\n",
    "\n",
    "        file_path = f'../html_content/{timestamp}_{soft_url}.html'\n",
    "        try:\n",
    "            with open(file_path, 'w', encoding='utf-8') as file:\n",
    "                file.write(html_content)\n",
    "        except Exception as e:\n",
    "            with open(file_path, 'w', encoding='utf-8') as file:\n",
    "                file.write(repr(e))\n",
    "\n",
    "    browser.quit()"
   ]
  },
  {
   "cell_type": "markdown",
   "metadata": {},
   "source": [
    "# TESTING"
   ]
  },
  {
   "cell_type": "code",
   "execution_count": 55,
   "metadata": {},
   "outputs": [],
   "source": [
    "def scanRegions(url):\n",
    "    response = requests.get(url)\n",
    "\n",
    "    print(f'URL: {url} | STATUS {response.status_code}')\n",
    "\n",
    "    soup = BeautifulSoup(response.text, 'html.parser')\n",
    "\n",
    "    items = soup.select('div.zoneList a.item:not(.item-subitem)')\n",
    "\n",
    "    endpoints = {}\n",
    "    for item in items:\n",
    "        endpoint = item['href']\n",
    "        n_results = item.find('span', class_ = 'total').text\n",
    "\n",
    "        # <INT>\n",
    "        if len(n_results) != 0:\n",
    "            try:\n",
    "                n_results = n_results[1:-1]\n",
    "                n_results = ''.join(n_results.split('.'))\n",
    "                n_results = int(n_results)\n",
    "            except:\n",
    "                print(f'FAIL CASTING TO INTEGER {endpoint}')\n",
    "        else:\n",
    "            print(f'n_results EMPTY {endpoint}')\n",
    "        #</INT>\n",
    "\n",
    "        # <RECURSSION>\n",
    "        if n_results > 3000:\n",
    "            endpoints[endpoint] = scanRegions(base_url[:-1] + endpoint)\n",
    "        # </RECURSSION>\n",
    "\n",
    "        else: endpoints[endpoint] = n_results\n",
    "\n",
    "    return endpoints"
   ]
  },
  {
   "cell_type": "code",
   "execution_count": 56,
   "metadata": {},
   "outputs": [],
   "source": [
    "def parseRegions(endpoints):\n",
    "\n",
    "    def extract(endpoints):\n",
    "        array = []\n",
    "        for key, value in endpoints.items():\n",
    "            if isinstance(value, int):\n",
    "                array.append(key)\n",
    "                continue\n",
    "\n",
    "            data = extract(value)\n",
    "            array.extend(data)\n",
    "\n",
    "        return array\n",
    "    \n",
    "    endpoints = extract(endpoints)\n",
    "\n",
    "    array = []\n",
    "    \n",
    "    for endpoint in endpoints:\n",
    "        data = endpoint\n",
    "        if '/venta/pisos-' in endpoint:\n",
    "            data = endpoint.replace('/venta/pisos-', '/viviendas/')\n",
    "        array.append(data)\n",
    "\n",
    "    return array"
   ]
  },
  {
   "cell_type": "code",
   "execution_count": 57,
   "metadata": {},
   "outputs": [
    {
     "name": "stdout",
     "output_type": "stream",
     "text": [
      "URL: https://www.pisos.com/viviendas/albacete/ | STATUS 200\n",
      "['https://www.pisos.com/venta/pisos-albacete_capital/', 'https://www.pisos.com/venta/pisos-campos_de_hellin/', 'https://www.pisos.com/venta/pisos-la_mancha_del_jucar_centro/', 'https://www.pisos.com/venta/pisos-la_manchuela/', 'https://www.pisos.com/venta/pisos-monte_iberico_corredor_de_almansa/', 'https://www.pisos.com/venta/pisos-sierra_de_alcaraz_y_campo_de_montiel/', 'https://www.pisos.com/venta/pisos-sierra_segura/']\n"
     ]
    }
   ],
   "source": [
    "urls = scanRegions(URL)\n",
    "urls = parseRegions(urls)\n",
    "urls = [base_url + x for x in urls]\n",
    "urls = [x.replace('//viviendas/', '/venta/pisos-') for x in urls]\n",
    "print(urls)"
   ]
  },
  {
   "cell_type": "code",
   "execution_count": 58,
   "metadata": {},
   "outputs": [],
   "source": [
    "def scrapeUrls(endpoint):\n",
    "    response = requests.get(endpoint)\n",
    "\n",
    "    soup = BeautifulSoup(response.text, 'html.parser')\n",
    "\n",
    "    results = soup.find('div', class_ = 'grid__title').find_all('span')[-1].text\n",
    "\n",
    "    n_results = int(''.join([x for x in results if x.isnumeric()]))\n",
    "    n_pages = (n_results // 30) + 1\n",
    "\n",
    "    urls = []\n",
    "    for i in range(n_pages):\n",
    "        url = f'{endpoint}{i + 1}'\n",
    "        response = requests.get(url)\n",
    "        timestamp = datetime.datetime.now().timestamp\n",
    "\n",
    "        soup = BeautifulSoup(response.text, 'html.parser')\n",
    "\n",
    "        ads = soup.find_all('a', class_ = 'ad-preview__title')\n",
    "        urls.extend([x['href'] for x in ads])\n",
    "    return urls"
   ]
  },
  {
   "cell_type": "code",
   "execution_count": 59,
   "metadata": {},
   "outputs": [],
   "source": [
    "for url in urls:\n",
    "    urls_ = scrapeUrls(url)\n",
    "    urls_ = list(set(urls_))\n",
    "    urls_ = [base_url[:-1] + x for x in urls_]\n",
    "    with open('urls.csv', 'a+') as file:\n",
    "        file.writelines([x + ',\\n' for x in urls_])"
   ]
  },
  {
   "cell_type": "code",
   "execution_count": 60,
   "metadata": {},
   "outputs": [],
   "source": [
    "with open('urls.csv') as file:\n",
    "    urls = file.read()\n",
    "\n",
    "urls = urls.split(',\\n')"
   ]
  },
  {
   "cell_type": "code",
   "execution_count": 61,
   "metadata": {},
   "outputs": [
    {
     "name": "stderr",
     "output_type": "stream",
     "text": [
      "The chromedriver version (117.0.5938.92) detected in PATH at c:\\Users\\cuicuidev\\Desktop\\pisoscom\\scraping\\chromedriver.exe might not be compatible with the detected chrome version (118.0.5993.71); currently, chromedriver 118.0.5993.70 is recommended for chrome 118.*, so it is advised to delete the driver in PATH and retry\n"
     ]
    }
   ],
   "source": [
    "scrape(urls)"
   ]
  },
  {
   "cell_type": "code",
   "execution_count": 62,
   "metadata": {},
   "outputs": [
    {
     "ename": "NameError",
     "evalue": "name 'dalsjdjha' is not defined",
     "output_type": "error",
     "traceback": [
      "\u001b[1;31m---------------------------------------------------------------------------\u001b[0m",
      "\u001b[1;31mNameError\u001b[0m                                 Traceback (most recent call last)",
      "\u001b[1;32mc:\\Users\\cuicuidev\\Desktop\\pisoscom\\scraping\\scraper.ipynb Cell 15\u001b[0m line \u001b[0;36m2\n\u001b[0;32m      <a href='vscode-notebook-cell:/c%3A/Users/cuicuidev/Desktop/pisoscom/scraping/scraper.ipynb#X20sZmlsZQ%3D%3D?line=0'>1</a>\u001b[0m \u001b[39m####################################################################################################################\u001b[39;00m\n\u001b[1;32m----> <a href='vscode-notebook-cell:/c%3A/Users/cuicuidev/Desktop/pisoscom/scraping/scraper.ipynb#X20sZmlsZQ%3D%3D?line=1'>2</a>\u001b[0m dalsjdjha\n",
      "\u001b[1;31mNameError\u001b[0m: name 'dalsjdjha' is not defined"
     ]
    }
   ],
   "source": [
    "####################################################################################################################"
   ]
  },
  {
   "cell_type": "code",
   "execution_count": null,
   "metadata": {},
   "outputs": [],
   "source": [
    "# Obtener la Data a partir de los archivos de la carpeta 'html_content'\n",
    "\n",
    "data = {\n",
    "    'price' : [],\n",
    "    'title' : [],\n",
    "    'location' : [],\n",
    "    'lat' : [],\n",
    "    'lng' : [],\n",
    "    'characteristics' : [],\n",
    "    'agency' : [],\n",
    "    'updated' : []\n",
    "}\n",
    "\n",
    "files = glob.glob('html_content/*.html')\n",
    "\n",
    "for file in files:\n",
    "    with open(file, encoding='utf-8') as f:\n",
    "        source = f.read()\n",
    "    soup = BeautifulSoup(source, 'html.parser')\n",
    "\n",
    "    price = getPrice(soup)\n",
    "    title = getTitle(soup)\n",
    "    location = getLocation(soup)\n",
    "    lat, long = getLatLong(soup)\n",
    "    characteristics = getCharacteristics(soup)\n",
    "    updated, agency = getAgencyDate(soup)\n",
    "\n",
    "    data['price'].append(price)\n",
    "    data['title'].append(title)\n",
    "    data['location'].append(location)\n",
    "    data['lat'].append(lat)\n",
    "    data['lng'].append(long)\n",
    "    data['characteristics'].append(characteristics)\n",
    "    data['agency'].append(agency)\n",
    "    data['updated'].append(updated)\n",
    "\n",
    "df = pd.DataFrame(data)"
   ]
  },
  {
   "cell_type": "code",
   "execution_count": null,
   "metadata": {},
   "outputs": [],
   "source": [
    "# df.to_csv('madrid.csv')\n",
    "df.to_csv('valencia.csv')"
   ]
  },
  {
   "cell_type": "code",
   "execution_count": null,
   "metadata": {},
   "outputs": [],
   "source": [
    "####################################################################################################################"
   ]
  },
  {
   "cell_type": "code",
   "execution_count": null,
   "metadata": {},
   "outputs": [],
   "source": [
    "df = pd.read_csv('madrid.csv')\n",
    "df.drop('Unnamed: 0', axis = 1, inplace = True)"
   ]
  },
  {
   "cell_type": "markdown",
   "metadata": {},
   "source": [
    "# DATA PROCESSING"
   ]
  },
  {
   "cell_type": "code",
   "execution_count": null,
   "metadata": {},
   "outputs": [],
   "source": [
    "df['price'] = df['price'].map(lambda x: tryInt(x))\n",
    "df['characteristics'] = df['characteristics'].apply(tryLiteralEval)"
   ]
  },
  {
   "cell_type": "code",
   "execution_count": null,
   "metadata": {},
   "outputs": [
    {
     "data": {
      "text/html": [
       "<div>\n",
       "<style scoped>\n",
       "    .dataframe tbody tr th:only-of-type {\n",
       "        vertical-align: middle;\n",
       "    }\n",
       "\n",
       "    .dataframe tbody tr th {\n",
       "        vertical-align: top;\n",
       "    }\n",
       "\n",
       "    .dataframe thead th {\n",
       "        text-align: right;\n",
       "    }\n",
       "</style>\n",
       "<table border=\"1\" class=\"dataframe\">\n",
       "  <thead>\n",
       "    <tr style=\"text-align: right;\">\n",
       "      <th></th>\n",
       "      <th>price</th>\n",
       "      <th>title</th>\n",
       "      <th>location</th>\n",
       "      <th>lat</th>\n",
       "      <th>lng</th>\n",
       "      <th>characteristics</th>\n",
       "      <th>agency</th>\n",
       "      <th>updated</th>\n",
       "    </tr>\n",
       "  </thead>\n",
       "  <tbody>\n",
       "    <tr>\n",
       "      <th>0</th>\n",
       "      <td>176000.0</td>\n",
       "      <td>Apartamento en venta en Abantos-Monte Carmelo-...</td>\n",
       "      <td>Abantos-Monte Carmelo-El Rosario (San Lorenzo ...</td>\n",
       "      <td>40.593445</td>\n",
       "      <td>-4.145386</td>\n",
       "      <td>[Superficie construida : 63 m², Superficie úti...</td>\n",
       "      <td>Inmuebles de SYMBOLIC GESTION INMOBILIARIA</td>\n",
       "      <td>1.674861e+09</td>\n",
       "    </tr>\n",
       "    <tr>\n",
       "      <th>1</th>\n",
       "      <td>116500.0</td>\n",
       "      <td>Apartamento en venta en Calle de Ercilla, 20, ...</td>\n",
       "      <td>Calle de Ercilla, 20, cerca de Calle del Labra...</td>\n",
       "      <td>40.402079</td>\n",
       "      <td>-3.702151</td>\n",
       "      <td>[Superficie construida : 25 m², Baños : 1, Pla...</td>\n",
       "      <td>Inmuebles de Inmobiliaria Grupo Habitazone</td>\n",
       "      <td>1.674947e+09</td>\n",
       "    </tr>\n",
       "    <tr>\n",
       "      <th>2</th>\n",
       "      <td>169000.0</td>\n",
       "      <td>Apartamento en venta en Ajalvir</td>\n",
       "      <td>Ajalvir</td>\n",
       "      <td>40.534457</td>\n",
       "      <td>-3.479415</td>\n",
       "      <td>[Superficie construida : 70 m², Superficie úti...</td>\n",
       "      <td>Inmuebles de INMOBILIARIA TECNICA NORTE</td>\n",
       "      <td>1.673392e+09</td>\n",
       "    </tr>\n",
       "    <tr>\n",
       "      <th>3</th>\n",
       "      <td>174000.0</td>\n",
       "      <td>Apartamento en venta en Alcorcón</td>\n",
       "      <td>Casco Antiguo (Alcorcón)</td>\n",
       "      <td>40.344358</td>\n",
       "      <td>-3.825283</td>\n",
       "      <td>[Superficie construida : 60 m², Superficie úti...</td>\n",
       "      <td>Inmuebles de Elite Asesoramiento Inmobiliario SL</td>\n",
       "      <td>1.672960e+09</td>\n",
       "    </tr>\n",
       "    <tr>\n",
       "      <th>4</th>\n",
       "      <td>130000.0</td>\n",
       "      <td>Apartamento en venta en Alcorcón</td>\n",
       "      <td>Casco Antiguo (Alcorcón)</td>\n",
       "      <td>40.347096</td>\n",
       "      <td>-3.827826</td>\n",
       "      <td>[Superficie construida : 60 m², Superficie úti...</td>\n",
       "      <td>Inmuebles de ELEPHANT REAL ESTATE</td>\n",
       "      <td>1.672615e+09</td>\n",
       "    </tr>\n",
       "    <tr>\n",
       "      <th>...</th>\n",
       "      <td>...</td>\n",
       "      <td>...</td>\n",
       "      <td>...</td>\n",
       "      <td>...</td>\n",
       "      <td>...</td>\n",
       "      <td>...</td>\n",
       "      <td>...</td>\n",
       "      <td>...</td>\n",
       "    </tr>\n",
       "    <tr>\n",
       "      <th>15841</th>\n",
       "      <td>135000.0</td>\n",
       "      <td>Piso en venta en Calle de la Circunvalación</td>\n",
       "      <td>Calle de la Circunvalación. Zona Suroeste (Tor...</td>\n",
       "      <td>40.454606</td>\n",
       "      <td>-3.455234</td>\n",
       "      <td>[Superficie construida : 67 m², Superficie úti...</td>\n",
       "      <td>Inmuebles de ANGEL &amp; RICARDO INMOBILIARIA</td>\n",
       "      <td>1.672960e+09</td>\n",
       "    </tr>\n",
       "    <tr>\n",
       "      <th>15842</th>\n",
       "      <td>210000.0</td>\n",
       "      <td>Piso en venta en Calle de Urano</td>\n",
       "      <td>Calle de Urano. Zona Suroeste (Torrejón de Ardoz)</td>\n",
       "      <td>40.441928</td>\n",
       "      <td>-3.473036</td>\n",
       "      <td>[Superficie construida : 79 m², Superficie úti...</td>\n",
       "      <td>Inmuebles de Look &amp; Find Retiro</td>\n",
       "      <td>1.672615e+09</td>\n",
       "    </tr>\n",
       "    <tr>\n",
       "      <th>15843</th>\n",
       "      <td>324600.0</td>\n",
       "      <td>Piso en venta en Fresnos</td>\n",
       "      <td>Zona Suroeste (Torrejón de Ardoz)</td>\n",
       "      <td>40.448403</td>\n",
       "      <td>-3.470899</td>\n",
       "      <td>[Superficie construida : 140 m², Habitaciones ...</td>\n",
       "      <td>Inmuebles de Cassas.es asesoria inmobiliaria</td>\n",
       "      <td>1.672874e+09</td>\n",
       "    </tr>\n",
       "    <tr>\n",
       "      <th>15844</th>\n",
       "      <td>249900.0</td>\n",
       "      <td>Piso en venta en Calle de Cibeles</td>\n",
       "      <td>Calle de Cibeles. Zona Suroeste (Torrejón de A...</td>\n",
       "      <td>40.444707</td>\n",
       "      <td>-3.473520</td>\n",
       "      <td>[Superficie construida : 106 m², Superficie út...</td>\n",
       "      <td>Inmuebles de AS Fresnos Inmobiliaria</td>\n",
       "      <td>1.672874e+09</td>\n",
       "    </tr>\n",
       "    <tr>\n",
       "      <th>15845</th>\n",
       "      <td>253800.0</td>\n",
       "      <td>Piso en venta en Fresnos</td>\n",
       "      <td>Zona Suroeste (Torrejón de Ardoz)</td>\n",
       "      <td>40.447273</td>\n",
       "      <td>-3.473262</td>\n",
       "      <td>[Superficie construida : 90 m², Habitaciones :...</td>\n",
       "      <td>Inmuebles de Cassas.es asesoria inmobiliaria</td>\n",
       "      <td>1.672701e+09</td>\n",
       "    </tr>\n",
       "  </tbody>\n",
       "</table>\n",
       "<p>15846 rows × 8 columns</p>\n",
       "</div>"
      ],
      "text/plain": [
       "          price                                              title  \\\n",
       "0      176000.0  Apartamento en venta en Abantos-Monte Carmelo-...   \n",
       "1      116500.0  Apartamento en venta en Calle de Ercilla, 20, ...   \n",
       "2      169000.0                    Apartamento en venta en Ajalvir   \n",
       "3      174000.0                   Apartamento en venta en Alcorcón   \n",
       "4      130000.0                   Apartamento en venta en Alcorcón   \n",
       "...         ...                                                ...   \n",
       "15841  135000.0        Piso en venta en Calle de la Circunvalación   \n",
       "15842  210000.0                    Piso en venta en Calle de Urano   \n",
       "15843  324600.0                           Piso en venta en Fresnos   \n",
       "15844  249900.0                  Piso en venta en Calle de Cibeles   \n",
       "15845  253800.0                           Piso en venta en Fresnos   \n",
       "\n",
       "                                                location        lat       lng  \\\n",
       "0      Abantos-Monte Carmelo-El Rosario (San Lorenzo ...  40.593445 -4.145386   \n",
       "1      Calle de Ercilla, 20, cerca de Calle del Labra...  40.402079 -3.702151   \n",
       "2                                                Ajalvir  40.534457 -3.479415   \n",
       "3                               Casco Antiguo (Alcorcón)  40.344358 -3.825283   \n",
       "4                               Casco Antiguo (Alcorcón)  40.347096 -3.827826   \n",
       "...                                                  ...        ...       ...   \n",
       "15841  Calle de la Circunvalación. Zona Suroeste (Tor...  40.454606 -3.455234   \n",
       "15842  Calle de Urano. Zona Suroeste (Torrejón de Ardoz)  40.441928 -3.473036   \n",
       "15843                  Zona Suroeste (Torrejón de Ardoz)  40.448403 -3.470899   \n",
       "15844  Calle de Cibeles. Zona Suroeste (Torrejón de A...  40.444707 -3.473520   \n",
       "15845                  Zona Suroeste (Torrejón de Ardoz)  40.447273 -3.473262   \n",
       "\n",
       "                                         characteristics  \\\n",
       "0      [Superficie construida : 63 m², Superficie úti...   \n",
       "1      [Superficie construida : 25 m², Baños : 1, Pla...   \n",
       "2      [Superficie construida : 70 m², Superficie úti...   \n",
       "3      [Superficie construida : 60 m², Superficie úti...   \n",
       "4      [Superficie construida : 60 m², Superficie úti...   \n",
       "...                                                  ...   \n",
       "15841  [Superficie construida : 67 m², Superficie úti...   \n",
       "15842  [Superficie construida : 79 m², Superficie úti...   \n",
       "15843  [Superficie construida : 140 m², Habitaciones ...   \n",
       "15844  [Superficie construida : 106 m², Superficie út...   \n",
       "15845  [Superficie construida : 90 m², Habitaciones :...   \n",
       "\n",
       "                                                 agency       updated  \n",
       "0            Inmuebles de SYMBOLIC GESTION INMOBILIARIA  1.674861e+09  \n",
       "1            Inmuebles de Inmobiliaria Grupo Habitazone  1.674947e+09  \n",
       "2               Inmuebles de INMOBILIARIA TECNICA NORTE  1.673392e+09  \n",
       "3      Inmuebles de Elite Asesoramiento Inmobiliario SL  1.672960e+09  \n",
       "4                     Inmuebles de ELEPHANT REAL ESTATE  1.672615e+09  \n",
       "...                                                 ...           ...  \n",
       "15841         Inmuebles de ANGEL & RICARDO INMOBILIARIA  1.672960e+09  \n",
       "15842                   Inmuebles de Look & Find Retiro  1.672615e+09  \n",
       "15843      Inmuebles de Cassas.es asesoria inmobiliaria  1.672874e+09  \n",
       "15844              Inmuebles de AS Fresnos Inmobiliaria  1.672874e+09  \n",
       "15845      Inmuebles de Cassas.es asesoria inmobiliaria  1.672701e+09  \n",
       "\n",
       "[15846 rows x 8 columns]"
      ]
     },
     "execution_count": 6,
     "metadata": {},
     "output_type": "execute_result"
    }
   ],
   "source": [
    "df"
   ]
  },
  {
   "cell_type": "markdown",
   "metadata": {},
   "source": [
    "#### CHARACTERISTICS PARSING"
   ]
  },
  {
   "cell_type": "code",
   "execution_count": null,
   "metadata": {},
   "outputs": [],
   "source": [
    "df_characteristics = freeChurro(df)"
   ]
  },
  {
   "cell_type": "code",
   "execution_count": null,
   "metadata": {},
   "outputs": [],
   "source": [
    "df_ = pd.concat([df, df_characteristics], axis = 1).drop('characteristics', axis = 1)"
   ]
  },
  {
   "cell_type": "code",
   "execution_count": null,
   "metadata": {},
   "outputs": [],
   "source": [
    "df_.to_csv('madrid_parsed.csv', sep = \",\", index = False)"
   ]
  },
  {
   "cell_type": "markdown",
   "metadata": {},
   "source": [
    "# NP.NAN"
   ]
  },
  {
   "cell_type": "markdown",
   "metadata": {},
   "source": [
    "# CONCLUSION: HAY MUCHOS NANS"
   ]
  },
  {
   "cell_type": "code",
   "execution_count": null,
   "metadata": {},
   "outputs": [
    {
     "name": "stdout",
     "output_type": "stream",
     "text": [
      "Porcentaje de valores perdidos en total: 0.4556354916067147\n",
      "Columnas conservadas: 14\n"
     ]
    }
   ],
   "source": [
    "df_1 = nanReport(0.3, df_)"
   ]
  },
  {
   "cell_type": "code",
   "execution_count": null,
   "metadata": {},
   "outputs": [],
   "source": []
  }
 ],
 "metadata": {
  "kernelspec": {
   "display_name": "venv",
   "language": "python",
   "name": "python3"
  },
  "language_info": {
   "codemirror_mode": {
    "name": "ipython",
    "version": 3
   },
   "file_extension": ".py",
   "mimetype": "text/x-python",
   "name": "python",
   "nbconvert_exporter": "python",
   "pygments_lexer": "ipython3",
   "version": "3.10.11"
  },
  "orig_nbformat": 4
 },
 "nbformat": 4,
 "nbformat_minor": 2
}
