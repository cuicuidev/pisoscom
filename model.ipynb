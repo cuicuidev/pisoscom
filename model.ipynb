{
 "cells": [
  {
   "cell_type": "markdown",
   "metadata": {},
   "source": [
    "# PREPROCESSING"
   ]
  },
  {
   "cell_type": "code",
   "execution_count": 53,
   "metadata": {},
   "outputs": [],
   "source": [
    "import pandas as pd\n",
    "import numpy as np\n",
    "import ast\n",
    "\n",
    "from sklearn.feature_extraction.text import TfidfVectorizer\n",
    "from sklearn.cluster import KMeans\n",
    "\n",
    "from sklearn.ensemble import RandomForestRegressor\n",
    "from sklearn.model_selection import train_test_split\n",
    "\n",
    "from sklearn.metrics import r2_score, mean_squared_error, mean_absolute_error\n",
    "\n",
    "from parsing import *"
   ]
  },
  {
   "cell_type": "code",
   "execution_count": 54,
   "metadata": {},
   "outputs": [],
   "source": [
    "df = pd.read_csv('madrid.csv')\n",
    "df.drop('Unnamed: 0', axis = 1, inplace = True)"
   ]
  },
  {
   "cell_type": "code",
   "execution_count": 55,
   "metadata": {},
   "outputs": [],
   "source": [
    "df['price'] = df['price'].map(lambda x: tryInt(x))\n",
    "df['characteristics'] = df['characteristics'].apply(tryLiteralEval)"
   ]
  },
  {
   "cell_type": "code",
   "execution_count": 56,
   "metadata": {},
   "outputs": [],
   "source": [
    "data = freeChurro(df)"
   ]
  },
  {
   "cell_type": "code",
   "execution_count": 57,
   "metadata": {},
   "outputs": [],
   "source": [
    "df_characteristics = pd.DataFrame(data)"
   ]
  },
  {
   "cell_type": "code",
   "execution_count": 58,
   "metadata": {},
   "outputs": [],
   "source": [
    "df = pd.concat([df, df_characteristics], axis = 1).drop('characteristics', axis = 1)"
   ]
  },
  {
   "cell_type": "code",
   "execution_count": 59,
   "metadata": {},
   "outputs": [
    {
     "data": {
      "text/html": [
       "<div>\n",
       "<style scoped>\n",
       "    .dataframe tbody tr th:only-of-type {\n",
       "        vertical-align: middle;\n",
       "    }\n",
       "\n",
       "    .dataframe tbody tr th {\n",
       "        vertical-align: top;\n",
       "    }\n",
       "\n",
       "    .dataframe thead th {\n",
       "        text-align: right;\n",
       "    }\n",
       "</style>\n",
       "<table border=\"1\" class=\"dataframe\">\n",
       "  <thead>\n",
       "    <tr style=\"text-align: right;\">\n",
       "      <th></th>\n",
       "      <th>price</th>\n",
       "      <th>lat</th>\n",
       "      <th>lng</th>\n",
       "      <th>updated</th>\n",
       "      <th>type</th>\n",
       "      <th>calle</th>\n",
       "      <th>bulevar</th>\n",
       "      <th>plaza</th>\n",
       "      <th>autovia</th>\n",
       "      <th>carretera</th>\n",
       "      <th>...</th>\n",
       "      <th>publisher</th>\n",
       "      <th>age</th>\n",
       "      <th>garage</th>\n",
       "      <th>lift</th>\n",
       "      <th>surface</th>\n",
       "      <th>net_surface</th>\n",
       "      <th>garden</th>\n",
       "      <th>rooms</th>\n",
       "      <th>condition</th>\n",
       "      <th>bathrooms</th>\n",
       "    </tr>\n",
       "  </thead>\n",
       "  <tbody>\n",
       "    <tr>\n",
       "      <th>0</th>\n",
       "      <td>176000.0</td>\n",
       "      <td>40.593445</td>\n",
       "      <td>-4.145386</td>\n",
       "      <td>1.674861e+09</td>\n",
       "      <td>Apartamento</td>\n",
       "      <td>0</td>\n",
       "      <td>0</td>\n",
       "      <td>0</td>\n",
       "      <td>0</td>\n",
       "      <td>0</td>\n",
       "      <td>...</td>\n",
       "      <td>inmobiliaria</td>\n",
       "      <td>10.0</td>\n",
       "      <td>yes</td>\n",
       "      <td>yes</td>\n",
       "      <td>63.0</td>\n",
       "      <td>46.0</td>\n",
       "      <td>yes</td>\n",
       "      <td>1.0</td>\n",
       "      <td>A estrenar</td>\n",
       "      <td>1.0</td>\n",
       "    </tr>\n",
       "    <tr>\n",
       "      <th>1</th>\n",
       "      <td>116500.0</td>\n",
       "      <td>40.402079</td>\n",
       "      <td>-3.702151</td>\n",
       "      <td>1.674947e+09</td>\n",
       "      <td>Apartamento</td>\n",
       "      <td>2</td>\n",
       "      <td>2</td>\n",
       "      <td>2</td>\n",
       "      <td>2</td>\n",
       "      <td>2</td>\n",
       "      <td>...</td>\n",
       "      <td>inmobiliaria</td>\n",
       "      <td>50.0</td>\n",
       "      <td>no</td>\n",
       "      <td>yes</td>\n",
       "      <td>25.0</td>\n",
       "      <td>NaN</td>\n",
       "      <td>no</td>\n",
       "      <td>NaN</td>\n",
       "      <td>NaN</td>\n",
       "      <td>1.0</td>\n",
       "    </tr>\n",
       "    <tr>\n",
       "      <th>2</th>\n",
       "      <td>169000.0</td>\n",
       "      <td>40.534457</td>\n",
       "      <td>-3.479415</td>\n",
       "      <td>1.673392e+09</td>\n",
       "      <td>Apartamento</td>\n",
       "      <td>0</td>\n",
       "      <td>0</td>\n",
       "      <td>0</td>\n",
       "      <td>0</td>\n",
       "      <td>0</td>\n",
       "      <td>...</td>\n",
       "      <td>inmobiliaria</td>\n",
       "      <td>NaN</td>\n",
       "      <td>no</td>\n",
       "      <td>yes</td>\n",
       "      <td>70.0</td>\n",
       "      <td>67.0</td>\n",
       "      <td>no</td>\n",
       "      <td>1.0</td>\n",
       "      <td>En buen estado</td>\n",
       "      <td>1.0</td>\n",
       "    </tr>\n",
       "    <tr>\n",
       "      <th>3</th>\n",
       "      <td>174000.0</td>\n",
       "      <td>40.344358</td>\n",
       "      <td>-3.825283</td>\n",
       "      <td>1.672960e+09</td>\n",
       "      <td>Apartamento</td>\n",
       "      <td>0</td>\n",
       "      <td>0</td>\n",
       "      <td>0</td>\n",
       "      <td>0</td>\n",
       "      <td>0</td>\n",
       "      <td>...</td>\n",
       "      <td>inmobiliaria</td>\n",
       "      <td>NaN</td>\n",
       "      <td>no</td>\n",
       "      <td>yes</td>\n",
       "      <td>60.0</td>\n",
       "      <td>50.0</td>\n",
       "      <td>no</td>\n",
       "      <td>1.0</td>\n",
       "      <td>NaN</td>\n",
       "      <td>1.0</td>\n",
       "    </tr>\n",
       "    <tr>\n",
       "      <th>4</th>\n",
       "      <td>130000.0</td>\n",
       "      <td>40.347096</td>\n",
       "      <td>-3.827826</td>\n",
       "      <td>1.672615e+09</td>\n",
       "      <td>Apartamento</td>\n",
       "      <td>0</td>\n",
       "      <td>0</td>\n",
       "      <td>0</td>\n",
       "      <td>0</td>\n",
       "      <td>0</td>\n",
       "      <td>...</td>\n",
       "      <td>inmobiliaria</td>\n",
       "      <td>NaN</td>\n",
       "      <td>no</td>\n",
       "      <td>yes</td>\n",
       "      <td>60.0</td>\n",
       "      <td>54.0</td>\n",
       "      <td>no</td>\n",
       "      <td>2.0</td>\n",
       "      <td>NaN</td>\n",
       "      <td>1.0</td>\n",
       "    </tr>\n",
       "    <tr>\n",
       "      <th>...</th>\n",
       "      <td>...</td>\n",
       "      <td>...</td>\n",
       "      <td>...</td>\n",
       "      <td>...</td>\n",
       "      <td>...</td>\n",
       "      <td>...</td>\n",
       "      <td>...</td>\n",
       "      <td>...</td>\n",
       "      <td>...</td>\n",
       "      <td>...</td>\n",
       "      <td>...</td>\n",
       "      <td>...</td>\n",
       "      <td>...</td>\n",
       "      <td>...</td>\n",
       "      <td>...</td>\n",
       "      <td>...</td>\n",
       "      <td>...</td>\n",
       "      <td>...</td>\n",
       "      <td>...</td>\n",
       "      <td>...</td>\n",
       "      <td>...</td>\n",
       "    </tr>\n",
       "    <tr>\n",
       "      <th>15841</th>\n",
       "      <td>135000.0</td>\n",
       "      <td>40.454606</td>\n",
       "      <td>-3.455234</td>\n",
       "      <td>1.672960e+09</td>\n",
       "      <td>Piso</td>\n",
       "      <td>1</td>\n",
       "      <td>1</td>\n",
       "      <td>1</td>\n",
       "      <td>1</td>\n",
       "      <td>1</td>\n",
       "      <td>...</td>\n",
       "      <td>inmobiliaria</td>\n",
       "      <td>NaN</td>\n",
       "      <td>no</td>\n",
       "      <td>yes</td>\n",
       "      <td>67.0</td>\n",
       "      <td>62.0</td>\n",
       "      <td>no</td>\n",
       "      <td>3.0</td>\n",
       "      <td>A reformar</td>\n",
       "      <td>1.0</td>\n",
       "    </tr>\n",
       "    <tr>\n",
       "      <th>15842</th>\n",
       "      <td>210000.0</td>\n",
       "      <td>40.441928</td>\n",
       "      <td>-3.473036</td>\n",
       "      <td>1.672615e+09</td>\n",
       "      <td>Piso</td>\n",
       "      <td>1</td>\n",
       "      <td>1</td>\n",
       "      <td>1</td>\n",
       "      <td>1</td>\n",
       "      <td>1</td>\n",
       "      <td>...</td>\n",
       "      <td>inmobiliaria</td>\n",
       "      <td>NaN</td>\n",
       "      <td>yes</td>\n",
       "      <td>yes</td>\n",
       "      <td>79.0</td>\n",
       "      <td>63.0</td>\n",
       "      <td>no</td>\n",
       "      <td>1.0</td>\n",
       "      <td>En buen estado</td>\n",
       "      <td>2.0</td>\n",
       "    </tr>\n",
       "    <tr>\n",
       "      <th>15843</th>\n",
       "      <td>324600.0</td>\n",
       "      <td>40.448403</td>\n",
       "      <td>-3.470899</td>\n",
       "      <td>1.672874e+09</td>\n",
       "      <td>Piso</td>\n",
       "      <td>0</td>\n",
       "      <td>0</td>\n",
       "      <td>0</td>\n",
       "      <td>0</td>\n",
       "      <td>0</td>\n",
       "      <td>...</td>\n",
       "      <td>inmobiliaria</td>\n",
       "      <td>NaN</td>\n",
       "      <td>yes</td>\n",
       "      <td>yes</td>\n",
       "      <td>140.0</td>\n",
       "      <td>NaN</td>\n",
       "      <td>no</td>\n",
       "      <td>4.0</td>\n",
       "      <td>NaN</td>\n",
       "      <td>3.0</td>\n",
       "    </tr>\n",
       "    <tr>\n",
       "      <th>15844</th>\n",
       "      <td>249900.0</td>\n",
       "      <td>40.444707</td>\n",
       "      <td>-3.473520</td>\n",
       "      <td>1.672874e+09</td>\n",
       "      <td>Piso</td>\n",
       "      <td>1</td>\n",
       "      <td>1</td>\n",
       "      <td>1</td>\n",
       "      <td>1</td>\n",
       "      <td>1</td>\n",
       "      <td>...</td>\n",
       "      <td>inmobiliaria</td>\n",
       "      <td>20.0</td>\n",
       "      <td>yes</td>\n",
       "      <td>no</td>\n",
       "      <td>106.0</td>\n",
       "      <td>96.0</td>\n",
       "      <td>no</td>\n",
       "      <td>3.0</td>\n",
       "      <td>En buen estado</td>\n",
       "      <td>2.0</td>\n",
       "    </tr>\n",
       "    <tr>\n",
       "      <th>15845</th>\n",
       "      <td>253800.0</td>\n",
       "      <td>40.447273</td>\n",
       "      <td>-3.473262</td>\n",
       "      <td>1.672701e+09</td>\n",
       "      <td>Piso</td>\n",
       "      <td>0</td>\n",
       "      <td>0</td>\n",
       "      <td>0</td>\n",
       "      <td>0</td>\n",
       "      <td>0</td>\n",
       "      <td>...</td>\n",
       "      <td>inmobiliaria</td>\n",
       "      <td>NaN</td>\n",
       "      <td>yes</td>\n",
       "      <td>yes</td>\n",
       "      <td>90.0</td>\n",
       "      <td>NaN</td>\n",
       "      <td>no</td>\n",
       "      <td>3.0</td>\n",
       "      <td>NaN</td>\n",
       "      <td>2.0</td>\n",
       "    </tr>\n",
       "  </tbody>\n",
       "</table>\n",
       "<p>15846 rows × 23 columns</p>\n",
       "</div>"
      ],
      "text/plain": [
       "          price        lat       lng       updated         type  calle  \\\n",
       "0      176000.0  40.593445 -4.145386  1.674861e+09  Apartamento      0   \n",
       "1      116500.0  40.402079 -3.702151  1.674947e+09  Apartamento      2   \n",
       "2      169000.0  40.534457 -3.479415  1.673392e+09  Apartamento      0   \n",
       "3      174000.0  40.344358 -3.825283  1.672960e+09  Apartamento      0   \n",
       "4      130000.0  40.347096 -3.827826  1.672615e+09  Apartamento      0   \n",
       "...         ...        ...       ...           ...          ...    ...   \n",
       "15841  135000.0  40.454606 -3.455234  1.672960e+09         Piso      1   \n",
       "15842  210000.0  40.441928 -3.473036  1.672615e+09         Piso      1   \n",
       "15843  324600.0  40.448403 -3.470899  1.672874e+09         Piso      0   \n",
       "15844  249900.0  40.444707 -3.473520  1.672874e+09         Piso      1   \n",
       "15845  253800.0  40.447273 -3.473262  1.672701e+09         Piso      0   \n",
       "\n",
       "       bulevar  plaza  autovia  carretera  ...     publisher   age  garage  \\\n",
       "0            0      0        0          0  ...  inmobiliaria  10.0     yes   \n",
       "1            2      2        2          2  ...  inmobiliaria  50.0      no   \n",
       "2            0      0        0          0  ...  inmobiliaria   NaN      no   \n",
       "3            0      0        0          0  ...  inmobiliaria   NaN      no   \n",
       "4            0      0        0          0  ...  inmobiliaria   NaN      no   \n",
       "...        ...    ...      ...        ...  ...           ...   ...     ...   \n",
       "15841        1      1        1          1  ...  inmobiliaria   NaN      no   \n",
       "15842        1      1        1          1  ...  inmobiliaria   NaN     yes   \n",
       "15843        0      0        0          0  ...  inmobiliaria   NaN     yes   \n",
       "15844        1      1        1          1  ...  inmobiliaria  20.0     yes   \n",
       "15845        0      0        0          0  ...  inmobiliaria   NaN     yes   \n",
       "\n",
       "      lift  surface net_surface garden  rooms        condition bathrooms  \n",
       "0      yes     63.0        46.0    yes    1.0       A estrenar       1.0  \n",
       "1      yes     25.0         NaN     no    NaN              NaN       1.0  \n",
       "2      yes     70.0        67.0     no    1.0   En buen estado       1.0  \n",
       "3      yes     60.0        50.0     no    1.0              NaN       1.0  \n",
       "4      yes     60.0        54.0     no    2.0              NaN       1.0  \n",
       "...    ...      ...         ...    ...    ...              ...       ...  \n",
       "15841  yes     67.0        62.0     no    3.0       A reformar       1.0  \n",
       "15842  yes     79.0        63.0     no    1.0   En buen estado       2.0  \n",
       "15843  yes    140.0         NaN     no    4.0              NaN       3.0  \n",
       "15844   no    106.0        96.0     no    3.0   En buen estado       2.0  \n",
       "15845  yes     90.0         NaN     no    3.0              NaN       2.0  \n",
       "\n",
       "[15846 rows x 23 columns]"
      ]
     },
     "execution_count": 59,
     "metadata": {},
     "output_type": "execute_result"
    }
   ],
   "source": [
    "# Está guardado el DataFrame que tiene ya todas las características como columnas:\n",
    "df_ = pd.read_csv('madrid_preprocessed.csv')\n",
    "df_"
   ]
  },
  {
   "cell_type": "code",
   "execution_count": 60,
   "metadata": {},
   "outputs": [
    {
     "name": "stderr",
     "output_type": "stream",
     "text": [
      "C:\\Users\\cuicuidev\\AppData\\Local\\Temp\\ipykernel_8892\\2988301402.py:6: SettingWithCopyWarning: \n",
      "A value is trying to be set on a copy of a slice from a DataFrame.\n",
      "Try using .loc[row_indexer,col_indexer] = value instead\n",
      "\n",
      "See the caveats in the documentation: https://pandas.pydata.org/pandas-docs/stable/user_guide/indexing.html#returning-a-view-versus-a-copy\n",
      "  df_text['concatenated'] = df_text.apply(lambda row: ' '.join([str(val) if pd.notna(val) else '' for val in row]), axis=1)\n",
      "C:\\Users\\cuicuidev\\AppData\\Local\\Temp\\ipykernel_8892\\2988301402.py:7: SettingWithCopyWarning: \n",
      "A value is trying to be set on a copy of a slice from a DataFrame.\n",
      "Try using .loc[row_indexer,col_indexer] = value instead\n",
      "\n",
      "See the caveats in the documentation: https://pandas.pydata.org/pandas-docs/stable/user_guide/indexing.html#returning-a-view-versus-a-copy\n",
      "  df_text['concatenated'] = df_text['concatenated'].apply(lambda x: x.strip())\n",
      "C:\\Users\\cuicuidev\\AppData\\Local\\Temp\\ipykernel_8892\\2988301402.py:8: SettingWithCopyWarning: \n",
      "A value is trying to be set on a copy of a slice from a DataFrame.\n",
      "Try using .loc[row_indexer,col_indexer] = value instead\n",
      "\n",
      "See the caveats in the documentation: https://pandas.pydata.org/pandas-docs/stable/user_guide/indexing.html#returning-a-view-versus-a-copy\n",
      "  df_text['concatenated'] = df_text['concatenated'].apply(lambda x: ' '.join([y.strip() for y in x.split()]))\n"
     ]
    }
   ],
   "source": [
    "df_text = df[['Cocina', 'Cocina equipada', 'Superficie solar', 'Sistema de seguridad', 'Portero automático',\n",
    "                      'Aire acondicionado', 'Puerta blindada', 'Amueblado', 'Trastero', 'Calefacción', 'Gas',\n",
    "                      'Tipo de casa', 'Piscina', 'Vidrios dobles', 'Planta', 'Tipo suelo', 'Balcón', 'Orientación',\n",
    "                      'Armarios empotrados', 'Comedor']]\n",
    "\n",
    "df_text['concatenated'] = df_text.apply(lambda row: ' '.join([str(val) if pd.notna(val) else '' for val in row]), axis=1)\n",
    "df_text['concatenated'] = df_text['concatenated'].apply(lambda x: x.strip())\n",
    "df_text['concatenated'] = df_text['concatenated'].apply(lambda x: ' '.join([y.strip() for y in x.split()]))\n",
    "\n",
    "texts = df_text['concatenated'].to_list()\n",
    "\n",
    "vectorizer = TfidfVectorizer()\n",
    "X = vectorizer.fit_transform(texts)"
   ]
  },
  {
   "cell_type": "code",
   "execution_count": 61,
   "metadata": {},
   "outputs": [
    {
     "data": {
      "text/html": [
       "<div>\n",
       "<style scoped>\n",
       "    .dataframe tbody tr th:only-of-type {\n",
       "        vertical-align: middle;\n",
       "    }\n",
       "\n",
       "    .dataframe tbody tr th {\n",
       "        vertical-align: top;\n",
       "    }\n",
       "\n",
       "    .dataframe thead th {\n",
       "        text-align: right;\n",
       "    }\n",
       "</style>\n",
       "<table border=\"1\" class=\"dataframe\">\n",
       "  <thead>\n",
       "    <tr style=\"text-align: right;\">\n",
       "      <th></th>\n",
       "      <th>concatenated</th>\n",
       "    </tr>\n",
       "  </thead>\n",
       "  <tbody>\n",
       "    <tr>\n",
       "      <th>0</th>\n",
       "      <td>Amueblada a estrenar Videoportero Comunitaria ...</td>\n",
       "    </tr>\n",
       "    <tr>\n",
       "      <th>1</th>\n",
       "      <td>Cocina 2ª</td>\n",
       "    </tr>\n",
       "    <tr>\n",
       "      <th>2</th>\n",
       "      <td></td>\n",
       "    </tr>\n",
       "    <tr>\n",
       "      <th>3</th>\n",
       "      <td>Puerta blindada Amueblado 3ª Norte 1</td>\n",
       "    </tr>\n",
       "    <tr>\n",
       "      <th>4</th>\n",
       "      <td>Puerta blindada Eléctrica 1ª Oeste</td>\n",
       "    </tr>\n",
       "    <tr>\n",
       "      <th>...</th>\n",
       "      <td>...</td>\n",
       "    </tr>\n",
       "    <tr>\n",
       "      <th>15841</th>\n",
       "      <td>Sur 1</td>\n",
       "    </tr>\n",
       "    <tr>\n",
       "      <th>15842</th>\n",
       "      <td>Aire acondicionado Trastero Piscina Norte 1</td>\n",
       "    </tr>\n",
       "    <tr>\n",
       "      <th>15843</th>\n",
       "      <td>Aire acondicionado Trastero Gas natural Comuni...</td>\n",
       "    </tr>\n",
       "    <tr>\n",
       "      <th>15844</th>\n",
       "      <td>Portero automático Conducto Puerta blindada Tr...</td>\n",
       "    </tr>\n",
       "    <tr>\n",
       "      <th>15845</th>\n",
       "      <td>Aire acondicionado Trastero Gas natural Comuni...</td>\n",
       "    </tr>\n",
       "  </tbody>\n",
       "</table>\n",
       "<p>15846 rows × 1 columns</p>\n",
       "</div>"
      ],
      "text/plain": [
       "                                            concatenated\n",
       "0      Amueblada a estrenar Videoportero Comunitaria ...\n",
       "1                                              Cocina 2ª\n",
       "2                                                       \n",
       "3                   Puerta blindada Amueblado 3ª Norte 1\n",
       "4                     Puerta blindada Eléctrica 1ª Oeste\n",
       "...                                                  ...\n",
       "15841                                              Sur 1\n",
       "15842        Aire acondicionado Trastero Piscina Norte 1\n",
       "15843  Aire acondicionado Trastero Gas natural Comuni...\n",
       "15844  Portero automático Conducto Puerta blindada Tr...\n",
       "15845  Aire acondicionado Trastero Gas natural Comuni...\n",
       "\n",
       "[15846 rows x 1 columns]"
      ]
     },
     "execution_count": 61,
     "metadata": {},
     "output_type": "execute_result"
    }
   ],
   "source": [
    "df_text[['concatenated']]"
   ]
  },
  {
   "cell_type": "code",
   "execution_count": 62,
   "metadata": {},
   "outputs": [
    {
     "name": "stderr",
     "output_type": "stream",
     "text": [
      "c:\\Users\\cuicuidev\\Desktop\\pisoscom\\venv\\lib\\site-packages\\sklearn\\cluster\\_kmeans.py:1416: FutureWarning: The default value of `n_init` will change from 10 to 'auto' in 1.4. Set the value of `n_init` explicitly to suppress the warning\n",
      "  super()._check_params_vs_input(X, default_n_init=10)\n"
     ]
    }
   ],
   "source": [
    "def get_best_k(X, n_k, model = KMeans()):\n",
    "    inertias = list()\n",
    "    \n",
    "    for k in n_k:\n",
    "        model.n_clusters = k\n",
    "        model.fit(X)\n",
    "        inertias.append(model.inertia_)\n",
    "        \n",
    "    k_i = np.array([[k, i] for k, i in enumerate(inertias, start = 1)])\n",
    "\n",
    "    k_i_max = np.max(k_i, axis=0)\n",
    "    k_i_norm = k_i / k_i_max\n",
    "    \n",
    "    distances = [np.linalg.norm([point, [0,0]]) for point in k_i_norm]\n",
    "    \n",
    "    return pd.concat([pd.DataFrame([x for x in range(1,n_k[-1] + 1)], columns = ['K']), pd.DataFrame(distances, columns = ['Distance'])], axis = 1).sort_values('Distance')\n",
    "\n",
    "best_k = get_best_k(X,range(1,61)).reset_index(drop = True)['K'].iloc[0]"
   ]
  },
  {
   "cell_type": "code",
   "execution_count": 63,
   "metadata": {},
   "outputs": [
    {
     "name": "stderr",
     "output_type": "stream",
     "text": [
      "c:\\Users\\cuicuidev\\Desktop\\pisoscom\\venv\\lib\\site-packages\\sklearn\\cluster\\_kmeans.py:1416: FutureWarning: The default value of `n_init` will change from 10 to 'auto' in 1.4. Set the value of `n_init` explicitly to suppress the warning\n",
      "  super()._check_params_vs_input(X, default_n_init=10)\n"
     ]
    },
    {
     "data": {
      "text/html": [
       "<style>#sk-container-id-3 {color: black;}#sk-container-id-3 pre{padding: 0;}#sk-container-id-3 div.sk-toggleable {background-color: white;}#sk-container-id-3 label.sk-toggleable__label {cursor: pointer;display: block;width: 100%;margin-bottom: 0;padding: 0.3em;box-sizing: border-box;text-align: center;}#sk-container-id-3 label.sk-toggleable__label-arrow:before {content: \"▸\";float: left;margin-right: 0.25em;color: #696969;}#sk-container-id-3 label.sk-toggleable__label-arrow:hover:before {color: black;}#sk-container-id-3 div.sk-estimator:hover label.sk-toggleable__label-arrow:before {color: black;}#sk-container-id-3 div.sk-toggleable__content {max-height: 0;max-width: 0;overflow: hidden;text-align: left;background-color: #f0f8ff;}#sk-container-id-3 div.sk-toggleable__content pre {margin: 0.2em;color: black;border-radius: 0.25em;background-color: #f0f8ff;}#sk-container-id-3 input.sk-toggleable__control:checked~div.sk-toggleable__content {max-height: 200px;max-width: 100%;overflow: auto;}#sk-container-id-3 input.sk-toggleable__control:checked~label.sk-toggleable__label-arrow:before {content: \"▾\";}#sk-container-id-3 div.sk-estimator input.sk-toggleable__control:checked~label.sk-toggleable__label {background-color: #d4ebff;}#sk-container-id-3 div.sk-label input.sk-toggleable__control:checked~label.sk-toggleable__label {background-color: #d4ebff;}#sk-container-id-3 input.sk-hidden--visually {border: 0;clip: rect(1px 1px 1px 1px);clip: rect(1px, 1px, 1px, 1px);height: 1px;margin: -1px;overflow: hidden;padding: 0;position: absolute;width: 1px;}#sk-container-id-3 div.sk-estimator {font-family: monospace;background-color: #f0f8ff;border: 1px dotted black;border-radius: 0.25em;box-sizing: border-box;margin-bottom: 0.5em;}#sk-container-id-3 div.sk-estimator:hover {background-color: #d4ebff;}#sk-container-id-3 div.sk-parallel-item::after {content: \"\";width: 100%;border-bottom: 1px solid gray;flex-grow: 1;}#sk-container-id-3 div.sk-label:hover label.sk-toggleable__label {background-color: #d4ebff;}#sk-container-id-3 div.sk-serial::before {content: \"\";position: absolute;border-left: 1px solid gray;box-sizing: border-box;top: 0;bottom: 0;left: 50%;z-index: 0;}#sk-container-id-3 div.sk-serial {display: flex;flex-direction: column;align-items: center;background-color: white;padding-right: 0.2em;padding-left: 0.2em;position: relative;}#sk-container-id-3 div.sk-item {position: relative;z-index: 1;}#sk-container-id-3 div.sk-parallel {display: flex;align-items: stretch;justify-content: center;background-color: white;position: relative;}#sk-container-id-3 div.sk-item::before, #sk-container-id-3 div.sk-parallel-item::before {content: \"\";position: absolute;border-left: 1px solid gray;box-sizing: border-box;top: 0;bottom: 0;left: 50%;z-index: -1;}#sk-container-id-3 div.sk-parallel-item {display: flex;flex-direction: column;z-index: 1;position: relative;background-color: white;}#sk-container-id-3 div.sk-parallel-item:first-child::after {align-self: flex-end;width: 50%;}#sk-container-id-3 div.sk-parallel-item:last-child::after {align-self: flex-start;width: 50%;}#sk-container-id-3 div.sk-parallel-item:only-child::after {width: 0;}#sk-container-id-3 div.sk-dashed-wrapped {border: 1px dashed gray;margin: 0 0.4em 0.5em 0.4em;box-sizing: border-box;padding-bottom: 0.4em;background-color: white;}#sk-container-id-3 div.sk-label label {font-family: monospace;font-weight: bold;display: inline-block;line-height: 1.2em;}#sk-container-id-3 div.sk-label-container {text-align: center;}#sk-container-id-3 div.sk-container {/* jupyter's `normalize.less` sets `[hidden] { display: none; }` but bootstrap.min.css set `[hidden] { display: none !important; }` so we also need the `!important` here to be able to override the default hidden behavior on the sphinx rendered scikit-learn.org. See: https://github.com/scikit-learn/scikit-learn/issues/21755 */display: inline-block !important;position: relative;}#sk-container-id-3 div.sk-text-repr-fallback {display: none;}</style><div id=\"sk-container-id-3\" class=\"sk-top-container\"><div class=\"sk-text-repr-fallback\"><pre>KMeans(n_clusters=19)</pre><b>In a Jupyter environment, please rerun this cell to show the HTML representation or trust the notebook. <br />On GitHub, the HTML representation is unable to render, please try loading this page with nbviewer.org.</b></div><div class=\"sk-container\" hidden><div class=\"sk-item\"><div class=\"sk-estimator sk-toggleable\"><input class=\"sk-toggleable__control sk-hidden--visually\" id=\"sk-estimator-id-3\" type=\"checkbox\" checked><label for=\"sk-estimator-id-3\" class=\"sk-toggleable__label sk-toggleable__label-arrow\">KMeans</label><div class=\"sk-toggleable__content\"><pre>KMeans(n_clusters=19)</pre></div></div></div></div></div>"
      ],
      "text/plain": [
       "KMeans(n_clusters=19)"
      ]
     },
     "execution_count": 63,
     "metadata": {},
     "output_type": "execute_result"
    }
   ],
   "source": [
    "kmeans = KMeans(n_clusters = best_k)\n",
    "kmeans.fit(X)"
   ]
  },
  {
   "cell_type": "code",
   "execution_count": 64,
   "metadata": {},
   "outputs": [],
   "source": [
    "df_['cluster'] = kmeans.labels_\n"
   ]
  },
  {
   "cell_type": "code",
   "execution_count": 138,
   "metadata": {},
   "outputs": [
    {
     "name": "stdout",
     "output_type": "stream",
     "text": [
      "<class 'pandas.core.frame.DataFrame'>\n",
      "RangeIndex: 15846 entries, 0 to 15845\n",
      "Data columns (total 24 columns):\n",
      " #   Column       Non-Null Count  Dtype  \n",
      "---  ------       --------------  -----  \n",
      " 0   price        15625 non-null  float64\n",
      " 1   lat          15706 non-null  float64\n",
      " 2   lng          15706 non-null  float64\n",
      " 3   updated      15751 non-null  float64\n",
      " 4   type         15751 non-null  object \n",
      " 5   calle        15846 non-null  int64  \n",
      " 6   bulevar      15846 non-null  int64  \n",
      " 7   plaza        15846 non-null  int64  \n",
      " 8   autovia      15846 non-null  int64  \n",
      " 9   carretera    15846 non-null  int64  \n",
      " 10  parque       15846 non-null  int64  \n",
      " 11  paseo        15846 non-null  int64  \n",
      " 12  avenida      15846 non-null  int64  \n",
      " 13  publisher    15846 non-null  object \n",
      " 14  age          3585 non-null   float64\n",
      " 15  garage       15846 non-null  object \n",
      " 16  lift         15846 non-null  object \n",
      " 17  surface      15681 non-null  float64\n",
      " 18  net_surface  7332 non-null   float64\n",
      " 19  garden       15846 non-null  object \n",
      " 20  rooms        15154 non-null  float64\n",
      " 21  condition    11836 non-null  object \n",
      " 22  bathrooms    15161 non-null  float64\n",
      " 23  cluster      15846 non-null  int32  \n",
      "dtypes: float64(9), int32(1), int64(8), object(6)\n",
      "memory usage: 2.8+ MB\n"
     ]
    }
   ],
   "source": [
    "df_.info()"
   ]
  },
  {
   "cell_type": "code",
   "execution_count": 183,
   "metadata": {},
   "outputs": [],
   "source": [
    "df = df_.copy()"
   ]
  },
  {
   "cell_type": "markdown",
   "metadata": {},
   "source": [
    "# type encoding"
   ]
  },
  {
   "cell_type": "code",
   "execution_count": 184,
   "metadata": {},
   "outputs": [],
   "source": [
    "types = df['type'].unique()\n",
    "types_dict = {type_ : x for type_, x in zip(types, range(len(types)))}"
   ]
  },
  {
   "cell_type": "code",
   "execution_count": 185,
   "metadata": {},
   "outputs": [],
   "source": [
    "df['type'] = df['type'].replace(types_dict)"
   ]
  },
  {
   "cell_type": "markdown",
   "metadata": {},
   "source": [
    "# garage, lift, garden and publisher encoding"
   ]
  },
  {
   "cell_type": "code",
   "execution_count": 186,
   "metadata": {},
   "outputs": [],
   "source": [
    "df['garage'] = df['garage'].apply(lambda x: 1 if x == 'yes' else 0)\n",
    "df['lift'] = df['lift'].apply(lambda x: 1 if x == 'yes' else 0)\n",
    "df['garden'] = df['garden'].apply(lambda x: 1 if x == 'yes' else 0)\n",
    "df['publisher'] = df['publisher'].apply(lambda x: 1 if x == 'inmobiliaria' else 0)"
   ]
  },
  {
   "cell_type": "markdown",
   "metadata": {},
   "source": [
    "# condition encoding"
   ]
  },
  {
   "cell_type": "code",
   "execution_count": 187,
   "metadata": {},
   "outputs": [],
   "source": [
    "conditions = df['condition'].unique()\n",
    "conditions_dict = {cond_ : x for cond_, x in zip(conditions, range(len(conditions)))}"
   ]
  },
  {
   "cell_type": "code",
   "execution_count": 188,
   "metadata": {},
   "outputs": [],
   "source": [
    "df['condition'] = df['condition'].replace(conditions_dict)"
   ]
  },
  {
   "cell_type": "markdown",
   "metadata": {},
   "source": [
    "# TRAINING"
   ]
  },
  {
   "cell_type": "code",
   "execution_count": 230,
   "metadata": {},
   "outputs": [
    {
     "name": "stderr",
     "output_type": "stream",
     "text": [
      "c:\\Users\\cuicuidev\\Desktop\\pisoscom\\venv\\lib\\site-packages\\sklearn\\base.py:1152: DataConversionWarning: A column-vector y was passed when a 1d array was expected. Please change the shape of y to (n_samples,), for example using ravel().\n",
      "  return fit_method(estimator, *args, **kwargs)\n"
     ]
    },
    {
     "name": "stdout",
     "output_type": "stream",
     "text": [
      "0.7998382621501169\n",
      "126396.04521136002\n",
      "116066005525.7284\n"
     ]
    }
   ],
   "source": [
    "from sklearn.impute import KNNImputer\n",
    "\n",
    "df = df[~df['price'].isna()]\n",
    "\n",
    "X = df.drop(['price', 'net_surface'], axis = 1)\n",
    "y = df[['price']]\n",
    "\n",
    "imputer = KNNImputer(n_neighbors=3)\n",
    "\n",
    "X_imputed = imputer.fit_transform(X)\n",
    "\n",
    "X_train, X_test, y_train, y_test = train_test_split(X_imputed, y, test_size = 0.2, random_state = 42)\n",
    "\n",
    "model = RandomForestRegressor(n_jobs = -1, random_state = 42, n_estimators = 100)\n",
    "\n",
    "model.fit(X_train, y_train)\n",
    "\n",
    "yhat = model.predict(X_test)\n",
    "\n",
    "print(r2_score(y_test, yhat))\n",
    "print(mean_absolute_error(y_test, yhat))\n",
    "print(mean_squared_error(y_test, yhat))"
   ]
  },
  {
   "cell_type": "code",
   "execution_count": 231,
   "metadata": {},
   "outputs": [],
   "source": [
    "feature_importances = {y : x for x, y in zip(model.feature_importances_, X.columns)}"
   ]
  },
  {
   "cell_type": "code",
   "execution_count": 232,
   "metadata": {},
   "outputs": [],
   "source": [
    "def extractImportances(data, percentage):\n",
    "    # Sort the dictionary items by values in descending order\n",
    "    sorted_items = sorted(data.items(), key=lambda x: x[1], reverse=True)\n",
    "\n",
    "    cumulative_sum = 0\n",
    "    selected_keys = []\n",
    "\n",
    "    for key, value in sorted_items:\n",
    "        cumulative_sum += value\n",
    "        selected_keys.append(key)\n",
    "\n",
    "        if cumulative_sum >= percentage:\n",
    "            break\n",
    "\n",
    "    return selected_keys"
   ]
  },
  {
   "cell_type": "code",
   "execution_count": 233,
   "metadata": {},
   "outputs": [],
   "source": [
    "importances = extractImportances(feature_importances, 0.9)"
   ]
  },
  {
   "cell_type": "code",
   "execution_count": 234,
   "metadata": {},
   "outputs": [
    {
     "name": "stderr",
     "output_type": "stream",
     "text": [
      "c:\\Users\\cuicuidev\\Desktop\\pisoscom\\venv\\lib\\site-packages\\sklearn\\base.py:1152: DataConversionWarning: A column-vector y was passed when a 1d array was expected. Please change the shape of y to (n_samples,), for example using ravel().\n",
      "  return fit_method(estimator, *args, **kwargs)\n"
     ]
    },
    {
     "name": "stdout",
     "output_type": "stream",
     "text": [
      "0.8057685012122197\n",
      "124145.8707503661\n",
      "112627290578.78326\n"
     ]
    }
   ],
   "source": [
    "X = df.drop(['price'], axis = 1)[importances]\n",
    "y = df[['price']]\n",
    "\n",
    "imputer = KNNImputer(n_neighbors=3)\n",
    "\n",
    "X_imputed = imputer.fit_transform(X)\n",
    "\n",
    "X_train, X_test, y_train, y_test = train_test_split(X_imputed, y, test_size = 0.2, random_state = 42)\n",
    "\n",
    "model = RandomForestRegressor(n_jobs = -1, random_state = 42, n_estimators = 100)\n",
    "\n",
    "model.fit(X_train, y_train)\n",
    "\n",
    "yhat = model.predict(X_test)\n",
    "\n",
    "print(r2_score(y_test, yhat))\n",
    "print(mean_absolute_error(y_test, yhat))\n",
    "print(mean_squared_error(y_test, yhat))"
   ]
  },
  {
   "cell_type": "code",
   "execution_count": 235,
   "metadata": {},
   "outputs": [
    {
     "data": {
      "text/plain": [
       "['bathrooms', 'surface', 'lat', 'lng', 'lift']"
      ]
     },
     "execution_count": 235,
     "metadata": {},
     "output_type": "execute_result"
    }
   ],
   "source": [
    "importances"
   ]
  },
  {
   "cell_type": "code",
   "execution_count": 236,
   "metadata": {},
   "outputs": [],
   "source": [
    "importances = extractImportances(feature_importances, 0.8)"
   ]
  },
  {
   "cell_type": "code",
   "execution_count": 237,
   "metadata": {},
   "outputs": [
    {
     "name": "stderr",
     "output_type": "stream",
     "text": [
      "c:\\Users\\cuicuidev\\Desktop\\pisoscom\\venv\\lib\\site-packages\\sklearn\\base.py:1152: DataConversionWarning: A column-vector y was passed when a 1d array was expected. Please change the shape of y to (n_samples,), for example using ravel().\n",
      "  return fit_method(estimator, *args, **kwargs)\n"
     ]
    },
    {
     "name": "stdout",
     "output_type": "stream",
     "text": [
      "0.8320141772119176\n",
      "121207.5090751093\n",
      "97408444018.34808\n"
     ]
    }
   ],
   "source": [
    "X = df.drop(['price'], axis = 1)[importances]\n",
    "y = df[['price']]\n",
    "\n",
    "imputer = KNNImputer(n_neighbors=3)\n",
    "\n",
    "X_imputed = imputer.fit_transform(X)\n",
    "\n",
    "X_train, X_test, y_train, y_test = train_test_split(X_imputed, y, test_size = 0.2, random_state = 42)\n",
    "\n",
    "model = RandomForestRegressor(n_jobs = -1, random_state = 42, n_estimators = 100)\n",
    "\n",
    "model.fit(X_train, y_train)\n",
    "\n",
    "yhat = model.predict(X_test)\n",
    "\n",
    "print(r2_score(y_test, yhat))\n",
    "print(mean_absolute_error(y_test, yhat))\n",
    "print(mean_squared_error(y_test, yhat))"
   ]
  },
  {
   "cell_type": "code",
   "execution_count": 238,
   "metadata": {},
   "outputs": [
    {
     "data": {
      "text/plain": [
       "['bathrooms', 'surface', 'lat', 'lng']"
      ]
     },
     "execution_count": 238,
     "metadata": {},
     "output_type": "execute_result"
    }
   ],
   "source": [
    "importances"
   ]
  },
  {
   "cell_type": "code",
   "execution_count": null,
   "metadata": {},
   "outputs": [],
   "source": []
  }
 ],
 "metadata": {
  "kernelspec": {
   "display_name": "venv",
   "language": "python",
   "name": "python3"
  },
  "language_info": {
   "codemirror_mode": {
    "name": "ipython",
    "version": 3
   },
   "file_extension": ".py",
   "mimetype": "text/x-python",
   "name": "python",
   "nbconvert_exporter": "python",
   "pygments_lexer": "ipython3",
   "version": "3.10.11"
  }
 },
 "nbformat": 4,
 "nbformat_minor": 2
}
