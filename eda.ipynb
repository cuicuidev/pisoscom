{
 "cells": [
  {
   "cell_type": "code",
   "execution_count": 1,
   "metadata": {},
   "outputs": [],
   "source": [
    "import pandas as pd\n",
    "import numpy as np\n",
    "\n",
    "import matplotlib.pyplot as plt\n",
    "import plotly.express as px\n",
    "\n",
    "import glob\n",
    "\n",
    "from locations import *\n",
    "from parsing import *"
   ]
  },
  {
   "cell_type": "code",
   "execution_count": 2,
   "metadata": {},
   "outputs": [],
   "source": [
    "# Idea:\n",
    "# Más adelante, agrupar las columnas desechadas en una sola para crear una sola llamada 'Descripción'\n",
    "# y hacer un Cluster con NLP con ella"
   ]
  },
  {
   "cell_type": "code",
   "execution_count": 3,
   "metadata": {},
   "outputs": [
    {
     "data": {
      "text/html": [
       "<div>\n",
       "<style scoped>\n",
       "    .dataframe tbody tr th:only-of-type {\n",
       "        vertical-align: middle;\n",
       "    }\n",
       "\n",
       "    .dataframe tbody tr th {\n",
       "        vertical-align: top;\n",
       "    }\n",
       "\n",
       "    .dataframe thead th {\n",
       "        text-align: right;\n",
       "    }\n",
       "</style>\n",
       "<table border=\"1\" class=\"dataframe\">\n",
       "  <thead>\n",
       "    <tr style=\"text-align: right;\">\n",
       "      <th></th>\n",
       "      <th>price</th>\n",
       "      <th>title</th>\n",
       "      <th>location</th>\n",
       "      <th>lat</th>\n",
       "      <th>lng</th>\n",
       "      <th>Comedor</th>\n",
       "      <th>Referencia</th>\n",
       "      <th>Conservación</th>\n",
       "      <th>Garaje</th>\n",
       "      <th>Ascensor</th>\n",
       "      <th>...</th>\n",
       "      <th>Gas</th>\n",
       "      <th>No se aceptan mascotas</th>\n",
       "      <th>Terraza</th>\n",
       "      <th>Sistema de seguridad</th>\n",
       "      <th>Agua</th>\n",
       "      <th>Adaptado a personas con movilidad reducida</th>\n",
       "      <th>Chimenea</th>\n",
       "      <th>Superficie solar</th>\n",
       "      <th>Cocina</th>\n",
       "      <th>Calle alumbrada</th>\n",
       "    </tr>\n",
       "  </thead>\n",
       "  <tbody>\n",
       "    <tr>\n",
       "      <th>0</th>\n",
       "      <td>176000.0</td>\n",
       "      <td>Apartamento en venta en Abantos-Monte Carmelo-...</td>\n",
       "      <td>Abantos-Monte Carmelo-El Rosario (San Lorenzo ...</td>\n",
       "      <td>40.593445</td>\n",
       "      <td>-4.145386</td>\n",
       "      <td>Se encuentra en la zona del salón</td>\n",
       "      <td>4994318-VF-812</td>\n",
       "      <td>A estrenar</td>\n",
       "      <td>1</td>\n",
       "      <td>1</td>\n",
       "      <td>...</td>\n",
       "      <td>NaN</td>\n",
       "      <td>NaN</td>\n",
       "      <td>NaN</td>\n",
       "      <td>NaN</td>\n",
       "      <td>NaN</td>\n",
       "      <td>NaN</td>\n",
       "      <td>NaN</td>\n",
       "      <td>NaN</td>\n",
       "      <td>NaN</td>\n",
       "      <td>NaN</td>\n",
       "    </tr>\n",
       "    <tr>\n",
       "      <th>1</th>\n",
       "      <td>116500.0</td>\n",
       "      <td>Apartamento en venta en Calle de Ercilla, 20, ...</td>\n",
       "      <td>Calle de Ercilla, 20, cerca de Calle del Labra...</td>\n",
       "      <td>40.402079</td>\n",
       "      <td>-3.702151</td>\n",
       "      <td>NaN</td>\n",
       "      <td>EP805-1309</td>\n",
       "      <td>NaN</td>\n",
       "      <td>NaN</td>\n",
       "      <td>1</td>\n",
       "      <td>...</td>\n",
       "      <td>NaN</td>\n",
       "      <td>NaN</td>\n",
       "      <td>NaN</td>\n",
       "      <td>NaN</td>\n",
       "      <td>NaN</td>\n",
       "      <td>NaN</td>\n",
       "      <td>NaN</td>\n",
       "      <td>NaN</td>\n",
       "      <td>1</td>\n",
       "      <td>NaN</td>\n",
       "    </tr>\n",
       "    <tr>\n",
       "      <th>2</th>\n",
       "      <td>169000.0</td>\n",
       "      <td>Apartamento en venta en Ajalvir</td>\n",
       "      <td>Ajalvir</td>\n",
       "      <td>40.534457</td>\n",
       "      <td>-3.479415</td>\n",
       "      <td>NaN</td>\n",
       "      <td>IFC76153-1690TN</td>\n",
       "      <td>En buen estado</td>\n",
       "      <td>NaN</td>\n",
       "      <td>1</td>\n",
       "      <td>...</td>\n",
       "      <td>NaN</td>\n",
       "      <td>NaN</td>\n",
       "      <td>NaN</td>\n",
       "      <td>NaN</td>\n",
       "      <td>NaN</td>\n",
       "      <td>NaN</td>\n",
       "      <td>NaN</td>\n",
       "      <td>NaN</td>\n",
       "      <td>NaN</td>\n",
       "      <td>NaN</td>\n",
       "    </tr>\n",
       "    <tr>\n",
       "      <th>3</th>\n",
       "      <td>174000.0</td>\n",
       "      <td>Apartamento en venta en Alcorcón</td>\n",
       "      <td>Casco Antiguo (Alcorcón)</td>\n",
       "      <td>40.344358</td>\n",
       "      <td>-3.825283</td>\n",
       "      <td>NaN</td>\n",
       "      <td>SA1398-4340/6592</td>\n",
       "      <td>NaN</td>\n",
       "      <td>NaN</td>\n",
       "      <td>1</td>\n",
       "      <td>...</td>\n",
       "      <td>NaN</td>\n",
       "      <td>NaN</td>\n",
       "      <td>NaN</td>\n",
       "      <td>NaN</td>\n",
       "      <td>NaN</td>\n",
       "      <td>NaN</td>\n",
       "      <td>NaN</td>\n",
       "      <td>NaN</td>\n",
       "      <td>NaN</td>\n",
       "      <td>NaN</td>\n",
       "    </tr>\n",
       "    <tr>\n",
       "      <th>4</th>\n",
       "      <td>130000.0</td>\n",
       "      <td>Apartamento en venta en Alcorcón</td>\n",
       "      <td>Casco Antiguo (Alcorcón)</td>\n",
       "      <td>40.347096</td>\n",
       "      <td>-3.827826</td>\n",
       "      <td>NaN</td>\n",
       "      <td>SA2135-04930/7619</td>\n",
       "      <td>NaN</td>\n",
       "      <td>NaN</td>\n",
       "      <td>1</td>\n",
       "      <td>...</td>\n",
       "      <td>NaN</td>\n",
       "      <td>NaN</td>\n",
       "      <td>1</td>\n",
       "      <td>NaN</td>\n",
       "      <td>1</td>\n",
       "      <td>NaN</td>\n",
       "      <td>NaN</td>\n",
       "      <td>NaN</td>\n",
       "      <td>NaN</td>\n",
       "      <td>NaN</td>\n",
       "    </tr>\n",
       "    <tr>\n",
       "      <th>...</th>\n",
       "      <td>...</td>\n",
       "      <td>...</td>\n",
       "      <td>...</td>\n",
       "      <td>...</td>\n",
       "      <td>...</td>\n",
       "      <td>...</td>\n",
       "      <td>...</td>\n",
       "      <td>...</td>\n",
       "      <td>...</td>\n",
       "      <td>...</td>\n",
       "      <td>...</td>\n",
       "      <td>...</td>\n",
       "      <td>...</td>\n",
       "      <td>...</td>\n",
       "      <td>...</td>\n",
       "      <td>...</td>\n",
       "      <td>...</td>\n",
       "      <td>...</td>\n",
       "      <td>...</td>\n",
       "      <td>...</td>\n",
       "      <td>...</td>\n",
       "    </tr>\n",
       "    <tr>\n",
       "      <th>15832</th>\n",
       "      <td>135000.0</td>\n",
       "      <td>Piso en venta en Calle de la Circunvalación</td>\n",
       "      <td>Calle de la Circunvalación. Zona Suroeste (Tor...</td>\n",
       "      <td>40.454606</td>\n",
       "      <td>-3.455234</td>\n",
       "      <td>NaN</td>\n",
       "      <td>SA4463-BANCO-0001</td>\n",
       "      <td>A reformar</td>\n",
       "      <td>NaN</td>\n",
       "      <td>1</td>\n",
       "      <td>...</td>\n",
       "      <td>NaN</td>\n",
       "      <td>NaN</td>\n",
       "      <td>1</td>\n",
       "      <td>NaN</td>\n",
       "      <td>NaN</td>\n",
       "      <td>NaN</td>\n",
       "      <td>NaN</td>\n",
       "      <td>NaN</td>\n",
       "      <td>NaN</td>\n",
       "      <td>NaN</td>\n",
       "    </tr>\n",
       "    <tr>\n",
       "      <th>15833</th>\n",
       "      <td>210000.0</td>\n",
       "      <td>Piso en venta en Calle de Urano</td>\n",
       "      <td>Calle de Urano. Zona Suroeste (Torrejón de Ardoz)</td>\n",
       "      <td>40.441928</td>\n",
       "      <td>-3.473036</td>\n",
       "      <td>NaN</td>\n",
       "      <td>SA3697-IL-04891</td>\n",
       "      <td>En buen estado</td>\n",
       "      <td>1</td>\n",
       "      <td>1</td>\n",
       "      <td>...</td>\n",
       "      <td>NaN</td>\n",
       "      <td>NaN</td>\n",
       "      <td>NaN</td>\n",
       "      <td>NaN</td>\n",
       "      <td>NaN</td>\n",
       "      <td>NaN</td>\n",
       "      <td>NaN</td>\n",
       "      <td>NaN</td>\n",
       "      <td>NaN</td>\n",
       "      <td>NaN</td>\n",
       "    </tr>\n",
       "    <tr>\n",
       "      <th>15834</th>\n",
       "      <td>324600.0</td>\n",
       "      <td>Piso en venta en Fresnos</td>\n",
       "      <td>Zona Suroeste (Torrejón de Ardoz)</td>\n",
       "      <td>40.448403</td>\n",
       "      <td>-3.470899</td>\n",
       "      <td>NaN</td>\n",
       "      <td>SA555-39508999/1670</td>\n",
       "      <td>NaN</td>\n",
       "      <td>1</td>\n",
       "      <td>1</td>\n",
       "      <td>...</td>\n",
       "      <td>NaN</td>\n",
       "      <td>NaN</td>\n",
       "      <td>1</td>\n",
       "      <td>NaN</td>\n",
       "      <td>NaN</td>\n",
       "      <td>NaN</td>\n",
       "      <td>NaN</td>\n",
       "      <td>NaN</td>\n",
       "      <td>NaN</td>\n",
       "      <td>NaN</td>\n",
       "    </tr>\n",
       "    <tr>\n",
       "      <th>15835</th>\n",
       "      <td>249900.0</td>\n",
       "      <td>Piso en venta en Calle de Cibeles</td>\n",
       "      <td>Calle de Cibeles. Zona Suroeste (Torrejón de A...</td>\n",
       "      <td>40.444707</td>\n",
       "      <td>-3.473520</td>\n",
       "      <td>NaN</td>\n",
       "      <td>4525678-000021</td>\n",
       "      <td>En buen estado</td>\n",
       "      <td>1</td>\n",
       "      <td>NaN</td>\n",
       "      <td>...</td>\n",
       "      <td>NaN</td>\n",
       "      <td>NaN</td>\n",
       "      <td>1</td>\n",
       "      <td>NaN</td>\n",
       "      <td>NaN</td>\n",
       "      <td>NaN</td>\n",
       "      <td>NaN</td>\n",
       "      <td>NaN</td>\n",
       "      <td>NaN</td>\n",
       "      <td>NaN</td>\n",
       "    </tr>\n",
       "    <tr>\n",
       "      <th>15836</th>\n",
       "      <td>253800.0</td>\n",
       "      <td>Piso en venta en Fresnos</td>\n",
       "      <td>Zona Suroeste (Torrejón de Ardoz)</td>\n",
       "      <td>40.447273</td>\n",
       "      <td>-3.473262</td>\n",
       "      <td>NaN</td>\n",
       "      <td>SA555-40574646/1670</td>\n",
       "      <td>NaN</td>\n",
       "      <td>1</td>\n",
       "      <td>1</td>\n",
       "      <td>...</td>\n",
       "      <td>NaN</td>\n",
       "      <td>NaN</td>\n",
       "      <td>NaN</td>\n",
       "      <td>NaN</td>\n",
       "      <td>NaN</td>\n",
       "      <td>NaN</td>\n",
       "      <td>NaN</td>\n",
       "      <td>NaN</td>\n",
       "      <td>NaN</td>\n",
       "      <td>NaN</td>\n",
       "    </tr>\n",
       "  </tbody>\n",
       "</table>\n",
       "<p>15837 rows × 58 columns</p>\n",
       "</div>"
      ],
      "text/plain": [
       "          price                                              title  \\\n",
       "0      176000.0  Apartamento en venta en Abantos-Monte Carmelo-...   \n",
       "1      116500.0  Apartamento en venta en Calle de Ercilla, 20, ...   \n",
       "2      169000.0                    Apartamento en venta en Ajalvir   \n",
       "3      174000.0                   Apartamento en venta en Alcorcón   \n",
       "4      130000.0                   Apartamento en venta en Alcorcón   \n",
       "...         ...                                                ...   \n",
       "15832  135000.0        Piso en venta en Calle de la Circunvalación   \n",
       "15833  210000.0                    Piso en venta en Calle de Urano   \n",
       "15834  324600.0                           Piso en venta en Fresnos   \n",
       "15835  249900.0                  Piso en venta en Calle de Cibeles   \n",
       "15836  253800.0                           Piso en venta en Fresnos   \n",
       "\n",
       "                                                location        lat       lng  \\\n",
       "0      Abantos-Monte Carmelo-El Rosario (San Lorenzo ...  40.593445 -4.145386   \n",
       "1      Calle de Ercilla, 20, cerca de Calle del Labra...  40.402079 -3.702151   \n",
       "2                                                Ajalvir  40.534457 -3.479415   \n",
       "3                               Casco Antiguo (Alcorcón)  40.344358 -3.825283   \n",
       "4                               Casco Antiguo (Alcorcón)  40.347096 -3.827826   \n",
       "...                                                  ...        ...       ...   \n",
       "15832  Calle de la Circunvalación. Zona Suroeste (Tor...  40.454606 -3.455234   \n",
       "15833  Calle de Urano. Zona Suroeste (Torrejón de Ardoz)  40.441928 -3.473036   \n",
       "15834                  Zona Suroeste (Torrejón de Ardoz)  40.448403 -3.470899   \n",
       "15835  Calle de Cibeles. Zona Suroeste (Torrejón de A...  40.444707 -3.473520   \n",
       "15836                  Zona Suroeste (Torrejón de Ardoz)  40.447273 -3.473262   \n",
       "\n",
       "                                  Comedor            Referencia  \\\n",
       "0       Se encuentra en la zona del salón        4994318-VF-812   \n",
       "1                                     NaN            EP805-1309   \n",
       "2                                     NaN       IFC76153-1690TN   \n",
       "3                                     NaN      SA1398-4340/6592   \n",
       "4                                     NaN     SA2135-04930/7619   \n",
       "...                                   ...                   ...   \n",
       "15832                                 NaN     SA4463-BANCO-0001   \n",
       "15833                                 NaN       SA3697-IL-04891   \n",
       "15834                                 NaN   SA555-39508999/1670   \n",
       "15835                                 NaN        4525678-000021   \n",
       "15836                                 NaN   SA555-40574646/1670   \n",
       "\n",
       "          Conservación Garaje Ascensor  ...  Gas No se aceptan mascotas  \\\n",
       "0           A estrenar      1        1  ...  NaN                    NaN   \n",
       "1                  NaN    NaN        1  ...  NaN                    NaN   \n",
       "2       En buen estado    NaN        1  ...  NaN                    NaN   \n",
       "3                  NaN    NaN        1  ...  NaN                    NaN   \n",
       "4                  NaN    NaN        1  ...  NaN                    NaN   \n",
       "...                ...    ...      ...  ...  ...                    ...   \n",
       "15832       A reformar    NaN        1  ...  NaN                    NaN   \n",
       "15833   En buen estado      1        1  ...  NaN                    NaN   \n",
       "15834              NaN      1        1  ...  NaN                    NaN   \n",
       "15835   En buen estado      1      NaN  ...  NaN                    NaN   \n",
       "15836              NaN      1        1  ...  NaN                    NaN   \n",
       "\n",
       "      Terraza  Sistema de seguridad Agua  \\\n",
       "0         NaN                   NaN  NaN   \n",
       "1         NaN                   NaN  NaN   \n",
       "2         NaN                   NaN  NaN   \n",
       "3         NaN                   NaN  NaN   \n",
       "4           1                   NaN    1   \n",
       "...       ...                   ...  ...   \n",
       "15832       1                   NaN  NaN   \n",
       "15833     NaN                   NaN  NaN   \n",
       "15834       1                   NaN  NaN   \n",
       "15835       1                   NaN  NaN   \n",
       "15836     NaN                   NaN  NaN   \n",
       "\n",
       "      Adaptado a personas con movilidad reducida  Chimenea Superficie solar  \\\n",
       "0                                            NaN       NaN              NaN   \n",
       "1                                            NaN       NaN              NaN   \n",
       "2                                            NaN       NaN              NaN   \n",
       "3                                            NaN       NaN              NaN   \n",
       "4                                            NaN       NaN              NaN   \n",
       "...                                          ...       ...              ...   \n",
       "15832                                        NaN       NaN              NaN   \n",
       "15833                                        NaN       NaN              NaN   \n",
       "15834                                        NaN       NaN              NaN   \n",
       "15835                                        NaN       NaN              NaN   \n",
       "15836                                        NaN       NaN              NaN   \n",
       "\n",
       "      Cocina  Calle alumbrada  \n",
       "0        NaN              NaN  \n",
       "1          1              NaN  \n",
       "2        NaN              NaN  \n",
       "3        NaN              NaN  \n",
       "4        NaN              NaN  \n",
       "...      ...              ...  \n",
       "15832    NaN              NaN  \n",
       "15833    NaN              NaN  \n",
       "15834    NaN              NaN  \n",
       "15835    NaN              NaN  \n",
       "15836    NaN              NaN  \n",
       "\n",
       "[15837 rows x 58 columns]"
      ]
     },
     "execution_count": 3,
     "metadata": {},
     "output_type": "execute_result"
    }
   ],
   "source": [
    "df = pd.read_csv('madrid_parsed.csv')\n",
    "df"
   ]
  },
  {
   "cell_type": "code",
   "execution_count": 11,
   "metadata": {},
   "outputs": [
    {
     "data": {
      "application/vnd.plotly.v1+json": {
       "config": {
        "plotlyServerURL": "https://plot.ly"
       },
       "data": [
        {
         "alignmentgroup": "True",
         "hovertemplate": "x=%{x}<br>y=%{y}<extra></extra>",
         "legendgroup": "",
         "marker": {
          "color": "#636efa",
          "pattern": {
           "shape": ""
          }
         },
         "name": "",
         "offsetgroup": "",
         "orientation": "h",
         "showlegend": false,
         "textposition": "auto",
         "type": "bar",
         "x": [
          15616,
          15742,
          15697,
          15697,
          15697,
          2187,
          15742,
          11829,
          5966,
          7417,
          7327,
          2105,
          447,
          15152,
          15737,
          6814,
          419,
          4541,
          1796,
          12342,
          3583,
          3899,
          2565,
          1473,
          6074,
          1377,
          2515,
          5249,
          1670,
          7114,
          15672,
          1576,
          3749,
          15145,
          115,
          1246,
          605,
          9308,
          1155,
          425,
          515,
          573,
          4388,
          5264,
          1791,
          3567,
          6554,
          1,
          1011,
          11,
          6702,
          1430,
          1113,
          1025,
          887,
          2177,
          4951,
          440
         ],
         "xaxis": "x",
         "y": [
          "price",
          "title",
          "location",
          "lat",
          "lng",
          "Comedor",
          "Referencia",
          "Conservación",
          "Garaje",
          "Ascensor",
          "Superficie útil",
          "Portero automático",
          "Carpintería interior",
          "Baños",
          "Clasificación",
          "Armarios empotrados",
          "Se aceptan mascotas",
          "Exterior",
          "Cocina equipada",
          "Pedir más información",
          "Antigüedad",
          "Gastos de comunidad",
          "Jardín",
          "Lavadero",
          "Orientación",
          "Balcón",
          "Carpintería exterior",
          "Tipo suelo",
          "Soleado",
          "Planta",
          "Superficie construida",
          "Vidrios dobles",
          "Piscina",
          "Habitaciones",
          "Luz",
          "Tipo de casa",
          "Teléfono",
          "Calefacción",
          "Consumo",
          "Calle asfaltada",
          "Interior",
          "Urbanizado",
          "Trastero",
          "Emisiones",
          "Amueblado",
          "Puerta blindada",
          "Aire acondicionado",
          "Esquina",
          "Gas",
          "No se aceptan mascotas",
          "Terraza",
          "Sistema de seguridad",
          "Agua",
          "Adaptado a personas con movilidad reducida",
          "Chimenea",
          "Superficie solar",
          "Cocina",
          "Calle alumbrada"
         ],
         "yaxis": "y"
        }
       ],
       "layout": {
        "barmode": "relative",
        "height": 1000,
        "legend": {
         "tracegroupgap": 0
        },
        "margin": {
         "t": 60
        },
        "template": {
         "data": {
          "bar": [
           {
            "error_x": {
             "color": "#2a3f5f"
            },
            "error_y": {
             "color": "#2a3f5f"
            },
            "marker": {
             "line": {
              "color": "#E5ECF6",
              "width": 0.5
             },
             "pattern": {
              "fillmode": "overlay",
              "size": 10,
              "solidity": 0.2
             }
            },
            "type": "bar"
           }
          ],
          "barpolar": [
           {
            "marker": {
             "line": {
              "color": "#E5ECF6",
              "width": 0.5
             },
             "pattern": {
              "fillmode": "overlay",
              "size": 10,
              "solidity": 0.2
             }
            },
            "type": "barpolar"
           }
          ],
          "carpet": [
           {
            "aaxis": {
             "endlinecolor": "#2a3f5f",
             "gridcolor": "white",
             "linecolor": "white",
             "minorgridcolor": "white",
             "startlinecolor": "#2a3f5f"
            },
            "baxis": {
             "endlinecolor": "#2a3f5f",
             "gridcolor": "white",
             "linecolor": "white",
             "minorgridcolor": "white",
             "startlinecolor": "#2a3f5f"
            },
            "type": "carpet"
           }
          ],
          "choropleth": [
           {
            "colorbar": {
             "outlinewidth": 0,
             "ticks": ""
            },
            "type": "choropleth"
           }
          ],
          "contour": [
           {
            "colorbar": {
             "outlinewidth": 0,
             "ticks": ""
            },
            "colorscale": [
             [
              0,
              "#0d0887"
             ],
             [
              0.1111111111111111,
              "#46039f"
             ],
             [
              0.2222222222222222,
              "#7201a8"
             ],
             [
              0.3333333333333333,
              "#9c179e"
             ],
             [
              0.4444444444444444,
              "#bd3786"
             ],
             [
              0.5555555555555556,
              "#d8576b"
             ],
             [
              0.6666666666666666,
              "#ed7953"
             ],
             [
              0.7777777777777778,
              "#fb9f3a"
             ],
             [
              0.8888888888888888,
              "#fdca26"
             ],
             [
              1,
              "#f0f921"
             ]
            ],
            "type": "contour"
           }
          ],
          "contourcarpet": [
           {
            "colorbar": {
             "outlinewidth": 0,
             "ticks": ""
            },
            "type": "contourcarpet"
           }
          ],
          "heatmap": [
           {
            "colorbar": {
             "outlinewidth": 0,
             "ticks": ""
            },
            "colorscale": [
             [
              0,
              "#0d0887"
             ],
             [
              0.1111111111111111,
              "#46039f"
             ],
             [
              0.2222222222222222,
              "#7201a8"
             ],
             [
              0.3333333333333333,
              "#9c179e"
             ],
             [
              0.4444444444444444,
              "#bd3786"
             ],
             [
              0.5555555555555556,
              "#d8576b"
             ],
             [
              0.6666666666666666,
              "#ed7953"
             ],
             [
              0.7777777777777778,
              "#fb9f3a"
             ],
             [
              0.8888888888888888,
              "#fdca26"
             ],
             [
              1,
              "#f0f921"
             ]
            ],
            "type": "heatmap"
           }
          ],
          "heatmapgl": [
           {
            "colorbar": {
             "outlinewidth": 0,
             "ticks": ""
            },
            "colorscale": [
             [
              0,
              "#0d0887"
             ],
             [
              0.1111111111111111,
              "#46039f"
             ],
             [
              0.2222222222222222,
              "#7201a8"
             ],
             [
              0.3333333333333333,
              "#9c179e"
             ],
             [
              0.4444444444444444,
              "#bd3786"
             ],
             [
              0.5555555555555556,
              "#d8576b"
             ],
             [
              0.6666666666666666,
              "#ed7953"
             ],
             [
              0.7777777777777778,
              "#fb9f3a"
             ],
             [
              0.8888888888888888,
              "#fdca26"
             ],
             [
              1,
              "#f0f921"
             ]
            ],
            "type": "heatmapgl"
           }
          ],
          "histogram": [
           {
            "marker": {
             "pattern": {
              "fillmode": "overlay",
              "size": 10,
              "solidity": 0.2
             }
            },
            "type": "histogram"
           }
          ],
          "histogram2d": [
           {
            "colorbar": {
             "outlinewidth": 0,
             "ticks": ""
            },
            "colorscale": [
             [
              0,
              "#0d0887"
             ],
             [
              0.1111111111111111,
              "#46039f"
             ],
             [
              0.2222222222222222,
              "#7201a8"
             ],
             [
              0.3333333333333333,
              "#9c179e"
             ],
             [
              0.4444444444444444,
              "#bd3786"
             ],
             [
              0.5555555555555556,
              "#d8576b"
             ],
             [
              0.6666666666666666,
              "#ed7953"
             ],
             [
              0.7777777777777778,
              "#fb9f3a"
             ],
             [
              0.8888888888888888,
              "#fdca26"
             ],
             [
              1,
              "#f0f921"
             ]
            ],
            "type": "histogram2d"
           }
          ],
          "histogram2dcontour": [
           {
            "colorbar": {
             "outlinewidth": 0,
             "ticks": ""
            },
            "colorscale": [
             [
              0,
              "#0d0887"
             ],
             [
              0.1111111111111111,
              "#46039f"
             ],
             [
              0.2222222222222222,
              "#7201a8"
             ],
             [
              0.3333333333333333,
              "#9c179e"
             ],
             [
              0.4444444444444444,
              "#bd3786"
             ],
             [
              0.5555555555555556,
              "#d8576b"
             ],
             [
              0.6666666666666666,
              "#ed7953"
             ],
             [
              0.7777777777777778,
              "#fb9f3a"
             ],
             [
              0.8888888888888888,
              "#fdca26"
             ],
             [
              1,
              "#f0f921"
             ]
            ],
            "type": "histogram2dcontour"
           }
          ],
          "mesh3d": [
           {
            "colorbar": {
             "outlinewidth": 0,
             "ticks": ""
            },
            "type": "mesh3d"
           }
          ],
          "parcoords": [
           {
            "line": {
             "colorbar": {
              "outlinewidth": 0,
              "ticks": ""
             }
            },
            "type": "parcoords"
           }
          ],
          "pie": [
           {
            "automargin": true,
            "type": "pie"
           }
          ],
          "scatter": [
           {
            "fillpattern": {
             "fillmode": "overlay",
             "size": 10,
             "solidity": 0.2
            },
            "type": "scatter"
           }
          ],
          "scatter3d": [
           {
            "line": {
             "colorbar": {
              "outlinewidth": 0,
              "ticks": ""
             }
            },
            "marker": {
             "colorbar": {
              "outlinewidth": 0,
              "ticks": ""
             }
            },
            "type": "scatter3d"
           }
          ],
          "scattercarpet": [
           {
            "marker": {
             "colorbar": {
              "outlinewidth": 0,
              "ticks": ""
             }
            },
            "type": "scattercarpet"
           }
          ],
          "scattergeo": [
           {
            "marker": {
             "colorbar": {
              "outlinewidth": 0,
              "ticks": ""
             }
            },
            "type": "scattergeo"
           }
          ],
          "scattergl": [
           {
            "marker": {
             "colorbar": {
              "outlinewidth": 0,
              "ticks": ""
             }
            },
            "type": "scattergl"
           }
          ],
          "scattermapbox": [
           {
            "marker": {
             "colorbar": {
              "outlinewidth": 0,
              "ticks": ""
             }
            },
            "type": "scattermapbox"
           }
          ],
          "scatterpolar": [
           {
            "marker": {
             "colorbar": {
              "outlinewidth": 0,
              "ticks": ""
             }
            },
            "type": "scatterpolar"
           }
          ],
          "scatterpolargl": [
           {
            "marker": {
             "colorbar": {
              "outlinewidth": 0,
              "ticks": ""
             }
            },
            "type": "scatterpolargl"
           }
          ],
          "scatterternary": [
           {
            "marker": {
             "colorbar": {
              "outlinewidth": 0,
              "ticks": ""
             }
            },
            "type": "scatterternary"
           }
          ],
          "surface": [
           {
            "colorbar": {
             "outlinewidth": 0,
             "ticks": ""
            },
            "colorscale": [
             [
              0,
              "#0d0887"
             ],
             [
              0.1111111111111111,
              "#46039f"
             ],
             [
              0.2222222222222222,
              "#7201a8"
             ],
             [
              0.3333333333333333,
              "#9c179e"
             ],
             [
              0.4444444444444444,
              "#bd3786"
             ],
             [
              0.5555555555555556,
              "#d8576b"
             ],
             [
              0.6666666666666666,
              "#ed7953"
             ],
             [
              0.7777777777777778,
              "#fb9f3a"
             ],
             [
              0.8888888888888888,
              "#fdca26"
             ],
             [
              1,
              "#f0f921"
             ]
            ],
            "type": "surface"
           }
          ],
          "table": [
           {
            "cells": {
             "fill": {
              "color": "#EBF0F8"
             },
             "line": {
              "color": "white"
             }
            },
            "header": {
             "fill": {
              "color": "#C8D4E3"
             },
             "line": {
              "color": "white"
             }
            },
            "type": "table"
           }
          ]
         },
         "layout": {
          "annotationdefaults": {
           "arrowcolor": "#2a3f5f",
           "arrowhead": 0,
           "arrowwidth": 1
          },
          "autotypenumbers": "strict",
          "coloraxis": {
           "colorbar": {
            "outlinewidth": 0,
            "ticks": ""
           }
          },
          "colorscale": {
           "diverging": [
            [
             0,
             "#8e0152"
            ],
            [
             0.1,
             "#c51b7d"
            ],
            [
             0.2,
             "#de77ae"
            ],
            [
             0.3,
             "#f1b6da"
            ],
            [
             0.4,
             "#fde0ef"
            ],
            [
             0.5,
             "#f7f7f7"
            ],
            [
             0.6,
             "#e6f5d0"
            ],
            [
             0.7,
             "#b8e186"
            ],
            [
             0.8,
             "#7fbc41"
            ],
            [
             0.9,
             "#4d9221"
            ],
            [
             1,
             "#276419"
            ]
           ],
           "sequential": [
            [
             0,
             "#0d0887"
            ],
            [
             0.1111111111111111,
             "#46039f"
            ],
            [
             0.2222222222222222,
             "#7201a8"
            ],
            [
             0.3333333333333333,
             "#9c179e"
            ],
            [
             0.4444444444444444,
             "#bd3786"
            ],
            [
             0.5555555555555556,
             "#d8576b"
            ],
            [
             0.6666666666666666,
             "#ed7953"
            ],
            [
             0.7777777777777778,
             "#fb9f3a"
            ],
            [
             0.8888888888888888,
             "#fdca26"
            ],
            [
             1,
             "#f0f921"
            ]
           ],
           "sequentialminus": [
            [
             0,
             "#0d0887"
            ],
            [
             0.1111111111111111,
             "#46039f"
            ],
            [
             0.2222222222222222,
             "#7201a8"
            ],
            [
             0.3333333333333333,
             "#9c179e"
            ],
            [
             0.4444444444444444,
             "#bd3786"
            ],
            [
             0.5555555555555556,
             "#d8576b"
            ],
            [
             0.6666666666666666,
             "#ed7953"
            ],
            [
             0.7777777777777778,
             "#fb9f3a"
            ],
            [
             0.8888888888888888,
             "#fdca26"
            ],
            [
             1,
             "#f0f921"
            ]
           ]
          },
          "colorway": [
           "#636efa",
           "#EF553B",
           "#00cc96",
           "#ab63fa",
           "#FFA15A",
           "#19d3f3",
           "#FF6692",
           "#B6E880",
           "#FF97FF",
           "#FECB52"
          ],
          "font": {
           "color": "#2a3f5f"
          },
          "geo": {
           "bgcolor": "white",
           "lakecolor": "white",
           "landcolor": "#E5ECF6",
           "showlakes": true,
           "showland": true,
           "subunitcolor": "white"
          },
          "hoverlabel": {
           "align": "left"
          },
          "hovermode": "closest",
          "mapbox": {
           "style": "light"
          },
          "paper_bgcolor": "white",
          "plot_bgcolor": "#E5ECF6",
          "polar": {
           "angularaxis": {
            "gridcolor": "white",
            "linecolor": "white",
            "ticks": ""
           },
           "bgcolor": "#E5ECF6",
           "radialaxis": {
            "gridcolor": "white",
            "linecolor": "white",
            "ticks": ""
           }
          },
          "scene": {
           "xaxis": {
            "backgroundcolor": "#E5ECF6",
            "gridcolor": "white",
            "gridwidth": 2,
            "linecolor": "white",
            "showbackground": true,
            "ticks": "",
            "zerolinecolor": "white"
           },
           "yaxis": {
            "backgroundcolor": "#E5ECF6",
            "gridcolor": "white",
            "gridwidth": 2,
            "linecolor": "white",
            "showbackground": true,
            "ticks": "",
            "zerolinecolor": "white"
           },
           "zaxis": {
            "backgroundcolor": "#E5ECF6",
            "gridcolor": "white",
            "gridwidth": 2,
            "linecolor": "white",
            "showbackground": true,
            "ticks": "",
            "zerolinecolor": "white"
           }
          },
          "shapedefaults": {
           "line": {
            "color": "#2a3f5f"
           }
          },
          "ternary": {
           "aaxis": {
            "gridcolor": "white",
            "linecolor": "white",
            "ticks": ""
           },
           "baxis": {
            "gridcolor": "white",
            "linecolor": "white",
            "ticks": ""
           },
           "bgcolor": "#E5ECF6",
           "caxis": {
            "gridcolor": "white",
            "linecolor": "white",
            "ticks": ""
           }
          },
          "title": {
           "x": 0.05
          },
          "xaxis": {
           "automargin": true,
           "gridcolor": "white",
           "linecolor": "white",
           "ticks": "",
           "title": {
            "standoff": 15
           },
           "zerolinecolor": "white",
           "zerolinewidth": 2
          },
          "yaxis": {
           "automargin": true,
           "gridcolor": "white",
           "linecolor": "white",
           "ticks": "",
           "title": {
            "standoff": 15
           },
           "zerolinecolor": "white",
           "zerolinewidth": 2
          }
         }
        },
        "xaxis": {
         "anchor": "y",
         "domain": [
          0,
          1
         ],
         "title": {
          "text": "x"
         }
        },
        "yaxis": {
         "anchor": "x",
         "domain": [
          0,
          1
         ],
         "title": {
          "text": "y"
         }
        }
       }
      }
     },
     "metadata": {},
     "output_type": "display_data"
    }
   ],
   "source": [
    "fig = px.bar([df[x].dropna().count() for x in df.columns],\n",
    "             y = df.columns,\n",
    "             x = [df[x].dropna().count() for x in df.columns])\n",
    "\n",
    "fig.update_layout(height = 1000)"
   ]
  },
  {
   "cell_type": "code",
   "execution_count": 8,
   "metadata": {},
   "outputs": [
    {
     "data": {
      "text/plain": [
       "1024"
      ]
     },
     "execution_count": 8,
     "metadata": {},
     "output_type": "execute_result"
    }
   ],
   "source": [
    "len(df['Superficie solar'].unique())"
   ]
  },
  {
   "cell_type": "code",
   "execution_count": 18,
   "metadata": {},
   "outputs": [],
   "source": [
    "# Lista de columnas a revisar para decidir cómo tratar la información para entrenar el modelo en el futuro\n",
    "scratched_features = ['Cocina', 'Cocina equipada', 'Superficie solar', 'Sistema de seguridad', 'Portero automático',\n",
    "                      'Aire acondicionado', 'Puerta blindada', 'Amueblado', 'Trastero', 'Calefacción', 'Gas',\n",
    "                      'Tipo de casa', 'Piscina', 'Vidrios dobles', 'Planta', 'Tipo suelo', 'Balcón', 'Orientación',\n",
    "                      'Armarios empotrados', 'Comedor']\n",
    "\n",
    "# Cocina -> hacerla categórica (americana, independiente, amueblada, sin amueblar)\n",
    "# Cocina equipada -> revisarla con 'Cocina'\n",
    "# Superficie solar -> \n",
    "# Sistema de seguridad -> hacerla categórica (conserje, alarma, videovigilancia, etc.) mezclándola con 'Portero automático'\n",
    "# Portero automático -> relacionar con 'Sistema de seguridad'\n",
    "# Aire acondicionado -> hacerla categórica numérica\n",
    "# Puerta blindada -> hacerla binaria\n",
    "# Amueblado -> hacerla categórica (sí, no, parcial)\n",
    "# Trastero -> hacerla categórica (sí, no, comunitario)\n",
    "# Calefacción -> hacerla categórica (gas natural, butano, eléctrico, frío-calor, chimenea, no)\n",
    "# Gas -> hacerla categórica (revisar Calefacción)\n",
    "# Tipo de casa -> hacerla categórica ('Adosada', 'Pareada', ' Rústica', ' Unifamiliar', 'otro)\n",
    "# Piscina -> hacerla categórica (privada, comunitaria, opcional-comunitaria, no, etc)\n",
    "# Vidrios dobles -> hacerla categórica (corredera, oscilobatiente, abrir-cerrar, doble aluminio, no)\n",
    "# Planta -> hacerla categórica numérica (-2, -1, 0, 1, 2, etc)\n",
    "# Tipo suelo -> hacerla binaria (frío, caliente)\n",
    "# Balcón -> hacerla categórica numérica\n",
    "# Armarios empotrados -> hacerla binaria\n",
    "# Comedor -> hacerla categórica"
   ]
  },
  {
   "cell_type": "code",
   "execution_count": null,
   "metadata": {},
   "outputs": [],
   "source": [
    "features = ['Habitaciones', 'Superficie construida', 'Jardín', 'Gastos de comunidad', 'Antigüedad', 'Baños',\n",
    "            'Superficie útil', 'Ascensor', 'Garaje', 'Conservación', 'location', 'lat', 'lng', 'title',\n",
    "            'agency', 'last updated']\n",
    "pred = ['price']\n",
    "\n",
    "# Garaje -> hacer varias columnas columnas (tien o no tiene, cantidad, metros cuadrados)\n",
    "# location -> sacar columnas (tipo de vía, locación, etc)\n",
    "# title -> revisar con columna 'Tipo de casa' para obtener una columna con tipo de vivienda"
   ]
  },
  {
   "cell_type": "code",
   "execution_count": null,
   "metadata": {},
   "outputs": [],
   "source": []
  },
  {
   "cell_type": "code",
   "execution_count": null,
   "metadata": {},
   "outputs": [],
   "source": []
  },
  {
   "cell_type": "code",
   "execution_count": null,
   "metadata": {},
   "outputs": [],
   "source": []
  },
  {
   "cell_type": "code",
   "execution_count": null,
   "metadata": {},
   "outputs": [],
   "source": []
  }
 ],
 "metadata": {
  "kernelspec": {
   "display_name": "Python 3",
   "language": "python",
   "name": "python3"
  },
  "language_info": {
   "codemirror_mode": {
    "name": "ipython",
    "version": 3
   },
   "file_extension": ".py",
   "mimetype": "text/x-python",
   "name": "python",
   "nbconvert_exporter": "python",
   "pygments_lexer": "ipython3",
   "version": "3.11.6"
  }
 },
 "nbformat": 4,
 "nbformat_minor": 2
}
