{
 "cells": [
  {
   "cell_type": "code",
   "execution_count": 88,
   "metadata": {},
   "outputs": [],
   "source": [
    "import pandas as pd\n",
    "import numpy as np\n",
    "\n",
    "import plotly.express as px\n",
    "\n",
    "import glob\n",
    "\n",
    "from locations import *\n",
    "from parsing import *"
   ]
  },
  {
   "cell_type": "code",
   "execution_count": 89,
   "metadata": {},
   "outputs": [],
   "source": [
    "# Idea:\n",
    "# Más adelante, agrupar las columnas desechadas en una sola para crear una sola llamada 'Descripción'\n",
    "# y hacer un Cluster con NLP con ella"
   ]
  },
  {
   "cell_type": "code",
   "execution_count": 90,
   "metadata": {},
   "outputs": [
    {
     "data": {
      "text/html": [
       "<div>\n",
       "<style scoped>\n",
       "    .dataframe tbody tr th:only-of-type {\n",
       "        vertical-align: middle;\n",
       "    }\n",
       "\n",
       "    .dataframe tbody tr th {\n",
       "        vertical-align: top;\n",
       "    }\n",
       "\n",
       "    .dataframe thead th {\n",
       "        text-align: right;\n",
       "    }\n",
       "</style>\n",
       "<table border=\"1\" class=\"dataframe\">\n",
       "  <thead>\n",
       "    <tr style=\"text-align: right;\">\n",
       "      <th></th>\n",
       "      <th>price</th>\n",
       "      <th>title</th>\n",
       "      <th>location</th>\n",
       "      <th>lat</th>\n",
       "      <th>lng</th>\n",
       "      <th>agency</th>\n",
       "      <th>updated</th>\n",
       "      <th>Lavadero</th>\n",
       "      <th>Soleado</th>\n",
       "      <th>Balcón</th>\n",
       "      <th>...</th>\n",
       "      <th>Gas</th>\n",
       "      <th>No se aceptan mascotas</th>\n",
       "      <th>Consumo</th>\n",
       "      <th>Luz</th>\n",
       "      <th>Tipo de casa</th>\n",
       "      <th>Calle asfaltada</th>\n",
       "      <th>Emisiones</th>\n",
       "      <th>Sistema de seguridad</th>\n",
       "      <th>Calefacción</th>\n",
       "      <th>Urbanizado</th>\n",
       "    </tr>\n",
       "  </thead>\n",
       "  <tbody>\n",
       "    <tr>\n",
       "      <th>0</th>\n",
       "      <td>176000.0</td>\n",
       "      <td>Apartamento en venta en Abantos-Monte Carmelo-...</td>\n",
       "      <td>Abantos-Monte Carmelo-El Rosario (San Lorenzo ...</td>\n",
       "      <td>40.593445</td>\n",
       "      <td>-4.145386</td>\n",
       "      <td>Inmuebles de SYMBOLIC GESTION INMOBILIARIA</td>\n",
       "      <td>1.674861e+09</td>\n",
       "      <td>Con acceso desde la cocina</td>\n",
       "      <td>Soleado</td>\n",
       "      <td>Desde el salón</td>\n",
       "      <td>...</td>\n",
       "      <td>NaN</td>\n",
       "      <td>NaN</td>\n",
       "      <td>NaN</td>\n",
       "      <td>NaN</td>\n",
       "      <td>NaN</td>\n",
       "      <td>NaN</td>\n",
       "      <td>NaN</td>\n",
       "      <td>NaN</td>\n",
       "      <td>NaN</td>\n",
       "      <td>NaN</td>\n",
       "    </tr>\n",
       "    <tr>\n",
       "      <th>1</th>\n",
       "      <td>116500.0</td>\n",
       "      <td>Apartamento en venta en Calle de Ercilla, 20, ...</td>\n",
       "      <td>Calle de Ercilla, 20, cerca de Calle del Labra...</td>\n",
       "      <td>40.402079</td>\n",
       "      <td>-3.702151</td>\n",
       "      <td>Inmuebles de Inmobiliaria Grupo Habitazone</td>\n",
       "      <td>1.674947e+09</td>\n",
       "      <td>NaN</td>\n",
       "      <td>NaN</td>\n",
       "      <td>NaN</td>\n",
       "      <td>...</td>\n",
       "      <td>NaN</td>\n",
       "      <td>NaN</td>\n",
       "      <td>NaN</td>\n",
       "      <td>NaN</td>\n",
       "      <td>NaN</td>\n",
       "      <td>NaN</td>\n",
       "      <td>NaN</td>\n",
       "      <td>NaN</td>\n",
       "      <td>NaN</td>\n",
       "      <td>NaN</td>\n",
       "    </tr>\n",
       "    <tr>\n",
       "      <th>2</th>\n",
       "      <td>169000.0</td>\n",
       "      <td>Apartamento en venta en Ajalvir</td>\n",
       "      <td>Ajalvir</td>\n",
       "      <td>40.534457</td>\n",
       "      <td>-3.479415</td>\n",
       "      <td>Inmuebles de INMOBILIARIA TECNICA NORTE</td>\n",
       "      <td>1.673392e+09</td>\n",
       "      <td>NaN</td>\n",
       "      <td>NaN</td>\n",
       "      <td>NaN</td>\n",
       "      <td>...</td>\n",
       "      <td>NaN</td>\n",
       "      <td>NaN</td>\n",
       "      <td>NaN</td>\n",
       "      <td>NaN</td>\n",
       "      <td>NaN</td>\n",
       "      <td>NaN</td>\n",
       "      <td>NaN</td>\n",
       "      <td>NaN</td>\n",
       "      <td>NaN</td>\n",
       "      <td>NaN</td>\n",
       "    </tr>\n",
       "    <tr>\n",
       "      <th>3</th>\n",
       "      <td>174000.0</td>\n",
       "      <td>Apartamento en venta en Alcorcón</td>\n",
       "      <td>Casco Antiguo (Alcorcón)</td>\n",
       "      <td>40.344358</td>\n",
       "      <td>-3.825283</td>\n",
       "      <td>Inmuebles de Elite Asesoramiento Inmobiliario SL</td>\n",
       "      <td>1.672960e+09</td>\n",
       "      <td>NaN</td>\n",
       "      <td>NaN</td>\n",
       "      <td>NaN</td>\n",
       "      <td>...</td>\n",
       "      <td>NaN</td>\n",
       "      <td>NaN</td>\n",
       "      <td>NaN</td>\n",
       "      <td>NaN</td>\n",
       "      <td>NaN</td>\n",
       "      <td>NaN</td>\n",
       "      <td>NaN</td>\n",
       "      <td>NaN</td>\n",
       "      <td>NaN</td>\n",
       "      <td>NaN</td>\n",
       "    </tr>\n",
       "    <tr>\n",
       "      <th>4</th>\n",
       "      <td>130000.0</td>\n",
       "      <td>Apartamento en venta en Alcorcón</td>\n",
       "      <td>Casco Antiguo (Alcorcón)</td>\n",
       "      <td>40.347096</td>\n",
       "      <td>-3.827826</td>\n",
       "      <td>Inmuebles de ELEPHANT REAL ESTATE</td>\n",
       "      <td>1.672615e+09</td>\n",
       "      <td>NaN</td>\n",
       "      <td>NaN</td>\n",
       "      <td>NaN</td>\n",
       "      <td>...</td>\n",
       "      <td>NaN</td>\n",
       "      <td>NaN</td>\n",
       "      <td>NaN</td>\n",
       "      <td>NaN</td>\n",
       "      <td>NaN</td>\n",
       "      <td>NaN</td>\n",
       "      <td>NaN</td>\n",
       "      <td>NaN</td>\n",
       "      <td>Eléctrica</td>\n",
       "      <td>NaN</td>\n",
       "    </tr>\n",
       "    <tr>\n",
       "      <th>...</th>\n",
       "      <td>...</td>\n",
       "      <td>...</td>\n",
       "      <td>...</td>\n",
       "      <td>...</td>\n",
       "      <td>...</td>\n",
       "      <td>...</td>\n",
       "      <td>...</td>\n",
       "      <td>...</td>\n",
       "      <td>...</td>\n",
       "      <td>...</td>\n",
       "      <td>...</td>\n",
       "      <td>...</td>\n",
       "      <td>...</td>\n",
       "      <td>...</td>\n",
       "      <td>...</td>\n",
       "      <td>...</td>\n",
       "      <td>...</td>\n",
       "      <td>...</td>\n",
       "      <td>...</td>\n",
       "      <td>...</td>\n",
       "      <td>...</td>\n",
       "    </tr>\n",
       "    <tr>\n",
       "      <th>15841</th>\n",
       "      <td>135000.0</td>\n",
       "      <td>Piso en venta en Calle de la Circunvalación</td>\n",
       "      <td>Calle de la Circunvalación. Zona Suroeste (Tor...</td>\n",
       "      <td>40.454606</td>\n",
       "      <td>-3.455234</td>\n",
       "      <td>Inmuebles de ANGEL &amp; RICARDO INMOBILIARIA</td>\n",
       "      <td>1.672960e+09</td>\n",
       "      <td>NaN</td>\n",
       "      <td>NaN</td>\n",
       "      <td>NaN</td>\n",
       "      <td>...</td>\n",
       "      <td>NaN</td>\n",
       "      <td>NaN</td>\n",
       "      <td>NaN</td>\n",
       "      <td>NaN</td>\n",
       "      <td>NaN</td>\n",
       "      <td>NaN</td>\n",
       "      <td>NaN</td>\n",
       "      <td>NaN</td>\n",
       "      <td>NaN</td>\n",
       "      <td>NaN</td>\n",
       "    </tr>\n",
       "    <tr>\n",
       "      <th>15842</th>\n",
       "      <td>210000.0</td>\n",
       "      <td>Piso en venta en Calle de Urano</td>\n",
       "      <td>Calle de Urano. Zona Suroeste (Torrejón de Ardoz)</td>\n",
       "      <td>40.441928</td>\n",
       "      <td>-3.473036</td>\n",
       "      <td>Inmuebles de Look &amp; Find Retiro</td>\n",
       "      <td>1.672615e+09</td>\n",
       "      <td>NaN</td>\n",
       "      <td>NaN</td>\n",
       "      <td>NaN</td>\n",
       "      <td>...</td>\n",
       "      <td>NaN</td>\n",
       "      <td>NaN</td>\n",
       "      <td>NaN</td>\n",
       "      <td>NaN</td>\n",
       "      <td>NaN</td>\n",
       "      <td>NaN</td>\n",
       "      <td>NaN</td>\n",
       "      <td>NaN</td>\n",
       "      <td>NaN</td>\n",
       "      <td>NaN</td>\n",
       "    </tr>\n",
       "    <tr>\n",
       "      <th>15843</th>\n",
       "      <td>324600.0</td>\n",
       "      <td>Piso en venta en Fresnos</td>\n",
       "      <td>Zona Suroeste (Torrejón de Ardoz)</td>\n",
       "      <td>40.448403</td>\n",
       "      <td>-3.470899</td>\n",
       "      <td>Inmuebles de Cassas.es asesoria inmobiliaria</td>\n",
       "      <td>1.672874e+09</td>\n",
       "      <td>NaN</td>\n",
       "      <td>NaN</td>\n",
       "      <td>NaN</td>\n",
       "      <td>...</td>\n",
       "      <td>NaN</td>\n",
       "      <td>NaN</td>\n",
       "      <td>NaN</td>\n",
       "      <td>NaN</td>\n",
       "      <td>NaN</td>\n",
       "      <td>NaN</td>\n",
       "      <td>NaN</td>\n",
       "      <td>NaN</td>\n",
       "      <td>Gas natural</td>\n",
       "      <td>NaN</td>\n",
       "    </tr>\n",
       "    <tr>\n",
       "      <th>15844</th>\n",
       "      <td>249900.0</td>\n",
       "      <td>Piso en venta en Calle de Cibeles</td>\n",
       "      <td>Calle de Cibeles. Zona Suroeste (Torrejón de A...</td>\n",
       "      <td>40.444707</td>\n",
       "      <td>-3.473520</td>\n",
       "      <td>Inmuebles de AS Fresnos Inmobiliaria</td>\n",
       "      <td>1.672874e+09</td>\n",
       "      <td>NaN</td>\n",
       "      <td>NaN</td>\n",
       "      <td>NaN</td>\n",
       "      <td>...</td>\n",
       "      <td>NaN</td>\n",
       "      <td>NaN</td>\n",
       "      <td>NaN</td>\n",
       "      <td>NaN</td>\n",
       "      <td>NaN</td>\n",
       "      <td>NaN</td>\n",
       "      <td>NaN</td>\n",
       "      <td>NaN</td>\n",
       "      <td>Gas natural</td>\n",
       "      <td>NaN</td>\n",
       "    </tr>\n",
       "    <tr>\n",
       "      <th>15845</th>\n",
       "      <td>253800.0</td>\n",
       "      <td>Piso en venta en Fresnos</td>\n",
       "      <td>Zona Suroeste (Torrejón de Ardoz)</td>\n",
       "      <td>40.447273</td>\n",
       "      <td>-3.473262</td>\n",
       "      <td>Inmuebles de Cassas.es asesoria inmobiliaria</td>\n",
       "      <td>1.672701e+09</td>\n",
       "      <td>NaN</td>\n",
       "      <td>NaN</td>\n",
       "      <td>NaN</td>\n",
       "      <td>...</td>\n",
       "      <td>NaN</td>\n",
       "      <td>NaN</td>\n",
       "      <td>NaN</td>\n",
       "      <td>NaN</td>\n",
       "      <td>NaN</td>\n",
       "      <td>NaN</td>\n",
       "      <td>NaN</td>\n",
       "      <td>NaN</td>\n",
       "      <td>Gas natural</td>\n",
       "      <td>NaN</td>\n",
       "    </tr>\n",
       "  </tbody>\n",
       "</table>\n",
       "<p>15846 rows × 60 columns</p>\n",
       "</div>"
      ],
      "text/plain": [
       "          price                                              title  \\\n",
       "0      176000.0  Apartamento en venta en Abantos-Monte Carmelo-...   \n",
       "1      116500.0  Apartamento en venta en Calle de Ercilla, 20, ...   \n",
       "2      169000.0                    Apartamento en venta en Ajalvir   \n",
       "3      174000.0                   Apartamento en venta en Alcorcón   \n",
       "4      130000.0                   Apartamento en venta en Alcorcón   \n",
       "...         ...                                                ...   \n",
       "15841  135000.0        Piso en venta en Calle de la Circunvalación   \n",
       "15842  210000.0                    Piso en venta en Calle de Urano   \n",
       "15843  324600.0                           Piso en venta en Fresnos   \n",
       "15844  249900.0                  Piso en venta en Calle de Cibeles   \n",
       "15845  253800.0                           Piso en venta en Fresnos   \n",
       "\n",
       "                                                location        lat       lng  \\\n",
       "0      Abantos-Monte Carmelo-El Rosario (San Lorenzo ...  40.593445 -4.145386   \n",
       "1      Calle de Ercilla, 20, cerca de Calle del Labra...  40.402079 -3.702151   \n",
       "2                                                Ajalvir  40.534457 -3.479415   \n",
       "3                               Casco Antiguo (Alcorcón)  40.344358 -3.825283   \n",
       "4                               Casco Antiguo (Alcorcón)  40.347096 -3.827826   \n",
       "...                                                  ...        ...       ...   \n",
       "15841  Calle de la Circunvalación. Zona Suroeste (Tor...  40.454606 -3.455234   \n",
       "15842  Calle de Urano. Zona Suroeste (Torrejón de Ardoz)  40.441928 -3.473036   \n",
       "15843                  Zona Suroeste (Torrejón de Ardoz)  40.448403 -3.470899   \n",
       "15844  Calle de Cibeles. Zona Suroeste (Torrejón de A...  40.444707 -3.473520   \n",
       "15845                  Zona Suroeste (Torrejón de Ardoz)  40.447273 -3.473262   \n",
       "\n",
       "                                                 agency       updated  \\\n",
       "0            Inmuebles de SYMBOLIC GESTION INMOBILIARIA  1.674861e+09   \n",
       "1            Inmuebles de Inmobiliaria Grupo Habitazone  1.674947e+09   \n",
       "2               Inmuebles de INMOBILIARIA TECNICA NORTE  1.673392e+09   \n",
       "3      Inmuebles de Elite Asesoramiento Inmobiliario SL  1.672960e+09   \n",
       "4                     Inmuebles de ELEPHANT REAL ESTATE  1.672615e+09   \n",
       "...                                                 ...           ...   \n",
       "15841         Inmuebles de ANGEL & RICARDO INMOBILIARIA  1.672960e+09   \n",
       "15842                   Inmuebles de Look & Find Retiro  1.672615e+09   \n",
       "15843      Inmuebles de Cassas.es asesoria inmobiliaria  1.672874e+09   \n",
       "15844              Inmuebles de AS Fresnos Inmobiliaria  1.672874e+09   \n",
       "15845      Inmuebles de Cassas.es asesoria inmobiliaria  1.672701e+09   \n",
       "\n",
       "                          Lavadero  Soleado           Balcón  ...  Gas  \\\n",
       "0       Con acceso desde la cocina  Soleado   Desde el salón  ...  NaN   \n",
       "1                              NaN      NaN              NaN  ...  NaN   \n",
       "2                              NaN      NaN              NaN  ...  NaN   \n",
       "3                              NaN      NaN              NaN  ...  NaN   \n",
       "4                              NaN      NaN              NaN  ...  NaN   \n",
       "...                            ...      ...              ...  ...  ...   \n",
       "15841                          NaN      NaN              NaN  ...  NaN   \n",
       "15842                          NaN      NaN              NaN  ...  NaN   \n",
       "15843                          NaN      NaN              NaN  ...  NaN   \n",
       "15844                          NaN      NaN              NaN  ...  NaN   \n",
       "15845                          NaN      NaN              NaN  ...  NaN   \n",
       "\n",
       "      No se aceptan mascotas Consumo  Luz Tipo de casa Calle asfaltada  \\\n",
       "0                        NaN     NaN  NaN          NaN             NaN   \n",
       "1                        NaN     NaN  NaN          NaN             NaN   \n",
       "2                        NaN     NaN  NaN          NaN             NaN   \n",
       "3                        NaN     NaN  NaN          NaN             NaN   \n",
       "4                        NaN     NaN  NaN          NaN             NaN   \n",
       "...                      ...     ...  ...          ...             ...   \n",
       "15841                    NaN     NaN  NaN          NaN             NaN   \n",
       "15842                    NaN     NaN  NaN          NaN             NaN   \n",
       "15843                    NaN     NaN  NaN          NaN             NaN   \n",
       "15844                    NaN     NaN  NaN          NaN             NaN   \n",
       "15845                    NaN     NaN  NaN          NaN             NaN   \n",
       "\n",
       "      Emisiones Sistema de seguridad   Calefacción Urbanizado  \n",
       "0           NaN                  NaN           NaN        NaN  \n",
       "1           NaN                  NaN           NaN        NaN  \n",
       "2           NaN                  NaN           NaN        NaN  \n",
       "3           NaN                  NaN           NaN        NaN  \n",
       "4           NaN                  NaN     Eléctrica        NaN  \n",
       "...         ...                  ...           ...        ...  \n",
       "15841       NaN                  NaN           NaN        NaN  \n",
       "15842       NaN                  NaN           NaN        NaN  \n",
       "15843       NaN                  NaN   Gas natural        NaN  \n",
       "15844       NaN                  NaN   Gas natural        NaN  \n",
       "15845       NaN                  NaN   Gas natural        NaN  \n",
       "\n",
       "[15846 rows x 60 columns]"
      ]
     },
     "execution_count": 90,
     "metadata": {},
     "output_type": "execute_result"
    }
   ],
   "source": [
    "df = pd.read_csv('madrid_parsed.csv')\n",
    "df"
   ]
  },
  {
   "cell_type": "code",
   "execution_count": 91,
   "metadata": {},
   "outputs": [
    {
     "data": {
      "application/vnd.plotly.v1+json": {
       "config": {
        "plotlyServerURL": "https://plot.ly"
       },
       "data": [
        {
         "alignmentgroup": "True",
         "hovertemplate": "x=%{x}<br>y=%{y}<extra></extra>",
         "legendgroup": "",
         "marker": {
          "color": "#636efa",
          "pattern": {
           "shape": ""
          }
         },
         "name": "",
         "offsetgroup": "",
         "orientation": "h",
         "showlegend": false,
         "textposition": "auto",
         "type": "bar",
         "x": [
          15625,
          15751,
          15706,
          15706,
          15706,
          15751,
          15751,
          1474,
          1674,
          1377,
          15746,
          7118,
          7332,
          448,
          3749,
          2108,
          7423,
          6820,
          2565,
          3902,
          12348,
          5254,
          5971,
          2189,
          15751,
          15154,
          15681,
          11836,
          4546,
          2518,
          3585,
          1580,
          6079,
          420,
          1798,
          15161,
          1,
          440,
          1113,
          3572,
          4394,
          515,
          6702,
          6554,
          887,
          1792,
          1029,
          2177,
          4955,
          606,
          1011,
          11,
          1157,
          115,
          1246,
          425,
          5268,
          1430,
          9315,
          574
         ],
         "xaxis": "x",
         "y": [
          "price",
          "title",
          "location",
          "lat",
          "lng",
          "agency",
          "updated",
          "Lavadero",
          "Soleado",
          "Balcón",
          "Clasificación",
          "Planta",
          "Superficie útil",
          "Carpintería interior",
          "Piscina",
          "Portero automático",
          "Ascensor",
          "Armarios empotrados",
          "Jardín",
          "Gastos de comunidad",
          "Pedir más información",
          "Tipo suelo",
          "Garaje",
          "Comedor",
          "Referencia",
          "Habitaciones",
          "Superficie construida",
          "Conservación",
          "Exterior",
          "Carpintería exterior",
          "Antigüedad",
          "Vidrios dobles",
          "Orientación",
          "Se aceptan mascotas",
          "Cocina equipada",
          "Baños",
          "Esquina",
          "Calle alumbrada",
          "Agua",
          "Puerta blindada",
          "Trastero",
          "Interior",
          "Terraza",
          "Aire acondicionado",
          "Chimenea",
          "Amueblado",
          "Adaptado a personas con movilidad reducida",
          "Superficie solar",
          "Cocina",
          "Teléfono",
          "Gas",
          "No se aceptan mascotas",
          "Consumo",
          "Luz",
          "Tipo de casa",
          "Calle asfaltada",
          "Emisiones",
          "Sistema de seguridad",
          "Calefacción",
          "Urbanizado"
         ],
         "yaxis": "y"
        }
       ],
       "layout": {
        "barmode": "relative",
        "height": 1000,
        "legend": {
         "tracegroupgap": 0
        },
        "margin": {
         "t": 60
        },
        "template": {
         "data": {
          "bar": [
           {
            "error_x": {
             "color": "#2a3f5f"
            },
            "error_y": {
             "color": "#2a3f5f"
            },
            "marker": {
             "line": {
              "color": "#E5ECF6",
              "width": 0.5
             },
             "pattern": {
              "fillmode": "overlay",
              "size": 10,
              "solidity": 0.2
             }
            },
            "type": "bar"
           }
          ],
          "barpolar": [
           {
            "marker": {
             "line": {
              "color": "#E5ECF6",
              "width": 0.5
             },
             "pattern": {
              "fillmode": "overlay",
              "size": 10,
              "solidity": 0.2
             }
            },
            "type": "barpolar"
           }
          ],
          "carpet": [
           {
            "aaxis": {
             "endlinecolor": "#2a3f5f",
             "gridcolor": "white",
             "linecolor": "white",
             "minorgridcolor": "white",
             "startlinecolor": "#2a3f5f"
            },
            "baxis": {
             "endlinecolor": "#2a3f5f",
             "gridcolor": "white",
             "linecolor": "white",
             "minorgridcolor": "white",
             "startlinecolor": "#2a3f5f"
            },
            "type": "carpet"
           }
          ],
          "choropleth": [
           {
            "colorbar": {
             "outlinewidth": 0,
             "ticks": ""
            },
            "type": "choropleth"
           }
          ],
          "contour": [
           {
            "colorbar": {
             "outlinewidth": 0,
             "ticks": ""
            },
            "colorscale": [
             [
              0,
              "#0d0887"
             ],
             [
              0.1111111111111111,
              "#46039f"
             ],
             [
              0.2222222222222222,
              "#7201a8"
             ],
             [
              0.3333333333333333,
              "#9c179e"
             ],
             [
              0.4444444444444444,
              "#bd3786"
             ],
             [
              0.5555555555555556,
              "#d8576b"
             ],
             [
              0.6666666666666666,
              "#ed7953"
             ],
             [
              0.7777777777777778,
              "#fb9f3a"
             ],
             [
              0.8888888888888888,
              "#fdca26"
             ],
             [
              1,
              "#f0f921"
             ]
            ],
            "type": "contour"
           }
          ],
          "contourcarpet": [
           {
            "colorbar": {
             "outlinewidth": 0,
             "ticks": ""
            },
            "type": "contourcarpet"
           }
          ],
          "heatmap": [
           {
            "colorbar": {
             "outlinewidth": 0,
             "ticks": ""
            },
            "colorscale": [
             [
              0,
              "#0d0887"
             ],
             [
              0.1111111111111111,
              "#46039f"
             ],
             [
              0.2222222222222222,
              "#7201a8"
             ],
             [
              0.3333333333333333,
              "#9c179e"
             ],
             [
              0.4444444444444444,
              "#bd3786"
             ],
             [
              0.5555555555555556,
              "#d8576b"
             ],
             [
              0.6666666666666666,
              "#ed7953"
             ],
             [
              0.7777777777777778,
              "#fb9f3a"
             ],
             [
              0.8888888888888888,
              "#fdca26"
             ],
             [
              1,
              "#f0f921"
             ]
            ],
            "type": "heatmap"
           }
          ],
          "heatmapgl": [
           {
            "colorbar": {
             "outlinewidth": 0,
             "ticks": ""
            },
            "colorscale": [
             [
              0,
              "#0d0887"
             ],
             [
              0.1111111111111111,
              "#46039f"
             ],
             [
              0.2222222222222222,
              "#7201a8"
             ],
             [
              0.3333333333333333,
              "#9c179e"
             ],
             [
              0.4444444444444444,
              "#bd3786"
             ],
             [
              0.5555555555555556,
              "#d8576b"
             ],
             [
              0.6666666666666666,
              "#ed7953"
             ],
             [
              0.7777777777777778,
              "#fb9f3a"
             ],
             [
              0.8888888888888888,
              "#fdca26"
             ],
             [
              1,
              "#f0f921"
             ]
            ],
            "type": "heatmapgl"
           }
          ],
          "histogram": [
           {
            "marker": {
             "pattern": {
              "fillmode": "overlay",
              "size": 10,
              "solidity": 0.2
             }
            },
            "type": "histogram"
           }
          ],
          "histogram2d": [
           {
            "colorbar": {
             "outlinewidth": 0,
             "ticks": ""
            },
            "colorscale": [
             [
              0,
              "#0d0887"
             ],
             [
              0.1111111111111111,
              "#46039f"
             ],
             [
              0.2222222222222222,
              "#7201a8"
             ],
             [
              0.3333333333333333,
              "#9c179e"
             ],
             [
              0.4444444444444444,
              "#bd3786"
             ],
             [
              0.5555555555555556,
              "#d8576b"
             ],
             [
              0.6666666666666666,
              "#ed7953"
             ],
             [
              0.7777777777777778,
              "#fb9f3a"
             ],
             [
              0.8888888888888888,
              "#fdca26"
             ],
             [
              1,
              "#f0f921"
             ]
            ],
            "type": "histogram2d"
           }
          ],
          "histogram2dcontour": [
           {
            "colorbar": {
             "outlinewidth": 0,
             "ticks": ""
            },
            "colorscale": [
             [
              0,
              "#0d0887"
             ],
             [
              0.1111111111111111,
              "#46039f"
             ],
             [
              0.2222222222222222,
              "#7201a8"
             ],
             [
              0.3333333333333333,
              "#9c179e"
             ],
             [
              0.4444444444444444,
              "#bd3786"
             ],
             [
              0.5555555555555556,
              "#d8576b"
             ],
             [
              0.6666666666666666,
              "#ed7953"
             ],
             [
              0.7777777777777778,
              "#fb9f3a"
             ],
             [
              0.8888888888888888,
              "#fdca26"
             ],
             [
              1,
              "#f0f921"
             ]
            ],
            "type": "histogram2dcontour"
           }
          ],
          "mesh3d": [
           {
            "colorbar": {
             "outlinewidth": 0,
             "ticks": ""
            },
            "type": "mesh3d"
           }
          ],
          "parcoords": [
           {
            "line": {
             "colorbar": {
              "outlinewidth": 0,
              "ticks": ""
             }
            },
            "type": "parcoords"
           }
          ],
          "pie": [
           {
            "automargin": true,
            "type": "pie"
           }
          ],
          "scatter": [
           {
            "fillpattern": {
             "fillmode": "overlay",
             "size": 10,
             "solidity": 0.2
            },
            "type": "scatter"
           }
          ],
          "scatter3d": [
           {
            "line": {
             "colorbar": {
              "outlinewidth": 0,
              "ticks": ""
             }
            },
            "marker": {
             "colorbar": {
              "outlinewidth": 0,
              "ticks": ""
             }
            },
            "type": "scatter3d"
           }
          ],
          "scattercarpet": [
           {
            "marker": {
             "colorbar": {
              "outlinewidth": 0,
              "ticks": ""
             }
            },
            "type": "scattercarpet"
           }
          ],
          "scattergeo": [
           {
            "marker": {
             "colorbar": {
              "outlinewidth": 0,
              "ticks": ""
             }
            },
            "type": "scattergeo"
           }
          ],
          "scattergl": [
           {
            "marker": {
             "colorbar": {
              "outlinewidth": 0,
              "ticks": ""
             }
            },
            "type": "scattergl"
           }
          ],
          "scattermapbox": [
           {
            "marker": {
             "colorbar": {
              "outlinewidth": 0,
              "ticks": ""
             }
            },
            "type": "scattermapbox"
           }
          ],
          "scatterpolar": [
           {
            "marker": {
             "colorbar": {
              "outlinewidth": 0,
              "ticks": ""
             }
            },
            "type": "scatterpolar"
           }
          ],
          "scatterpolargl": [
           {
            "marker": {
             "colorbar": {
              "outlinewidth": 0,
              "ticks": ""
             }
            },
            "type": "scatterpolargl"
           }
          ],
          "scatterternary": [
           {
            "marker": {
             "colorbar": {
              "outlinewidth": 0,
              "ticks": ""
             }
            },
            "type": "scatterternary"
           }
          ],
          "surface": [
           {
            "colorbar": {
             "outlinewidth": 0,
             "ticks": ""
            },
            "colorscale": [
             [
              0,
              "#0d0887"
             ],
             [
              0.1111111111111111,
              "#46039f"
             ],
             [
              0.2222222222222222,
              "#7201a8"
             ],
             [
              0.3333333333333333,
              "#9c179e"
             ],
             [
              0.4444444444444444,
              "#bd3786"
             ],
             [
              0.5555555555555556,
              "#d8576b"
             ],
             [
              0.6666666666666666,
              "#ed7953"
             ],
             [
              0.7777777777777778,
              "#fb9f3a"
             ],
             [
              0.8888888888888888,
              "#fdca26"
             ],
             [
              1,
              "#f0f921"
             ]
            ],
            "type": "surface"
           }
          ],
          "table": [
           {
            "cells": {
             "fill": {
              "color": "#EBF0F8"
             },
             "line": {
              "color": "white"
             }
            },
            "header": {
             "fill": {
              "color": "#C8D4E3"
             },
             "line": {
              "color": "white"
             }
            },
            "type": "table"
           }
          ]
         },
         "layout": {
          "annotationdefaults": {
           "arrowcolor": "#2a3f5f",
           "arrowhead": 0,
           "arrowwidth": 1
          },
          "autotypenumbers": "strict",
          "coloraxis": {
           "colorbar": {
            "outlinewidth": 0,
            "ticks": ""
           }
          },
          "colorscale": {
           "diverging": [
            [
             0,
             "#8e0152"
            ],
            [
             0.1,
             "#c51b7d"
            ],
            [
             0.2,
             "#de77ae"
            ],
            [
             0.3,
             "#f1b6da"
            ],
            [
             0.4,
             "#fde0ef"
            ],
            [
             0.5,
             "#f7f7f7"
            ],
            [
             0.6,
             "#e6f5d0"
            ],
            [
             0.7,
             "#b8e186"
            ],
            [
             0.8,
             "#7fbc41"
            ],
            [
             0.9,
             "#4d9221"
            ],
            [
             1,
             "#276419"
            ]
           ],
           "sequential": [
            [
             0,
             "#0d0887"
            ],
            [
             0.1111111111111111,
             "#46039f"
            ],
            [
             0.2222222222222222,
             "#7201a8"
            ],
            [
             0.3333333333333333,
             "#9c179e"
            ],
            [
             0.4444444444444444,
             "#bd3786"
            ],
            [
             0.5555555555555556,
             "#d8576b"
            ],
            [
             0.6666666666666666,
             "#ed7953"
            ],
            [
             0.7777777777777778,
             "#fb9f3a"
            ],
            [
             0.8888888888888888,
             "#fdca26"
            ],
            [
             1,
             "#f0f921"
            ]
           ],
           "sequentialminus": [
            [
             0,
             "#0d0887"
            ],
            [
             0.1111111111111111,
             "#46039f"
            ],
            [
             0.2222222222222222,
             "#7201a8"
            ],
            [
             0.3333333333333333,
             "#9c179e"
            ],
            [
             0.4444444444444444,
             "#bd3786"
            ],
            [
             0.5555555555555556,
             "#d8576b"
            ],
            [
             0.6666666666666666,
             "#ed7953"
            ],
            [
             0.7777777777777778,
             "#fb9f3a"
            ],
            [
             0.8888888888888888,
             "#fdca26"
            ],
            [
             1,
             "#f0f921"
            ]
           ]
          },
          "colorway": [
           "#636efa",
           "#EF553B",
           "#00cc96",
           "#ab63fa",
           "#FFA15A",
           "#19d3f3",
           "#FF6692",
           "#B6E880",
           "#FF97FF",
           "#FECB52"
          ],
          "font": {
           "color": "#2a3f5f"
          },
          "geo": {
           "bgcolor": "white",
           "lakecolor": "white",
           "landcolor": "#E5ECF6",
           "showlakes": true,
           "showland": true,
           "subunitcolor": "white"
          },
          "hoverlabel": {
           "align": "left"
          },
          "hovermode": "closest",
          "mapbox": {
           "style": "light"
          },
          "paper_bgcolor": "white",
          "plot_bgcolor": "#E5ECF6",
          "polar": {
           "angularaxis": {
            "gridcolor": "white",
            "linecolor": "white",
            "ticks": ""
           },
           "bgcolor": "#E5ECF6",
           "radialaxis": {
            "gridcolor": "white",
            "linecolor": "white",
            "ticks": ""
           }
          },
          "scene": {
           "xaxis": {
            "backgroundcolor": "#E5ECF6",
            "gridcolor": "white",
            "gridwidth": 2,
            "linecolor": "white",
            "showbackground": true,
            "ticks": "",
            "zerolinecolor": "white"
           },
           "yaxis": {
            "backgroundcolor": "#E5ECF6",
            "gridcolor": "white",
            "gridwidth": 2,
            "linecolor": "white",
            "showbackground": true,
            "ticks": "",
            "zerolinecolor": "white"
           },
           "zaxis": {
            "backgroundcolor": "#E5ECF6",
            "gridcolor": "white",
            "gridwidth": 2,
            "linecolor": "white",
            "showbackground": true,
            "ticks": "",
            "zerolinecolor": "white"
           }
          },
          "shapedefaults": {
           "line": {
            "color": "#2a3f5f"
           }
          },
          "ternary": {
           "aaxis": {
            "gridcolor": "white",
            "linecolor": "white",
            "ticks": ""
           },
           "baxis": {
            "gridcolor": "white",
            "linecolor": "white",
            "ticks": ""
           },
           "bgcolor": "#E5ECF6",
           "caxis": {
            "gridcolor": "white",
            "linecolor": "white",
            "ticks": ""
           }
          },
          "title": {
           "x": 0.05
          },
          "xaxis": {
           "automargin": true,
           "gridcolor": "white",
           "linecolor": "white",
           "ticks": "",
           "title": {
            "standoff": 15
           },
           "zerolinecolor": "white",
           "zerolinewidth": 2
          },
          "yaxis": {
           "automargin": true,
           "gridcolor": "white",
           "linecolor": "white",
           "ticks": "",
           "title": {
            "standoff": 15
           },
           "zerolinecolor": "white",
           "zerolinewidth": 2
          }
         }
        },
        "xaxis": {
         "anchor": "y",
         "domain": [
          0,
          1
         ],
         "title": {
          "text": "x"
         }
        },
        "yaxis": {
         "anchor": "x",
         "domain": [
          0,
          1
         ],
         "title": {
          "text": "y"
         }
        }
       }
      }
     },
     "metadata": {},
     "output_type": "display_data"
    }
   ],
   "source": [
    "fig = px.bar([df[x].dropna().count() for x in df.columns],\n",
    "             y = df.columns,\n",
    "             x = [df[x].dropna().count() for x in df.columns])\n",
    "\n",
    "fig.update_layout(height = 1000)"
   ]
  },
  {
   "cell_type": "code",
   "execution_count": 92,
   "metadata": {},
   "outputs": [],
   "source": [
    "# Lista de columnas a revisar para decidir cómo tratar la información para entrenar el modelo en el futuro\n",
    "scratched_features_col = ['Cocina', 'Cocina equipada', 'Superficie solar', 'Sistema de seguridad', 'Portero automático',\n",
    "                      'Aire acondicionado', 'Puerta blindada', 'Amueblado', 'Trastero', 'Calefacción', 'Gas',\n",
    "                      'Tipo de casa', 'Piscina', 'Vidrios dobles', 'Planta', 'Tipo suelo', 'Balcón', 'Orientación',\n",
    "                      'Armarios empotrados', 'Comedor']\n",
    "\n",
    "# Cocina -> hacerla categórica (americana, independiente, amueblada, sin amueblar)\n",
    "# Cocina equipada -> revisarla con 'Cocina'\n",
    "# Superficie solar -> Seguramente sea interesante solo para chalets\n",
    "# Sistema de seguridad -> hacerla categórica (conserje, alarma, videovigilancia, etc.) mezclándola con 'Portero automático'\n",
    "# Portero automático -> relacionar con 'Sistema de seguridad'\n",
    "# Aire acondicionado -> hacerla categórica numérica\n",
    "# Puerta blindada -> hacerla binaria\n",
    "# Amueblado -> hacerla categórica (sí, no, parcial)\n",
    "# Trastero -> hacerla categórica (sí, no, comunitario)\n",
    "# Calefacción -> hacerla categórica (gas natural, butano, eléctrico, frío-calor, chimenea, no)\n",
    "# Gas -> hacerla categórica (revisar Calefacción)\n",
    "# Tipo de casa -> hacerla categórica ('Adosada', 'Pareada', ' Rústica', ' Unifamiliar', 'otro)\n",
    "# Piscina -> hacerla categórica (privada, comunitaria, opcional-comunitaria, no, etc)\n",
    "# Vidrios dobles -> hacerla categórica (corredera, oscilobatiente, abrir-cerrar, doble aluminio, no)\n",
    "# Planta -> hacerla categórica numérica (-2, -1, 0, 1, 2, etc)\n",
    "# Tipo suelo -> hacerla binaria (frío, caliente)\n",
    "# Balcón -> hacerla categórica numérica\n",
    "# Armarios empotrados -> hacerla binaria\n",
    "# Comedor -> hacerla categórica"
   ]
  },
  {
   "cell_type": "code",
   "execution_count": 93,
   "metadata": {},
   "outputs": [],
   "source": [
    "features_col = ['price', 'title', 'lat', 'lng', 'location', 'Habitaciones', 'Superficie construida',\n",
    "                'Jardín', 'Gastos de comunidad', 'Antigüedad', 'Baños', 'Superficie útil', 'Ascensor',\n",
    "                'Garaje', 'Conservación', 'agency', 'updated']\n",
    "\n",
    "# Garaje -> hacer varias columnas columnas (tien o no tiene, cantidad, metros cuadrados)\n",
    "# location -> sacar columnas (tipo de vía, locación, etc)\n",
    "# title -> revisar con columna 'Tipo de casa' para obtener una columna con tipo de vivienda"
   ]
  },
  {
   "cell_type": "code",
   "execution_count": 94,
   "metadata": {},
   "outputs": [],
   "source": [
    "df_features = df[features_col]"
   ]
  },
  {
   "cell_type": "code",
   "execution_count": 95,
   "metadata": {},
   "outputs": [],
   "source": [
    "# Sería interesante poner una columna que tenga la fecha actual? Para que el modelo compare con la fecha de publicación"
   ]
  },
  {
   "cell_type": "code",
   "execution_count": 96,
   "metadata": {},
   "outputs": [
    {
     "name": "stderr",
     "output_type": "stream",
     "text": [
      "c:\\Users\\cuicuidev\\Desktop\\pisoscom\\parsing.py:178: SettingWithCopyWarning:\n",
      "\n",
      "\n",
      "A value is trying to be set on a copy of a slice from a DataFrame.\n",
      "Try using .loc[row_indexer,col_indexer] = value instead\n",
      "\n",
      "See the caveats in the documentation: https://pandas.pydata.org/pandas-docs/stable/user_guide/indexing.html#returning-a-view-versus-a-copy\n",
      "\n"
     ]
    }
   ],
   "source": [
    "df_ = getType(df_features)\n"
   ]
  },
  {
   "cell_type": "code",
   "execution_count": 97,
   "metadata": {},
   "outputs": [
    {
     "name": "stderr",
     "output_type": "stream",
     "text": [
      "c:\\Users\\cuicuidev\\Desktop\\pisoscom\\parsing.py:206: SettingWithCopyWarning:\n",
      "\n",
      "\n",
      "A value is trying to be set on a copy of a slice from a DataFrame.\n",
      "Try using .loc[row_indexer,col_indexer] = value instead\n",
      "\n",
      "See the caveats in the documentation: https://pandas.pydata.org/pandas-docs/stable/user_guide/indexing.html#returning-a-view-versus-a-copy\n",
      "\n"
     ]
    }
   ],
   "source": [
    "df_ = getStreetType(df_)"
   ]
  },
  {
   "cell_type": "code",
   "execution_count": 98,
   "metadata": {},
   "outputs": [],
   "source": [
    "streets = df_['street'].dropna().unique()"
   ]
  },
  {
   "cell_type": "code",
   "execution_count": 99,
   "metadata": {},
   "outputs": [],
   "source": [
    "unique_streets = []\n",
    "\n",
    "for street in streets:\n",
    "    for s in street.split():\n",
    "        if s == 'c' or s == 'av':\n",
    "            continue\n",
    "        unique_streets.append(s)\n",
    "\n",
    "unique_streets = list(set(unique_streets))"
   ]
  },
  {
   "cell_type": "code",
   "execution_count": 100,
   "metadata": {},
   "outputs": [
    {
     "data": {
      "text/plain": [
       "['calle',\n",
       " 'bulevar',\n",
       " 'plaza',\n",
       " 'autovia',\n",
       " 'carretera',\n",
       " 'parque',\n",
       " 'paseo',\n",
       " 'avenida']"
      ]
     },
     "execution_count": 100,
     "metadata": {},
     "output_type": "execute_result"
    }
   ],
   "source": [
    "unique_streets_en = {'calle' : 'street', 'bulevar' : 'boulevard', 'plaza' : 'square', 'autovía' : 'highway', 'carretera' : 'road', 'parque' : 'park', 'paseo' : 'walk', 'avenida' : 'avenue'}\n",
    "unique_streets"
   ]
  },
  {
   "cell_type": "code",
   "execution_count": 101,
   "metadata": {},
   "outputs": [
    {
     "name": "stderr",
     "output_type": "stream",
     "text": [
      "C:\\Users\\cuicuidev\\AppData\\Local\\Temp\\ipykernel_11016\\917673754.py:2: SettingWithCopyWarning:\n",
      "\n",
      "\n",
      "A value is trying to be set on a copy of a slice from a DataFrame.\n",
      "Try using .loc[row_indexer,col_indexer] = value instead\n",
      "\n",
      "See the caveats in the documentation: https://pandas.pydata.org/pandas-docs/stable/user_guide/indexing.html#returning-a-view-versus-a-copy\n",
      "\n",
      "C:\\Users\\cuicuidev\\AppData\\Local\\Temp\\ipykernel_11016\\917673754.py:2: SettingWithCopyWarning:\n",
      "\n",
      "\n",
      "A value is trying to be set on a copy of a slice from a DataFrame.\n",
      "Try using .loc[row_indexer,col_indexer] = value instead\n",
      "\n",
      "See the caveats in the documentation: https://pandas.pydata.org/pandas-docs/stable/user_guide/indexing.html#returning-a-view-versus-a-copy\n",
      "\n",
      "C:\\Users\\cuicuidev\\AppData\\Local\\Temp\\ipykernel_11016\\917673754.py:2: SettingWithCopyWarning:\n",
      "\n",
      "\n",
      "A value is trying to be set on a copy of a slice from a DataFrame.\n",
      "Try using .loc[row_indexer,col_indexer] = value instead\n",
      "\n",
      "See the caveats in the documentation: https://pandas.pydata.org/pandas-docs/stable/user_guide/indexing.html#returning-a-view-versus-a-copy\n",
      "\n",
      "C:\\Users\\cuicuidev\\AppData\\Local\\Temp\\ipykernel_11016\\917673754.py:2: SettingWithCopyWarning:\n",
      "\n",
      "\n",
      "A value is trying to be set on a copy of a slice from a DataFrame.\n",
      "Try using .loc[row_indexer,col_indexer] = value instead\n",
      "\n",
      "See the caveats in the documentation: https://pandas.pydata.org/pandas-docs/stable/user_guide/indexing.html#returning-a-view-versus-a-copy\n",
      "\n",
      "C:\\Users\\cuicuidev\\AppData\\Local\\Temp\\ipykernel_11016\\917673754.py:2: SettingWithCopyWarning:\n",
      "\n",
      "\n",
      "A value is trying to be set on a copy of a slice from a DataFrame.\n",
      "Try using .loc[row_indexer,col_indexer] = value instead\n",
      "\n",
      "See the caveats in the documentation: https://pandas.pydata.org/pandas-docs/stable/user_guide/indexing.html#returning-a-view-versus-a-copy\n",
      "\n",
      "C:\\Users\\cuicuidev\\AppData\\Local\\Temp\\ipykernel_11016\\917673754.py:2: SettingWithCopyWarning:\n",
      "\n",
      "\n",
      "A value is trying to be set on a copy of a slice from a DataFrame.\n",
      "Try using .loc[row_indexer,col_indexer] = value instead\n",
      "\n",
      "See the caveats in the documentation: https://pandas.pydata.org/pandas-docs/stable/user_guide/indexing.html#returning-a-view-versus-a-copy\n",
      "\n",
      "C:\\Users\\cuicuidev\\AppData\\Local\\Temp\\ipykernel_11016\\917673754.py:2: SettingWithCopyWarning:\n",
      "\n",
      "\n",
      "A value is trying to be set on a copy of a slice from a DataFrame.\n",
      "Try using .loc[row_indexer,col_indexer] = value instead\n",
      "\n",
      "See the caveats in the documentation: https://pandas.pydata.org/pandas-docs/stable/user_guide/indexing.html#returning-a-view-versus-a-copy\n",
      "\n",
      "C:\\Users\\cuicuidev\\AppData\\Local\\Temp\\ipykernel_11016\\917673754.py:2: SettingWithCopyWarning:\n",
      "\n",
      "\n",
      "A value is trying to be set on a copy of a slice from a DataFrame.\n",
      "Try using .loc[row_indexer,col_indexer] = value instead\n",
      "\n",
      "See the caveats in the documentation: https://pandas.pydata.org/pandas-docs/stable/user_guide/indexing.html#returning-a-view-versus-a-copy\n",
      "\n"
     ]
    }
   ],
   "source": [
    "for street in unique_streets:\n",
    "    df_[street] = df_['street'].apply(lambda x: 0 if pd.isna(x) else sum([1 for _ in x.split() if 'calle' in x]))\n",
    "\n",
    "df_ = df_.drop('street', axis = 1)"
   ]
  },
  {
   "cell_type": "code",
   "execution_count": 102,
   "metadata": {},
   "outputs": [
    {
     "data": {
      "text/html": [
       "<div>\n",
       "<style scoped>\n",
       "    .dataframe tbody tr th:only-of-type {\n",
       "        vertical-align: middle;\n",
       "    }\n",
       "\n",
       "    .dataframe tbody tr th {\n",
       "        vertical-align: top;\n",
       "    }\n",
       "\n",
       "    .dataframe thead th {\n",
       "        text-align: right;\n",
       "    }\n",
       "</style>\n",
       "<table border=\"1\" class=\"dataframe\">\n",
       "  <thead>\n",
       "    <tr style=\"text-align: right;\">\n",
       "      <th></th>\n",
       "      <th>price</th>\n",
       "      <th>title</th>\n",
       "      <th>lat</th>\n",
       "      <th>lng</th>\n",
       "      <th>location</th>\n",
       "      <th>Habitaciones</th>\n",
       "      <th>Superficie construida</th>\n",
       "      <th>Jardín</th>\n",
       "      <th>Gastos de comunidad</th>\n",
       "      <th>Antigüedad</th>\n",
       "      <th>...</th>\n",
       "      <th>updated</th>\n",
       "      <th>type</th>\n",
       "      <th>calle</th>\n",
       "      <th>bulevar</th>\n",
       "      <th>plaza</th>\n",
       "      <th>autovia</th>\n",
       "      <th>carretera</th>\n",
       "      <th>parque</th>\n",
       "      <th>paseo</th>\n",
       "      <th>avenida</th>\n",
       "    </tr>\n",
       "  </thead>\n",
       "  <tbody>\n",
       "    <tr>\n",
       "      <th>0</th>\n",
       "      <td>176000.0</td>\n",
       "      <td>Apartamento en venta en Abantos-Monte Carmelo-...</td>\n",
       "      <td>40.593445</td>\n",
       "      <td>-4.145386</td>\n",
       "      <td>Abantos-Monte Carmelo-El Rosario (San Lorenzo ...</td>\n",
       "      <td>1.0</td>\n",
       "      <td>63 m²</td>\n",
       "      <td>Comunitario</td>\n",
       "      <td>Entre 40 y 60€</td>\n",
       "      <td>Entre 10 y 20 años</td>\n",
       "      <td>...</td>\n",
       "      <td>1.674861e+09</td>\n",
       "      <td>Apartamento</td>\n",
       "      <td>0</td>\n",
       "      <td>0</td>\n",
       "      <td>0</td>\n",
       "      <td>0</td>\n",
       "      <td>0</td>\n",
       "      <td>0</td>\n",
       "      <td>0</td>\n",
       "      <td>0</td>\n",
       "    </tr>\n",
       "    <tr>\n",
       "      <th>1</th>\n",
       "      <td>116500.0</td>\n",
       "      <td>Apartamento en venta en Calle de Ercilla, 20, ...</td>\n",
       "      <td>40.402079</td>\n",
       "      <td>-3.702151</td>\n",
       "      <td>Calle de Ercilla, 20, cerca de Calle del Labra...</td>\n",
       "      <td>NaN</td>\n",
       "      <td>25 m²</td>\n",
       "      <td>NaN</td>\n",
       "      <td>NaN</td>\n",
       "      <td>Más de 50 años</td>\n",
       "      <td>...</td>\n",
       "      <td>1.674947e+09</td>\n",
       "      <td>Apartamento</td>\n",
       "      <td>2</td>\n",
       "      <td>2</td>\n",
       "      <td>2</td>\n",
       "      <td>2</td>\n",
       "      <td>2</td>\n",
       "      <td>2</td>\n",
       "      <td>2</td>\n",
       "      <td>2</td>\n",
       "    </tr>\n",
       "    <tr>\n",
       "      <th>2</th>\n",
       "      <td>169000.0</td>\n",
       "      <td>Apartamento en venta en Ajalvir</td>\n",
       "      <td>40.534457</td>\n",
       "      <td>-3.479415</td>\n",
       "      <td>Ajalvir</td>\n",
       "      <td>1.0</td>\n",
       "      <td>70 m²</td>\n",
       "      <td>NaN</td>\n",
       "      <td>NaN</td>\n",
       "      <td>NaN</td>\n",
       "      <td>...</td>\n",
       "      <td>1.673392e+09</td>\n",
       "      <td>Apartamento</td>\n",
       "      <td>0</td>\n",
       "      <td>0</td>\n",
       "      <td>0</td>\n",
       "      <td>0</td>\n",
       "      <td>0</td>\n",
       "      <td>0</td>\n",
       "      <td>0</td>\n",
       "      <td>0</td>\n",
       "    </tr>\n",
       "    <tr>\n",
       "      <th>3</th>\n",
       "      <td>174000.0</td>\n",
       "      <td>Apartamento en venta en Alcorcón</td>\n",
       "      <td>40.344358</td>\n",
       "      <td>-3.825283</td>\n",
       "      <td>Casco Antiguo (Alcorcón)</td>\n",
       "      <td>1.0</td>\n",
       "      <td>60 m²</td>\n",
       "      <td>NaN</td>\n",
       "      <td>NaN</td>\n",
       "      <td>NaN</td>\n",
       "      <td>...</td>\n",
       "      <td>1.672960e+09</td>\n",
       "      <td>Apartamento</td>\n",
       "      <td>0</td>\n",
       "      <td>0</td>\n",
       "      <td>0</td>\n",
       "      <td>0</td>\n",
       "      <td>0</td>\n",
       "      <td>0</td>\n",
       "      <td>0</td>\n",
       "      <td>0</td>\n",
       "    </tr>\n",
       "    <tr>\n",
       "      <th>4</th>\n",
       "      <td>130000.0</td>\n",
       "      <td>Apartamento en venta en Alcorcón</td>\n",
       "      <td>40.347096</td>\n",
       "      <td>-3.827826</td>\n",
       "      <td>Casco Antiguo (Alcorcón)</td>\n",
       "      <td>2.0</td>\n",
       "      <td>60 m²</td>\n",
       "      <td>NaN</td>\n",
       "      <td>Entre 60 y 80€</td>\n",
       "      <td>NaN</td>\n",
       "      <td>...</td>\n",
       "      <td>1.672615e+09</td>\n",
       "      <td>Apartamento</td>\n",
       "      <td>0</td>\n",
       "      <td>0</td>\n",
       "      <td>0</td>\n",
       "      <td>0</td>\n",
       "      <td>0</td>\n",
       "      <td>0</td>\n",
       "      <td>0</td>\n",
       "      <td>0</td>\n",
       "    </tr>\n",
       "    <tr>\n",
       "      <th>...</th>\n",
       "      <td>...</td>\n",
       "      <td>...</td>\n",
       "      <td>...</td>\n",
       "      <td>...</td>\n",
       "      <td>...</td>\n",
       "      <td>...</td>\n",
       "      <td>...</td>\n",
       "      <td>...</td>\n",
       "      <td>...</td>\n",
       "      <td>...</td>\n",
       "      <td>...</td>\n",
       "      <td>...</td>\n",
       "      <td>...</td>\n",
       "      <td>...</td>\n",
       "      <td>...</td>\n",
       "      <td>...</td>\n",
       "      <td>...</td>\n",
       "      <td>...</td>\n",
       "      <td>...</td>\n",
       "      <td>...</td>\n",
       "      <td>...</td>\n",
       "    </tr>\n",
       "    <tr>\n",
       "      <th>15841</th>\n",
       "      <td>135000.0</td>\n",
       "      <td>Piso en venta en Calle de la Circunvalación</td>\n",
       "      <td>40.454606</td>\n",
       "      <td>-3.455234</td>\n",
       "      <td>Calle de la Circunvalación. Zona Suroeste (Tor...</td>\n",
       "      <td>3.0</td>\n",
       "      <td>67 m²</td>\n",
       "      <td>NaN</td>\n",
       "      <td>NaN</td>\n",
       "      <td>NaN</td>\n",
       "      <td>...</td>\n",
       "      <td>1.672960e+09</td>\n",
       "      <td>Piso</td>\n",
       "      <td>1</td>\n",
       "      <td>1</td>\n",
       "      <td>1</td>\n",
       "      <td>1</td>\n",
       "      <td>1</td>\n",
       "      <td>1</td>\n",
       "      <td>1</td>\n",
       "      <td>1</td>\n",
       "    </tr>\n",
       "    <tr>\n",
       "      <th>15842</th>\n",
       "      <td>210000.0</td>\n",
       "      <td>Piso en venta en Calle de Urano</td>\n",
       "      <td>40.441928</td>\n",
       "      <td>-3.473036</td>\n",
       "      <td>Calle de Urano. Zona Suroeste (Torrejón de Ardoz)</td>\n",
       "      <td>1.0</td>\n",
       "      <td>79 m²</td>\n",
       "      <td>NaN</td>\n",
       "      <td>Entre 80 y 100€</td>\n",
       "      <td>NaN</td>\n",
       "      <td>...</td>\n",
       "      <td>1.672615e+09</td>\n",
       "      <td>Piso</td>\n",
       "      <td>1</td>\n",
       "      <td>1</td>\n",
       "      <td>1</td>\n",
       "      <td>1</td>\n",
       "      <td>1</td>\n",
       "      <td>1</td>\n",
       "      <td>1</td>\n",
       "      <td>1</td>\n",
       "    </tr>\n",
       "    <tr>\n",
       "      <th>15843</th>\n",
       "      <td>324600.0</td>\n",
       "      <td>Piso en venta en Fresnos</td>\n",
       "      <td>40.448403</td>\n",
       "      <td>-3.470899</td>\n",
       "      <td>Zona Suroeste (Torrejón de Ardoz)</td>\n",
       "      <td>4.0</td>\n",
       "      <td>140 m²</td>\n",
       "      <td>NaN</td>\n",
       "      <td>NaN</td>\n",
       "      <td>NaN</td>\n",
       "      <td>...</td>\n",
       "      <td>1.672874e+09</td>\n",
       "      <td>Piso</td>\n",
       "      <td>0</td>\n",
       "      <td>0</td>\n",
       "      <td>0</td>\n",
       "      <td>0</td>\n",
       "      <td>0</td>\n",
       "      <td>0</td>\n",
       "      <td>0</td>\n",
       "      <td>0</td>\n",
       "    </tr>\n",
       "    <tr>\n",
       "      <th>15844</th>\n",
       "      <td>249900.0</td>\n",
       "      <td>Piso en venta en Calle de Cibeles</td>\n",
       "      <td>40.444707</td>\n",
       "      <td>-3.473520</td>\n",
       "      <td>Calle de Cibeles. Zona Suroeste (Torrejón de A...</td>\n",
       "      <td>3.0</td>\n",
       "      <td>106 m²</td>\n",
       "      <td>NaN</td>\n",
       "      <td>Entre 80 y 100€</td>\n",
       "      <td>Entre 20 y 30 años</td>\n",
       "      <td>...</td>\n",
       "      <td>1.672874e+09</td>\n",
       "      <td>Piso</td>\n",
       "      <td>1</td>\n",
       "      <td>1</td>\n",
       "      <td>1</td>\n",
       "      <td>1</td>\n",
       "      <td>1</td>\n",
       "      <td>1</td>\n",
       "      <td>1</td>\n",
       "      <td>1</td>\n",
       "    </tr>\n",
       "    <tr>\n",
       "      <th>15845</th>\n",
       "      <td>253800.0</td>\n",
       "      <td>Piso en venta en Fresnos</td>\n",
       "      <td>40.447273</td>\n",
       "      <td>-3.473262</td>\n",
       "      <td>Zona Suroeste (Torrejón de Ardoz)</td>\n",
       "      <td>3.0</td>\n",
       "      <td>90 m²</td>\n",
       "      <td>NaN</td>\n",
       "      <td>NaN</td>\n",
       "      <td>NaN</td>\n",
       "      <td>...</td>\n",
       "      <td>1.672701e+09</td>\n",
       "      <td>Piso</td>\n",
       "      <td>0</td>\n",
       "      <td>0</td>\n",
       "      <td>0</td>\n",
       "      <td>0</td>\n",
       "      <td>0</td>\n",
       "      <td>0</td>\n",
       "      <td>0</td>\n",
       "      <td>0</td>\n",
       "    </tr>\n",
       "  </tbody>\n",
       "</table>\n",
       "<p>15846 rows × 26 columns</p>\n",
       "</div>"
      ],
      "text/plain": [
       "          price                                              title        lat  \\\n",
       "0      176000.0  Apartamento en venta en Abantos-Monte Carmelo-...  40.593445   \n",
       "1      116500.0  Apartamento en venta en Calle de Ercilla, 20, ...  40.402079   \n",
       "2      169000.0                    Apartamento en venta en Ajalvir  40.534457   \n",
       "3      174000.0                   Apartamento en venta en Alcorcón  40.344358   \n",
       "4      130000.0                   Apartamento en venta en Alcorcón  40.347096   \n",
       "...         ...                                                ...        ...   \n",
       "15841  135000.0        Piso en venta en Calle de la Circunvalación  40.454606   \n",
       "15842  210000.0                    Piso en venta en Calle de Urano  40.441928   \n",
       "15843  324600.0                           Piso en venta en Fresnos  40.448403   \n",
       "15844  249900.0                  Piso en venta en Calle de Cibeles  40.444707   \n",
       "15845  253800.0                           Piso en venta en Fresnos  40.447273   \n",
       "\n",
       "            lng                                           location  \\\n",
       "0     -4.145386  Abantos-Monte Carmelo-El Rosario (San Lorenzo ...   \n",
       "1     -3.702151  Calle de Ercilla, 20, cerca de Calle del Labra...   \n",
       "2     -3.479415                                            Ajalvir   \n",
       "3     -3.825283                           Casco Antiguo (Alcorcón)   \n",
       "4     -3.827826                           Casco Antiguo (Alcorcón)   \n",
       "...         ...                                                ...   \n",
       "15841 -3.455234  Calle de la Circunvalación. Zona Suroeste (Tor...   \n",
       "15842 -3.473036  Calle de Urano. Zona Suroeste (Torrejón de Ardoz)   \n",
       "15843 -3.470899                  Zona Suroeste (Torrejón de Ardoz)   \n",
       "15844 -3.473520  Calle de Cibeles. Zona Suroeste (Torrejón de A...   \n",
       "15845 -3.473262                  Zona Suroeste (Torrejón de Ardoz)   \n",
       "\n",
       "       Habitaciones Superficie construida        Jardín Gastos de comunidad  \\\n",
       "0               1.0                 63 m²   Comunitario      Entre 40 y 60€   \n",
       "1               NaN                 25 m²           NaN                 NaN   \n",
       "2               1.0                 70 m²           NaN                 NaN   \n",
       "3               1.0                 60 m²           NaN                 NaN   \n",
       "4               2.0                 60 m²           NaN      Entre 60 y 80€   \n",
       "...             ...                   ...           ...                 ...   \n",
       "15841           3.0                 67 m²           NaN                 NaN   \n",
       "15842           1.0                 79 m²           NaN     Entre 80 y 100€   \n",
       "15843           4.0                140 m²           NaN                 NaN   \n",
       "15844           3.0                106 m²           NaN     Entre 80 y 100€   \n",
       "15845           3.0                 90 m²           NaN                 NaN   \n",
       "\n",
       "                Antigüedad  ...       updated         type calle bulevar  \\\n",
       "0       Entre 10 y 20 años  ...  1.674861e+09  Apartamento     0       0   \n",
       "1           Más de 50 años  ...  1.674947e+09  Apartamento     2       2   \n",
       "2                      NaN  ...  1.673392e+09  Apartamento     0       0   \n",
       "3                      NaN  ...  1.672960e+09  Apartamento     0       0   \n",
       "4                      NaN  ...  1.672615e+09  Apartamento     0       0   \n",
       "...                    ...  ...           ...          ...   ...     ...   \n",
       "15841                  NaN  ...  1.672960e+09         Piso     1       1   \n",
       "15842                  NaN  ...  1.672615e+09         Piso     1       1   \n",
       "15843                  NaN  ...  1.672874e+09         Piso     0       0   \n",
       "15844   Entre 20 y 30 años  ...  1.672874e+09         Piso     1       1   \n",
       "15845                  NaN  ...  1.672701e+09         Piso     0       0   \n",
       "\n",
       "      plaza autovia  carretera parque  paseo  avenida  \n",
       "0         0       0          0      0      0        0  \n",
       "1         2       2          2      2      2        2  \n",
       "2         0       0          0      0      0        0  \n",
       "3         0       0          0      0      0        0  \n",
       "4         0       0          0      0      0        0  \n",
       "...     ...     ...        ...    ...    ...      ...  \n",
       "15841     1       1          1      1      1        1  \n",
       "15842     1       1          1      1      1        1  \n",
       "15843     0       0          0      0      0        0  \n",
       "15844     1       1          1      1      1        1  \n",
       "15845     0       0          0      0      0        0  \n",
       "\n",
       "[15846 rows x 26 columns]"
      ]
     },
     "execution_count": 102,
     "metadata": {},
     "output_type": "execute_result"
    }
   ],
   "source": [
    "df_"
   ]
  },
  {
   "cell_type": "code",
   "execution_count": 103,
   "metadata": {},
   "outputs": [],
   "source": [
    "df_ = df_.drop('title', axis = 1)"
   ]
  },
  {
   "cell_type": "code",
   "execution_count": 104,
   "metadata": {},
   "outputs": [],
   "source": [
    "df_ = df_.drop('location', axis = 1)"
   ]
  },
  {
   "cell_type": "markdown",
   "metadata": {},
   "source": [
    "# Parsing de 'agency'"
   ]
  },
  {
   "cell_type": "code",
   "execution_count": 105,
   "metadata": {},
   "outputs": [
    {
     "data": {
      "text/plain": [
       "1325"
      ]
     },
     "execution_count": 105,
     "metadata": {},
     "output_type": "execute_result"
    }
   ],
   "source": [
    "agency_col = df_['agency'].unique()\n",
    "\n",
    "agencies = []\n",
    "for agency in agency_col:\n",
    "        \n",
    "    if pd.isna(agency):\n",
    "        continue\n",
    "    if 'inmuebles' in agency.lower():\n",
    "        agencies.append(agency)\n",
    "\n",
    "len(agencies)"
   ]
  },
  {
   "cell_type": "code",
   "execution_count": 106,
   "metadata": {},
   "outputs": [],
   "source": [
    "df_['publisher'] = df_['agency'].apply(lambda x: 'particular' if x not in agencies else 'inmobiliaria')"
   ]
  },
  {
   "cell_type": "code",
   "execution_count": 107,
   "metadata": {},
   "outputs": [],
   "source": [
    "df_ = df_.drop('agency', axis = 1)"
   ]
  },
  {
   "cell_type": "markdown",
   "metadata": {},
   "source": [
    "# Parsing de 'Gastos de comunidad'"
   ]
  },
  {
   "cell_type": "code",
   "execution_count": 108,
   "metadata": {},
   "outputs": [
    {
     "data": {
      "text/plain": [
       "360"
      ]
     },
     "execution_count": 108,
     "metadata": {},
     "output_type": "execute_result"
    }
   ],
   "source": [
    "len(df_['Gastos de comunidad'].unique())\n",
    "\n",
    "# CASOS\n",
    "# 'Entre X y Y€'\n",
    "# x,y\n",
    "# x\n",
    "# Más de x€\n",
    "# x€\n",
    "# x,y€\n",
    "# nan, Gastos de comunidad, anual, trimestral/trimestre, 0, No, \n",
    "# x + y"
   ]
  },
  {
   "cell_type": "code",
   "execution_count": 109,
   "metadata": {},
   "outputs": [],
   "source": [
    "# De momento quitamos esa columna\n",
    "df_ = df_.drop('Gastos de comunidad', axis = 1)"
   ]
  },
  {
   "cell_type": "markdown",
   "metadata": {},
   "source": [
    "# Parsing de 'Antigüedad'"
   ]
  },
  {
   "cell_type": "code",
   "execution_count": 110,
   "metadata": {},
   "outputs": [
    {
     "data": {
      "text/plain": [
       "array([' Entre 10 y 20 años', ' Más de 50 años', nan,\n",
       "       ' Entre 30 y 50 años', ' Entre 20 y 30 años', ' Entre 5 y 10 años',\n",
       "       ' Menos de 5 años'], dtype=object)"
      ]
     },
     "execution_count": 110,
     "metadata": {},
     "output_type": "execute_result"
    }
   ],
   "source": [
    "df_['Antigüedad'].unique()"
   ]
  },
  {
   "cell_type": "code",
   "execution_count": 111,
   "metadata": {},
   "outputs": [],
   "source": [
    "antiguedad_col = df_['Antigüedad'].unique()\n",
    "antiguedades = {' Menos de 5 años': 0,\n",
    "                ' Entre 5 y 10 años' : 5,\n",
    "                ' Entre 10 y 20 años' : 10,\n",
    "                ' Entre 20 y 30 años' : 20,\n",
    "                ' Entre 30 y 50 años' : 30,\n",
    "                ' Más de 50 años': 50,}"
   ]
  },
  {
   "cell_type": "code",
   "execution_count": 112,
   "metadata": {},
   "outputs": [],
   "source": [
    "df_['age'] = df_['Antigüedad'].replace(antiguedades)"
   ]
  },
  {
   "cell_type": "code",
   "execution_count": 113,
   "metadata": {},
   "outputs": [],
   "source": [
    "df_ = df_.drop('Antigüedad', axis = 1)"
   ]
  },
  {
   "cell_type": "markdown",
   "metadata": {},
   "source": [
    "# Parsing de 'Garaje'"
   ]
  },
  {
   "cell_type": "code",
   "execution_count": 114,
   "metadata": {},
   "outputs": [],
   "source": [
    "df_['garage'] = df_['Garaje'].apply(lambda x: 'no' if pd.isna(x) else 'yes')"
   ]
  },
  {
   "cell_type": "code",
   "execution_count": 115,
   "metadata": {},
   "outputs": [],
   "source": [
    "df_ = df_.drop('Garaje', axis = 1)"
   ]
  },
  {
   "cell_type": "markdown",
   "metadata": {},
   "source": [
    "# Parsing de 'Ascensor'"
   ]
  },
  {
   "cell_type": "code",
   "execution_count": 116,
   "metadata": {},
   "outputs": [],
   "source": [
    "# algunos pone 'no tiene'\n",
    "df_['lift'] = df_['Ascensor'].apply(lambda x: 'no' if pd.isna(x) else 'yes')"
   ]
  },
  {
   "cell_type": "code",
   "execution_count": 117,
   "metadata": {},
   "outputs": [],
   "source": [
    "df_ = df_.drop('Ascensor', axis = 1)"
   ]
  },
  {
   "cell_type": "markdown",
   "metadata": {},
   "source": [
    "# Parsing de 'Superficie construida'"
   ]
  },
  {
   "cell_type": "code",
   "execution_count": 118,
   "metadata": {},
   "outputs": [],
   "source": [
    "df_['surface'] = df_['Superficie construida'].apply(lambda x: np.nan if pd.isna(x) else int(''.join([_ for _ in x[:-3] if _.isnumeric()])))"
   ]
  },
  {
   "cell_type": "code",
   "execution_count": 119,
   "metadata": {},
   "outputs": [],
   "source": [
    "df_ = df_.drop('Superficie construida', axis = 1)"
   ]
  },
  {
   "cell_type": "markdown",
   "metadata": {},
   "source": [
    "# Parsing de 'Superficie útil'"
   ]
  },
  {
   "cell_type": "code",
   "execution_count": 120,
   "metadata": {},
   "outputs": [],
   "source": [
    "df_['net_surface'] = df_['Superficie útil'].apply(lambda x: np.nan if pd.isna(x) else int(''.join([_ for _ in x[:-3] if _.isnumeric()])))"
   ]
  },
  {
   "cell_type": "code",
   "execution_count": 121,
   "metadata": {},
   "outputs": [],
   "source": [
    "df_ = df_.drop('Superficie útil', axis = 1)\n"
   ]
  },
  {
   "cell_type": "markdown",
   "metadata": {},
   "source": [
    "# Parsing de 'Jardín'"
   ]
  },
  {
   "cell_type": "code",
   "execution_count": 122,
   "metadata": {},
   "outputs": [],
   "source": [
    "df_['garden'] = df_['Jardín'].apply(lambda x: 'no' if pd.isna(x) else 'yes')"
   ]
  },
  {
   "cell_type": "code",
   "execution_count": 123,
   "metadata": {},
   "outputs": [],
   "source": [
    "df_ = df_.drop('Jardín', axis = 1)"
   ]
  },
  {
   "cell_type": "markdown",
   "metadata": {},
   "source": [
    "# Renaming de columnas en español"
   ]
  },
  {
   "cell_type": "code",
   "execution_count": 124,
   "metadata": {},
   "outputs": [],
   "source": [
    "df_['rooms'] = df_['Habitaciones']\n",
    "df_['condition'] = df_['Conservación']\n",
    "df_['bathrooms'] = df_['Baños']\n",
    "\n",
    "df_ = df_.drop(['Habitaciones', 'Baños', 'Conservación'], axis = 1)"
   ]
  },
  {
   "cell_type": "markdown",
   "metadata": {},
   "source": [
    "# Save"
   ]
  },
  {
   "cell_type": "code",
   "execution_count": 125,
   "metadata": {},
   "outputs": [],
   "source": [
    "df_.to_csv('madrid_preprocessed.csv', index = False)"
   ]
  },
  {
   "cell_type": "code",
   "execution_count": null,
   "metadata": {},
   "outputs": [],
   "source": []
  }
 ],
 "metadata": {
  "kernelspec": {
   "display_name": "Python 3",
   "language": "python",
   "name": "python3"
  },
  "language_info": {
   "codemirror_mode": {
    "name": "ipython",
    "version": 3
   },
   "file_extension": ".py",
   "mimetype": "text/x-python",
   "name": "python",
   "nbconvert_exporter": "python",
   "pygments_lexer": "ipython3",
   "version": "3.10.11"
  }
 },
 "nbformat": 4,
 "nbformat_minor": 2
}
